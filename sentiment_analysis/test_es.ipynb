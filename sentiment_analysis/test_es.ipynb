{
 "cells": [
  {
   "attachments": {},
   "cell_type": "markdown",
   "metadata": {},
   "source": [
    "# Install and Import dependencies"
   ]
  },
  {
   "cell_type": "code",
   "execution_count": 1,
   "metadata": {},
   "outputs": [
    {
     "name": "stderr",
     "output_type": "stream",
     "text": [
      "C:\\Users\\joana\\AppData\\Local\\Packages\\PythonSoftwareFoundation.Python.3.10_qbz5n2kfra8p0\\LocalCache\\local-packages\\Python310\\site-packages\\tqdm\\auto.py:21: TqdmWarning: IProgress not found. Please update jupyter and ipywidgets. See https://ipywidgets.readthedocs.io/en/stable/user_install.html\n",
      "  from .autonotebook import tqdm as notebook_tqdm\n"
     ]
    }
   ],
   "source": [
    "from pysentimiento import create_analyzer\n",
    "import pandas as pd"
   ]
  },
  {
   "cell_type": "code",
   "execution_count": 6,
   "metadata": {},
   "outputs": [],
   "source": [
    "from transformers import pipeline"
   ]
  },
  {
   "attachments": {},
   "cell_type": "markdown",
   "metadata": {},
   "source": [
    "# Load data d1-1"
   ]
  },
  {
   "cell_type": "code",
   "execution_count": 9,
   "metadata": {},
   "outputs": [],
   "source": [
    "# Load the CSV file into a DataFrame\n",
    "df_es_1 = pd.read_csv('https://raw.githubusercontent.com/svisel22/SS23-BIPM-Analytics-Lab---Group-4-repository/main/Preprocessing/data_clean/es_clean_1-1.csv')"
   ]
  },
  {
   "attachments": {},
   "cell_type": "markdown",
   "metadata": {},
   "source": [
    "## Extracting the sentences"
   ]
  },
  {
   "cell_type": "code",
   "execution_count": 14,
   "metadata": {},
   "outputs": [],
   "source": [
    "def extract_sentence(df):\n",
    "    df['short'] = ''\n",
    "    \n",
    "    for index, row in df.iterrows():\n",
    "        player = row['player']\n",
    "        data = str(row['data'])  # Convert data to string\n",
    "        \n",
    "        # Find the sentence containing player's information\n",
    "        sentences = data.split('.')\n",
    "        for sentence in sentences:\n",
    "            if player.lower() in sentence.lower():\n",
    "                df.at[index, 'short'] = sentence.strip()\n",
    "                break\n",
    "    \n",
    "    return df"
   ]
  },
  {
   "cell_type": "code",
   "execution_count": 15,
   "metadata": {},
   "outputs": [
    {
     "data": {
      "text/html": [
       "<div>\n",
       "<style scoped>\n",
       "    .dataframe tbody tr th:only-of-type {\n",
       "        vertical-align: middle;\n",
       "    }\n",
       "\n",
       "    .dataframe tbody tr th {\n",
       "        vertical-align: top;\n",
       "    }\n",
       "\n",
       "    .dataframe thead th {\n",
       "        text-align: right;\n",
       "    }\n",
       "</style>\n",
       "<table border=\"1\" class=\"dataframe\">\n",
       "  <thead>\n",
       "    <tr style=\"text-align: right;\">\n",
       "      <th></th>\n",
       "      <th>data</th>\n",
       "      <th>player</th>\n",
       "      <th>language</th>\n",
       "      <th>publishedAt</th>\n",
       "      <th>short</th>\n",
       "    </tr>\n",
       "  </thead>\n",
       "  <tbody>\n",
       "    <tr>\n",
       "      <th>0</th>\n",
       "      <td>adeyemi firmo el que es su primer gol en lo qu...</td>\n",
       "      <td>palacios</td>\n",
       "      <td>es</td>\n",
       "      <td>2023-01-29T18:25:03Z</td>\n",
       "      <td>adeyemi firmo el que es su primer gol en lo qu...</td>\n",
       "    </tr>\n",
       "    <tr>\n",
       "      <th>1</th>\n",
       "      <td>el club aleman, que siempre se ha caracterizad...</td>\n",
       "      <td>palacios</td>\n",
       "      <td>es</td>\n",
       "      <td>2023-01-31T20:41:38Z</td>\n",
       "      <td>el club aleman, que siempre se ha caracterizad...</td>\n",
       "    </tr>\n",
       "    <tr>\n",
       "      <th>2</th>\n",
       "      <td>alberto fernandez  el presidente de la afa, cl...</td>\n",
       "      <td>palacios</td>\n",
       "      <td>es</td>\n",
       "      <td>2023-02-09T18:32:38Z</td>\n",
       "      <td>alberto fernandez  el presidente de la afa, cl...</td>\n",
       "    </tr>\n",
       "    <tr>\n",
       "      <th>3</th>\n",
       "      <td>alberto fernandez  tambien participaron los ot...</td>\n",
       "      <td>palacios</td>\n",
       "      <td>es</td>\n",
       "      <td>2023-02-12T21:13:55Z</td>\n",
       "      <td>alberto fernandez  tambien participaron los ot...</td>\n",
       "    </tr>\n",
       "    <tr>\n",
       "      <th>4</th>\n",
       "      <td>fue el momento en que desde las tribunas se de...</td>\n",
       "      <td>palacios</td>\n",
       "      <td>es</td>\n",
       "      <td>2023-02-13T01:05:15Z</td>\n",
       "      <td>fue el momento en que desde las tribunas se de...</td>\n",
       "    </tr>\n",
       "    <tr>\n",
       "      <th>...</th>\n",
       "      <td>...</td>\n",
       "      <td>...</td>\n",
       "      <td>...</td>\n",
       "      <td>...</td>\n",
       "      <td>...</td>\n",
       "    </tr>\n",
       "    <tr>\n",
       "      <th>232</th>\n",
       "      <td>antes del minuto, el visitante ya habia llegad...</td>\n",
       "      <td>hincapie</td>\n",
       "      <td>es</td>\n",
       "      <td>2023-05-11T21:13:48Z</td>\n",
       "      <td>antes del minuto, el visitante ya habia llegad...</td>\n",
       "    </tr>\n",
       "    <tr>\n",
       "      <th>233</th>\n",
       "      <td>el elenco aleman, del zaguero ecuatoriano hinc...</td>\n",
       "      <td>hincapie</td>\n",
       "      <td>es</td>\n",
       "      <td>2023-05-11T20:56:21Z</td>\n",
       "      <td>el elenco aleman, del zaguero ecuatoriano hinc...</td>\n",
       "    </tr>\n",
       "    <tr>\n",
       "      <th>234</th>\n",
       "      <td>esta vez, hincapie estara en esta instancia de...</td>\n",
       "      <td>hincapie</td>\n",
       "      <td>es</td>\n",
       "      <td>2023-05-11T18:30:25Z</td>\n",
       "      <td>esta vez, hincapie estara en esta instancia de...</td>\n",
       "    </tr>\n",
       "    <tr>\n",
       "      <th>235</th>\n",
       "      <td>inicio el y finalizara el de mayo.en el cronog...</td>\n",
       "      <td>hincapie</td>\n",
       "      <td>es</td>\n",
       "      <td>2023-05-10T23:37:55Z</td>\n",
       "      <td>en el cronograma que compartio la federacion e...</td>\n",
       "    </tr>\n",
       "    <tr>\n",
       "      <th>236</th>\n",
       "      <td>ese es el defensa hincapie, que juega en el ba...</td>\n",
       "      <td>hincapie</td>\n",
       "      <td>es</td>\n",
       "      <td>2023-05-09T00:58:48Z</td>\n",
       "      <td>ese es el defensa hincapie, que juega en el ba...</td>\n",
       "    </tr>\n",
       "  </tbody>\n",
       "</table>\n",
       "<p>237 rows × 5 columns</p>\n",
       "</div>"
      ],
      "text/plain": [
       "                                                  data    player language  \\\n",
       "0    adeyemi firmo el que es su primer gol en lo qu...  palacios       es   \n",
       "1    el club aleman, que siempre se ha caracterizad...  palacios       es   \n",
       "2    alberto fernandez  el presidente de la afa, cl...  palacios       es   \n",
       "3    alberto fernandez  tambien participaron los ot...  palacios       es   \n",
       "4    fue el momento en que desde las tribunas se de...  palacios       es   \n",
       "..                                                 ...       ...      ...   \n",
       "232  antes del minuto, el visitante ya habia llegad...  hincapie       es   \n",
       "233  el elenco aleman, del zaguero ecuatoriano hinc...  hincapie       es   \n",
       "234  esta vez, hincapie estara en esta instancia de...  hincapie       es   \n",
       "235  inicio el y finalizara el de mayo.en el cronog...  hincapie       es   \n",
       "236  ese es el defensa hincapie, que juega en el ba...  hincapie       es   \n",
       "\n",
       "              publishedAt                                              short  \n",
       "0    2023-01-29T18:25:03Z  adeyemi firmo el que es su primer gol en lo qu...  \n",
       "1    2023-01-31T20:41:38Z  el club aleman, que siempre se ha caracterizad...  \n",
       "2    2023-02-09T18:32:38Z  alberto fernandez  el presidente de la afa, cl...  \n",
       "3    2023-02-12T21:13:55Z  alberto fernandez  tambien participaron los ot...  \n",
       "4    2023-02-13T01:05:15Z  fue el momento en que desde las tribunas se de...  \n",
       "..                    ...                                                ...  \n",
       "232  2023-05-11T21:13:48Z  antes del minuto, el visitante ya habia llegad...  \n",
       "233  2023-05-11T20:56:21Z  el elenco aleman, del zaguero ecuatoriano hinc...  \n",
       "234  2023-05-11T18:30:25Z  esta vez, hincapie estara en esta instancia de...  \n",
       "235  2023-05-10T23:37:55Z  en el cronograma que compartio la federacion e...  \n",
       "236  2023-05-09T00:58:48Z  ese es el defensa hincapie, que juega en el ba...  \n",
       "\n",
       "[237 rows x 5 columns]"
      ]
     },
     "execution_count": 15,
     "metadata": {},
     "output_type": "execute_result"
    }
   ],
   "source": [
    "extract_sentence(df_es_1)"
   ]
  },
  {
   "attachments": {},
   "cell_type": "markdown",
   "metadata": {},
   "source": [
    "# Load data condensed"
   ]
  },
  {
   "cell_type": "code",
   "execution_count": 10,
   "metadata": {},
   "outputs": [],
   "source": [
    "# Load the CSV file into a DataFrame\n",
    "df_es_con = pd.read_csv('https://raw.githubusercontent.com/svisel22/SS23-BIPM-Analytics-Lab---Group-4-repository/main/Preprocessing/data_clean/es_clean_condensed.csv')"
   ]
  },
  {
   "attachments": {},
   "cell_type": "markdown",
   "metadata": {},
   "source": [
    "# Sentiment analysis on d1-1"
   ]
  },
  {
   "attachments": {},
   "cell_type": "markdown",
   "metadata": {},
   "source": [
    "##Model 1?"
   ]
  },
  {
   "cell_type": "code",
   "execution_count": 11,
   "metadata": {},
   "outputs": [],
   "source": [
    "# ACTION: include link to model\n",
    "analizer_ex = create_analyzer(task='sentiment', lang= 'es')"
   ]
  },
  {
   "cell_type": "code",
   "execution_count": 12,
   "metadata": {},
   "outputs": [
    {
     "ename": "TypeError",
     "evalue": "'AnalyzerForSequenceClassification' object is not callable",
     "output_type": "error",
     "traceback": [
      "\u001b[1;31m---------------------------------------------------------------------------\u001b[0m",
      "\u001b[1;31mTypeError\u001b[0m                                 Traceback (most recent call last)",
      "Cell \u001b[1;32mIn[12], line 1\u001b[0m\n\u001b[1;32m----> 1\u001b[0m analizer_ex(df_es_1)\n",
      "\u001b[1;31mTypeError\u001b[0m: 'AnalyzerForSequenceClassification' object is not callable"
     ]
    }
   ],
   "source": [
    "analizer_ex(df_es_1)"
   ]
  },
  {
   "attachments": {},
   "cell_type": "markdown",
   "metadata": {},
   "source": [
    "## Using pipelin with pretrained sentiment analysis model from bert\n",
    "https://huggingface.co/finiteautomata/beto-sentiment-analysis\n",
    "Although this model was trained on tweets, not on news data, it is a popular model to use for sentiment analysis of spanish data.\n",
    "The base model is BETO, a BERT model trained on spanish data (for further information: https://github.com/dccuchile/beto)."
   ]
  },
  {
   "cell_type": "code",
   "execution_count": null,
   "metadata": {},
   "outputs": [],
   "source": [
    "sentiment_classifier1 = pipeline('sentiment-analysis', model='finiteautomata/beto-sentiment-analysis')"
   ]
  },
  {
   "cell_type": "code",
   "execution_count": 16,
   "metadata": {},
   "outputs": [
    {
     "data": {
      "text/html": [
       "<div>\n",
       "<style scoped>\n",
       "    .dataframe tbody tr th:only-of-type {\n",
       "        vertical-align: middle;\n",
       "    }\n",
       "\n",
       "    .dataframe tbody tr th {\n",
       "        vertical-align: top;\n",
       "    }\n",
       "\n",
       "    .dataframe thead th {\n",
       "        text-align: right;\n",
       "    }\n",
       "</style>\n",
       "<table border=\"1\" class=\"dataframe\">\n",
       "  <thead>\n",
       "    <tr style=\"text-align: right;\">\n",
       "      <th></th>\n",
       "      <th>data</th>\n",
       "      <th>player</th>\n",
       "      <th>language</th>\n",
       "      <th>publishedAt</th>\n",
       "      <th>short</th>\n",
       "      <th>sentiment_bert</th>\n",
       "    </tr>\n",
       "  </thead>\n",
       "  <tbody>\n",
       "    <tr>\n",
       "      <th>0</th>\n",
       "      <td>adeyemi firmo el que es su primer gol en lo qu...</td>\n",
       "      <td>palacios</td>\n",
       "      <td>es</td>\n",
       "      <td>2023-01-29T18:25:03Z</td>\n",
       "      <td>adeyemi firmo el que es su primer gol en lo qu...</td>\n",
       "      <td>0.468314</td>\n",
       "    </tr>\n",
       "    <tr>\n",
       "      <th>1</th>\n",
       "      <td>el club aleman, que siempre se ha caracterizad...</td>\n",
       "      <td>palacios</td>\n",
       "      <td>es</td>\n",
       "      <td>2023-01-31T20:41:38Z</td>\n",
       "      <td>el club aleman, que siempre se ha caracterizad...</td>\n",
       "      <td>0.996520</td>\n",
       "    </tr>\n",
       "    <tr>\n",
       "      <th>2</th>\n",
       "      <td>alberto fernandez  el presidente de la afa, cl...</td>\n",
       "      <td>palacios</td>\n",
       "      <td>es</td>\n",
       "      <td>2023-02-09T18:32:38Z</td>\n",
       "      <td>alberto fernandez  el presidente de la afa, cl...</td>\n",
       "      <td>0.926711</td>\n",
       "    </tr>\n",
       "    <tr>\n",
       "      <th>3</th>\n",
       "      <td>alberto fernandez  tambien participaron los ot...</td>\n",
       "      <td>palacios</td>\n",
       "      <td>es</td>\n",
       "      <td>2023-02-12T21:13:55Z</td>\n",
       "      <td>alberto fernandez  tambien participaron los ot...</td>\n",
       "      <td>0.961068</td>\n",
       "    </tr>\n",
       "    <tr>\n",
       "      <th>4</th>\n",
       "      <td>fue el momento en que desde las tribunas se de...</td>\n",
       "      <td>palacios</td>\n",
       "      <td>es</td>\n",
       "      <td>2023-02-13T01:05:15Z</td>\n",
       "      <td>fue el momento en que desde las tribunas se de...</td>\n",
       "      <td>0.988847</td>\n",
       "    </tr>\n",
       "  </tbody>\n",
       "</table>\n",
       "</div>"
      ],
      "text/plain": [
       "                                                data    player language  \\\n",
       "0  adeyemi firmo el que es su primer gol en lo qu...  palacios       es   \n",
       "1  el club aleman, que siempre se ha caracterizad...  palacios       es   \n",
       "2  alberto fernandez  el presidente de la afa, cl...  palacios       es   \n",
       "3  alberto fernandez  tambien participaron los ot...  palacios       es   \n",
       "4  fue el momento en que desde las tribunas se de...  palacios       es   \n",
       "\n",
       "            publishedAt                                              short  \\\n",
       "0  2023-01-29T18:25:03Z  adeyemi firmo el que es su primer gol en lo qu...   \n",
       "1  2023-01-31T20:41:38Z  el club aleman, que siempre se ha caracterizad...   \n",
       "2  2023-02-09T18:32:38Z  alberto fernandez  el presidente de la afa, cl...   \n",
       "3  2023-02-12T21:13:55Z  alberto fernandez  tambien participaron los ot...   \n",
       "4  2023-02-13T01:05:15Z  fue el momento en que desde las tribunas se de...   \n",
       "\n",
       "   sentiment_bert  \n",
       "0        0.468314  \n",
       "1        0.996520  \n",
       "2        0.926711  \n",
       "3        0.961068  \n",
       "4        0.988847  "
      ]
     },
     "execution_count": 16,
     "metadata": {},
     "output_type": "execute_result"
    }
   ],
   "source": [
    "# Apply sentiment analysis on the 'short' column  and store the sentiment in a new column \"sentiment_bert\"\n",
    "df_es_1['sentiment_bert1'] = df_es_1['short'].apply(lambda x: sentiment_classifier1(x)[0]['score'])\n",
    "\n",
    "# Print the updated dataframe\n",
    "df_es_1.head()"
   ]
  },
  {
   "cell_type": "code",
   "execution_count": 17,
   "metadata": {},
   "outputs": [
    {
     "name": "stderr",
     "output_type": "stream",
     "text": [
      "Downloading (…)lve/main/config.json: 100%|██████████| 650/650 [00:00<?, ?B/s] \n",
      "Downloading pytorch_model.bin: 100%|██████████| 440M/440M [00:37<00:00, 11.6MB/s] \n",
      "Downloading (…)okenizer_config.json: 100%|██████████| 310/310 [00:00<00:00, 122kB/s]\n",
      "Downloading (…)solve/main/vocab.txt: 100%|██████████| 248k/248k [00:00<00:00, 1.22MB/s]\n",
      "Downloading (…)/main/tokenizer.json: 100%|██████████| 486k/486k [00:00<00:00, 1.65MB/s]\n",
      "Downloading (…)cial_tokens_map.json: 100%|██████████| 134/134 [00:00<?, ?B/s] \n"
     ]
    }
   ],
   "source": [
    "sentiment_classifier2 = pipeline('sentiment-analysis', model='dccuchile/bert-base-spanish-wwm-uncased')"
   ]
  },
  {
   "cell_type": "code",
   "execution_count": 18,
   "metadata": {},
   "outputs": [
    {
     "data": {
      "text/html": [
       "<div>\n",
       "<style scoped>\n",
       "    .dataframe tbody tr th:only-of-type {\n",
       "        vertical-align: middle;\n",
       "    }\n",
       "\n",
       "    .dataframe tbody tr th {\n",
       "        vertical-align: top;\n",
       "    }\n",
       "\n",
       "    .dataframe thead th {\n",
       "        text-align: right;\n",
       "    }\n",
       "</style>\n",
       "<table border=\"1\" class=\"dataframe\">\n",
       "  <thead>\n",
       "    <tr style=\"text-align: right;\">\n",
       "      <th></th>\n",
       "      <th>data</th>\n",
       "      <th>player</th>\n",
       "      <th>language</th>\n",
       "      <th>publishedAt</th>\n",
       "      <th>short</th>\n",
       "      <th>sentiment_bert</th>\n",
       "      <th>sentiment_bert2</th>\n",
       "    </tr>\n",
       "  </thead>\n",
       "  <tbody>\n",
       "    <tr>\n",
       "      <th>0</th>\n",
       "      <td>adeyemi firmo el que es su primer gol en lo qu...</td>\n",
       "      <td>palacios</td>\n",
       "      <td>es</td>\n",
       "      <td>2023-01-29T18:25:03Z</td>\n",
       "      <td>adeyemi firmo el que es su primer gol en lo qu...</td>\n",
       "      <td>0.468314</td>\n",
       "      <td>0.509921</td>\n",
       "    </tr>\n",
       "    <tr>\n",
       "      <th>1</th>\n",
       "      <td>el club aleman, que siempre se ha caracterizad...</td>\n",
       "      <td>palacios</td>\n",
       "      <td>es</td>\n",
       "      <td>2023-01-31T20:41:38Z</td>\n",
       "      <td>el club aleman, que siempre se ha caracterizad...</td>\n",
       "      <td>0.996520</td>\n",
       "      <td>0.557231</td>\n",
       "    </tr>\n",
       "    <tr>\n",
       "      <th>2</th>\n",
       "      <td>alberto fernandez  el presidente de la afa, cl...</td>\n",
       "      <td>palacios</td>\n",
       "      <td>es</td>\n",
       "      <td>2023-02-09T18:32:38Z</td>\n",
       "      <td>alberto fernandez  el presidente de la afa, cl...</td>\n",
       "      <td>0.926711</td>\n",
       "      <td>0.535920</td>\n",
       "    </tr>\n",
       "    <tr>\n",
       "      <th>3</th>\n",
       "      <td>alberto fernandez  tambien participaron los ot...</td>\n",
       "      <td>palacios</td>\n",
       "      <td>es</td>\n",
       "      <td>2023-02-12T21:13:55Z</td>\n",
       "      <td>alberto fernandez  tambien participaron los ot...</td>\n",
       "      <td>0.961068</td>\n",
       "      <td>0.544403</td>\n",
       "    </tr>\n",
       "    <tr>\n",
       "      <th>4</th>\n",
       "      <td>fue el momento en que desde las tribunas se de...</td>\n",
       "      <td>palacios</td>\n",
       "      <td>es</td>\n",
       "      <td>2023-02-13T01:05:15Z</td>\n",
       "      <td>fue el momento en que desde las tribunas se de...</td>\n",
       "      <td>0.988847</td>\n",
       "      <td>0.565247</td>\n",
       "    </tr>\n",
       "  </tbody>\n",
       "</table>\n",
       "</div>"
      ],
      "text/plain": [
       "                                                data    player language  \\\n",
       "0  adeyemi firmo el que es su primer gol en lo qu...  palacios       es   \n",
       "1  el club aleman, que siempre se ha caracterizad...  palacios       es   \n",
       "2  alberto fernandez  el presidente de la afa, cl...  palacios       es   \n",
       "3  alberto fernandez  tambien participaron los ot...  palacios       es   \n",
       "4  fue el momento en que desde las tribunas se de...  palacios       es   \n",
       "\n",
       "            publishedAt                                              short  \\\n",
       "0  2023-01-29T18:25:03Z  adeyemi firmo el que es su primer gol en lo qu...   \n",
       "1  2023-01-31T20:41:38Z  el club aleman, que siempre se ha caracterizad...   \n",
       "2  2023-02-09T18:32:38Z  alberto fernandez  el presidente de la afa, cl...   \n",
       "3  2023-02-12T21:13:55Z  alberto fernandez  tambien participaron los ot...   \n",
       "4  2023-02-13T01:05:15Z  fue el momento en que desde las tribunas se de...   \n",
       "\n",
       "   sentiment_bert  sentiment_bert2  \n",
       "0        0.468314         0.509921  \n",
       "1        0.996520         0.557231  \n",
       "2        0.926711         0.535920  \n",
       "3        0.961068         0.544403  \n",
       "4        0.988847         0.565247  "
      ]
     },
     "execution_count": 18,
     "metadata": {},
     "output_type": "execute_result"
    }
   ],
   "source": [
    "# Apply sentiment analysis on the 'short' column  and store the sentiment in a new column \"sentiment_bert\"\n",
    "df_es_1['sentiment_bert2'] = df_es_1['short'].apply(lambda x: sentiment_classifier2(x)[0]['score'])\n",
    "\n",
    "# Print the updated dataframe\n",
    "df_es_1.head()"
   ]
  },
  {
   "attachments": {},
   "cell_type": "markdown",
   "metadata": {},
   "source": [
    "# Sentiment analysis on data condensed"
   ]
  },
  {
   "cell_type": "code",
   "execution_count": null,
   "metadata": {},
   "outputs": [],
   "source": []
  },
  {
   "cell_type": "code",
   "execution_count": null,
   "metadata": {},
   "outputs": [],
   "source": []
  }
 ],
 "metadata": {
  "kernelspec": {
   "display_name": "Python 3",
   "language": "python",
   "name": "python3"
  },
  "language_info": {
   "codemirror_mode": {
    "name": "ipython",
    "version": 3
   },
   "file_extension": ".py",
   "mimetype": "text/x-python",
   "name": "python",
   "nbconvert_exporter": "python",
   "pygments_lexer": "ipython3",
   "version": "3.10.11"
  },
  "orig_nbformat": 4
 },
 "nbformat": 4,
 "nbformat_minor": 2
}
