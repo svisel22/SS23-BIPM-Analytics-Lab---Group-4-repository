{
 "cells": [
  {
   "cell_type": "code",
   "execution_count": 23,
   "metadata": {},
   "outputs": [],
   "source": [
    "from transformers import AutoTokenizer, AutoModelForSequenceClassification\n",
    "import torch\n",
    "import requests\n",
    "from bs4 import BeautifulSoup\n",
    "import re\n",
    "import numpy as np\n",
    "import pandas as pd\n",
    "import matplotlib.pyplot as plt\n",
    "import seaborn as sns\n",
    "import matplotlib.dates as mdates\n",
    "from gensim.parsing.preprocessing import remove_stopwords, strip_numeric, strip_punctuation, strip_multiple_whitespaces, strip_short\n",
    "from sklearn.metrics import confusion_matrix"
   ]
  },
  {
   "cell_type": "markdown",
   "metadata": {},
   "source": [
    "# Load model"
   ]
  },
  {
   "cell_type": "code",
   "execution_count": 9,
   "metadata": {},
   "outputs": [],
   "source": [
    "# https://huggingface.co/nlptown/bert-base-multilingual-uncased-sentiment\n",
    "tokenizer = AutoTokenizer.from_pretrained('nlptown/bert-base-multilingual-uncased-sentiment')\n",
    "\n",
    "model = AutoModelForSequenceClassification.from_pretrained('nlptown/bert-base-multilingual-uncased-sentiment')"
   ]
  },
  {
   "cell_type": "markdown",
   "metadata": {},
   "source": [
    "# Load data clean"
   ]
  },
  {
   "cell_type": "code",
   "execution_count": 10,
   "metadata": {},
   "outputs": [],
   "source": [
    "# Load the CSV file into a DataFrame\n",
    "df_de = pd.read_csv('../Preprocessing/data_clean/labeled-data/labeled-de_clean_1-1.csv',sep = ';')\n",
    "#df_en = pd.read_csv('../Preprocessing/data_clean/en_clean_1.csv')\n",
    "df_en = pd.read_csv('../Preprocessing/data_clean/labeled-data/labeled-en_clean_1-1_not101010.csv')\n",
    "#df_es = pd.read_csv('../Preprocessing/data_clean/en_clean_1.csv')\n",
    "df_es = pd.read_csv('../Preprocessing/data_clean/labeled-data/labeled-es_clean_1-1.csv', sep = ';')\n"
   ]
  },
  {
   "cell_type": "code",
   "execution_count": 11,
   "metadata": {},
   "outputs": [],
   "source": [
    "df_es['data'] = df_es['data'].apply(strip_punctuation)\n",
    "df_es['data'] = df_es['data'].str.replace('xa', ' ')\n",
    "df_es['data'] = df_es['data'].apply(strip_multiple_whitespaces)\n",
    "\n",
    "df_de['data'] = df_de['data'].apply(strip_punctuation)\n",
    "df_de['data'] = df_de['data'].apply(strip_multiple_whitespaces)\n",
    "\n",
    "df_en['data'] = df_en['data'].apply(strip_punctuation)\n",
    "df_en['data'] = df_en['data'].apply(strip_multiple_whitespaces)"
   ]
  },
  {
   "cell_type": "markdown",
   "metadata": {},
   "source": [
    "# Sentiment Analysis"
   ]
  },
  {
   "cell_type": "code",
   "execution_count": 12,
   "metadata": {},
   "outputs": [],
   "source": [
    "def sentiment_score(data):\n",
    "    if isinstance(data, str):\n",
    "        tokens = tokenizer.encode(data, return_tensors='pt')\n",
    "        result = model(tokens)\n",
    "        return int(torch.argmax(result.logits)) + 1\n",
    "    else:\n",
    "        return 0"
   ]
  },
  {
   "cell_type": "code",
   "execution_count": 13,
   "metadata": {},
   "outputs": [],
   "source": [
    "df_de['sentiment'] = df_de['data'].apply(lambda x: sentiment_score(x[:512]))\n",
    "df_en['sentiment'] = df_en['data'].apply(lambda x: sentiment_score(x[:512]))\n",
    "df_es['sentiment'] = df_es['data'].apply(lambda x: sentiment_score(x[:512]))"
   ]
  },
  {
   "cell_type": "markdown",
   "metadata": {},
   "source": [
    "### Translate scores to positive, neutral and negative"
   ]
  },
  {
   "cell_type": "code",
   "execution_count": 14,
   "metadata": {},
   "outputs": [],
   "source": [
    "sentiment_mapping = {1: 'negativ', 2: 'neutral', 3: 'neutral', 4: 'neutral', 5: 'positiv'}\n",
    "\n",
    "# Replace the numbers with labels using the mapping\n",
    "df_de['sentiment'] = df_de['sentiment'].map(sentiment_mapping)\n",
    "df_en['sentiment'] = df_en['sentiment'].map(sentiment_mapping)\n",
    "df_es['sentiment'] = df_es['sentiment'].map(sentiment_mapping)"
   ]
  },
  {
   "cell_type": "markdown",
   "metadata": {},
   "source": [
    "### Drop unlabeled rows"
   ]
  },
  {
   "cell_type": "code",
   "execution_count": 15,
   "metadata": {},
   "outputs": [
    {
     "name": "stdout",
     "output_type": "stream",
     "text": [
      "                                                  data    player language  \\\n",
      "14   zweimal verwandelte palacios es wurde ein uber...  palacios       de   \n",
      "23   schalke reis nimmt den spieler ausdrucklich in...  palacios       de   \n",
      "31   palacios r verletzte sich leicht im hinspiel g...  palacios       de   \n",
      "41    auf jeden fall sei das ein ganz grosser tag s...  palacios       de   \n",
      "58   beim abschlusstraining trug letzterer zumindes...  palacios       de   \n",
      "63   bayerleverkusen argentinischer weltmeister pal...  palacios       de   \n",
      "83    es gibt im moment nicht viel besseres in der ...  frimpong       de   \n",
      "93   der fc bayern munchen interessiert sich nach i...  frimpong       de   \n",
      "95   frimpong hat noch bis vertrag in bayerleverkus...  frimpong       de   \n",
      "102  hincapie l und tah bedanken sich fur die fan u...  frimpong       de   \n",
      "120  diaby wirtz adam hlozek und frimpong teilten s...  frimpong       de   \n",
      "123   bayerleverkusen torschutze amiri rechts und f...  frimpong       de   \n",
      "124  frimpong bekommt gluckwunsche seines trainers ...  frimpong       de   \n",
      "130  selbst als stammkraft frimpong in den vergange...  frimpong       de   \n",
      "163  ohne hincapie und tah mussten wir entscheiden ...       tah       de   \n",
      "173  schalke wiederum hatte durch michael frey ein ...       tah       de   \n",
      "180   bayerleverkusen coach alonso rotierte im verg...       tah       de   \n",
      "199  alonso stolz werkself seit spielen ungeschlage...       tah       de   \n",
      "214  torwart lukas hradecky bewahrte bayerleverkuse...       tah       de   \n",
      "223  zudem drohen sowohl bakker xaals auch weltmeis...    bakker       de   \n",
      "258  torschutzen unter sich diaby links treffer zum...    bakker       de   \n",
      "273                 beim hatte mitchell bakker gepatzt    bakker       de   \n",
      "334                        minute uber wirtz und diaby     diaby       de   \n",
      "355  das team wird zudem von den beiden bayerleverk...     diaby       de   \n",
      "361  frimpong wirkt uberspielt und diaby bewegte si...     diaby       de   \n",
      "362  torwart lukas hradecky bewahrte bayerleverkuse...     diaby       de   \n",
      "383  zu sehen ist davon wenig und das liegt nicht n...    mudryk       de   \n",
      "413  hincapie von fussball bundesligist bayerleverk...  hincapie       de   \n",
      "433  bayerleverkusen torwart lukas hradecky sitzt f...  hincapie       de   \n",
      "436  in der funften minute der nachspielzeit sah ba...  hincapie       de   \n",
      "\n",
      "              publishedAt    Label sentiment  \n",
      "14   2023-03-19T20:01:45Z  positiv   neutral  \n",
      "23   2023-04-03T08:12:20Z  neutral   neutral  \n",
      "31   2023-04-17T06:50:19Z  neutral   neutral  \n",
      "41   2023-04-20T20:54:03Z  positiv   positiv  \n",
      "58   2023-05-17T11:20:50Z  neutral   neutral  \n",
      "63   2023-05-14T18:07:21Z  negativ   negativ  \n",
      "83   2023-03-31T07:59:57Z  positiv   neutral  \n",
      "93   2023-04-06T16:49:00Z  neutral   neutral  \n",
      "95   2023-04-07T07:42:27Z  neutral   neutral  \n",
      "102  2023-04-14T08:16:22Z  positiv   positiv  \n",
      "120  2023-04-21T10:02:05Z  neutral   positiv  \n",
      "123  2023-04-23T17:33:57Z  positiv   negativ  \n",
      "124  2023-04-23T18:00:31Z  positiv   neutral  \n",
      "130  2023-05-23T10:24:42Z  negativ   positiv  \n",
      "163  2023-02-27T15:54:01Z  neutral   neutral  \n",
      "173  2023-04-01T15:44:09Z  positiv   negativ  \n",
      "180  2023-04-16T19:29:40Z  neutral   neutral  \n",
      "199  2023-04-23T20:48:00Z  positiv   positiv  \n",
      "214  2023-05-11T23:42:49Z  positiv   positiv  \n",
      "223  2023-02-23T09:06:07Z  negativ   negativ  \n",
      "258  2023-04-20T21:15:24Z  positiv   negativ  \n",
      "273  2023-05-21T19:39:14Z  negativ   neutral  \n",
      "334  2023-04-29T15:37:30Z  neutral   negativ  \n",
      "355  2023-05-13T10:26:28Z  neutral   neutral  \n",
      "361  2023-05-12T09:44:10Z  negativ   neutral  \n",
      "362  2023-05-11T23:42:49Z  negativ   neutral  \n",
      "383  2023-04-19T06:10:46Z  negativ   neutral  \n",
      "413  2023-05-23T10:52:44Z  negativ   negativ  \n",
      "433  2023-02-17T17:14:46Z  negativ   negativ  \n",
      "436  2023-05-21T19:53:27Z  negativ   negativ  \n"
     ]
    }
   ],
   "source": [
    "# Drop rows where 'Label' is NaN or empty\n",
    "df_de.dropna(subset=['Label'], inplace=True)\n",
    "df_en.dropna(subset=['Label'], inplace=True)\n",
    "df_es.dropna(subset=['Label'], inplace=True)\n",
    "\n",
    "# Print the updated DataFrame\n",
    "print(df_de)"
   ]
  },
  {
   "cell_type": "markdown",
   "metadata": {},
   "source": [
    "### Accuracy exact match positive, neutral and negative"
   ]
  },
  {
   "cell_type": "code",
   "execution_count": 16,
   "metadata": {},
   "outputs": [
    {
     "name": "stdout",
     "output_type": "stream",
     "text": [
      "Accuracy DE: 56.67%\n",
      "Accuracy EN: 46.67%\n",
      "Accuracy ES: 43.33%\n"
     ]
    }
   ],
   "source": [
    "# Calculate the accuracy\n",
    "accuracy_de = (df_de['sentiment'] == df_de['Label']).mean() * 100\n",
    "accuracy_en = (df_en['sentiment'] == df_en['Label']).mean() * 100\n",
    "accuracy_es = (df_es['sentiment'] == df_es['Label']).mean() * 100\n",
    "\n",
    "# Print the accuracy\n",
    "print(\"Accuracy DE: {:.2f}%\".format(accuracy_de))\n",
    "print(\"Accuracy EN: {:.2f}%\".format(accuracy_en))\n",
    "print(\"Accuracy ES: {:.2f}%\".format(accuracy_es))"
   ]
  },
  {
   "cell_type": "code",
   "execution_count": 28,
   "metadata": {},
   "outputs": [],
   "source": [
    "def c_matrix(df):\n",
    "\n",
    "    # Define the labels\n",
    "    labels = ['positiv', 'neutral', 'negativ']\n",
    "\n",
    "    # Create the confusion matrix\n",
    "    cm = confusion_matrix(df['Label'], df['sentiment'], labels=labels)\n",
    "\n",
    "    # Calculate True Positives (TP), True Negatives (TN), False Positives (FP), and False Negatives (FN) as percentages\n",
    "    total = np.sum(cm)\n",
    "    tp_percent = (np.diag(cm) / total) * 100\n",
    "    tn_percent = ((total - (np.sum(cm, axis=0) + np.sum(cm, axis=1) - np.diag(cm))) / total) * 100\n",
    "    fp_percent = (np.sum(cm, axis=0) - np.diag(cm)) / total * 100\n",
    "    fn_percent = (np.sum(cm, axis=1) - np.diag(cm)) / total * 100\n",
    "\n",
    "    # Display the confusion matrix and calculations as percentages\n",
    "    confusion_df = pd.DataFrame(cm, index=labels, columns=labels)\n",
    "    confusion_df['True Positives (%)'] = tp_percent\n",
    "    confusion_df['True Negatives (%)'] = tn_percent\n",
    "    confusion_df['False Positives (%)'] = fp_percent\n",
    "    confusion_df['False Negatives (%)'] = fn_percent\n",
    "    return confusion_df"
   ]
  },
  {
   "cell_type": "code",
   "execution_count": 29,
   "metadata": {},
   "outputs": [
    {
     "data": {
      "text/html": [
       "<div>\n",
       "<style scoped>\n",
       "    .dataframe tbody tr th:only-of-type {\n",
       "        vertical-align: middle;\n",
       "    }\n",
       "\n",
       "    .dataframe tbody tr th {\n",
       "        vertical-align: top;\n",
       "    }\n",
       "\n",
       "    .dataframe thead th {\n",
       "        text-align: right;\n",
       "    }\n",
       "</style>\n",
       "<table border=\"1\" class=\"dataframe\">\n",
       "  <thead>\n",
       "    <tr style=\"text-align: right;\">\n",
       "      <th></th>\n",
       "      <th>positiv</th>\n",
       "      <th>neutral</th>\n",
       "      <th>negativ</th>\n",
       "      <th>True Positives (%)</th>\n",
       "      <th>True Negatives (%)</th>\n",
       "      <th>False Positives (%)</th>\n",
       "      <th>False Negatives (%)</th>\n",
       "    </tr>\n",
       "  </thead>\n",
       "  <tbody>\n",
       "    <tr>\n",
       "      <th>positiv</th>\n",
       "      <td>4</td>\n",
       "      <td>3</td>\n",
       "      <td>3</td>\n",
       "      <td>13.333333</td>\n",
       "      <td>60.000000</td>\n",
       "      <td>6.666667</td>\n",
       "      <td>20.000000</td>\n",
       "    </tr>\n",
       "    <tr>\n",
       "      <th>neutral</th>\n",
       "      <td>1</td>\n",
       "      <td>8</td>\n",
       "      <td>1</td>\n",
       "      <td>26.666667</td>\n",
       "      <td>43.333333</td>\n",
       "      <td>23.333333</td>\n",
       "      <td>6.666667</td>\n",
       "    </tr>\n",
       "    <tr>\n",
       "      <th>negativ</th>\n",
       "      <td>1</td>\n",
       "      <td>4</td>\n",
       "      <td>5</td>\n",
       "      <td>16.666667</td>\n",
       "      <td>53.333333</td>\n",
       "      <td>13.333333</td>\n",
       "      <td>16.666667</td>\n",
       "    </tr>\n",
       "  </tbody>\n",
       "</table>\n",
       "</div>"
      ],
      "text/plain": [
       "         positiv  neutral  negativ  True Positives (%)  True Negatives (%)  \\\n",
       "positiv        4        3        3           13.333333           60.000000   \n",
       "neutral        1        8        1           26.666667           43.333333   \n",
       "negativ        1        4        5           16.666667           53.333333   \n",
       "\n",
       "         False Positives (%)  False Negatives (%)  \n",
       "positiv             6.666667            20.000000  \n",
       "neutral            23.333333             6.666667  \n",
       "negativ            13.333333            16.666667  "
      ]
     },
     "execution_count": 29,
     "metadata": {},
     "output_type": "execute_result"
    }
   ],
   "source": [
    "de_matrix = c_matrix(df_de)\n",
    "de_matrix"
   ]
  },
  {
   "cell_type": "code",
   "execution_count": 30,
   "metadata": {},
   "outputs": [
    {
     "data": {
      "text/html": [
       "<div>\n",
       "<style scoped>\n",
       "    .dataframe tbody tr th:only-of-type {\n",
       "        vertical-align: middle;\n",
       "    }\n",
       "\n",
       "    .dataframe tbody tr th {\n",
       "        vertical-align: top;\n",
       "    }\n",
       "\n",
       "    .dataframe thead th {\n",
       "        text-align: right;\n",
       "    }\n",
       "</style>\n",
       "<table border=\"1\" class=\"dataframe\">\n",
       "  <thead>\n",
       "    <tr style=\"text-align: right;\">\n",
       "      <th></th>\n",
       "      <th>positiv</th>\n",
       "      <th>neutral</th>\n",
       "      <th>negativ</th>\n",
       "      <th>True Positives (%)</th>\n",
       "      <th>True Negatives (%)</th>\n",
       "      <th>False Positives (%)</th>\n",
       "      <th>False Negatives (%)</th>\n",
       "    </tr>\n",
       "  </thead>\n",
       "  <tbody>\n",
       "    <tr>\n",
       "      <th>positiv</th>\n",
       "      <td>2</td>\n",
       "      <td>5</td>\n",
       "      <td>6</td>\n",
       "      <td>6.666667</td>\n",
       "      <td>50.000000</td>\n",
       "      <td>6.666667</td>\n",
       "      <td>36.666667</td>\n",
       "    </tr>\n",
       "    <tr>\n",
       "      <th>neutral</th>\n",
       "      <td>2</td>\n",
       "      <td>8</td>\n",
       "      <td>3</td>\n",
       "      <td>26.666667</td>\n",
       "      <td>40.000000</td>\n",
       "      <td>16.666667</td>\n",
       "      <td>16.666667</td>\n",
       "    </tr>\n",
       "    <tr>\n",
       "      <th>negativ</th>\n",
       "      <td>0</td>\n",
       "      <td>0</td>\n",
       "      <td>4</td>\n",
       "      <td>13.333333</td>\n",
       "      <td>56.666667</td>\n",
       "      <td>30.000000</td>\n",
       "      <td>0.000000</td>\n",
       "    </tr>\n",
       "  </tbody>\n",
       "</table>\n",
       "</div>"
      ],
      "text/plain": [
       "         positiv  neutral  negativ  True Positives (%)  True Negatives (%)  \\\n",
       "positiv        2        5        6            6.666667           50.000000   \n",
       "neutral        2        8        3           26.666667           40.000000   \n",
       "negativ        0        0        4           13.333333           56.666667   \n",
       "\n",
       "         False Positives (%)  False Negatives (%)  \n",
       "positiv             6.666667            36.666667  \n",
       "neutral            16.666667            16.666667  \n",
       "negativ            30.000000             0.000000  "
      ]
     },
     "execution_count": 30,
     "metadata": {},
     "output_type": "execute_result"
    }
   ],
   "source": [
    "en_matrix = c_matrix(df_en)\n",
    "en_matrix"
   ]
  },
  {
   "cell_type": "code",
   "execution_count": 31,
   "metadata": {},
   "outputs": [
    {
     "data": {
      "text/html": [
       "<div>\n",
       "<style scoped>\n",
       "    .dataframe tbody tr th:only-of-type {\n",
       "        vertical-align: middle;\n",
       "    }\n",
       "\n",
       "    .dataframe tbody tr th {\n",
       "        vertical-align: top;\n",
       "    }\n",
       "\n",
       "    .dataframe thead th {\n",
       "        text-align: right;\n",
       "    }\n",
       "</style>\n",
       "<table border=\"1\" class=\"dataframe\">\n",
       "  <thead>\n",
       "    <tr style=\"text-align: right;\">\n",
       "      <th></th>\n",
       "      <th>positiv</th>\n",
       "      <th>neutral</th>\n",
       "      <th>negativ</th>\n",
       "      <th>True Positives (%)</th>\n",
       "      <th>True Negatives (%)</th>\n",
       "      <th>False Positives (%)</th>\n",
       "      <th>False Negatives (%)</th>\n",
       "    </tr>\n",
       "  </thead>\n",
       "  <tbody>\n",
       "    <tr>\n",
       "      <th>positiv</th>\n",
       "      <td>0</td>\n",
       "      <td>5</td>\n",
       "      <td>5</td>\n",
       "      <td>0.000000</td>\n",
       "      <td>66.666667</td>\n",
       "      <td>0.000000</td>\n",
       "      <td>33.333333</td>\n",
       "    </tr>\n",
       "    <tr>\n",
       "      <th>neutral</th>\n",
       "      <td>0</td>\n",
       "      <td>8</td>\n",
       "      <td>2</td>\n",
       "      <td>26.666667</td>\n",
       "      <td>33.333333</td>\n",
       "      <td>33.333333</td>\n",
       "      <td>6.666667</td>\n",
       "    </tr>\n",
       "    <tr>\n",
       "      <th>negativ</th>\n",
       "      <td>0</td>\n",
       "      <td>5</td>\n",
       "      <td>5</td>\n",
       "      <td>16.666667</td>\n",
       "      <td>43.333333</td>\n",
       "      <td>23.333333</td>\n",
       "      <td>16.666667</td>\n",
       "    </tr>\n",
       "  </tbody>\n",
       "</table>\n",
       "</div>"
      ],
      "text/plain": [
       "         positiv  neutral  negativ  True Positives (%)  True Negatives (%)  \\\n",
       "positiv        0        5        5            0.000000           66.666667   \n",
       "neutral        0        8        2           26.666667           33.333333   \n",
       "negativ        0        5        5           16.666667           43.333333   \n",
       "\n",
       "         False Positives (%)  False Negatives (%)  \n",
       "positiv             0.000000            33.333333  \n",
       "neutral            33.333333             6.666667  \n",
       "negativ            23.333333            16.666667  "
      ]
     },
     "execution_count": 31,
     "metadata": {},
     "output_type": "execute_result"
    }
   ],
   "source": [
    "es_matrix = c_matrix(df_es)\n",
    "es_matrix"
   ]
  },
  {
   "cell_type": "markdown",
   "metadata": {},
   "source": [
    "# Accuracy for data condensed"
   ]
  },
  {
   "cell_type": "code",
   "execution_count": 17,
   "metadata": {},
   "outputs": [],
   "source": [
    "# Load the CSV file into a DataFrame\n",
    "df_de_1 = pd.read_csv('../Preprocessing/data_clean/labeled-data/labeled-de_clean_condensed.csv',sep = ';')"
   ]
  },
  {
   "cell_type": "code",
   "execution_count": 18,
   "metadata": {},
   "outputs": [],
   "source": [
    "df_de_1['sentiment'] = df_de_1['data'].apply(lambda x: sentiment_score(x[:512]))"
   ]
  },
  {
   "cell_type": "code",
   "execution_count": 19,
   "metadata": {},
   "outputs": [],
   "source": [
    "sentiment_mapping = {1: 'negativ', 2: 'neutral', 3: 'neutral', 4: 'neutral', 5: 'positiv'}\n",
    "\n",
    "# Replace the numbers with labels using the mapping\n",
    "df_de_1['sentiment'] = df_de_1['sentiment'].map(sentiment_mapping)"
   ]
  },
  {
   "cell_type": "code",
   "execution_count": 20,
   "metadata": {},
   "outputs": [],
   "source": [
    "# Drop rows where 'Label' is NaN or empty\n",
    "df_de_1.dropna(subset=['Label'], inplace=True)"
   ]
  },
  {
   "cell_type": "code",
   "execution_count": 21,
   "metadata": {},
   "outputs": [
    {
     "name": "stdout",
     "output_type": "stream",
     "text": [
      "Accuracy: 46.67%\n"
     ]
    }
   ],
   "source": [
    "# Calculate the accuracy\n",
    "accuracy = (df_de_1['sentiment'] == df_de_1['Label']).mean() * 100\n",
    "\n",
    "# Print the accuracy\n",
    "print(\"Accuracy: {:.2f}%\".format(accuracy))"
   ]
  }
 ],
 "metadata": {
  "kernelspec": {
   "display_name": "Python 3.9.6 64-bit",
   "language": "python",
   "name": "python3"
  },
  "language_info": {
   "codemirror_mode": {
    "name": "ipython",
    "version": 3
   },
   "file_extension": ".py",
   "mimetype": "text/x-python",
   "name": "python",
   "nbconvert_exporter": "python",
   "pygments_lexer": "ipython3",
   "version": "3.9.6"
  },
  "orig_nbformat": 4,
  "vscode": {
   "interpreter": {
    "hash": "31f2aee4e71d21fbe5cf8b01ff0e069b9275f58929596ceb00d14d90e3e16cd6"
   }
  }
 },
 "nbformat": 4,
 "nbformat_minor": 2
}
