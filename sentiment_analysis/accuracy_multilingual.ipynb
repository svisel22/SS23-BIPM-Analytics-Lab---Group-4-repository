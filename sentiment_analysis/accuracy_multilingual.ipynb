{
 "cells": [
  {
   "cell_type": "code",
   "execution_count": 24,
   "metadata": {},
   "outputs": [],
   "source": [
    "from transformers import AutoTokenizer, AutoModelForSequenceClassification\n",
    "import torch\n",
    "import requests\n",
    "from bs4 import BeautifulSoup\n",
    "import re\n",
    "import numpy as np\n",
    "import pandas as pd\n",
    "import matplotlib.pyplot as plt\n",
    "import seaborn as sns\n",
    "import matplotlib.dates as mdates\n",
    "from gensim.parsing.preprocessing import remove_stopwords, strip_numeric, strip_punctuation, strip_multiple_whitespaces, strip_short"
   ]
  },
  {
   "attachments": {},
   "cell_type": "markdown",
   "metadata": {},
   "source": [
    "# Load model"
   ]
  },
  {
   "cell_type": "code",
   "execution_count": 25,
   "metadata": {},
   "outputs": [],
   "source": [
    "# https://huggingface.co/nlptown/bert-base-multilingual-uncased-sentiment\n",
    "tokenizer = AutoTokenizer.from_pretrained('nlptown/bert-base-multilingual-uncased-sentiment')\n",
    "\n",
    "model = AutoModelForSequenceClassification.from_pretrained('nlptown/bert-base-multilingual-uncased-sentiment')"
   ]
  },
  {
   "attachments": {},
   "cell_type": "markdown",
   "metadata": {},
   "source": [
    "# Load data clean"
   ]
  },
  {
   "cell_type": "code",
   "execution_count": 26,
   "metadata": {},
   "outputs": [],
   "source": [
    "# Load the CSV file into a DataFrame\n",
    "df_de = pd.read_csv('../Preprocessing/data_clean/labeled-data/labeled-de_clean_1-1.csv',sep = ';')\n",
    "df_en = pd.read_csv('../Preprocessing/data_clean/labeled-data/labeled-en_clean_1-1_not101010.csv')\n",
    "df_es = pd.read_csv('../Preprocessing/data_clean/labeled-data/labeled-es_clean_1-1.csv', sep = ';')\n"
   ]
  },
  {
   "cell_type": "code",
   "execution_count": 28,
   "metadata": {},
   "outputs": [],
   "source": [
    "df_es['data'] = df_es['data'].apply(strip_punctuation)\n",
    "df_es['data'] = df_es['data'].str.replace('xa', ' ')\n",
    "df_es['data'] = df_es['data'].apply(strip_multiple_whitespaces)\n",
    "\n",
    "df_de['data'] = df_de['data'].apply(strip_punctuation)\n",
    "df_de['data'] = df_de['data'].apply(strip_multiple_whitespaces)"
   ]
  },
  {
   "attachments": {},
   "cell_type": "markdown",
   "metadata": {},
   "source": [
    "# Sentiment Analysis"
   ]
  },
  {
   "cell_type": "code",
   "execution_count": 29,
   "metadata": {},
   "outputs": [],
   "source": [
    "def sentiment_score(data):\n",
    "    if isinstance(data, str):\n",
    "        tokens = tokenizer.encode(data, return_tensors='pt')\n",
    "        result = model(tokens)\n",
    "        return int(torch.argmax(result.logits)) + 1\n",
    "    else:\n",
    "        return 0"
   ]
  },
  {
   "cell_type": "code",
   "execution_count": 30,
   "metadata": {},
   "outputs": [],
   "source": [
    "df_de['sentiment'] = df_de['data'].apply(lambda x: sentiment_score(x[:512]))\n",
    "df_en['sentiment'] = df_en['data'].apply(lambda x: sentiment_score(x[:512]))\n",
    "df_es['sentiment'] = df_es['data'].apply(lambda x: sentiment_score(x[:512]))"
   ]
  },
  {
   "cell_type": "code",
   "execution_count": 31,
   "metadata": {},
   "outputs": [
    {
     "name": "stdout",
     "output_type": "stream",
     "text": [
      "Sentiment score per player DE\n",
      "player\n",
      "bakker      2.380952\n",
      "diaby       2.928571\n",
      "frimpong    2.915663\n",
      "hincapie    2.745455\n",
      "mudryk      2.555556\n",
      "palacios    2.592105\n",
      "tah         3.416667\n",
      "Name: sentiment, dtype: float64\n",
      "Sentiment score per player EN\n",
      "player\n",
      "bakker      2.222222\n",
      "diaby       3.018868\n",
      "frimpong    2.772727\n",
      "hincapie    3.000000\n",
      "mudryk      2.580645\n",
      "palacios    2.217391\n",
      "tah         3.142857\n",
      "Name: sentiment, dtype: float64\n",
      "Sentiment score per player ES\n",
      "player\n",
      "bakker      2.125000\n",
      "diaby       2.233333\n",
      "frimpong    2.772727\n",
      "hincapie    2.973333\n",
      "mudryk      2.000000\n",
      "palacios    2.652778\n",
      "tah         2.666667\n",
      "Name: sentiment, dtype: float64\n"
     ]
    }
   ],
   "source": [
    "# Grouping the data by 'player' and calculating the mean of 'sentiment' for each player\n",
    "mean_sentiment_de = df_de.groupby('player')['sentiment'].mean()\n",
    "mean_sentiment_en = df_en.groupby('player')['sentiment'].mean()\n",
    "mean_sentiment_es = df_es.groupby('player')['sentiment'].mean()\n",
    "\n",
    "print('Sentiment score per player DE')\n",
    "print(mean_sentiment_de)\n",
    "print('Sentiment score per player EN')\n",
    "print(mean_sentiment_en)\n",
    "print('Sentiment score per player ES')\n",
    "print(mean_sentiment_es)"
   ]
  },
  {
   "attachments": {},
   "cell_type": "markdown",
   "metadata": {},
   "source": [
    "### Translate scores to positive, neutral and negative"
   ]
  },
  {
   "cell_type": "code",
   "execution_count": 32,
   "metadata": {},
   "outputs": [],
   "source": [
    "sentiment_mapping = {1: 'negativ', 2: 'neutral', 3: 'neutral', 4: 'neutral', 5: 'positiv'}\n",
    "\n",
    "# Replace the numbers with labels using the mapping\n",
    "df_de['sentiment'] = df_de['sentiment'].map(sentiment_mapping)\n",
    "df_en['sentiment'] = df_en['sentiment'].map(sentiment_mapping)\n",
    "df_es['sentiment'] = df_es['sentiment'].map(sentiment_mapping)"
   ]
  },
  {
   "attachments": {},
   "cell_type": "markdown",
   "metadata": {},
   "source": [
    "### Drop unlabeled rows"
   ]
  },
  {
   "cell_type": "code",
   "execution_count": 34,
   "metadata": {},
   "outputs": [
    {
     "name": "stdout",
     "output_type": "stream",
     "text": [
      "                                                  data    player language  \\\n",
      "14   zweimal verwandelte palacios es wurde ein uber...  palacios       de   \n",
      "23   schalke reis nimmt den spieler ausdrucklich in...  palacios       de   \n",
      "31   palacios r verletzte sich leicht im hinspiel g...  palacios       de   \n",
      "41    auf jeden fall sei das ein ganz grosser tag s...  palacios       de   \n",
      "58   beim abschlusstraining trug letzterer zumindes...  palacios       de   \n",
      "63   bayerleverkusen argentinischer weltmeister pal...  palacios       de   \n",
      "83    es gibt im moment nicht viel besseres in der ...  frimpong       de   \n",
      "93   der fc bayern munchen interessiert sich nach i...  frimpong       de   \n",
      "95   frimpong hat noch bis vertrag in bayerleverkus...  frimpong       de   \n",
      "102  hincapie l und tah bedanken sich fur die fan u...  frimpong       de   \n",
      "120  diaby wirtz adam hlozek und frimpong teilten s...  frimpong       de   \n",
      "123   bayerleverkusen torschutze amiri rechts und f...  frimpong       de   \n",
      "124  frimpong bekommt gluckwunsche seines trainers ...  frimpong       de   \n",
      "130  selbst als stammkraft frimpong in den vergange...  frimpong       de   \n",
      "163  ohne hincapie und tah mussten wir entscheiden ...       tah       de   \n",
      "173  schalke wiederum hatte durch michael frey ein ...       tah       de   \n",
      "180   bayerleverkusen coach alonso rotierte im verg...       tah       de   \n",
      "199  alonso stolz werkself seit spielen ungeschlage...       tah       de   \n",
      "214  torwart lukas hradecky bewahrte bayerleverkuse...       tah       de   \n",
      "223  zudem drohen sowohl bakker xaals auch weltmeis...    bakker       de   \n",
      "258  torschutzen unter sich diaby links treffer zum...    bakker       de   \n",
      "273                 beim hatte mitchell bakker gepatzt    bakker       de   \n",
      "334                        minute uber wirtz und diaby     diaby       de   \n",
      "355  das team wird zudem von den beiden bayerleverk...     diaby       de   \n",
      "361  frimpong wirkt uberspielt und diaby bewegte si...     diaby       de   \n",
      "362  torwart lukas hradecky bewahrte bayerleverkuse...     diaby       de   \n",
      "383  zu sehen ist davon wenig und das liegt nicht n...    mudryk       de   \n",
      "413  hincapie von fussball bundesligist bayerleverk...  hincapie       de   \n",
      "433  bayerleverkusen torwart lukas hradecky sitzt f...  hincapie       de   \n",
      "436  in der funften minute der nachspielzeit sah ba...  hincapie       de   \n",
      "\n",
      "              publishedAt    Label sentiment  \n",
      "14   2023-03-19T20:01:45Z  positiv   neutral  \n",
      "23   2023-04-03T08:12:20Z  neutral   neutral  \n",
      "31   2023-04-17T06:50:19Z  neutral   neutral  \n",
      "41   2023-04-20T20:54:03Z  positiv   positiv  \n",
      "58   2023-05-17T11:20:50Z  neutral   neutral  \n",
      "63   2023-05-14T18:07:21Z  negativ   negativ  \n",
      "83   2023-03-31T07:59:57Z  positiv   neutral  \n",
      "93   2023-04-06T16:49:00Z  neutral   neutral  \n",
      "95   2023-04-07T07:42:27Z  neutral   neutral  \n",
      "102  2023-04-14T08:16:22Z  positiv   positiv  \n",
      "120  2023-04-21T10:02:05Z  neutral   positiv  \n",
      "123  2023-04-23T17:33:57Z  positiv   negativ  \n",
      "124  2023-04-23T18:00:31Z  positiv   neutral  \n",
      "130  2023-05-23T10:24:42Z  negativ   positiv  \n",
      "163  2023-02-27T15:54:01Z  neutral   neutral  \n",
      "173  2023-04-01T15:44:09Z  positiv   negativ  \n",
      "180  2023-04-16T19:29:40Z  neutral   neutral  \n",
      "199  2023-04-23T20:48:00Z  positiv   positiv  \n",
      "214  2023-05-11T23:42:49Z  positiv   positiv  \n",
      "223  2023-02-23T09:06:07Z  negativ   negativ  \n",
      "258  2023-04-20T21:15:24Z  positiv   negativ  \n",
      "273  2023-05-21T19:39:14Z  negativ   neutral  \n",
      "334  2023-04-29T15:37:30Z  neutral   negativ  \n",
      "355  2023-05-13T10:26:28Z  neutral   neutral  \n",
      "361  2023-05-12T09:44:10Z  negativ   neutral  \n",
      "362  2023-05-11T23:42:49Z  negativ   neutral  \n",
      "383  2023-04-19T06:10:46Z  negativ   neutral  \n",
      "413  2023-05-23T10:52:44Z  negativ   negativ  \n",
      "433  2023-02-17T17:14:46Z  negativ   negativ  \n",
      "436  2023-05-21T19:53:27Z  negativ   negativ  \n"
     ]
    }
   ],
   "source": [
    "# Drop rows where 'Label' is NaN or empty\n",
    "df_de.dropna(subset=['Label'], inplace=True)\n",
    "df_en.dropna(subset=['Label'], inplace=True)\n",
    "df_es.dropna(subset=['Label'], inplace=True)\n",
    "\n",
    "# Print the updated DataFrame\n",
    "print(df_de)"
   ]
  },
  {
   "attachments": {},
   "cell_type": "markdown",
   "metadata": {},
   "source": [
    "### Accuracy exact match positive, neutral and negative"
   ]
  },
  {
   "cell_type": "code",
   "execution_count": 35,
   "metadata": {},
   "outputs": [
    {
     "name": "stdout",
     "output_type": "stream",
     "text": [
      "Spanish Accuracy: 43.33%\n"
     ]
    }
   ],
   "source": [
    "# Calculate the accuracy\n",
    "accuracy = (df_es['sentiment'] == df_es['Label']).mean() * 100\n",
    "\n",
    "# Print the accuracy\n",
    "print(\"Spanish Accuracy: {:.2f}%\".format(accuracy))"
   ]
  },
  {
   "cell_type": "code",
   "execution_count": 36,
   "metadata": {},
   "outputs": [
    {
     "name": "stdout",
     "output_type": "stream",
     "text": [
      "English Accuracy: 50.00%\n"
     ]
    }
   ],
   "source": [
    "# Calculate the accuracy\n",
    "accuracy = (df_en['sentiment'] == df_en['Label']).mean() * 100\n",
    "\n",
    "# Print the accuracy\n",
    "print(\"English Accuracy: {:.2f}%\".format(accuracy))"
   ]
  },
  {
   "cell_type": "code",
   "execution_count": 37,
   "metadata": {},
   "outputs": [
    {
     "name": "stdout",
     "output_type": "stream",
     "text": [
      "German Accuracy: 56.67%\n"
     ]
    }
   ],
   "source": [
    "# Calculate the accuracy\n",
    "accuracy = (df_de['sentiment'] == df_de['Label']).mean() * 100\n",
    "\n",
    "# Print the accuracy\n",
    "print(\"German Accuracy: {:.2f}%\".format(accuracy))"
   ]
  },
  {
   "attachments": {},
   "cell_type": "markdown",
   "metadata": {},
   "source": [
    "### Accuracy calcualte error negative-positive"
   ]
  },
  {
   "cell_type": "code",
   "execution_count": 38,
   "metadata": {},
   "outputs": [
    {
     "name": "stdout",
     "output_type": "stream",
     "text": [
      "Spanish\n",
      "Positive and Negative combinations count: 5\n",
      "Negative and Positive combinations count: 0\n"
     ]
    }
   ],
   "source": [
    "\n",
    "\n",
    "# Count positive and negative combinations\n",
    "positive_negative_count = ((df_es['Label'] == 'positiv') & (df_es['sentiment'] == 'negativ')).sum()\n",
    "negative_positive_count = ((df_es['Label'] == 'negativ') & (df_es['sentiment'] == 'positiv')).sum()\n",
    "print('Spanish')\n",
    "print(\"Positive and Negative combinations count:\", positive_negative_count)\n",
    "print(\"Negative and Positive combinations count:\", negative_positive_count)\n"
   ]
  },
  {
   "cell_type": "code",
   "execution_count": 39,
   "metadata": {},
   "outputs": [
    {
     "name": "stdout",
     "output_type": "stream",
     "text": [
      "English\n",
      "Positive and Negative combinations count: 5\n",
      "Negative and Positive combinations count: 0\n"
     ]
    }
   ],
   "source": [
    "# Count positive and negative combinations\n",
    "positive_negative_count = ((df_en['Label'] == 'positiv') & (df_en['sentiment'] == 'negativ')).sum()\n",
    "negative_positive_count = ((df_en['Label'] == 'negativ') & (df_en['sentiment'] == 'positiv')).sum()\n",
    "print('English')\n",
    "print(\"Positive and Negative combinations count:\", positive_negative_count)\n",
    "print(\"Negative and Positive combinations count:\", negative_positive_count)"
   ]
  },
  {
   "cell_type": "code",
   "execution_count": 40,
   "metadata": {},
   "outputs": [
    {
     "name": "stdout",
     "output_type": "stream",
     "text": [
      "German\n",
      "Positive and Negative combinations count: 3\n",
      "Negative and Positive combinations count: 1\n"
     ]
    }
   ],
   "source": [
    "# Count positive and negative combinations\n",
    "positive_negative_count = ((df_de['Label'] == 'positiv') & (df_de['sentiment'] == 'negativ')).sum()\n",
    "negative_positive_count = ((df_de['Label'] == 'negativ') & (df_de['sentiment'] == 'positiv')).sum()\n",
    "print('German')\n",
    "print(\"Positive and Negative combinations count:\", positive_negative_count)\n",
    "print(\"Negative and Positive combinations count:\", negative_positive_count)"
   ]
  },
  {
   "attachments": {},
   "cell_type": "markdown",
   "metadata": {},
   "source": [
    "# Accuracy for data condensed"
   ]
  },
  {
   "cell_type": "code",
   "execution_count": 41,
   "metadata": {},
   "outputs": [],
   "source": [
    "# Load the CSV file into a DataFrame\n",
    "df_de_1 = pd.read_csv('../Preprocessing/data_clean/labeled-data/labeled-de_clean_condensed.csv',sep = ';')"
   ]
  },
  {
   "cell_type": "code",
   "execution_count": 42,
   "metadata": {},
   "outputs": [],
   "source": [
    "df_de_1['sentiment'] = df_de_1['data'].apply(lambda x: sentiment_score(x[:512]))"
   ]
  },
  {
   "cell_type": "code",
   "execution_count": 43,
   "metadata": {},
   "outputs": [],
   "source": [
    "sentiment_mapping = {1: 'negativ', 2: 'neutral', 3: 'neutral', 4: 'neutral', 5: 'positiv'}\n",
    "\n",
    "# Replace the numbers with labels using the mapping\n",
    "df_de_1['sentiment'] = df_de_1['sentiment'].map(sentiment_mapping)"
   ]
  },
  {
   "cell_type": "code",
   "execution_count": 44,
   "metadata": {},
   "outputs": [],
   "source": [
    "# Drop rows where 'Label' is NaN or empty\n",
    "df_de_1.dropna(subset=['Label'], inplace=True)"
   ]
  },
  {
   "cell_type": "code",
   "execution_count": 45,
   "metadata": {},
   "outputs": [
    {
     "name": "stdout",
     "output_type": "stream",
     "text": [
      "Accuracy: 46.67%\n"
     ]
    }
   ],
   "source": [
    "# Calculate the accuracy\n",
    "accuracy = (df_de_1['sentiment'] == df_de_1['Label']).mean() * 100\n",
    "\n",
    "# Print the accuracy\n",
    "print(\"Accuracy: {:.2f}%\".format(accuracy))"
   ]
  },
  {
   "cell_type": "code",
   "execution_count": 46,
   "metadata": {},
   "outputs": [
    {
     "name": "stdout",
     "output_type": "stream",
     "text": [
      "Positive and Negative combinations count: 3\n",
      "Negative and Positive combinations count: 1\n"
     ]
    }
   ],
   "source": [
    "# Count positive and negative combinations\n",
    "positive_negative_count = ((df_de_1['Label'] == 'positiv') & (df_de_1['sentiment'] == 'negativ')).sum()\n",
    "negative_positive_count = ((df_de_1['Label'] == 'negativ') & (df_de_1['sentiment'] == 'positiv')).sum()\n",
    "\n",
    "print(\"Positive and Negative combinations count:\", positive_negative_count)\n",
    "print(\"Negative and Positive combinations count:\", negative_positive_count)"
   ]
  }
 ],
 "metadata": {
  "kernelspec": {
   "display_name": "Python 3.9.6 64-bit",
   "language": "python",
   "name": "python3"
  },
  "language_info": {
   "codemirror_mode": {
    "name": "ipython",
    "version": 3
   },
   "file_extension": ".py",
   "mimetype": "text/x-python",
   "name": "python",
   "nbconvert_exporter": "python",
   "pygments_lexer": "ipython3",
   "version": "3.10.11"
  },
  "orig_nbformat": 4,
  "vscode": {
   "interpreter": {
    "hash": "31f2aee4e71d21fbe5cf8b01ff0e069b9275f58929596ceb00d14d90e3e16cd6"
   }
  }
 },
 "nbformat": 4,
 "nbformat_minor": 2
}
