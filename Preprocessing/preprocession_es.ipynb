{
 "cells": [
  {
   "cell_type": "code",
   "execution_count": 125,
   "metadata": {},
   "outputs": [],
   "source": [
    "#%pip install scikit-learn\n",
    "#%pip install nltk\n",
    "#%pip install gensim\n",
    "\n",
    "\n"
   ]
  },
  {
   "cell_type": "code",
   "execution_count": 124,
   "metadata": {},
   "outputs": [],
   "source": [
    "import pandas as pd\n",
    "import re\n",
    "from sklearn.feature_extraction.text import CountVectorizer\n",
    "import numpy as np\n",
    "sys.path.append('../')\n",
    "from utils import remove_similar_rows, find_lines_with_player, remove_similar_rows_per_player\n",
    "import nltk\n",
    "from nltk.corpus import stopwords\n",
    "from gensim.parsing.preprocessing import remove_stopwords, strip_numeric, strip_punctuation, strip_multiple_whitespaces\n",
    "\n"
   ]
  },
  {
   "cell_type": "markdown",
   "metadata": {},
   "source": [
    "# Load Data"
   ]
  },
  {
   "cell_type": "code",
   "execution_count": 79,
   "metadata": {},
   "outputs": [],
   "source": [
    "url = 'https://raw.githubusercontent.com/svisel22/SS23-BIPM-Analytics-Lab---Group-4-repository/main/data_files/all_data_v3.csv'\n",
    "df = pd.read_csv(url)"
   ]
  },
  {
   "cell_type": "code",
   "execution_count": 115,
   "metadata": {},
   "outputs": [
    {
     "data": {
      "text/html": [
       "<div>\n",
       "<style scoped>\n",
       "    .dataframe tbody tr th:only-of-type {\n",
       "        vertical-align: middle;\n",
       "    }\n",
       "\n",
       "    .dataframe tbody tr th {\n",
       "        vertical-align: top;\n",
       "    }\n",
       "\n",
       "    .dataframe thead th {\n",
       "        text-align: right;\n",
       "    }\n",
       "</style>\n",
       "<table border=\"1\" class=\"dataframe\">\n",
       "  <thead>\n",
       "    <tr style=\"text-align: right;\">\n",
       "      <th></th>\n",
       "      <th>data</th>\n",
       "      <th>player</th>\n",
       "      <th>language</th>\n",
       "      <th>publishedAt</th>\n",
       "    </tr>\n",
       "  </thead>\n",
       "  <tbody>\n",
       "    <tr>\n",
       "      <th>0</th>\n",
       "      <td>{'content': \"DIRECTO\\nMercado de fichajes de f...</td>\n",
       "      <td>Exequiel Palacios</td>\n",
       "      <td>es</td>\n",
       "      <td>2023-01-29T18:25:03Z</td>\n",
       "    </tr>\n",
       "    <tr>\n",
       "      <th>1</th>\n",
       "      <td>{'content': 'Con el primer mes del 2023 a poco...</td>\n",
       "      <td>Exequiel Palacios</td>\n",
       "      <td>es</td>\n",
       "      <td>2023-01-30T16:52:46Z</td>\n",
       "    </tr>\n",
       "    <tr>\n",
       "      <th>2</th>\n",
       "      <td>{'content': 'Deportes\\nGustavo Puerta ya no ju...</td>\n",
       "      <td>Exequiel Palacios</td>\n",
       "      <td>es</td>\n",
       "      <td>2023-01-31T20:41:38Z</td>\n",
       "    </tr>\n",
       "    <tr>\n",
       "      <th>3</th>\n",
       "      <td>{'content': 'Dólar blue\\nAlberto Fernández\\nMa...</td>\n",
       "      <td>Exequiel Palacios</td>\n",
       "      <td>es</td>\n",
       "      <td>2023-02-09T18:32:38Z</td>\n",
       "    </tr>\n",
       "    <tr>\n",
       "      <th>4</th>\n",
       "      <td>{'content': 'Dólar blue\\nAlberto Fernández\\nMa...</td>\n",
       "      <td>Exequiel Palacios</td>\n",
       "      <td>es</td>\n",
       "      <td>2023-02-12T21:13:55Z</td>\n",
       "    </tr>\n",
       "    <tr>\n",
       "      <th>...</th>\n",
       "      <td>...</td>\n",
       "      <td>...</td>\n",
       "      <td>...</td>\n",
       "      <td>...</td>\n",
       "    </tr>\n",
       "    <tr>\n",
       "      <th>226</th>\n",
       "      <td>{'content': 'Piero Hincapié (der.) durante el ...</td>\n",
       "      <td>Piero Hincapié</td>\n",
       "      <td>es</td>\n",
       "      <td>2023-02-16T22:09:36Z</td>\n",
       "    </tr>\n",
       "    <tr>\n",
       "      <th>227</th>\n",
       "      <td>{'content': 'Piero Hincapié (centro) y Félix T...</td>\n",
       "      <td>Piero Hincapié</td>\n",
       "      <td>es</td>\n",
       "      <td>2023-02-14T23:40:33Z</td>\n",
       "    </tr>\n",
       "    <tr>\n",
       "      <th>228</th>\n",
       "      <td>{'content': 'El DT de Ecuador Gustavo Alfaro, ...</td>\n",
       "      <td>Piero Hincapié</td>\n",
       "      <td>es</td>\n",
       "      <td>2023-02-14T15:58:38Z</td>\n",
       "    </tr>\n",
       "    <tr>\n",
       "      <th>229</th>\n",
       "      <td>{'content': 'Eche un vistazo a la versión beta...</td>\n",
       "      <td>Piero Hincapié</td>\n",
       "      <td>es</td>\n",
       "      <td>2023-02-03T10:58:00Z</td>\n",
       "    </tr>\n",
       "    <tr>\n",
       "      <th>230</th>\n",
       "      <td>{'content': 'El español Andoni Bombín fue anun...</td>\n",
       "      <td>Piero Hincapié</td>\n",
       "      <td>es</td>\n",
       "      <td>2023-02-02T21:53:12Z</td>\n",
       "    </tr>\n",
       "  </tbody>\n",
       "</table>\n",
       "<p>231 rows × 4 columns</p>\n",
       "</div>"
      ],
      "text/plain": [
       "                                                  data             player  \\\n",
       "0    {'content': \"DIRECTO\\nMercado de fichajes de f...  Exequiel Palacios   \n",
       "1    {'content': 'Con el primer mes del 2023 a poco...  Exequiel Palacios   \n",
       "2    {'content': 'Deportes\\nGustavo Puerta ya no ju...  Exequiel Palacios   \n",
       "3    {'content': 'Dólar blue\\nAlberto Fernández\\nMa...  Exequiel Palacios   \n",
       "4    {'content': 'Dólar blue\\nAlberto Fernández\\nMa...  Exequiel Palacios   \n",
       "..                                                 ...                ...   \n",
       "226  {'content': 'Piero Hincapié (der.) durante el ...     Piero Hincapié   \n",
       "227  {'content': 'Piero Hincapié (centro) y Félix T...     Piero Hincapié   \n",
       "228  {'content': 'El DT de Ecuador Gustavo Alfaro, ...     Piero Hincapié   \n",
       "229  {'content': 'Eche un vistazo a la versión beta...     Piero Hincapié   \n",
       "230  {'content': 'El español Andoni Bombín fue anun...     Piero Hincapié   \n",
       "\n",
       "    language           publishedAt  \n",
       "0         es  2023-01-29T18:25:03Z  \n",
       "1         es  2023-01-30T16:52:46Z  \n",
       "2         es  2023-01-31T20:41:38Z  \n",
       "3         es  2023-02-09T18:32:38Z  \n",
       "4         es  2023-02-12T21:13:55Z  \n",
       "..       ...                   ...  \n",
       "226       es  2023-02-16T22:09:36Z  \n",
       "227       es  2023-02-14T23:40:33Z  \n",
       "228       es  2023-02-14T15:58:38Z  \n",
       "229       es  2023-02-03T10:58:00Z  \n",
       "230       es  2023-02-02T21:53:12Z  \n",
       "\n",
       "[231 rows x 4 columns]"
      ]
     },
     "execution_count": 115,
     "metadata": {},
     "output_type": "execute_result"
    }
   ],
   "source": [
    "# Filter out the Spanish data and reindex\n",
    "df_es = df[df[\"language\"] == \"es\"]\n",
    "\n",
    "#Reset index\n",
    "df_es = df_es.reset_index(drop=True)\n",
    "df_es"
   ]
  },
  {
   "cell_type": "code",
   "execution_count": 116,
   "metadata": {},
   "outputs": [
    {
     "name": "stdout",
     "output_type": "stream",
     "text": [
      "{'content': \"DIRECTO\\nMercado de fichajes de fútbol, en directo\\nAdeyemi firmó el que es su primer gol en lo que va de Bundesliga\\nJavier Alfaro\\nRedactor Fútbol\\nEl que perdona, lo acaba pagando muy caro en esto del fútbol. En España, en la China y en Alemania. En la liga de este último país lo sufrió este domingo el Bayer Leverkusen de Xabi Alonso, que fue indulgente con el Borussia Dortmund y contra su voluntad acabó cosechando una derrota de esas que se califican como injustas por los méritos realizados. Pero la realidad es que en esto del balompié, justicia a parte, gana el que marca más goles que el rival, y mientras que el Dortmund hizo dos el Leverkusen no logró ninguno (0-2).\\nCon Florian Wirtz dejando su lesión definitivamente en el olvido y Exequiel Palacios y Amiri creando juego en la medular, el Bayer Leverkusen llevó la iniciativa en el juego desde el inicio, haciendo latente lo bien trabajando que tiene el equipo el bueno de Xabi Alonso, pero ni los mencionados ni sus compañeros de equipo fueron capaces de superar a un Kobel que supo mantener la portería del Dortmund a cero.\\nEl que sí marcó fue Karim Adeyemi, que por fin se estrenó en esta Bundesliga. Fue en el 33', al culminar con un disparo cruzado una buena jugada colectiva en la que intervinieron Bellingham y Haller, firmando éste último una asistencia sin tocar el balón.\\nCon ese 0-1 se llegó al descanso, y ya en la segunda mitad el Bayer Leverkusen metió una marcha extra en la búsqueda del empate. Y sí marcó gol uno de sus futbolistas, Tapsoba, pero lo hizo en propia puerta para establecer en el marcador el 0-2 en el minuto 53 de juego. Fue el último tanto que se vio en Leverkusen este domingo por la tarde en el que el Dortmund, con los 3 puntos logrados, se posicionó 4º en la Bundesliga a 3 del liderato del Bayern. El Leverkusen, por su parte, deambula por la zona media de la tabla. No es moco de pavo teniendo en cuenta la situación en la que estaba cuando Xabi Alonso se hizo cargo del equipo hace unos meses.\\n© Mundo Deportivo. Todos los derechos reservados.\"}\n"
     ]
    }
   ],
   "source": [
    "print(df_es.loc[0, 'data'])"
   ]
  },
  {
   "cell_type": "markdown",
   "metadata": {},
   "source": [
    "# Remove duplicates"
   ]
  },
  {
   "cell_type": "code",
   "execution_count": 117,
   "metadata": {},
   "outputs": [],
   "source": [
    "# Remove the similiar rows (The Function is imported from utils on top)\n",
    "df_es = remove_similar_rows_per_player(df_es, df_es['player'].unique())\n",
    "\n",
    "# Returned df is not working well"
   ]
  },
  {
   "cell_type": "markdown",
   "metadata": {},
   "source": [
    "# Emojis analysis"
   ]
  },
  {
   "cell_type": "code",
   "execution_count": 83,
   "metadata": {},
   "outputs": [
    {
     "name": "stdout",
     "output_type": "stream",
     "text": [
      "Emojis found in article 6 : 6\n",
      "Emojis found in article 12 : 2\n",
      "Emojis found in article 14 : 4\n",
      "Emojis found in article 30 : 1\n",
      "Emojis found in article 32 : 1\n",
      "Emojis found in article 65 : 4\n",
      "Emojis found in article 78 : 2\n",
      "Emojis found in article 81 : 11\n",
      "Emojis found in article 15 : 11\n",
      "Emojis found in article 7 : 11\n",
      "Emojis found in article 11 : 12\n",
      "Emojis found in article 19 : 11\n",
      "Emojis found in article 21 : 1\n",
      "Emojis found in article 3 : 6\n",
      "Emojis found in article 4 : 3\n",
      "Emojis found in article 5 : 3\n",
      "Emojis found in article 9 : 1\n",
      "Emojis found in article 19 : 15\n",
      "Emojis found in article 1 : 5\n",
      "Emojis found in article 21 : 4\n",
      "Emojis found in article 26 : 20\n",
      "Emojis found in article 29 : 5\n",
      "Emojis found in article 30 : 3\n",
      "Emojis found in article 31 : 2\n",
      "Total number of articles with emojis: 24\n"
     ]
    }
   ],
   "source": [
    "# Unicode ranges for emojis\n",
    "emoji_ranges = [\n",
    "    (0x1F600, 0x1F64F),  # Emoticons\n",
    "    (0x1F300, 0x1F5FF),  # Miscellaneous symbols and pictographs\n",
    "    (0x1F680, 0x1F6FF),  # Transport and map symbols\n",
    "    (0x2600, 0x26FF),    # Miscellaneous symbols\n",
    "    (0x2700, 0x27BF),    # Dingbats\n",
    "    (0xFE00, 0xFE0F),    # Variation Selectors\n",
    "    (0x1F900, 0x1F9FF),  # Supplemental Symbols and Pictographs\n",
    "    (0x1F1E6, 0x1F1FF)   # Flags\n",
    "]\n",
    "\n",
    "# Function to check if a character is an emoji\n",
    "def is_emoji(character):\n",
    "    for start, end in emoji_ranges:\n",
    "        if ord(character) in range(start, end + 1):\n",
    "            return True\n",
    "    return False\n",
    "\n",
    "def is_emoji_remove(character):\n",
    "    emoji_ord = ord(character)\n",
    "    for start, end in emoji_ranges:\n",
    "        if emoji_ord >= start and emoji_ord <= end:\n",
    "            return True\n",
    "    return False\n",
    "\n",
    "# Assuming your dataframe is named 'df'\n",
    "articles_with_emoji = 0\n",
    "\n",
    "# Iterate over the rows of the dataframe\n",
    "for index, row in df_es.iterrows():\n",
    "    # Counter for emojis in the current article\n",
    "    emoji_count = 0\n",
    "\n",
    "    # Iterate over the columns of the current row\n",
    "    for column in row.index:\n",
    "        # Check if the cell contains an emoji\n",
    "        for char in str(row[column]):\n",
    "            if is_emoji(char):\n",
    "                emoji_count += 1\n",
    "\n",
    "    # If there is at least one emoji in the current article, increment the count of articles with emojis\n",
    "    if emoji_count > 0:\n",
    "        articles_with_emoji += 1\n",
    "        print(\"Emojis found in article\", index + 1, \":\", emoji_count)\n",
    "\n",
    "print(\"Total number of articles with emojis:\", articles_with_emoji)\n",
    "\n",
    "\n",
    "\n"
   ]
  },
  {
   "cell_type": "markdown",
   "metadata": {},
   "source": [
    "# Remove Patterns"
   ]
  },
  {
   "cell_type": "code",
   "execution_count": 107,
   "metadata": {},
   "outputs": [],
   "source": [
    "patternlist = [\n",
    "    r\"^{\\'content\\': \\'\",\n",
    "    r\"^{\\'content\\'\",\n",
    "    r\"DIRECTO\",\n",
    "    r\"Espacio Publicitario\",\n",
    "    r\"Copyright.*\",\n",
    "    r\"Foto:*\",\n",
    "    r\"Todos los derechos reservados:*\",\n",
    "    r\"Suscribete*\",\n",
    "   \n",
    "]"
   ]
  },
  {
   "cell_type": "code",
   "execution_count": 136,
   "metadata": {},
   "outputs": [
    {
     "name": "stdout",
     "output_type": "stream",
     "text": [
      "BERLÍN (AP) — Amine Adli fue amonestado dos veces por piscinazos, pero ambas amarillas fueron rescindidas en ambas ocasiones, y Bayer Leverkusen anotó dos veces por los penales que se señalaron posteriormente para vencer el domingo 2-1 al Bayern Múnich.\\nEl argentino Exequiel Palacios facturó ambos penas máximas para una victoria que dejó al Borussia Dortmund en lo más alto de la Bundesliga.\\nEl árbitro Tobias Stieler tuvo que agradecerle al VAR — dos veces — tras equivocarse. Se disculpó con Adli en cada ocasión luego que las revisiones confirmaron que el jugador francés fue víctima de faltas de Benjamin Pavard, en primera instancia, y luego de Dayot Upamecano.\\nTras sufrir su tercera derrota en la Bundesliga esta temporada, el Bayern quedó un punto detrás del Dortmund con nueve fechas por delante. El Bayern recibirá al Dortmund el 1 de abril.\\n“Era un partido muy importante para nosotros. Lo sabíamos de antemano, pero fuimos incapaces de de mostrarlo durante los 90 minutos y tenemos que hacernos una autocrítica\", dijo el delantero del Bayern Thomas Müller.\\n“Nos queda esperar que nadie se lesione durante el parón internacional\"; añadió. “Vendrá un partidazo en casa ante el Dortmund. Habíamos imaginar llegar en una posición diferente”.\\nEl Leverkusen de Xabi Alonso generó más peligro en los primeros compases, en los que el Bayern dependió de su arquero Yann Sommer para ahogarle el grito de gol a Kerem Demirbay. Además, Alphonso Davies apareció para despejar un remate de Jeremie Frimpong.\\nJoshua Kimmich anotó en la primera llegada del Bayern a los 22. El remate desviado sorprendió al arquero rival Lukas Hradecky.\\nPavard cometió el primer penal en el arranque de la segunda parte. Stieler amonestó inicialmente a Adli por tirarse, pero modificó la decisión tras constatar en el monitor cómo Pavard clavó su botín en el adversario.\\nPalacios convirtió el penal a los 55 para poner el empate.\\nStieler amonestó otra vez a Adli a los 70 y nuevamente tuvo que disculparse tras ver que Upamecano le había cometido una falta al delantero de Leverkusen. Palacios volvió a encargarse del penal.\\nEn el tramo final, Hradecky tapó disparos de Leroy Sane y Davies para preservar la victoria, dejando al Leverkusen en la octava plaza.\\nFue la primera victoria de Alonso como técnico del Leverkusen contra su exequipo. “Estoy feliz, satisfecho y orgulloso”, dijo el técnico español, quien se refirió a la cargada agenda del Leverkusen tras vencer 2-0 a Ferencvaros en la Liga Europa el jueves.\\nUnión berlín sigue en la zona alta\\nEl exinternacional alemán Sami Khedira pudo ver desde las gradas a su hermano Rani Khedira liderar al Unión Berlín al tercer puesto con una victoria 2-0 ante el visitante Eintracht Frankfurt.\\nRani Khedira fue el capitán en lugar del ausente Christopher Trimmel y abrió el marcador a los 53 minutos. Kevin Behrens selló el triunfo a los 75.\\nEl Unión estiró a 18 su racha de partidos sin perder como local en la liga alemana. Quedaron dos puntos por delante de Friburgo, que empató 1-1 con Mainz.\\n\n"
     ]
    }
   ],
   "source": [
    "# Create a copy\n",
    "data_wo_pattern = df_es.copy()\n",
    "data_wo_pattern.reset_index(drop=True, inplace=True)\n",
    "\n",
    "#remove patterns\n",
    "for pattern in patternlist:\n",
    "\n",
    "    data_wo_pattern['data'] = data_wo_pattern['data'].apply(lambda x: re.sub(pattern, \"\", str(x), flags=re.M))\n",
    "\n",
    "#link\n",
    "data_wo_pattern['data'] = data_wo_pattern['data'].apply(lambda x: re.sub(r'http\\S+', '', str(x)))\n",
    "\n",
    "#emoji\n",
    "data_wo_pattern['data'] = data_wo_pattern['data'].apply(lambda x: re.sub(r'[^\\w\\s,]|.', lambda m: '' if is_emoji_remove(m.group()) else m.group(), str(x)))\n",
    "\n",
    "#remove \\n\n",
    "\n",
    "\n",
    "# strip multiple whitespaces also \\n -> (https://radimrehurek.com/gensim/parsing/preprocessing.html#gensim.parsing.preprocessing.strip_multiple_whitespaces)\n",
    "data_wo_pattern['data'] = data_wo_pattern['data'].apply(strip_multiple_whitespaces)\n",
    "\n",
    "# Reset index\n",
    "data_wo_pattern.reset_index(drop=True, inplace=True)\n",
    "print(data_wo_pattern.loc[44, 'data'])\n",
    "\n"
   ]
  },
  {
   "cell_type": "markdown",
   "metadata": {},
   "source": [
    "# Find line with player"
   ]
  },
  {
   "cell_type": "code",
   "execution_count": 62,
   "metadata": {},
   "outputs": [],
   "source": [
    "data_with_playernames = data_wo_pattern.copy()\n",
    "\n",
    "data_with_playernames = find_lines_with_player(data_with_playernames, data_with_playernames['player'].unique())"
   ]
  },
  {
   "cell_type": "code",
   "execution_count": 63,
   "metadata": {},
   "outputs": [
    {
     "name": "stdout",
     "output_type": "stream",
     "text": [
      "2    DeportesnGustavo Puerta ya no jugará en el Bay...\n",
      "2    nMercado de fichajes de fútbol, en directonFre...\n",
      "2    Piero Hincapié der durante el partido entre Ba...\n",
      "2     Piero Hincapié y Exequiel Palacios en el Baye...\n",
      "2    Piero Hincapié der durante el partido entre Ba...\n",
      "2    El mercado de invierno en Europa tuvo a un arg...\n",
      "2    nMercado de fichajes de fútbol, en directonCam...\n",
      "2    Una de las cancha del complejo de Independient...\n",
      "Name: data, dtype: object\n"
     ]
    }
   ],
   "source": [
    "print(data_with_playernames.loc[2, 'data'])"
   ]
  },
  {
   "cell_type": "markdown",
   "metadata": {},
   "source": [
    "# Stop words"
   ]
  },
  {
   "cell_type": "code",
   "execution_count": 65,
   "metadata": {},
   "outputs": [],
   "source": [
    "#Create copy to new df data_rm_sw as in data removed stopwords\n",
    "data_es_rm = data_with_playernames.copy()\n",
    "\n",
    "#Load stopwords\n",
    "#nltk.download('stopwords')\n",
    "spanish_stopwords = stopwords.words('spanish')\n"
   ]
  },
  {
   "cell_type": "code",
   "execution_count": 66,
   "metadata": {},
   "outputs": [
    {
     "data": {
      "text/plain": [
       "0     nMercado fichajes fútbol, directonAdeyemi firm...\n",
       "1     Con primer mes 2023 concluir algarabía intacta...\n",
       "2     DeportesnGustavo Puerta no jugará Bayer Leverk...\n",
       "3     Dólar bluenAlberto FernándeznMauricio MacrinIN...\n",
       "4     Dólar bluenAlberto FernándeznMauricio MacrinIN...\n",
       "                            ...                        \n",
       "52    Piero Hincapié der partido Bayer Leverkusen Mó...\n",
       "53    Piero Hincapié centro Félix Torres tratan marc...\n",
       "54    El DT Ecuador Gustavo Alfaro, partido Países B...\n",
       "55    Eche vistazo versión beta dwcom Y no Su opinió...\n",
       "56    El español Andoni Bombín anunciado jueves 2 fe...\n",
       "Name: data, Length: 229, dtype: object"
      ]
     },
     "execution_count": 66,
     "metadata": {},
     "output_type": "execute_result"
    }
   ],
   "source": [
    "# Create a list of stop words to remove \n",
    "stop_words_to_remove = ['ni', 'no']\n",
    "\n",
    "# Remove the stop words to remove from the stop words list\n",
    "for word in stop_words_to_remove:\n",
    "  spanish_stopwords.remove(word)\n",
    "\n",
    "# Define a function to apply remove_stopwords on a column\n",
    "def remove_stopwords_from_text(text):\n",
    "    return remove_stopwords(text, stopwords=spanish_stopwords)\n",
    "\n",
    "# Apply the remove_stopwords function to the 'text' column using the apply method\n",
    "data_es_rm['data'] = data_es_rm['data'].apply(remove_stopwords_from_text)\n",
    "data_es_rm['data']\n"
   ]
  },
  {
   "cell_type": "markdown",
   "metadata": {},
   "source": [
    "# More removals"
   ]
  },
  {
   "cell_type": "code",
   "execution_count": 70,
   "metadata": {},
   "outputs": [],
   "source": [
    "# strip_numeric -> removing digits (https://gensimr.news-r.org/reference/strip_numeric.html)\n",
    "data_es_rm['data'] = data_es_rm['data'].apply(strip_numeric)\n",
    "\n",
    "# strip_punctutation -> removing punctations (https://gensimr.news-r.org/reference/strip_punctuation.html)\n",
    "data_es_rm['data'] = data_es_rm['data'].apply(strip_punctuation)\n",
    "\n",
    "# strip multiple whitespaces also \\n -> (https://radimrehurek.com/gensim/parsing/preprocessing.html#gensim.parsing.preprocessing.strip_multiple_whitespaces)\n",
    "data_es_rm['data'] = data_es_rm['data'].apply(strip_multiple_whitespaces)\n",
    "\n",
    "# Convert text to lowercase\n",
    "data_es_rm['data'] = data_es_rm['data'].str.lower()\n",
    "\n",
    "\n",
    "# Reset index\n",
    "data_es_rm.reset_index(drop=True, inplace=True)\n",
    "\n"
   ]
  },
  {
   "cell_type": "code",
   "execution_count": 73,
   "metadata": {},
   "outputs": [
    {
     "name": "stdout",
     "output_type": "stream",
     "text": [
      "dólar bluenalberto fernándeznmauricio macrinindecnharvardnboca vs colo colonfin mundonenfrentamiento barrasnfneclipse lunarnhoróscopo hoynnsuscribite nsuscribite ningresarntito lescanona casi dos meses coronación selección argentina mundial qatarxaubde mano lionel messi xala alegría sigue siendo constante integrantes sigschool marca indumentaria haedo diego maradona popularizó utilizar remeras últimas recordadas entrevistas televisivasnla felicidad familia hace marca argentinos tal yair pombar define invención cuenta eslogan barrio va allá nueva conquista copa mundo lionel messi compañía consumaron medio orientenen caso satisfacción ver llegada productos emprendimiento seno mismísima albiceleste es integrantes delegación nacional obtuvo tercera estrella hace tiempo lucen pilcha made in morón caracteriza homenajear honrar ídolos populares personalidades destacadas deporte cultura artenel presidente afa claudio chiqui tapia integrante cuerpo técnico mano derecha dt lionel scaloni pablo aimar volantes leandro paredes exequiel palacios caso posaron obsequios realizó propio titular sigschool viajó parís previa mundial entregarle mano lionel messi varios artículos producción y así cumplir sueñosnnosotros fabricamos remeras grupo hinchas siguen selección lados pibe hablaba foto perfil leo le pregunté onda dijo conocido parís me contó re buena onda hablé amigo justo viajaba visitar hermano francia saqué pasaje yo ganas conociera marca cuenta pombar quienxareparte tiempo familia amigos visitas locales haedo avenida rivadavia encuentra sede central caseros merlo san martín microcentronpara lograr propósito joven debió montar suerte guardia inmediaciones casa capitán selección después unas cuatro horas logró conocer messinel hombre seguridad revisó ropa sacó fotos pidió nombres nos dijo messi bueno si quería iba recibir si decía no no iba dejarnos pasar cuando llegó leo sexabajó camioneta miró rió nos dijo vengan y cruzamos calle recuerda pombar revela no desespera ver alguno modelos remeras entregóntodavía no apareció ninguna foto ni mi sueño darle ropa recibaxay decirle gracias si usa bienvenido y sino agradecerle dio es sueño conocerlo le llevé modelos viajé kilos volví valija vacía le dejé toda ropa él antonela hijos indicany agrega salió puntosxale di cosas agradecí no quebréxael perfecto xame agradeció es humilde le conté ido argentina sueñonen tanto postal trascendió tapia posando junto prendas firma haedense a gilada ni cabida reza leyenda remera máxima autoridad fútbol doméstico recibió enero predio afa ezeiza la elección frase popularmente utilizada barriadas no casualidad refleja virtud hacer oídos sordos críticas cuestionamientos circunstancias dirigente atravesó hace años llegó sillón presidencia y lógicamente conquista mundialnse hice llegar lado me parecióxauna frase justa matado lados diciendo cosas quedaba anillo dedo reveló pombar reveló presidente afa agradeció obsequio videonparedes parte recibió gorros medias remeras nochebuena pasada a tan sólo semana conquista copa mundo suelo nacional volante recibió dueño sigschool hacerse respectivo regalo fue diciembre un amigo común preguntó si conocía alguien venda réplicas copa mundo paredes quería tener casa iba recibir familiares y justo dos así llevé aproveché llevé cosas marca me recibió mejor llegué volví tipo casa dice pombarnel momento aimar fotografiado indumentaria marca haedo similar tapia aunque previa obtención título mundial el ayudante scaloni posó predio afa remera blanca imagen maradona alzando copa captura histórica mundial méxico máxima barrio patria emprender viaje hacia qatar la prenda acercó revendedor firmancabe señalar tucumano palacios sido primer jugador plantel campeón mundo ser agasajado indumentaria local regalaron remera imagen koli arce cantante cumbia santiagueña grandes ídolos movida tropical meses pisar suelo asiático terminar celebrando nuevo títulonse llevé la vio dejó puesta el vacaciones argentina noche tropitango bailable reconocido boliche zona norte gba remera precisa yair asoció hermano nahuel confección lasxaremeras bermudas gorros medias buzos furor conurbano visten campeones mundontemas que aparecen en esta notancomentariosncomentar notas clarín exclusivo suscriptoresnsuscribite comentarnya suscripciónnla resurrección boca almirón ganó colo colo chile quedó líder copa libertadoresnasí fin mundo captan primera vez momento estrella devora planetancreían velaban cremaban padre persona cobrarán indemnizaciónncómo cuánto cuesta convertir eléctrico auto motor combustiónnluna llena escorpio eclipse lunar mayo cómo afecta cada signonguardianes galaxia vol fiestannewsletter clarinnlo tenes sabernlas noticias importantes día leer desayunonlo leído díanenterate habló hoy no quedarte afuera mundonpiedras caba argentinanresponsable ricardo kirschbaumnregistro propiedad intelectual nedición nº mayo nya sos suscriptor clarínnsuscribite npropietario arte gráfico editorial argentino sa claríncom clarín digital nlee edición papel\n"
     ]
    }
   ],
   "source": [
    "print(data_es_rm.loc[3, 'data'])"
   ]
  },
  {
   "cell_type": "code",
   "execution_count": null,
   "metadata": {},
   "outputs": [],
   "source": []
  }
 ],
 "metadata": {
  "kernelspec": {
   "display_name": "Python 3.9.6 64-bit",
   "language": "python",
   "name": "python3"
  },
  "language_info": {
   "codemirror_mode": {
    "name": "ipython",
    "version": 3
   },
   "file_extension": ".py",
   "mimetype": "text/x-python",
   "name": "python",
   "nbconvert_exporter": "python",
   "pygments_lexer": "ipython3",
   "version": "3.9.6"
  },
  "orig_nbformat": 4,
  "vscode": {
   "interpreter": {
    "hash": "31f2aee4e71d21fbe5cf8b01ff0e069b9275f58929596ceb00d14d90e3e16cd6"
   }
  }
 },
 "nbformat": 4,
 "nbformat_minor": 2
}
