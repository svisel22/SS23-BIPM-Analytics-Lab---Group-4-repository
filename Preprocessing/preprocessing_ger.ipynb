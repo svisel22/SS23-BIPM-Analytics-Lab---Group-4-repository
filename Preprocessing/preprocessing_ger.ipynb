{
 "cells": [
  {
   "cell_type": "code",
   "execution_count": 1,
   "metadata": {},
   "outputs": [
    {
     "name": "stdout",
     "output_type": "stream",
     "text": [
      "\u001b[33mDEPRECATION: Configuring installation scheme with distutils config files is deprecated and will no longer work in the near future. If you are using a Homebrew or Linuxbrew Python, please see discussion at https://github.com/Homebrew/homebrew-core/issues/76621\u001b[0m\u001b[33m\n",
      "\u001b[0mRequirement already satisfied: scikit-learn in /opt/homebrew/lib/python3.9/site-packages (1.2.2)\n",
      "Requirement already satisfied: numpy>=1.17.3 in /opt/homebrew/lib/python3.9/site-packages (from scikit-learn) (1.24.3)\n",
      "Requirement already satisfied: scipy>=1.3.2 in /opt/homebrew/lib/python3.9/site-packages (from scikit-learn) (1.10.1)\n",
      "Requirement already satisfied: joblib>=1.1.1 in /opt/homebrew/lib/python3.9/site-packages (from scikit-learn) (1.2.0)\n",
      "Requirement already satisfied: threadpoolctl>=2.0.0 in /opt/homebrew/lib/python3.9/site-packages (from scikit-learn) (3.1.0)\n",
      "\u001b[33mDEPRECATION: Configuring installation scheme with distutils config files is deprecated and will no longer work in the near future. If you are using a Homebrew or Linuxbrew Python, please see discussion at https://github.com/Homebrew/homebrew-core/issues/76621\u001b[0m\u001b[33m\n",
      "\u001b[0mNote: you may need to restart the kernel to use updated packages.\n"
     ]
    }
   ],
   "source": [
    "%pip install scikit-learn\n"
   ]
  },
  {
   "cell_type": "code",
   "execution_count": 2,
   "metadata": {},
   "outputs": [],
   "source": [
    "import pandas as pd\n",
    "import re\n",
    "from nltk.corpus import stopwords\n",
    "from sklearn.feature_extraction.text import CountVectorizer\n",
    "from gensim.parsing.preprocessing import STOPWORDS, strip_tags, strip_numeric, strip_punctuation, strip_multiple_whitespaces, remove_stopwords, strip_short, stem_text\n",
    "import numpy as np\n",
    "import sys\n",
    "sys.path.append('../')\n",
    "from utils import remove_similar_rows,remove_similar_rows_per_player, find_lines_with_player, del_patterns\n"
   ]
  },
  {
   "cell_type": "code",
   "execution_count": 3,
   "metadata": {},
   "outputs": [],
   "source": [
    "url = 'https://raw.githubusercontent.com/svisel22/SS23-BIPM-Analytics-Lab---Group-4-repository/main/data_files/all_data_v3.csv'\n",
    "df = pd.read_csv(url)\n"
   ]
  },
  {
   "cell_type": "code",
   "execution_count": 4,
   "metadata": {},
   "outputs": [],
   "source": [
    "# Filter out the German data and reindex\n",
    "df_ger = df[df[\"language\"] == \"de\"]\n",
    "df_ger = df_ger.reset_index(drop=True)"
   ]
  },
  {
   "cell_type": "code",
   "execution_count": 5,
   "metadata": {},
   "outputs": [],
   "source": [
    "df = remove_similar_rows_per_player(df_ger, df_ger['player'].unique())\n"
   ]
  },
  {
   "cell_type": "code",
   "execution_count": 6,
   "metadata": {},
   "outputs": [],
   "source": [
    "# Remove the similiar rows (The Function is imported from utils on top)\n",
    "\n",
    "data_lower = df.copy()\n",
    "\n",
    "data_lower['data'] = data_lower['data'].str.lower()\n",
    "data_lower['player'] = data_lower['player'].str.lower()\n",
    "data_lower.head()\n",
    "\n",
    "data_wo_pattern = data_lower.copy()\n",
    "\n",
    "data_wo_pattern['data'] = data_wo_pattern['data'].apply(lambda x: re.sub(r\"^{\\'content\\': \\'\", \"\", str(x)))\n",
    "data_wo_pattern['data'] = data_wo_pattern['data'].apply(lambda x: re.sub(r\"\\\\nAdvertisement\\\\nAdvertisement\\\\nAdvertisement|nutze kicker'\\}$\", \"\", str(x)))\n"
   ]
  },
  {
   "cell_type": "code",
   "execution_count": 7,
   "metadata": {},
   "outputs": [],
   "source": [
    "pattern = ['nutze kicker', 'mit dem', 'nur €2,49', 'bereits pur-abonnent?', 'alle antworten', 'hinweis zur verarbeitung']"
   ]
  },
  {
   "cell_type": "code",
   "execution_count": 8,
   "metadata": {},
   "outputs": [],
   "source": [
    "data_wo_pattern['data'] = data_wo_pattern['data'].apply(lambda x: del_patterns(str(x), pattern))                                                      "
   ]
  },
  {
   "cell_type": "code",
   "execution_count": 9,
   "metadata": {},
   "outputs": [
    {
     "data": {
      "text/plain": [
       "'werbung und tracking: um dir relevante inhalte und personalisierte werbung anzubieten, setzen wir cookies und andere technologien ein. damit messen wir, wie und womit du unsere angebote nutzt. diese daten geben wir auch an dritte weiter. wir greifen dabei auf dein endgerät zu, speichern cookies oder sonstige informationen und wir oder dritte können mit diesen sowie mit persönlichen identifikatoren (z.b. geräte-kennungen oder ip-adressen) und basierend auf deinem individuellen nutzungsverhalten ...sechser droht nach viereinhalb monaten pause bitterer abschied aus leverkusenanfangs rechnete man bei bayer 04 mit ein paar wochen ausfallzeit für charles aranguiz. doch nach nun viereinhalb monaten pause ist eine rückkehr des strategen immer noch nicht absehbar. der chilene, der ab dem sommer in brasilien spielen wird, steht vor einem bitteren abschied.mitte oktober spielte charles aranguiz zuletzt für bayer.\\\\r\\\\r                                        imago/jan huebneres war \"nur\" ein muskelfaserriss, den charles aranguiz mitte oktober bei der 1:5-niederlage von bayer 04 bei eintracht frankfurt erlitt.  doch die nachwirkungen dieser verletzung sind für den chronisch an patella- und achillessehnenproblemen leidenden mittelfeldspieler dramatisch.mehr als viereinhalb monaten kämpft der 33-jährige inzwischen um sein comeback. diverse versuche auf den platz zurückzukehren, wie zum beispiel anfang dezember und vor ein paar wochen, schlugen fehl. immer wieder musste der chilenische nationalspieler zurück in die reha.und die aussagen von xabi alonso über den profi, der seit acht jahren das trikot von bayer 04 trägt, sind alles andere als mut machend. \"wir wissen nicht, wie lange er noch verletzt ist\", sagte der trainer am freitag, \"es ist nicht klar, wann er wieder mit der mannschaft trainieren kann.\"prognosen möchte niemand abgeben, wann und ob es für aranguiz in leverkusen nochmal für einen einsatz reicht, der im sommer zu seinem brasilianischen ex-klub internacional porto alegre zurückkehren wird. \"er hatte nochmal ein problem. er ist in dem prozess, dass es besser wird, aber für mich ist es schwer zu sagen, wann er trainieren kann\", zeigt sich auch xabi alonso ratlos.aranguiz, in bestform immer ein schlüsselspieler bei bayer 04, droht immer konkreter ein bitterer abschied aus leverkusen. \"hoffentlich kann er nochmal für uns spielen bis zum ende der saison\", wünscht sich sein trainer. doch dass der defensive mittelfeldspieler nochmal ein echter faktor wird, ist nahezu undenkbar.dafür erscheint seine verletzungspause schon zu lang. zudem ist die konkurrenzsituation auf der doppelsechs gegen die seit woche voll im saft stehenden exequiel palacios, nadiem amiri, kerem demirbay und robert andrich unter diesen voraussetzungen eine extrem schwierige für aranguiz.zumal auch der zuletzt aufgrund der personellen engpässe in der innenverteidigung zentral in der abwehrkette eingesetzte andrich künftig weiter im mittelfeld auflaufen dürfte. auch wenn xabi alonso das vorrücken des 28-jährigen auf die sechs am sonntag gegen hertha bsc nicht als sicher einstufen möchte.\"nein, das ist nicht klar. er kann in dieser position (in der abwehr, anm. d. red.) spielen. das ist gut. es war am sonntag ein experiment. aber es gab dann den beweis, dass er die rolle gut spielen kann. es ist gut, manchmal diese möglichkeit zu haben\", erklärte der trainer, \"es ist auch für sonntag eine gute möglichkeit.\"wohl nicht mehr als das übliche versteckspiel vor einer partie. sicher ist auf jeden fall: andrich wird immer seinen platz im team finden. für aranguiz erscheint dies als ein in dieser saison unerreichbarer status.stephan von nocksweitere angebote des olympia-verlags:\\'}'"
      ]
     },
     "execution_count": 9,
     "metadata": {},
     "output_type": "execute_result"
    }
   ],
   "source": [
    "data_wo_pattern['data'].iloc[1]"
   ]
  },
  {
   "attachments": {},
   "cell_type": "markdown",
   "metadata": {},
   "source": [
    "## Find sentences with Playername"
   ]
  },
  {
   "cell_type": "code",
   "execution_count": 11,
   "metadata": {},
   "outputs": [],
   "source": [
    "data_with_playernames = find_lines_with_player(data_wo_pattern, data_wo_pattern['player'].unique())"
   ]
  },
  {
   "cell_type": "code",
   "execution_count": 12,
   "metadata": {},
   "outputs": [
    {
     "data": {
      "text/html": [
       "<div>\n",
       "<style scoped>\n",
       "    .dataframe tbody tr th:only-of-type {\n",
       "        vertical-align: middle;\n",
       "    }\n",
       "\n",
       "    .dataframe tbody tr th {\n",
       "        vertical-align: top;\n",
       "    }\n",
       "\n",
       "    .dataframe thead th {\n",
       "        text-align: right;\n",
       "    }\n",
       "</style>\n",
       "<table border=\"1\" class=\"dataframe\">\n",
       "  <thead>\n",
       "    <tr style=\"text-align: right;\">\n",
       "      <th></th>\n",
       "      <th>data</th>\n",
       "      <th>player</th>\n",
       "      <th>language</th>\n",
       "      <th>publishedAt</th>\n",
       "    </tr>\n",
       "  </thead>\n",
       "  <tbody>\n",
       "    <tr>\n",
       "      <th>0</th>\n",
       "      <td>trainer xabi alonso vor den mitgereisten fans ...</td>\n",
       "      <td>exequiel palacios</td>\n",
       "      <td>de</td>\n",
       "      <td>2023-02-24T09:33:31Z</td>\n",
       "    </tr>\n",
       "    <tr>\n",
       "      <th>1</th>\n",
       "      <td>nutze kicker auf seinen digitalen plattformen ...</td>\n",
       "      <td>exequiel palacios</td>\n",
       "      <td>de</td>\n",
       "      <td>2023-03-03T21:35:13Z</td>\n",
       "    </tr>\n",
       "    <tr>\n",
       "      <th>2</th>\n",
       "      <td>nutze kicker auf seinen digitalen plattformen ...</td>\n",
       "      <td>exequiel palacios</td>\n",
       "      <td>de</td>\n",
       "      <td>2023-03-07T11:34:39Z</td>\n",
       "    </tr>\n",
       "    <tr>\n",
       "      <th>3</th>\n",
       "      <td>mitchel bakker am mittwoch im abschluss-traini...</td>\n",
       "      <td>exequiel palacios</td>\n",
       "      <td>de</td>\n",
       "      <td>2023-03-08T14:25:18Z</td>\n",
       "    </tr>\n",
       "    <tr>\n",
       "      <th>4</th>\n",
       "      <td>© g+j medien gmbh</td>\n",
       "      <td>exequiel palacios</td>\n",
       "      <td>de</td>\n",
       "      <td>2023-03-09T19:36:53Z</td>\n",
       "    </tr>\n",
       "    <tr>\n",
       "      <th>...</th>\n",
       "      <td>...</td>\n",
       "      <td>...</td>\n",
       "      <td>...</td>\n",
       "      <td>...</td>\n",
       "    </tr>\n",
       "    <tr>\n",
       "      <th>21</th>\n",
       "      <td>{'content': \"der sc freiburg und bayer leverku...</td>\n",
       "      <td>piero hincapié</td>\n",
       "      <td>de</td>\n",
       "      <td>2023-02-26T16:28:57Z</td>\n",
       "    </tr>\n",
       "    <tr>\n",
       "      <th>22</th>\n",
       "      <td>ein monaco-betreuer packt sardar azmoun (l.) a...</td>\n",
       "      <td>piero hincapié</td>\n",
       "      <td>de</td>\n",
       "      <td>2023-02-22T16:59:33Z</td>\n",
       "    </tr>\n",
       "    <tr>\n",
       "      <th>23</th>\n",
       "      <td>leverkusens torwart lukas hradecky sitzt fluch...</td>\n",
       "      <td>piero hincapié</td>\n",
       "      <td>de</td>\n",
       "      <td>2023-02-17T17:14:46Z</td>\n",
       "    </tr>\n",
       "    <tr>\n",
       "      <th>24</th>\n",
       "      <td>das wichtigstetut es in der kollektivität aber...</td>\n",
       "      <td>piero hincapié</td>\n",
       "      <td>de</td>\n",
       "      <td>2023-02-17T08:56:42Z</td>\n",
       "    </tr>\n",
       "    <tr>\n",
       "      <th>25</th>\n",
       "      <td>warum sehe ich faz.net nicht?vor allem monacos...</td>\n",
       "      <td>piero hincapié</td>\n",
       "      <td>de</td>\n",
       "      <td>2023-02-17T07:51:22Z</td>\n",
       "    </tr>\n",
       "  </tbody>\n",
       "</table>\n",
       "<p>455 rows × 4 columns</p>\n",
       "</div>"
      ],
      "text/plain": [
       "                                                 data             player   \n",
       "0   trainer xabi alonso vor den mitgereisten fans ...  exequiel palacios  \\\n",
       "1   nutze kicker auf seinen digitalen plattformen ...  exequiel palacios   \n",
       "2   nutze kicker auf seinen digitalen plattformen ...  exequiel palacios   \n",
       "3   mitchel bakker am mittwoch im abschluss-traini...  exequiel palacios   \n",
       "4                                   © g+j medien gmbh  exequiel palacios   \n",
       "..                                                ...                ...   \n",
       "21  {'content': \"der sc freiburg und bayer leverku...     piero hincapié   \n",
       "22  ein monaco-betreuer packt sardar azmoun (l.) a...     piero hincapié   \n",
       "23  leverkusens torwart lukas hradecky sitzt fluch...     piero hincapié   \n",
       "24  das wichtigstetut es in der kollektivität aber...     piero hincapié   \n",
       "25  warum sehe ich faz.net nicht?vor allem monacos...     piero hincapié   \n",
       "\n",
       "   language           publishedAt  \n",
       "0        de  2023-02-24T09:33:31Z  \n",
       "1        de  2023-03-03T21:35:13Z  \n",
       "2        de  2023-03-07T11:34:39Z  \n",
       "3        de  2023-03-08T14:25:18Z  \n",
       "4        de  2023-03-09T19:36:53Z  \n",
       "..      ...                   ...  \n",
       "21       de  2023-02-26T16:28:57Z  \n",
       "22       de  2023-02-22T16:59:33Z  \n",
       "23       de  2023-02-17T17:14:46Z  \n",
       "24       de  2023-02-17T08:56:42Z  \n",
       "25       de  2023-02-17T07:51:22Z  \n",
       "\n",
       "[455 rows x 4 columns]"
      ]
     },
     "execution_count": 12,
     "metadata": {},
     "output_type": "execute_result"
    }
   ],
   "source": [
    "data_with_playernames"
   ]
  },
  {
   "cell_type": "code",
   "execution_count": 13,
   "metadata": {},
   "outputs": [],
   "source": [
    "data_with_playernames = find_lines_with_player(data_wo_pattern, data_wo_pattern['player'].unique(), n_lines=5)"
   ]
  },
  {
   "cell_type": "code",
   "execution_count": 14,
   "metadata": {},
   "outputs": [
    {
     "data": {
      "text/plain": [
       "'trainer xabi alonso vor den mitgereisten fans in monacoglücksmoment! exequiel palacios hebt nach seinem tor zum 2:1 abnach dem euro-highlight geht es in der bundesliga am sonntag (15.30 uhr) beim sc freiburg weiter.„wir kennen freiburg. sie haben gerade einen sehr guten moment, sie spielen mit einer hohen intensität, ähnlich wie mainz. vielleicht war das spiel gegen mainz eine gute schule für uns für das freiburg-spiel“, sagt alonso.der bayer-tross bleibt noch einen tag in monaco, samstag um 12 uhr fliegt das team dann nach basel und trainiert anschließend in freiburg.wegen leverkusens strafstoß-krise? freche elfer-aktion von mainz-torwart!'"
      ]
     },
     "execution_count": 14,
     "metadata": {},
     "output_type": "execute_result"
    }
   ],
   "source": [
    "data_with_playernames['data'].iloc[0]"
   ]
  },
  {
   "cell_type": "code",
   "execution_count": 15,
   "metadata": {},
   "outputs": [],
   "source": [
    "data_rm = data_with_playernames.copy()\n",
    "\n",
    "# strip_numeric -> removing digits (https://gensimr.news-r.org/reference/strip_numeric.html)\n",
    "data_rm['data'] = data_rm['data'].apply(strip_numeric)\n",
    "\n",
    "# strip_punctutation -> removing punctations (https://gensimr.news-r.org/reference/strip_punctuation.html)\n",
    "data_rm['data'] = data_rm['data'].apply(strip_punctuation)\n",
    "\n",
    "# strip multiple whitespaces also \\n -> (https://radimrehurek.com/gensim/parsing/preprocessing.html#gensim.parsing.preprocessing.strip_multiple_whitespaces)\n",
    "data_rm['data'] = data_rm['data'].apply(strip_multiple_whitespaces)"
   ]
  },
  {
   "cell_type": "code",
   "execution_count": 16,
   "metadata": {},
   "outputs": [
    {
     "data": {
      "text/plain": [
       "'mit einem späten tor hat joker sven michel dem fc union berlin in einem mitreißenden achtelfinal hinspiel der europa league ein unentschieden gerettet und die chancen auf das weiterkommen deutlich verbessert die berliner taten sich gegen royale union saint gilloise im heimischen stadion an der alten försterei erneut schwer und kamen am ende zu einem vor zuschauern schossen victor boniface und minute und yorbe vertessen die gäste dreimal in führung josip juranovic robin knoche und michel erzielten die jeweiligen ausgleichstore den fußball bundesligisten der comeback qualitäten bewies auf dem platz gab aber zunächst bayer den ton an dass demirbay das frühe führungstor mit einem schönen rechtsschuss aus metern erzielte konnte man mit dem attribut „ausgerechnet“ versehen denn der ex nationalspieler ist unter alonso kaum gefragt und bei der aufstellung mit ihm und amiri als doppel sechs hatte so manchen bayer fan eine unschöne erinnerung ereilt ein einziges mal hatten die beiden ex hoffenheimer zuvor vor der abwehr zusammengespielt dabei hatte es im oktober ein zu hause gegen den fc bayern gegeben allerdings waren in robert andrich und dem argentinischen weltmeister exequiel palacios beide stamm sechser gesperrt charles aranguiz ist zudem verletzt am donnerstag machten sie ihre sache zumindest ordentlich die ungarn tauchten erst in der minute vor dem leverkusener tor auf das aber sehr gefährlich kristoffer zachariassen lupfte den ball aus sieben metern über den herausstürmenden bayer keeper lukas hradecky – aber an die latte dieses ausrufezeichen gab budapest rückenwind bis zur pause hielt der überlegene tabellenführer der ungarischen liga das spiel offen und auch danach agierten beide teams weitgehend auf augenhöhe ehe kurz vor schluss bayer doch noch das so wichtige zweite tor gelang der eingewechselte adam hlouzek setzte zunächst einen freistoß aus metern an die latte den abpraller köpfte tapsoba ins tor weltmeister ángel di maría hat den sc freiburg im achtelfinal hinspiel der europa league um eine mögliche überraschung gebracht der argentinier war bei der niederlage des fußball bundesligisten bei juventus turin am donnerstag der auffälligste mann auf dem platz und erzielte in der minute den entscheidenden treffer die badener zeigten eine couragierte offensiv über weite strecken aber harmlose vorstellung ihr vermeintlicher ausgleich durch lucas höler wurde wegen eines vorangegangenen handspiels aberkannt dennoch ist die ausgangslage des sc vor dem rückspiel gegen italiens rekordmeister in der kommenden woche noch passabel im größten internationalen spiel der freiburger vereinsgeschichte blieb sich christian streich treu mit jacke und pullover statt feinem designer anzug stand der langjährige erfolgscoach an der seitenlinie und genauso unaufgeregt agierte bei prickelnder atmosphäre im mit zuschauern gut gefüllten juventus stadion auch seine mannschaft die freiburger zeigten keine angst vor den großen namen um den wirbelnden offensivstar di maría auch wenn es phasenweise – wie gleich am anfang – ungemütlich wurde unterstützt wurde der sc von rund anhängern es wären noch weit mehr geworden hätten die italiener die karten nicht storniert die sich freiburger fans über eine kurzfristig abgeschlossene juve mitgliedschaft organisiert hatten kleinere sc fangruppen fanden sich letztlich trotzdem auch außerhalb des gästebereichs bei einer chance des französischen vize weltmeisters adrien rabiot hatte sc keeper mark flekken noch glück die freistöße von juan cuadrado und dusan vlahovic waren indes keine große prüfung brenzlig wurde es aber als flekken eine scharfe ecke von di maría unterlief der brasilianer bremer verpasste aber die führung per kopf erst gegen ende der ersten halbzeit schaffte der bundesliga fünfte mehr entlastung und mal längere ballbesitzphasen ehe cuadrado noch einmal flekken prüfte '"
      ]
     },
     "execution_count": 16,
     "metadata": {},
     "output_type": "execute_result"
    }
   ],
   "source": [
    "data_rm['data'].iloc[6]"
   ]
  },
  {
   "cell_type": "code",
   "execution_count": 17,
   "metadata": {},
   "outputs": [],
   "source": [
    "german_stop_words = stopwords.words('german')\n",
    "\n",
    "# Create a list of stop words to remove \n",
    "stop_words_to_remove = ['nicht', 'nichts']\n",
    "\n",
    "stop_words_to_add = ['vor', 'in', 'den', 'dem', 'beim', 'wir', 'der', 'ist','ende', 'seite', 'ersten', 'fürs', 'eh', 'blick', 'schon', 'zumal', 'erst', 'mal', 'bild', 't']\n",
    "\n",
    "# Remove the stop words to remove from the stop words list\n",
    "for word in stop_words_to_remove:\n",
    "  german_stop_words.remove(word)\n",
    "\n",
    "german_stop_words.append(stop_words_to_add)\n",
    "\n",
    "# Define a function to apply remove_stopwords on a column\n",
    "def remove_stopwords_from_text(text):\n",
    "    return remove_stopwords(text, stopwords=german_stop_words)\n",
    "\n",
    "# Apply the remove_stopwords function to the 'text' column using the apply method\n",
    "data_rm['data'] = data_rm['data'].apply(remove_stopwords_from_text)\n"
   ]
  },
  {
   "attachments": {},
   "cell_type": "markdown",
   "metadata": {},
   "source": [
    "## Pattern Regex\n"
   ]
  },
  {
   "cell_type": "code",
   "execution_count": 18,
   "metadata": {},
   "outputs": [],
   "source": [
    "patternlist = [\n",
    "    r'^\\s*nutze kicker.*?\\.',\n",
    "    r'^\\s*die zustimmung.*?\\.',\n",
    "    r'^\\s*details zu werbe-.*?\\.',\n",
    "    r'^\\s*\\\\nmit dem.*?\\.',\n",
    "    r'^\\s*\\\\nnur €2,49.*?\\.',\n",
    "    r'^\\s*\\\\nbereits pur-.*?\\.',\n",
    "    r'^\\s*\\\\nalle antworten.*?\\.',\n",
    "    r'^\\s*\\\\nwerbung.*?\\.',\n",
    "    r'^\\s*damit messen.*?\\.',\n",
    "    r'^\\s*diese daten .*?\\.', \n",
    "    r'^\\s*wir greifen .*?\\.', \n",
    "    r'^\\s*b..*?\\.', \n",
    "    r'^\\s*\\\\nhinweis.*?\\.',\n",
    "    r'^\\s*..\\\\nhinweis.*?\\.',\n",
    "    r'^\\s*die usa.*?\\.',\n",
    "    r'^\\s*es besteht.*?\\.',\n",
    "    r'^\\s*© g+j.*?\\.',\n",
    "    r'^\\s*\\\\nweitere angebote.*?\\.',\n",
    "    r'^\\s*services:.*?\\.',\n",
    "    r'^\\s*warum sehe.*?\\.',\n",
    "    r'^\\s*net sehe.*?\\.',\n",
    "    # add more patterns here\n",
    "]"
   ]
  },
  {
   "cell_type": "code",
   "execution_count": 19,
   "metadata": {},
   "outputs": [],
   "source": [
    "#data_wo_pattern['data'] = data_wo_pattern['data'].apply(lambda x: str(x).replace('\\\\n', ' \\\\n '))\n",
    "\n",
    "for pattern in patternlist:\n",
    "\n",
    "    data_wo_pattern['data'] = data_wo_pattern['data'].apply(lambda x: re.sub(pattern, \"\", str(x), flags=re.M))\n",
    "\n"
   ]
  },
  {
   "cell_type": "code",
   "execution_count": 20,
   "metadata": {},
   "outputs": [
    {
     "data": {
      "text/plain": [
       "'\\\\nsechser droht nach viereinhalb monaten pause bitterer abschied aus leverkusen\\\\nanfangs rechnete man bei bayer 04 mit ein paar wochen ausfallzeit für charles aranguiz. doch nach nun viereinhalb monaten pause ist eine rückkehr des strategen immer noch nicht absehbar. der chilene, der ab dem sommer in brasilien spielen wird, steht vor einem bitteren abschied.\\\\nmitte oktober spielte charles aranguiz zuletzt für bayer.\\\\r\\\\n\\\\r\\\\n                                        imago/jan huebner\\\\nes war \"nur\" ein muskelfaserriss, den charles aranguiz mitte oktober bei der 1:5-niederlage von bayer 04 bei eintracht frankfurt erlitt.  doch die nachwirkungen dieser verletzung sind für den chronisch an patella- und achillessehnenproblemen leidenden mittelfeldspieler dramatisch.\\\\nmehr als viereinhalb monaten kämpft der 33-jährige inzwischen um sein comeback. diverse versuche auf den platz zurückzukehren, wie zum beispiel anfang dezember und vor ein paar wochen, schlugen fehl. immer wieder musste der chilenische nationalspieler zurück in die reha.\\\\nund die aussagen von xabi alonso über den profi, der seit acht jahren das trikot von bayer 04 trägt, sind alles andere als mut machend. \"wir wissen nicht, wie lange er noch verletzt ist\", sagte der trainer am freitag, \"es ist nicht klar, wann er wieder mit der mannschaft trainieren kann.\"\\\\nprognosen möchte niemand abgeben, wann und ob es für aranguiz in leverkusen nochmal für einen einsatz reicht, der im sommer zu seinem brasilianischen ex-klub internacional porto alegre zurückkehren wird. \"er hatte nochmal ein problem. er ist in dem prozess, dass es besser wird, aber für mich ist es schwer zu sagen, wann er trainieren kann\", zeigt sich auch xabi alonso ratlos.\\\\naranguiz, in bestform immer ein schlüsselspieler bei bayer 04, droht immer konkreter ein bitterer abschied aus leverkusen. \"hoffentlich kann er nochmal für uns spielen bis zum ende der saison\", wünscht sich sein trainer. doch dass der defensive mittelfeldspieler nochmal ein echter faktor wird, ist nahezu undenkbar.\\\\ndafür erscheint seine verletzungspause schon zu lang. zudem ist die konkurrenzsituation auf der doppelsechs gegen die seit woche voll im saft stehenden exequiel palacios, nadiem amiri, kerem demirbay und robert andrich unter diesen voraussetzungen eine extrem schwierige für aranguiz.\\\\nzumal auch der zuletzt aufgrund der personellen engpässe in der innenverteidigung zentral in der abwehrkette eingesetzte andrich künftig weiter im mittelfeld auflaufen dürfte. auch wenn xabi alonso das vorrücken des 28-jährigen auf die sechs am sonntag gegen hertha bsc nicht als sicher einstufen möchte.\\\\n\"nein, das ist nicht klar. er kann in dieser position (in der abwehr, anm. d. red.) spielen. das ist gut. es war am sonntag ein experiment. aber es gab dann den beweis, dass er die rolle gut spielen kann. es ist gut, manchmal diese möglichkeit zu haben\", erklärte der trainer, \"es ist auch für sonntag eine gute möglichkeit.\"\\\\nwohl nicht mehr als das übliche versteckspiel vor einer partie. sicher ist auf jeden fall: andrich wird immer seinen platz im team finden. für aranguiz erscheint dies als ein in dieser saison unerreichbarer status.\\\\nstephan von nocks\\\\nweitere angebote des olympia-verlags:\\'}'"
      ]
     },
     "execution_count": 20,
     "metadata": {},
     "output_type": "execute_result"
    }
   ],
   "source": [
    "data_wo_pattern['data'].iloc[1]"
   ]
  },
  {
   "attachments": {},
   "cell_type": "markdown",
   "metadata": {},
   "source": [
    "## Stopwords"
   ]
  },
  {
   "cell_type": "code",
   "execution_count": null,
   "metadata": {},
   "outputs": [],
   "source": [
    "\n"
   ]
  },
  {
   "cell_type": "code",
   "execution_count": 21,
   "metadata": {},
   "outputs": [],
   "source": [
    "german_stop_words = stopwords.words('german')\n",
    "\n",
    "# Create a list of stop words to remove \n",
    "stop_words_to_remove = ['nicht', 'nichts']\n",
    "\n",
    "# Remove the stop words to remove from the stop words list\n",
    "for word in stop_words_to_remove:\n",
    "  german_stop_words.remove(word)\n",
    "\n",
    "data_rm = data_wo_pattern.copy()\n",
    "\n",
    "# Define a function to apply remove_stopwords on a column\n",
    "def remove_stopwords_from_text(text):\n",
    "    return remove_stopwords(text, stopwords=german_stop_words)\n",
    "\n",
    "\n",
    "# Apply the remove_stopwords function to the 'text' column using the apply method\n",
    "data_rm['data'] = data_rm['data'].apply(remove_stopwords_from_text)\n"
   ]
  },
  {
   "cell_type": "code",
   "execution_count": 22,
   "metadata": {},
   "outputs": [
    {
     "data": {
      "text/plain": [
       "\"net nicht?\\\\nservices:\\\\nservices:\\\\nservices:\\\\nservices:\\\\nservices:\\\\nservices:\\\\npermalink: \\\\nhttps://www.faz.net/-gtm-b56b5\\\\naktuelle nachrichten politik, wirtschaft, sport kultur\\\\nherausgegeben gerald braunberger, jürgen kaube, carsten knop, berthold kohler\\\\nzeitung\\\\n \\\\n\\\\n faz.net\\\\nkerem demirbay erzielt erste tor leverkusen. \\\\t\\\\t\\\\t\\\\t\\\\nbild: afp\\\\ndas spiel beginnt perfekt bayer leverkusen. zehn minuten schlenzt kerem demirbay ball tor. budapest entfacht selten druck, freistoß entscheidet „werkself“ spiel.\\\\npermalink: \\\\nhttps://www.faz.net/-gtm-b56b5\\\\nxabi alonso herzte nacheinander spieler, winkte richtung tribüne verschwand kabine. bühne überließ trainer von\\\\xa0bayer leverkusen\\\\xa0seinen spielern, hart erkämpften, standesgemäßen 2:0 achtelfinal-hinspiel europa league ferencváros budapest donnerstag anhängern regen gefeiert wurden, sei viertelfinale schon erreicht. kerem demirbay frühen (10.) edmond tapsoba späten tor (86.) trafen bayer.\\\\ndennoch dürfte rückspiel nochmal intensive partie werden. 33-malige ungarische meister zieht extra fast 70.000 zuschauer fassende puskas-arena um, 31. mai endspiel stattfindet. 50.000 tickets bereits verkauft.\\\\n„auf platz gefühl, spiel gut kontrollieren. zweiten halbzeit kurz durchhänger. großen ganzen gutes spiel gemacht, erwachsen konzentriert. zufrieden, müssen weitermachen“, sagte bayer-profi nadiem amiri fügte blick wettbewerb hinzu: „wir spielen nicht einfach mit, gucken, weit geht. gute mannschaft, potenzial. frankfurt geschafft. glauben uns.“\\\\nbei ferencváros leverkusen schon vorjahr deren eigentlichen heimstadion 0:1 verloren. damals budapest langjährigen bundesliga-trainer peter stöger trainiert worden. inzwischen stanislaw tschertschessow, früherer bundesligatorwart dynamo dresden langjähriger nationaltrainer russlands, trainer ungarn. zuletzt stand bayer, 1988 uefa-cup gewann 2002 champions-league-finale stand, 2020 europa league besten acht. inter mailand damals endstation.\\\\nfür ungarn schon hinspiel ganz besonderes. erstmals seit 19 jahren ungarischer klub europapokal überwintert, damals debrecen. nicht ungewöhnlich viele journalisten begleiteten ungarischen meister daher, 2000 fans. phasenweise lautstark, leverkusener anhänger mühe geben mussten, dagegen anzusingen.\\\\nauf platz gab zunächst bayer ton an. demirbay frühe führungstor schönen rechtsschuss 18 metern erzielte, konnte attribut „ausgerechnet“ versehen. ehemalige nationalspieler alonso kaum gefragt. aufstellung amiri doppel-sechs bayer-anhänger unschöne erinnerung ereilt: einziges mal beiden ehemaligen hoffenheimer zuvor abwehr zusammengespielt, dabei oktober 2021 1:5 hause fc bayern gegeben.\\\\nallerdings robert andrich argentinischen weltmeister exequiel palacios beide eigentlich gesetzten sechser gesperrt, charles aranguiz zudem verletzt. donnerstag machten sache zumindest ordentlich.\\\\nmehr thema\\\\n1/\\\\nalle infos hintergründe\\\\n \\\\n: \\\\n\\\\n\\\\n\\\\t\\\\t\\\\t\\\\t\\\\t\\\\t\\\\tspiele & ergebnisse europa league\\\\nachtelfinale europa league\\\\n \\\\n: \\\\n\\\\n\\\\n\\\\t\\\\t\\\\t\\\\t\\\\t\\\\t\\\\tfc arsenal strauchelt lissabon\\\\njuventus turin gewinnt knapp\\\\n \\\\n: \\\\n\\\\n\\\\n\\\\t\\\\t\\\\t\\\\t\\\\t\\\\t\\\\tpassable ausgangslage sc freiburg\\\\n3:3 saint-gilloise\\\\n \\\\n: \\\\n\\\\n\\\\n\\\\t\\\\t\\\\t\\\\t\\\\t\\\\t\\\\tunion berlin gibt nicht auf\\\\nauslosung europa league\\\\n \\\\n: \\\\n\\\\n\\\\n\\\\t\\\\t\\\\t\\\\t\\\\t\\\\t\\\\tsc freiburg zieht juventus große los\\\\ndie ungarn tauchten erst 26. minute leverkusener tor auf. gefährlich. kristoffer zachariassen lupfte ball sieben metern herausstürmenden bayer-torhüter lukas hradecky – latte. ausrufezeichen gab budapest rückenwind, pause hielt überlegene tabellenführer ungarischen liga spiel offen.\\\\nund danach agierten beide teams weitgehend augenhöhe, ehe kurz schluss bayer wichtige zweite tor gelang. eingewechselte adam hlouzek setzte zunächst freistoß 25 metern latte, abprallenden ball köpfte tapsoba tor.\\\\nxabi alonso gelben karte europa-league-spiel ferencváros budapest ungewöhnliches lob deutsche schiedsrichter ausgesprochen. „mit deutschen schiedsrichtern bisschen besser sprechen“, sagte ehemalige spanische welt- europameister, nachdem italiener davide massa beim 2:0 achtelfinal-hinspiel gelbe karte gezeigt hatte: „sie nicht so...“. satz sprach alonso nicht ende, machte wilde handbewegungen. stur streng baske, pressekonferenz deutsch abhält, gemeint haben. eigenen verhalten sagte alonso: „ich verbessern. nichts besonderes, gesagt habe.“ (dpa)\\\\nquelle: dpa\\\\nhier rechte artikel erwerben.\\\\npermalink: \\\\nhttps://www.faz.net/-gtm-b56b5\\\\nweitere themen\\\\nchampions league frauen\\\\n \\\\n: \\\\n\\\\n„ich gar nicht fassen“\\\\nextrarunde achterbahn: fußballerinnen wolfsburg stehen packenden halbfinale mehr 60.000 zuschauern endspiel champions league. weiterentwickelt haben.\\\\ntennisturnier wachsen\\\\n \\\\n: \\\\n\\\\nüber wiesbaden french open\\\\ndas fünftgrößte frauentennisturnier deutschland findet hessischen landeshauptstadt statt. veranstalter träumen davon, größer wird.\\\\nfaz plus artikel:\\\\n\\\\n\\\\n\\\\n eintracht pokalfinale\\\\n \\\\n: \\\\n\\\\n„für jungs lege hand feuer“\\\\ndie eintracht überwindet grenzen steht schon endspiel. spieler, klub sommer verlassen, deutlich steigern. trainer oliver glasner gibt versprechen ab.\\\\nkurse finanzdaten artikel\\\\nähnliche themen\\\\ntopmeldungen\\\\nantisemitisch eu\\\\n \\\\n: \\\\n\\\\n\\\\n\\\\t\\\\t\\\\t\\\\t\\\\t\\\\t\\\\tder erfolg polens radikalen rechten\\\\ninflation aktien\\\\n \\\\n: \\\\n\\\\n\\\\n\\\\t\\\\t\\\\t\\\\t\\\\t\\\\t\\\\tholt geld zurück!\\\\nverbindungen russland\\\\n \\\\n: \\\\n\\\\n\\\\n\\\\t\\\\t\\\\t\\\\t\\\\t\\\\t\\\\tgauck hält schröders verhalten „unerträglich“ „inakzeptabel“\\\\ndemagogie beim „spiegel“\\\\n \\\\n: \\\\n\\\\n\\\\n\\\\t\\\\t\\\\t\\\\t\\\\t\\\\t\\\\tdie ukraine krankheit\\\\nnewsletter\\\\nweitere themen\\\\nverlagsangebot\\\\nservices\\\\nabo-service\\\\nbest ager\\\\nselection shop\\\\nfirmen\\\\nfinanz-services\\\\ntarifrechner\\\\nnewsletter\\\\nimmobilien-markt\\\\ntestberichte\\\\nstellenmarkt\\\\nspiele\\\\ngutscheine\\\\nveranstaltungen\\\\nsport-ergebnisse\\\\ntv-programm\\\\nwetter\\\\nfrankfurter allgemeine zeitung\\\\n© frankfurter allgemeine zeitung gmbh 2001 - 2023alle rechte vorbehalten.\\\\neuropa league: leverkusen gewinnt 2:0 budapest spielerischen glanz\\\\n2:0 budapest\\\\nleverkusen gewinnt spielerischen glanz\\\\ndas spiel beginnt perfekt bayer leverkusen. zehn minuten schlenzt kerem demirbay ball tor. budapest entfacht selten druck, freistoß entscheidet „werkself“ spiel.\\\\nein fehler aufgetreten. bitte überprüfen eingaben.\\\\nvielen dankder beitrag wurde erfolgreich versandt.'}\""
      ]
     },
     "execution_count": 22,
     "metadata": {},
     "output_type": "execute_result"
    }
   ],
   "source": [
    "data_rm['data'].iloc[5]"
   ]
  }
 ],
 "metadata": {
  "kernelspec": {
   "display_name": "Python 3",
   "language": "python",
   "name": "python3"
  },
  "language_info": {
   "codemirror_mode": {
    "name": "ipython",
    "version": 3
   },
   "file_extension": ".py",
   "mimetype": "text/x-python",
   "name": "python",
   "nbconvert_exporter": "python",
   "pygments_lexer": "ipython3",
   "version": "3.9.16"
  },
  "orig_nbformat": 4,
  "vscode": {
   "interpreter": {
    "hash": "a665b5d41d17b532ea9890333293a1b812fa0b73c9c25c950b3cedf1bebd0438"
   }
  }
 },
 "nbformat": 4,
 "nbformat_minor": 2
}
