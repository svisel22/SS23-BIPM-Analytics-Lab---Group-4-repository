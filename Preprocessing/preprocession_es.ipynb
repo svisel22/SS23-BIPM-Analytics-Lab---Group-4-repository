{
 "cells": [
  {
   "cell_type": "code",
   "execution_count": 97,
   "metadata": {},
   "outputs": [],
   "source": [
    "#%pip install scikit-learn\n",
    "#!pip install nltk"
   ]
  },
  {
   "cell_type": "code",
   "execution_count": 98,
   "metadata": {},
   "outputs": [],
   "source": [
    "import pandas as pd\n",
    "import re\n",
    "from sklearn.feature_extraction.text import CountVectorizer\n",
    "import numpy as np\n",
    "sys.path.append('../')\n",
    "from utils import remove_similar_rows, find_lines_with_player, remove_similar_rows_per_player\n"
   ]
  },
  {
   "cell_type": "markdown",
   "metadata": {},
   "source": [
    "# Load Data"
   ]
  },
  {
   "cell_type": "code",
   "execution_count": 99,
   "metadata": {},
   "outputs": [],
   "source": [
    "url = 'https://raw.githubusercontent.com/svisel22/SS23-BIPM-Analytics-Lab---Group-4-repository/main/data_files/all_data_v3.csv'\n",
    "df = pd.read_csv(url)"
   ]
  },
  {
   "cell_type": "code",
   "execution_count": 100,
   "metadata": {},
   "outputs": [
    {
     "data": {
      "text/html": [
       "<div>\n",
       "<style scoped>\n",
       "    .dataframe tbody tr th:only-of-type {\n",
       "        vertical-align: middle;\n",
       "    }\n",
       "\n",
       "    .dataframe tbody tr th {\n",
       "        vertical-align: top;\n",
       "    }\n",
       "\n",
       "    .dataframe thead th {\n",
       "        text-align: right;\n",
       "    }\n",
       "</style>\n",
       "<table border=\"1\" class=\"dataframe\">\n",
       "  <thead>\n",
       "    <tr style=\"text-align: right;\">\n",
       "      <th></th>\n",
       "      <th>data</th>\n",
       "      <th>player</th>\n",
       "      <th>language</th>\n",
       "      <th>publishedAt</th>\n",
       "    </tr>\n",
       "  </thead>\n",
       "  <tbody>\n",
       "    <tr>\n",
       "      <th>0</th>\n",
       "      <td>{'content': \"DIRECTO\\nMercado de fichajes de f...</td>\n",
       "      <td>Exequiel Palacios</td>\n",
       "      <td>es</td>\n",
       "      <td>2023-01-29T18:25:03Z</td>\n",
       "    </tr>\n",
       "    <tr>\n",
       "      <th>1</th>\n",
       "      <td>{'content': 'Con el primer mes del 2023 a poco...</td>\n",
       "      <td>Exequiel Palacios</td>\n",
       "      <td>es</td>\n",
       "      <td>2023-01-30T16:52:46Z</td>\n",
       "    </tr>\n",
       "    <tr>\n",
       "      <th>2</th>\n",
       "      <td>{'content': 'Deportes\\nGustavo Puerta ya no ju...</td>\n",
       "      <td>Exequiel Palacios</td>\n",
       "      <td>es</td>\n",
       "      <td>2023-01-31T20:41:38Z</td>\n",
       "    </tr>\n",
       "    <tr>\n",
       "      <th>3</th>\n",
       "      <td>{'content': 'Dólar blue\\nAlberto Fernández\\nMa...</td>\n",
       "      <td>Exequiel Palacios</td>\n",
       "      <td>es</td>\n",
       "      <td>2023-02-09T18:32:38Z</td>\n",
       "    </tr>\n",
       "    <tr>\n",
       "      <th>4</th>\n",
       "      <td>{'content': 'Dólar blue\\nAlberto Fernández\\nMa...</td>\n",
       "      <td>Exequiel Palacios</td>\n",
       "      <td>es</td>\n",
       "      <td>2023-02-12T21:13:55Z</td>\n",
       "    </tr>\n",
       "    <tr>\n",
       "      <th>...</th>\n",
       "      <td>...</td>\n",
       "      <td>...</td>\n",
       "      <td>...</td>\n",
       "      <td>...</td>\n",
       "    </tr>\n",
       "    <tr>\n",
       "      <th>226</th>\n",
       "      <td>{'content': 'Piero Hincapié (der.) durante el ...</td>\n",
       "      <td>Piero Hincapié</td>\n",
       "      <td>es</td>\n",
       "      <td>2023-02-16T22:09:36Z</td>\n",
       "    </tr>\n",
       "    <tr>\n",
       "      <th>227</th>\n",
       "      <td>{'content': 'Piero Hincapié (centro) y Félix T...</td>\n",
       "      <td>Piero Hincapié</td>\n",
       "      <td>es</td>\n",
       "      <td>2023-02-14T23:40:33Z</td>\n",
       "    </tr>\n",
       "    <tr>\n",
       "      <th>228</th>\n",
       "      <td>{'content': 'El DT de Ecuador Gustavo Alfaro, ...</td>\n",
       "      <td>Piero Hincapié</td>\n",
       "      <td>es</td>\n",
       "      <td>2023-02-14T15:58:38Z</td>\n",
       "    </tr>\n",
       "    <tr>\n",
       "      <th>229</th>\n",
       "      <td>{'content': 'Eche un vistazo a la versión beta...</td>\n",
       "      <td>Piero Hincapié</td>\n",
       "      <td>es</td>\n",
       "      <td>2023-02-03T10:58:00Z</td>\n",
       "    </tr>\n",
       "    <tr>\n",
       "      <th>230</th>\n",
       "      <td>{'content': 'El español Andoni Bombín fue anun...</td>\n",
       "      <td>Piero Hincapié</td>\n",
       "      <td>es</td>\n",
       "      <td>2023-02-02T21:53:12Z</td>\n",
       "    </tr>\n",
       "  </tbody>\n",
       "</table>\n",
       "<p>231 rows × 4 columns</p>\n",
       "</div>"
      ],
      "text/plain": [
       "                                                  data             player  \\\n",
       "0    {'content': \"DIRECTO\\nMercado de fichajes de f...  Exequiel Palacios   \n",
       "1    {'content': 'Con el primer mes del 2023 a poco...  Exequiel Palacios   \n",
       "2    {'content': 'Deportes\\nGustavo Puerta ya no ju...  Exequiel Palacios   \n",
       "3    {'content': 'Dólar blue\\nAlberto Fernández\\nMa...  Exequiel Palacios   \n",
       "4    {'content': 'Dólar blue\\nAlberto Fernández\\nMa...  Exequiel Palacios   \n",
       "..                                                 ...                ...   \n",
       "226  {'content': 'Piero Hincapié (der.) durante el ...     Piero Hincapié   \n",
       "227  {'content': 'Piero Hincapié (centro) y Félix T...     Piero Hincapié   \n",
       "228  {'content': 'El DT de Ecuador Gustavo Alfaro, ...     Piero Hincapié   \n",
       "229  {'content': 'Eche un vistazo a la versión beta...     Piero Hincapié   \n",
       "230  {'content': 'El español Andoni Bombín fue anun...     Piero Hincapié   \n",
       "\n",
       "    language           publishedAt  \n",
       "0         es  2023-01-29T18:25:03Z  \n",
       "1         es  2023-01-30T16:52:46Z  \n",
       "2         es  2023-01-31T20:41:38Z  \n",
       "3         es  2023-02-09T18:32:38Z  \n",
       "4         es  2023-02-12T21:13:55Z  \n",
       "..       ...                   ...  \n",
       "226       es  2023-02-16T22:09:36Z  \n",
       "227       es  2023-02-14T23:40:33Z  \n",
       "228       es  2023-02-14T15:58:38Z  \n",
       "229       es  2023-02-03T10:58:00Z  \n",
       "230       es  2023-02-02T21:53:12Z  \n",
       "\n",
       "[231 rows x 4 columns]"
      ]
     },
     "execution_count": 100,
     "metadata": {},
     "output_type": "execute_result"
    }
   ],
   "source": [
    "# Filter out the Spanish data and reindex\n",
    "df_es = df[df[\"language\"] == \"es\"]\n",
    "\n",
    "#Reset index\n",
    "df_es = df_es.reset_index(drop=True)\n",
    "df_es"
   ]
  },
  {
   "cell_type": "code",
   "execution_count": 101,
   "metadata": {},
   "outputs": [
    {
     "name": "stdout",
     "output_type": "stream",
     "text": [
      "{'content': 'Una tarde particular. Una mixtura de sensaciones envolvió la antesala del juego entre River y Argentinos. La vuelta a un renovado y moderno Monumental, una arista de lo que vivenció el hincha. El homenaje a los campeones del mundo, riverplatenses que fueron artífices de las tres estrellas que suma la Argentina en la historia de la Copa del Mundo, la restante faceta de una jornada que ofreció un eje singular con la presencia de Daniel Passarella en la cancha en la que fue futbolista, director técnico y presidente del momento más oscuro de los 122 años del club. La presentación del estadio con mayor capacidad de Sudamérica, una obra que generó en el inicio protestas y hasta polémicas, tuvo nota de aprobación, mientras que la celebración y el agasajo quedó deformado entre la ovación, los aplausos, el desorden y la indiferencia.\\nLa invitación a Passarella, una figura que cuando se consumó el descenso a la primera Nacional era el presidente de River, generó revuelo en el ambiente. Resultaría la primera vez que el Káiser mediría si quedaban resabios de aquella página negra que protagonizaron los millonarios, o si había recibido un indulto de parte de los simpatizantes. Aunque sectores especularon con que Passarella rechazaría la invitación, el juninense tenía la firme convicción de ser parte del homenaje.\\nDe remera blanca y jean, con el brazo izquierdo sujeto por un cabestrillo, caminó por el anillo del estadio en donde como capitán y una de las figuras del plantel levantó la Copa del Mundo en 1978. “Voy a disfrutar mucho de esto, estoy con mi familia. Del público no sé qué espero, yo vengo porque me invitaron. Me esperaba la invitación, ya me lo habían hecho saber”, dijo, al ser abordado por los medios quien una semana atrás, en Junín, recibió el reconocimiento cuando Sarmiento jugó con Barracas Central.\\nÚnico futbolista argentino que se consagró dos veces campeón del mundo, porque integró la lista en México 1986, aunque no jugó ningún minuto por sufrir una infección intestinal, la presencia de Passarella fue tomada con indiferencia por los hinchas. Algunos pocos lo insultaron mientras en el desorden posaba con el resto de los invitados y era acreedor de un presente y una camiseta de River. La mayor parte del tiempo estuvo junto a Ubaldo Pato Fillol, compañero en River y la selección campeona de 1978 –como Norberto Beto Alonso y Leopoldo Jacinto Luque, que estuvo representado por su hija Cinthia–, al momento de las fotografías también posó con Pablo Aimar y Roberto Ayala, los dos integrantes del cuerpo técnico que lideró Lionel Scaloni en Qatar 2022.\\nLa emoción invadió a Fillol, que desde temprano anunció que luciría un buzo verde con el N°5, el que usó en el Mundial 1978. “En unas horas este emblemático buzo verde me acompañará en el homenaje que River les brindará a los campeones del mundo del 78, 86 y 2002 de la Argentina. Siento ansiedad, orgullo y mucha emoción por volver a pisar el campo de juego como en aquel glorioso 25 de junio”, escribió el Pato en las redes sociales, trazando una línea imaginaria de 44 años entre la final con Holanda y el agasajo.\\nEl homenaje a nuestros campeones del mundo que se proyectó en la previa del partido en el Mâs Monumental 🇦🇷🏆 pic.twitter.com/Rzr3MI02iy\\nLas banderas plásticas celestes y blancas con la frase gracias campeones, y las que llevaban la leyenda cuna de campeones, se multiplicaron en las tribunas. Las mismas desde donde partió una estruendosa ovación para Franco Armani –recibió los obsequios de las manos de Oscar Ruggeri y Héctor Enrique, campeones en México 1986–, cuando el arquero hizo el ingreso al campo de juego para ensayar la entrada en calor. Fue el momento en que desde las tribunas se desplegaron banderas con las imágenes de Lionel Messi, Julián Álvarez, Gonzalo Montiel, Enzo Fernández, Germán Pezzella, Exequiel Palacios, Guido Rodríguez y Armani, todos con la copa del mundo. Álvarez y Fernández, que militan en la Premier League, postearon en Instagram las fotos de sus estandartes.\\nEl orgullo de la casa ⭐️⭐️⭐️ pic.twitter.com/50bDVnEGpi\\nLos festejos duraron apenas tres minutos y estuvieron signados por un cierto desorden. La transmisión de TV también resultó confusa, por lo que tampoco le aportó un plus al homenaje, donde también estuvo una réplica de la Copa del Mundo y la ya repetida bandera que se paseó por todas las canchas con la inscripción Muchachos, gracias por la Copa. Un agasajo que debía estar a la altura del moderno Monumental, que abrió sus puertas a las 15.45 para albergar a 83.196 hinchas, que es la nueva capacidad del estadio. Tres tribunas nuevas, 30 palcos, butacas rebatibles y antivandálicas, un nuevo túnel único y los hinchas apenas separados del banco de los suplentes, detalles de la obra.\\nLa fiesta tuvo un par de hechos que la empañaron: un hincha se cayó al intentar saltar desde la tribuna Sívori media a la baja, golpeando la cabeza contra el piso. Después de recibir asistencia médica fue trasladado inconsciente al Hospital Fernández. Más temprano, en camino hacia el Monumental, un simpatizante se cayó del estribo del colectivo en la Panamericana y fue atropellado por otro micro, muriendo en el acto.\\nCopyright 2023 SA LA NACION | Todos los derechos reservados'}\n"
     ]
    }
   ],
   "source": [
    "print(df_es.loc[5, 'data'])"
   ]
  },
  {
   "cell_type": "markdown",
   "metadata": {},
   "source": [
    "# Remove duplicates"
   ]
  },
  {
   "cell_type": "code",
   "execution_count": 102,
   "metadata": {},
   "outputs": [],
   "source": [
    "# Remove the similiar rows (The Function is imported from utils on top)\n",
    "\n",
    "# Returned df is not working well"
   ]
  },
  {
   "cell_type": "markdown",
   "metadata": {},
   "source": [
    "# Remove Patterns"
   ]
  },
  {
   "cell_type": "code",
   "execution_count": 103,
   "metadata": {},
   "outputs": [
    {
     "name": "stdout",
     "output_type": "stream",
     "text": [
      "DeportesnGustavo Puerta ya no jugará en el Bayer LeverkusennEntérate en qué equipo de la segunda división jugará Gustavo Puerta, capitán de la Selección Colombia Sub20, que participa en el SudamericanonPor John Brandon García TeheránnnEspecial para El UniversalnA pocas horas del hexagonal final del Sudamericano Sub20, que se realiza en Colombia, la Selección Nacional disputará un partido trascendental para su continuidad en el campeonato frente a UruguaynBayer Leverkusen pescó a una de las figuras mas importantes del Sudamericano Sub20, Gustavo Puerta El club alemán, que siempre se ha caracterizado por confiar en gente joven con sangre nueva y, por supuesto, en mediocampistas sudamericanos con sacrificio, físico y bien dotados técnicamente, como lo son el chileno Charles Aranguiz que actualmente se encuentra lesionado y su regreso se espera para mitad de febrero, y el Argentino de 24 años Exequiel Palacios Le puede interesar Video Se quitó el yeso, entró y le dio el gol del triunfo a BolívarnEn las redes sociales del Bayer Leverkusen saludan a Colombia y le dan la bienvenida al jugador nacional con un cálido mensajenEn el mensaje también confirmaron el tiempo de duración del contrato de Puerta, que será de 5 años con el club alemán El Bogotá FC, que tenía los derechos deportivos del colombiano, habría obtenido 2 millones de euros por este traspasonEl club Alemán en el comunicado también informó que Gustavo jugará cedido al FC Nürnberg, de la segunda división de AlemanianTranquiliza un poco a los aficionados de Puerta, el hecho que Xavi Alonso exjugador del Real Madrid y Bayern Munich y ahora director técnico del Bayer Leverkusen, vio con buenos ojos el fichaje del centrocampista colombianonDirector deportivo Simón RolfesnRolfes confía en que el jugador de la Selección Colombia tendrá una carrera exitosa en territorio germanonFC Nuernberg ya anunció en su redes la llegada del vallecaucano\n"
     ]
    }
   ],
   "source": [
    "# Create a copy\n",
    "data_wo_pattern = df_es.copy()\n",
    "\n",
    "\n",
    "#remove patterns\n",
    "data_wo_pattern['data'] = data_wo_pattern['data'].apply(lambda x: re.sub(r\"^{\\'content\\': \\'\", \"\", str(x)))\n",
    "data_wo_pattern['data'] = data_wo_pattern['data'].apply(lambda x: re.sub(r\"^{\\'content\\'\", \"\", str(x)))\n",
    "data_wo_pattern['data'] = data_wo_pattern['data'].apply(lambda x: re.sub(r\"Todos los derechos reservados\", \"\", str(x)))\n",
    "data_wo_pattern['data'] = data_wo_pattern['data'].apply(lambda x: re.sub(r\"DIRECTO\", \"\", str(x)))\n",
    "data_wo_pattern['data'] = data_wo_pattern['data'].apply(lambda x: re.sub(r\"Espacio Publicitario\", \"\", str(x)))\n",
    "data_wo_pattern['data'] = data_wo_pattern['data'].apply(lambda x: re.sub(r\"Copyright.*\", \"\", str(x)))\n",
    "data_wo_pattern['data'] = data_wo_pattern['data'].apply(lambda x: re.sub(r\"Foto:*\", \"\", str(x)))\n",
    "#data_wo_pattern['data'] = data_wo_pattern['data'].apply(lambda x: re.sub(r'pictwittercom\\w{0,11}', '', str(x)))\n",
    "\n",
    "\n",
    "\n",
    "\n",
    "#link\n",
    "data_wo_pattern['data'] = data_wo_pattern['data'].apply(lambda x: re.sub(r'http\\S+', '', str(x)))\n",
    "\n",
    "#emoji\n",
    "data_wo_pattern['data'] = data_wo_pattern['data'].apply(lambda x: re.sub(r'[^\\w\\s,]', '', str(x)))\n",
    "\n",
    "\n",
    "print(data_wo_pattern.loc[2, 'data'])\n",
    "\n"
   ]
  },
  {
   "cell_type": "markdown",
   "metadata": {},
   "source": [
    "# Find line with player"
   ]
  },
  {
   "cell_type": "code",
   "execution_count": 104,
   "metadata": {},
   "outputs": [],
   "source": [
    "data_with_playernames = data_wo_pattern.copy()\n",
    "\n",
    "data_with_playernames = find_lines_with_player(data_with_playernames, data_with_playernames['player'].unique())"
   ]
  },
  {
   "cell_type": "code",
   "execution_count": 105,
   "metadata": {},
   "outputs": [
    {
     "name": "stdout",
     "output_type": "stream",
     "text": [
      "2    DeportesnGustavo Puerta ya no jugará en el Bay...\n",
      "2    nMercado de fichajes de fútbol, en directonFre...\n",
      "2    Piero Hincapié der durante el partido entre Ba...\n",
      "2     Piero Hincapié y Exequiel Palacios en el Baye...\n",
      "2    Piero Hincapié der durante el partido entre Ba...\n",
      "2    El mercado de invierno en Europa tuvo a un arg...\n",
      "2    nMercado de fichajes de fútbol, en directonCam...\n",
      "2    Una de las cancha del complejo de Independient...\n",
      "Name: data, dtype: object\n"
     ]
    }
   ],
   "source": [
    "print(data_with_playernames.loc[2, 'data'])"
   ]
  },
  {
   "cell_type": "code",
   "execution_count": null,
   "metadata": {},
   "outputs": [],
   "source": []
  }
 ],
 "metadata": {
  "kernelspec": {
   "display_name": "Python 3.9.6 64-bit",
   "language": "python",
   "name": "python3"
  },
  "language_info": {
   "codemirror_mode": {
    "name": "ipython",
    "version": 3
   },
   "file_extension": ".py",
   "mimetype": "text/x-python",
   "name": "python",
   "nbconvert_exporter": "python",
   "pygments_lexer": "ipython3",
   "version": "3.9.6"
  },
  "orig_nbformat": 4,
  "vscode": {
   "interpreter": {
    "hash": "31f2aee4e71d21fbe5cf8b01ff0e069b9275f58929596ceb00d14d90e3e16cd6"
   }
  }
 },
 "nbformat": 4,
 "nbformat_minor": 2
}
