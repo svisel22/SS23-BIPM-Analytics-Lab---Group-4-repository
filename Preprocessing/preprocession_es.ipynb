{
 "cells": [
  {
   "cell_type": "code",
   "execution_count": 71,
   "metadata": {},
   "outputs": [],
   "source": [
    "#%pip install scikit-learn\n",
    "#%pip install nltk\n",
    "#%pip install gensim\n",
    "#%pip install unidecode\n",
    "\n",
    "\n",
    "\n"
   ]
  },
  {
   "cell_type": "markdown",
   "metadata": {},
   "source": [
    "# Import packages"
   ]
  },
  {
   "cell_type": "code",
   "execution_count": 72,
   "metadata": {},
   "outputs": [],
   "source": [
    "import pandas as pd\n",
    "import re\n",
    "import os\n",
    "from sklearn.feature_extraction.text import CountVectorizer\n",
    "import numpy as np\n",
    "sys.path.append('../')\n",
    "from utils import remove_similar_rows, find_lines_with_player, remove_similar_rows_per_player, map_emoji_to_description, del_patterns, extract_sentence\n",
    "import nltk\n",
    "from nltk.corpus import stopwords\n",
    "from gensim.parsing.preprocessing import remove_stopwords, strip_numeric, strip_punctuation, strip_multiple_whitespaces, strip_short\n",
    "from unidecode import unidecode\n",
    "\n",
    "\n"
   ]
  },
  {
   "cell_type": "markdown",
   "metadata": {},
   "source": [
    "# Load Data"
   ]
  },
  {
   "cell_type": "code",
   "execution_count": 73,
   "metadata": {},
   "outputs": [],
   "source": [
    "url = 'https://raw.githubusercontent.com/svisel22/SS23-BIPM-Analytics-Lab---Group-4-repository/main/data_files/all_data_v3.csv'\n",
    "df = pd.read_csv(url)"
   ]
  },
  {
   "cell_type": "code",
   "execution_count": 74,
   "metadata": {},
   "outputs": [
    {
     "data": {
      "text/html": [
       "<div>\n",
       "<style scoped>\n",
       "    .dataframe tbody tr th:only-of-type {\n",
       "        vertical-align: middle;\n",
       "    }\n",
       "\n",
       "    .dataframe tbody tr th {\n",
       "        vertical-align: top;\n",
       "    }\n",
       "\n",
       "    .dataframe thead th {\n",
       "        text-align: right;\n",
       "    }\n",
       "</style>\n",
       "<table border=\"1\" class=\"dataframe\">\n",
       "  <thead>\n",
       "    <tr style=\"text-align: right;\">\n",
       "      <th></th>\n",
       "      <th>data</th>\n",
       "      <th>player</th>\n",
       "      <th>language</th>\n",
       "      <th>publishedAt</th>\n",
       "    </tr>\n",
       "  </thead>\n",
       "  <tbody>\n",
       "    <tr>\n",
       "      <th>0</th>\n",
       "      <td>{'content': \"DIRECTO\\nMercado de fichajes de f...</td>\n",
       "      <td>Exequiel Palacios</td>\n",
       "      <td>es</td>\n",
       "      <td>2023-01-29T18:25:03Z</td>\n",
       "    </tr>\n",
       "    <tr>\n",
       "      <th>1</th>\n",
       "      <td>{'content': 'Con el primer mes del 2023 a poco...</td>\n",
       "      <td>Exequiel Palacios</td>\n",
       "      <td>es</td>\n",
       "      <td>2023-01-30T16:52:46Z</td>\n",
       "    </tr>\n",
       "    <tr>\n",
       "      <th>2</th>\n",
       "      <td>{'content': 'Deportes\\nGustavo Puerta ya no ju...</td>\n",
       "      <td>Exequiel Palacios</td>\n",
       "      <td>es</td>\n",
       "      <td>2023-01-31T20:41:38Z</td>\n",
       "    </tr>\n",
       "    <tr>\n",
       "      <th>3</th>\n",
       "      <td>{'content': 'Dólar blue\\nAlberto Fernández\\nMa...</td>\n",
       "      <td>Exequiel Palacios</td>\n",
       "      <td>es</td>\n",
       "      <td>2023-02-09T18:32:38Z</td>\n",
       "    </tr>\n",
       "    <tr>\n",
       "      <th>4</th>\n",
       "      <td>{'content': 'Dólar blue\\nAlberto Fernández\\nMa...</td>\n",
       "      <td>Exequiel Palacios</td>\n",
       "      <td>es</td>\n",
       "      <td>2023-02-12T21:13:55Z</td>\n",
       "    </tr>\n",
       "    <tr>\n",
       "      <th>...</th>\n",
       "      <td>...</td>\n",
       "      <td>...</td>\n",
       "      <td>...</td>\n",
       "      <td>...</td>\n",
       "    </tr>\n",
       "    <tr>\n",
       "      <th>270</th>\n",
       "      <td>{'content': \"Juventus rescató un empate 1-1 fr...</td>\n",
       "      <td>Exequiel Palacios</td>\n",
       "      <td>es</td>\n",
       "      <td>2023-05-11T19:05:33Z</td>\n",
       "    </tr>\n",
       "    <tr>\n",
       "      <th>271</th>\n",
       "      <td>{'content': \"Juventus rescató un empate 1-1 fr...</td>\n",
       "      <td>Exequiel Palacios</td>\n",
       "      <td>es</td>\n",
       "      <td>2023-05-11T18:26:06Z</td>\n",
       "    </tr>\n",
       "    <tr>\n",
       "      <th>272</th>\n",
       "      <td>{'content': 'Este jueves se abren las series d...</td>\n",
       "      <td>Exequiel Palacios</td>\n",
       "      <td>es</td>\n",
       "      <td>2023-05-11T13:44:18Z</td>\n",
       "    </tr>\n",
       "    <tr>\n",
       "      <th>273</th>\n",
       "      <td>{'content': 'Con 10 futbolistas argentinos, la...</td>\n",
       "      <td>Exequiel Palacios</td>\n",
       "      <td>es</td>\n",
       "      <td>2023-05-10T16:03:25Z</td>\n",
       "    </tr>\n",
       "    <tr>\n",
       "      <th>274</th>\n",
       "      <td>{'content': \"Mudryk, con la camiseta del Chels...</td>\n",
       "      <td>Mykhaylo Mudryk</td>\n",
       "      <td>es</td>\n",
       "      <td>2023-05-25T10:35:41Z</td>\n",
       "    </tr>\n",
       "  </tbody>\n",
       "</table>\n",
       "<p>275 rows × 4 columns</p>\n",
       "</div>"
      ],
      "text/plain": [
       "                                                  data             player  \\\n",
       "0    {'content': \"DIRECTO\\nMercado de fichajes de f...  Exequiel Palacios   \n",
       "1    {'content': 'Con el primer mes del 2023 a poco...  Exequiel Palacios   \n",
       "2    {'content': 'Deportes\\nGustavo Puerta ya no ju...  Exequiel Palacios   \n",
       "3    {'content': 'Dólar blue\\nAlberto Fernández\\nMa...  Exequiel Palacios   \n",
       "4    {'content': 'Dólar blue\\nAlberto Fernández\\nMa...  Exequiel Palacios   \n",
       "..                                                 ...                ...   \n",
       "270  {'content': \"Juventus rescató un empate 1-1 fr...  Exequiel Palacios   \n",
       "271  {'content': \"Juventus rescató un empate 1-1 fr...  Exequiel Palacios   \n",
       "272  {'content': 'Este jueves se abren las series d...  Exequiel Palacios   \n",
       "273  {'content': 'Con 10 futbolistas argentinos, la...  Exequiel Palacios   \n",
       "274  {'content': \"Mudryk, con la camiseta del Chels...    Mykhaylo Mudryk   \n",
       "\n",
       "    language           publishedAt  \n",
       "0         es  2023-01-29T18:25:03Z  \n",
       "1         es  2023-01-30T16:52:46Z  \n",
       "2         es  2023-01-31T20:41:38Z  \n",
       "3         es  2023-02-09T18:32:38Z  \n",
       "4         es  2023-02-12T21:13:55Z  \n",
       "..       ...                   ...  \n",
       "270       es  2023-05-11T19:05:33Z  \n",
       "271       es  2023-05-11T18:26:06Z  \n",
       "272       es  2023-05-11T13:44:18Z  \n",
       "273       es  2023-05-10T16:03:25Z  \n",
       "274       es  2023-05-25T10:35:41Z  \n",
       "\n",
       "[275 rows x 4 columns]"
      ]
     },
     "execution_count": 74,
     "metadata": {},
     "output_type": "execute_result"
    }
   ],
   "source": [
    "# Filter out the Spanish data and reindex\n",
    "df_es = df[df[\"language\"] == \"es\"]\n",
    "\n",
    "#Reset index\n",
    "df_es = df_es.reset_index(drop=True)\n",
    "df_es"
   ]
  },
  {
   "cell_type": "markdown",
   "metadata": {},
   "source": [
    "# Remove similar rows per player"
   ]
  },
  {
   "cell_type": "code",
   "execution_count": 75,
   "metadata": {},
   "outputs": [],
   "source": [
    "# Remove the similiar rows (The Function is imported from utils on top)\n",
    "df_es = remove_similar_rows_per_player(df_es, df_es['player'].unique())"
   ]
  },
  {
   "cell_type": "markdown",
   "metadata": {},
   "source": [
    "# Lower case"
   ]
  },
  {
   "cell_type": "code",
   "execution_count": 76,
   "metadata": {},
   "outputs": [
    {
     "data": {
      "text/html": [
       "<div>\n",
       "<style scoped>\n",
       "    .dataframe tbody tr th:only-of-type {\n",
       "        vertical-align: middle;\n",
       "    }\n",
       "\n",
       "    .dataframe tbody tr th {\n",
       "        vertical-align: top;\n",
       "    }\n",
       "\n",
       "    .dataframe thead th {\n",
       "        text-align: right;\n",
       "    }\n",
       "</style>\n",
       "<table border=\"1\" class=\"dataframe\">\n",
       "  <thead>\n",
       "    <tr style=\"text-align: right;\">\n",
       "      <th></th>\n",
       "      <th>data</th>\n",
       "      <th>player</th>\n",
       "      <th>language</th>\n",
       "      <th>publishedAt</th>\n",
       "    </tr>\n",
       "  </thead>\n",
       "  <tbody>\n",
       "    <tr>\n",
       "      <th>0</th>\n",
       "      <td>{'content': \"directo\\nmercado de fichajes de f...</td>\n",
       "      <td>exequiel palacios</td>\n",
       "      <td>es</td>\n",
       "      <td>2023-01-29T18:25:03Z</td>\n",
       "    </tr>\n",
       "    <tr>\n",
       "      <th>1</th>\n",
       "      <td>{'content': 'con el primer mes del 2023 a poco...</td>\n",
       "      <td>exequiel palacios</td>\n",
       "      <td>es</td>\n",
       "      <td>2023-01-30T16:52:46Z</td>\n",
       "    </tr>\n",
       "    <tr>\n",
       "      <th>2</th>\n",
       "      <td>{'content': 'deportes\\ngustavo puerta ya no ju...</td>\n",
       "      <td>exequiel palacios</td>\n",
       "      <td>es</td>\n",
       "      <td>2023-01-31T20:41:38Z</td>\n",
       "    </tr>\n",
       "    <tr>\n",
       "      <th>3</th>\n",
       "      <td>{'content': 'dólar blue\\nalberto fernández\\nma...</td>\n",
       "      <td>exequiel palacios</td>\n",
       "      <td>es</td>\n",
       "      <td>2023-02-09T18:32:38Z</td>\n",
       "    </tr>\n",
       "    <tr>\n",
       "      <th>4</th>\n",
       "      <td>{'content': 'dólar blue\\nalberto fernández\\nma...</td>\n",
       "      <td>exequiel palacios</td>\n",
       "      <td>es</td>\n",
       "      <td>2023-02-12T21:13:55Z</td>\n",
       "    </tr>\n",
       "  </tbody>\n",
       "</table>\n",
       "</div>"
      ],
      "text/plain": [
       "                                                data             player  \\\n",
       "0  {'content': \"directo\\nmercado de fichajes de f...  exequiel palacios   \n",
       "1  {'content': 'con el primer mes del 2023 a poco...  exequiel palacios   \n",
       "2  {'content': 'deportes\\ngustavo puerta ya no ju...  exequiel palacios   \n",
       "3  {'content': 'dólar blue\\nalberto fernández\\nma...  exequiel palacios   \n",
       "4  {'content': 'dólar blue\\nalberto fernández\\nma...  exequiel palacios   \n",
       "\n",
       "  language           publishedAt  \n",
       "0       es  2023-01-29T18:25:03Z  \n",
       "1       es  2023-01-30T16:52:46Z  \n",
       "2       es  2023-01-31T20:41:38Z  \n",
       "3       es  2023-02-09T18:32:38Z  \n",
       "4       es  2023-02-12T21:13:55Z  "
      ]
     },
     "execution_count": 76,
     "metadata": {},
     "output_type": "execute_result"
    }
   ],
   "source": [
    "data_lower_es = df_es.copy()\n",
    "\n",
    "data_lower_es['data'] = data_lower_es['data'].str.lower()\n",
    "data_lower_es['player'] = data_lower_es['player'].str.lower()\n",
    "data_lower_es.head()"
   ]
  },
  {
   "cell_type": "markdown",
   "metadata": {},
   "source": [
    "# Romove Patterns"
   ]
  },
  {
   "cell_type": "code",
   "execution_count": 77,
   "metadata": {},
   "outputs": [],
   "source": [
    "patternlist = [\n",
    "    'content',\n",
    "    'directo',\n",
    "    'espacio publicitario',\n",
    "    'copyright',\n",
    "    'foto:',\n",
    "    'todos los derechos reservados',\n",
    "    'derechos reservados',\n",
    "    'suscribete',\n",
    "    'queda prohibida la reproducción',\n",
    "    'parcial, por',\n",
    "    'cualquier medio, de todos los contenidos sin autorización expresa de grupo el comercio',\n",
    "    'pic.twitter.com'\n",
    "   \n",
    "]"
   ]
  },
  {
   "cell_type": "code",
   "execution_count": 78,
   "metadata": {},
   "outputs": [],
   "source": [
    "# Create a copy\n",
    "data_wo_pattern = data_lower_es.copy()\n",
    "\n",
    "#delete patterns\n",
    "data_wo_pattern['data'] = data_wo_pattern['data'].apply(lambda x: del_patterns(str(x), patternlist))"
   ]
  },
  {
   "cell_type": "code",
   "execution_count": 79,
   "metadata": {},
   "outputs": [],
   "source": [
    "# Replace '\\\\xaO' with a whitespace in the 'data' column\n",
    "data_wo_pattern['data'] = data_wo_pattern['data'].str.replace(r'\\\\xa0', ' ')"
   ]
  },
  {
   "cell_type": "markdown",
   "metadata": {},
   "source": [
    "# Emojis analysis"
   ]
  },
  {
   "cell_type": "code",
   "execution_count": 80,
   "metadata": {},
   "outputs": [
    {
     "data": {
      "text/plain": [
       "'\\n# Unicode ranges for emojis\\nemoji_ranges = [\\n    (0x1F600, 0x1F64F),  # Emoticons\\n    (0x1F300, 0x1F5FF),  # Miscellaneous symbols and pictographs\\n    (0x1F680, 0x1F6FF),  # Transport and map symbols\\n    (0x2600, 0x26FF),    # Miscellaneous symbols\\n    (0x2700, 0x27BF),    # Dingbats\\n    (0xFE00, 0xFE0F),    # Variation Selectors\\n    (0x1F900, 0x1F9FF),  # Supplemental Symbols and Pictographs\\n    (0x1F1E6, 0x1F1FF)   # Flags\\n]\\n\\n# Function to check if a character is an emoji\\ndef is_emoji(character):\\n    for start, end in emoji_ranges:\\n        if ord(character) in range(start, end + 1):\\n            return True\\n    return False\\n\\ndef is_emoji_remove(character):\\n    emoji_ord = ord(character)\\n    for start, end in emoji_ranges:\\n        if emoji_ord >= start and emoji_ord <= end:\\n            return True\\n    return False\\n\\n# Assuming your dataframe is named \\'df\\'\\narticles_with_emoji = 0\\n\\n# Iterate over the rows of the dataframe\\nfor index, row in df_es.iterrows():\\n    # Counter for emojis in the current article\\n    emoji_count = 0\\n\\n    # Iterate over the columns of the current row\\n    for column in row.index:\\n        # Check if the cell contains an emoji\\n        for char in str(row[column]):\\n            if is_emoji(char):\\n                emoji_count += 1\\n\\n    # If there is at least one emoji in the current article, increment the count of articles with emojis\\n    if emoji_count > 0:\\n        articles_with_emoji += 1\\n        print(\"Emojis found in article\", index + 1, \":\", emoji_count)\\n\\nprint(\"Total number of articles with emojis:\", articles_with_emoji)\\n\\n'"
      ]
     },
     "execution_count": 80,
     "metadata": {},
     "output_type": "execute_result"
    }
   ],
   "source": [
    "\"\"\"\n",
    "# Unicode ranges for emojis\n",
    "emoji_ranges = [\n",
    "    (0x1F600, 0x1F64F),  # Emoticons\n",
    "    (0x1F300, 0x1F5FF),  # Miscellaneous symbols and pictographs\n",
    "    (0x1F680, 0x1F6FF),  # Transport and map symbols\n",
    "    (0x2600, 0x26FF),    # Miscellaneous symbols\n",
    "    (0x2700, 0x27BF),    # Dingbats\n",
    "    (0xFE00, 0xFE0F),    # Variation Selectors\n",
    "    (0x1F900, 0x1F9FF),  # Supplemental Symbols and Pictographs\n",
    "    (0x1F1E6, 0x1F1FF)   # Flags\n",
    "]\n",
    "\n",
    "# Function to check if a character is an emoji\n",
    "def is_emoji(character):\n",
    "    for start, end in emoji_ranges:\n",
    "        if ord(character) in range(start, end + 1):\n",
    "            return True\n",
    "    return False\n",
    "\n",
    "def is_emoji_remove(character):\n",
    "    emoji_ord = ord(character)\n",
    "    for start, end in emoji_ranges:\n",
    "        if emoji_ord >= start and emoji_ord <= end:\n",
    "            return True\n",
    "    return False\n",
    "\n",
    "# Assuming your dataframe is named 'df'\n",
    "articles_with_emoji = 0\n",
    "\n",
    "# Iterate over the rows of the dataframe\n",
    "for index, row in df_es.iterrows():\n",
    "    # Counter for emojis in the current article\n",
    "    emoji_count = 0\n",
    "\n",
    "    # Iterate over the columns of the current row\n",
    "    for column in row.index:\n",
    "        # Check if the cell contains an emoji\n",
    "        for char in str(row[column]):\n",
    "            if is_emoji(char):\n",
    "                emoji_count += 1\n",
    "\n",
    "    # If there is at least one emoji in the current article, increment the count of articles with emojis\n",
    "    if emoji_count > 0:\n",
    "        articles_with_emoji += 1\n",
    "        print(\"Emojis found in article\", index + 1, \":\", emoji_count)\n",
    "\n",
    "print(\"Total number of articles with emojis:\", articles_with_emoji)\n",
    "\n",
    "\"\"\""
   ]
  },
  {
   "cell_type": "markdown",
   "metadata": {},
   "source": [
    "# Match emoji description"
   ]
  },
  {
   "cell_type": "code",
   "execution_count": 81,
   "metadata": {},
   "outputs": [],
   "source": [
    "data_wo_emojis = data_wo_pattern.copy()\n",
    "\n",
    "data_wo_emojis['data'] = data_wo_emojis['data'].apply(lambda x: re.sub(r'[^\\w\\s]', lambda match: map_emoji_to_description(match.group(), language = 'es',), str(x)))\n"
   ]
  },
  {
   "cell_type": "markdown",
   "metadata": {},
   "source": [
    "# Remove noise"
   ]
  },
  {
   "cell_type": "markdown",
   "metadata": {},
   "source": [
    "## Remove numeric"
   ]
  },
  {
   "cell_type": "code",
   "execution_count": 82,
   "metadata": {},
   "outputs": [],
   "source": [
    "data_rm_es = data_wo_emojis.copy()\n",
    "\n",
    "data_rm_es['data'] = data_rm_es['data'].apply(strip_numeric)"
   ]
  },
  {
   "cell_type": "markdown",
   "metadata": {},
   "source": [
    "## Remove links"
   ]
  },
  {
   "cell_type": "code",
   "execution_count": 83,
   "metadata": {},
   "outputs": [],
   "source": [
    "data_rm_es['data'] = data_rm_es['data'].apply(lambda x: re.sub(r'http\\S+', '', str(x)))"
   ]
  },
  {
   "cell_type": "markdown",
   "metadata": {},
   "source": [
    "## Remove multiple white spaces"
   ]
  },
  {
   "cell_type": "code",
   "execution_count": 84,
   "metadata": {},
   "outputs": [],
   "source": [
    "data_rm_es['data'] = data_rm_es['data'].apply(strip_multiple_whitespaces)"
   ]
  },
  {
   "cell_type": "markdown",
   "metadata": {},
   "source": [
    "## Remove marks above names"
   ]
  },
  {
   "cell_type": "code",
   "execution_count": 85,
   "metadata": {},
   "outputs": [],
   "source": [
    "def remove_accents(text):\n",
    "    return unidecode(text)"
   ]
  },
  {
   "cell_type": "code",
   "execution_count": 86,
   "metadata": {},
   "outputs": [],
   "source": [
    "data_rm_es['data'] = data_rm_es['data'].apply(lambda x: remove_accents(str(x)))"
   ]
  },
  {
   "cell_type": "markdown",
   "metadata": {},
   "source": [
    "## Reset index"
   ]
  },
  {
   "cell_type": "code",
   "execution_count": 87,
   "metadata": {},
   "outputs": [],
   "source": [
    "data_es_clean1 = data_rm_es.copy()\n",
    "\n",
    "data_es_clean1.reset_index(drop=True, inplace=True)"
   ]
  },
  {
   "cell_type": "markdown",
   "metadata": {},
   "source": [
    "# Save data clean 1"
   ]
  },
  {
   "cell_type": "code",
   "execution_count": 88,
   "metadata": {},
   "outputs": [],
   "source": [
    "# Create the folder if it doesn't exist\n",
    "folder_name = 'data_clean'\n",
    "\n",
    "# Define the file path for saving the CSV\n",
    "file_name = 'es_clean_1.csv'\n",
    "file_path = os.path.join(folder_name, file_name)\n",
    "\n",
    "# Convert the dataframe to CSV and save it\n",
    "data_es_clean1.to_csv(file_path, index=False)"
   ]
  },
  {
   "cell_type": "markdown",
   "metadata": {},
   "source": [
    "# ------------------------"
   ]
  },
  {
   "cell_type": "markdown",
   "metadata": {},
   "source": [
    "# Preprocess for data clean 2"
   ]
  },
  {
   "cell_type": "markdown",
   "metadata": {},
   "source": [
    "# ------------------------"
   ]
  },
  {
   "cell_type": "markdown",
   "metadata": {},
   "source": [
    "# Remove short words"
   ]
  },
  {
   "cell_type": "code",
   "execution_count": 89,
   "metadata": {},
   "outputs": [],
   "source": [
    "data_wo_short = data_es_clean1.copy()\n",
    "\n",
    "data_wo_short['data'] = data_wo_short['data'].apply(strip_short)"
   ]
  },
  {
   "cell_type": "markdown",
   "metadata": {},
   "source": [
    "# Remove stopwords"
   ]
  },
  {
   "cell_type": "code",
   "execution_count": 90,
   "metadata": {},
   "outputs": [],
   "source": [
    "#Create copy to new df data_rm_sw as in data removed stopwords\n",
    "data_es_sw = data_wo_short.copy()\n",
    "\n",
    "#Load stopwords\n",
    "#nltk.download('stopwords')\n",
    "spanish_stopwords = stopwords.words('spanish')\n",
    "\n"
   ]
  },
  {
   "cell_type": "code",
   "execution_count": 91,
   "metadata": {},
   "outputs": [],
   "source": [
    "# Create a list of stop words to remove \n",
    "stop_words_to_remove = ['ni', 'no', 'sin']\n",
    "\n",
    "# Remove the stop words to remove from the stop words list\n",
    "for word in stop_words_to_remove:\n",
    "  spanish_stopwords.remove(word)\n",
    "\n",
    "# Define a function to apply remove_stopwords on a column\n",
    "def remove_stopwords_from_text(text):\n",
    "    return remove_stopwords(text, stopwords=spanish_stopwords)\n",
    "\n",
    "# Apply the remove_stopwords function to the 'text' column using the apply method\n",
    "data_es_sw['data'] = data_es_sw['data'].apply(remove_stopwords_from_text)\n",
    "\n"
   ]
  },
  {
   "cell_type": "markdown",
   "metadata": {},
   "source": [
    "# Copy for data clean 3"
   ]
  },
  {
   "cell_type": "code",
   "execution_count": 92,
   "metadata": {},
   "outputs": [],
   "source": [
    "data_es_clean3 = data_es_sw.copy()"
   ]
  },
  {
   "cell_type": "markdown",
   "metadata": {},
   "source": [
    "# Remove Punctuation"
   ]
  },
  {
   "cell_type": "code",
   "execution_count": 93,
   "metadata": {},
   "outputs": [],
   "source": [
    "data_wo_pun = data_es_sw.copy()\n",
    "\n",
    "data_wo_pun['data'] = data_wo_pun['data'].apply(strip_punctuation)"
   ]
  },
  {
   "cell_type": "markdown",
   "metadata": {},
   "source": [
    "# Save data clean 2"
   ]
  },
  {
   "cell_type": "code",
   "execution_count": 94,
   "metadata": {},
   "outputs": [],
   "source": [
    "data_es_clean2 = data_wo_pun.copy()"
   ]
  },
  {
   "cell_type": "code",
   "execution_count": 95,
   "metadata": {},
   "outputs": [],
   "source": [
    "# Create the folder if it doesn't exist\n",
    "folder_name = 'data_clean'\n",
    "\n",
    "# Define the file path for saving the CSV\n",
    "file_name = 'es_clean_2.csv'\n",
    "file_path = os.path.join(folder_name, file_name)\n",
    "\n",
    "# Convert the dataframe to CSV and save it\n",
    "data_es_clean2.to_csv(file_path, index=False)\n",
    "\n",
    "\n"
   ]
  },
  {
   "cell_type": "markdown",
   "metadata": {},
   "source": [
    "# ------------------------"
   ]
  },
  {
   "cell_type": "markdown",
   "metadata": {},
   "source": [
    "# Data condensed"
   ]
  },
  {
   "cell_type": "markdown",
   "metadata": {},
   "source": [
    "# ------------------------"
   ]
  },
  {
   "cell_type": "markdown",
   "metadata": {},
   "source": [
    "# Keep only paragraph"
   ]
  },
  {
   "cell_type": "code",
   "execution_count": 96,
   "metadata": {},
   "outputs": [],
   "source": [
    "data_es_pp = data_es_clean3.copy()\n",
    "\n",
    "# select only paragraphs which include playernames \n",
    "data_es_pp = find_lines_with_player(data_es_pp, data_es_pp['player'].unique(), n_lines = 1)"
   ]
  },
  {
   "cell_type": "markdown",
   "metadata": {},
   "source": [
    "# Remove empty rows"
   ]
  },
  {
   "cell_type": "code",
   "execution_count": 97,
   "metadata": {},
   "outputs": [
    {
     "data": {
      "text/html": [
       "<div>\n",
       "<style scoped>\n",
       "    .dataframe tbody tr th:only-of-type {\n",
       "        vertical-align: middle;\n",
       "    }\n",
       "\n",
       "    .dataframe tbody tr th {\n",
       "        vertical-align: top;\n",
       "    }\n",
       "\n",
       "    .dataframe thead th {\n",
       "        text-align: right;\n",
       "    }\n",
       "</style>\n",
       "<table border=\"1\" class=\"dataframe\">\n",
       "  <thead>\n",
       "    <tr style=\"text-align: right;\">\n",
       "      <th></th>\n",
       "      <th>data</th>\n",
       "      <th>player</th>\n",
       "      <th>language</th>\n",
       "      <th>publishedAt</th>\n",
       "    </tr>\n",
       "  </thead>\n",
       "  <tbody>\n",
       "    <tr>\n",
       "      <th>0</th>\n",
       "      <td>adeyemi firmo primer gol bundesliga  florian w...</td>\n",
       "      <td>exequiel palacios</td>\n",
       "      <td>es</td>\n",
       "      <td>2023-01-29T18:25:03Z</td>\n",
       "    </tr>\n",
       "    <tr>\n",
       "      <th>1</th>\n",
       "      <td>ultima semana marzo primera ventana partidos i...</td>\n",
       "      <td>exequiel palacios</td>\n",
       "      <td>es</td>\n",
       "      <td>2023-01-30T16:52:46Z</td>\n",
       "    </tr>\n",
       "    <tr>\n",
       "      <th>2</th>\n",
       "      <td>gustavo puerta jugara bayer leverkusen  bayer ...</td>\n",
       "      <td>exequiel palacios</td>\n",
       "      <td>es</td>\n",
       "      <td>2023-01-31T20:41:38Z</td>\n",
       "    </tr>\n",
       "    <tr>\n",
       "      <th>3</th>\n",
       "      <td>alberto fernandez  presidente afa, claudio \\'c...</td>\n",
       "      <td>exequiel palacios</td>\n",
       "      <td>es</td>\n",
       "      <td>2023-02-09T18:32:38Z</td>\n",
       "    </tr>\n",
       "    <tr>\n",
       "      <th>4</th>\n",
       "      <td>alberto fernandez  tambien participaron campeo...</td>\n",
       "      <td>exequiel palacios</td>\n",
       "      <td>es</td>\n",
       "      <td>2023-02-12T21:13:55Z</td>\n",
       "    </tr>\n",
       "    <tr>\n",
       "      <th>...</th>\n",
       "      <td>...</td>\n",
       "      <td>...</td>\n",
       "      <td>...</td>\n",
       "      <td>...</td>\n",
       "    </tr>\n",
       "    <tr>\n",
       "      <th>68</th>\n",
       "      <td>minuto, visitante habia llegado arco romano ge...</td>\n",
       "      <td>piero hincapié</td>\n",
       "      <td>es</td>\n",
       "      <td>2023-05-11T21:13:48Z</td>\n",
       "    </tr>\n",
       "    <tr>\n",
       "      <th>69</th>\n",
       "      <td>bayer leverkusen jugo visita roma, partido ida...</td>\n",
       "      <td>piero hincapié</td>\n",
       "      <td>es</td>\n",
       "      <td>2023-05-11T20:56:21Z</td>\n",
       "    </tr>\n",
       "    <tr>\n",
       "      <th>70</th>\n",
       "      <td>ecuatoriano volvera semifinales torneo uefa, a...</td>\n",
       "      <td>piero hincapié</td>\n",
       "      <td>es</td>\n",
       "      <td>2023-05-11T18:30:25Z</td>\n",
       "    </tr>\n",
       "    <tr>\n",
       "      <th>71</th>\n",
       "      <td>seleccion ecuador jugara dos ultimos amistosos...</td>\n",
       "      <td>piero hincapié</td>\n",
       "      <td>es</td>\n",
       "      <td>2023-05-10T23:37:55Z</td>\n",
       "    </tr>\n",
       "    <tr>\n",
       "      <th>72</th>\n",
       "      <td>auspiciado por  ganchos sera habra ecuatoriano...</td>\n",
       "      <td>piero hincapié</td>\n",
       "      <td>es</td>\n",
       "      <td>2023-05-09T00:58:48Z</td>\n",
       "    </tr>\n",
       "  </tbody>\n",
       "</table>\n",
       "<p>273 rows × 4 columns</p>\n",
       "</div>"
      ],
      "text/plain": [
       "                                                 data             player  \\\n",
       "0   adeyemi firmo primer gol bundesliga  florian w...  exequiel palacios   \n",
       "1   ultima semana marzo primera ventana partidos i...  exequiel palacios   \n",
       "2   gustavo puerta jugara bayer leverkusen  bayer ...  exequiel palacios   \n",
       "3   alberto fernandez  presidente afa, claudio \\'c...  exequiel palacios   \n",
       "4   alberto fernandez  tambien participaron campeo...  exequiel palacios   \n",
       "..                                                ...                ...   \n",
       "68  minuto, visitante habia llegado arco romano ge...     piero hincapié   \n",
       "69  bayer leverkusen jugo visita roma, partido ida...     piero hincapié   \n",
       "70  ecuatoriano volvera semifinales torneo uefa, a...     piero hincapié   \n",
       "71  seleccion ecuador jugara dos ultimos amistosos...     piero hincapié   \n",
       "72  auspiciado por  ganchos sera habra ecuatoriano...     piero hincapié   \n",
       "\n",
       "   language           publishedAt  \n",
       "0        es  2023-01-29T18:25:03Z  \n",
       "1        es  2023-01-30T16:52:46Z  \n",
       "2        es  2023-01-31T20:41:38Z  \n",
       "3        es  2023-02-09T18:32:38Z  \n",
       "4        es  2023-02-12T21:13:55Z  \n",
       "..      ...                   ...  \n",
       "68       es  2023-05-11T21:13:48Z  \n",
       "69       es  2023-05-11T20:56:21Z  \n",
       "70       es  2023-05-11T18:30:25Z  \n",
       "71       es  2023-05-10T23:37:55Z  \n",
       "72       es  2023-05-09T00:58:48Z  \n",
       "\n",
       "[273 rows x 4 columns]"
      ]
     },
     "execution_count": 97,
     "metadata": {},
     "output_type": "execute_result"
    }
   ],
   "source": [
    "data_es_er = data_es_pp.replace('', pd.NA)\n",
    "data_es_er.dropna(inplace=True)\n",
    "data_es_er"
   ]
  },
  {
   "cell_type": "markdown",
   "metadata": {},
   "source": [
    "# Remove player name"
   ]
  },
  {
   "cell_type": "code",
   "execution_count": 98,
   "metadata": {},
   "outputs": [],
   "source": [
    "data_es_pn = data_es_er.copy()\n",
    "\n",
    "# for every player remove their names from the texts \n",
    "for player in data_es_pn['player'].unique():\n",
    "    f_l_name = player.split()\n",
    "\n",
    "    # Extracting the first name\n",
    "    first_name = str(f_l_name[0])\n",
    "\n",
    "    # Extracting the last name\n",
    "    last_name = str(f_l_name[1])\n",
    "\n",
    "    updated_pattern = r\"\\b(\" + first_name.lower() + r\"|\" + last_name.lower() + r\")\\b|\"\n",
    "\n",
    "\n",
    "    # Apply the function to the data column\n",
    "    data_es_pn.loc[data_es_pn['player'] == player, 'data'] = data_es_pn.loc[data_es_pn['player'] == player, 'data'].apply(lambda x: re.sub(updated_pattern, \"\", str(x)))"
   ]
  },
  {
   "cell_type": "markdown",
   "metadata": {},
   "source": [
    "# Remove punctuation"
   ]
  },
  {
   "cell_type": "code",
   "execution_count": 99,
   "metadata": {},
   "outputs": [],
   "source": [
    "\n",
    "data_es_pn['data'] = data_es_pn['data'].apply(strip_punctuation)\n",
    "data_es_pn['data'] = data_es_pn['data'].apply(strip_multiple_whitespaces)"
   ]
  },
  {
   "cell_type": "markdown",
   "metadata": {},
   "source": [
    "# Save data condensed"
   ]
  },
  {
   "cell_type": "code",
   "execution_count": 100,
   "metadata": {},
   "outputs": [],
   "source": [
    "data_es_condense = data_es_pn.copy()"
   ]
  },
  {
   "cell_type": "code",
   "execution_count": 101,
   "metadata": {},
   "outputs": [],
   "source": [
    "# Create the folder if it doesn't exist\n",
    "folder_name = 'data_clean'\n",
    "\n",
    "# Define the file path for saving the CSV\n",
    "file_name = 'es_clean_condensed.csv'\n",
    "file_path = os.path.join(folder_name, file_name)\n",
    "\n",
    "# Convert the dataframe to CSV and save it\n",
    "data_es_condense.to_csv(file_path, index=False)"
   ]
  }
 ],
 "metadata": {
  "kernelspec": {
   "display_name": "Python 3.9.6 64-bit",
   "language": "python",
   "name": "python3"
  },
  "language_info": {
   "codemirror_mode": {
    "name": "ipython",
    "version": 3
   },
   "file_extension": ".py",
   "mimetype": "text/x-python",
   "name": "python",
   "nbconvert_exporter": "python",
   "pygments_lexer": "ipython3",
   "version": "3.9.6"
  },
  "orig_nbformat": 4,
  "vscode": {
   "interpreter": {
    "hash": "31f2aee4e71d21fbe5cf8b01ff0e069b9275f58929596ceb00d14d90e3e16cd6"
   }
  }
 },
 "nbformat": 4,
 "nbformat_minor": 2
}
