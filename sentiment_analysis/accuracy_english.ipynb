{
 "cells": [
  {
   "cell_type": "code",
   "execution_count": 1,
   "metadata": {},
   "outputs": [
    {
     "name": "stderr",
     "output_type": "stream",
     "text": [
      "C:\\Users\\joana\\AppData\\Local\\Packages\\PythonSoftwareFoundation.Python.3.10_qbz5n2kfra8p0\\LocalCache\\local-packages\\Python310\\site-packages\\tqdm\\auto.py:21: TqdmWarning: IProgress not found. Please update jupyter and ipywidgets. See https://ipywidgets.readthedocs.io/en/stable/user_install.html\n",
      "  from .autonotebook import tqdm as notebook_tqdm\n"
     ]
    }
   ],
   "source": [
    "import requests\n",
    "import numpy as np\n",
    "import pandas as pd\n",
    "from transformers import pipeline\n",
    "from sklearn.metrics import confusion_matrix\n",
    "from sklearn.metrics import classification_report\n"
   ]
  },
  {
   "attachments": {},
   "cell_type": "markdown",
   "metadata": {},
   "source": [
    "# Load Data"
   ]
  },
  {
   "cell_type": "code",
   "execution_count": 2,
   "metadata": {},
   "outputs": [],
   "source": [
    "# Load the CSV file into a DataFrame\n",
    "#df_en = pd.read_csv('../Preprocessing/data_clean/labeled-data/labeled-en_clean_1-1_not101010.csv')"
   ]
  },
  {
   "cell_type": "code",
   "execution_count": 3,
   "metadata": {},
   "outputs": [],
   "source": [
    "df_en = pd.read_csv('https://raw.githubusercontent.com/svisel22/SS23-BIPM-Analytics-Lab---Group-4-repository/main/Preprocessing/data_clean/labeled-data/labeled-en_clean_con_sen.csv')"
   ]
  },
  {
   "cell_type": "code",
   "execution_count": 4,
   "metadata": {},
   "outputs": [
    {
     "data": {
      "text/html": [
       "<div>\n",
       "<style scoped>\n",
       "    .dataframe tbody tr th:only-of-type {\n",
       "        vertical-align: middle;\n",
       "    }\n",
       "\n",
       "    .dataframe tbody tr th {\n",
       "        vertical-align: top;\n",
       "    }\n",
       "\n",
       "    .dataframe thead th {\n",
       "        text-align: right;\n",
       "    }\n",
       "</style>\n",
       "<table border=\"1\" class=\"dataframe\">\n",
       "  <thead>\n",
       "    <tr style=\"text-align: right;\">\n",
       "      <th></th>\n",
       "      <th>data</th>\n",
       "      <th>player</th>\n",
       "      <th>language</th>\n",
       "      <th>publishedAt</th>\n",
       "      <th>Label</th>\n",
       "    </tr>\n",
       "  </thead>\n",
       "  <tbody>\n",
       "    <tr>\n",
       "      <th>0</th>\n",
       "      <td>bayerleverkusen took lead minute  midfielder p...</td>\n",
       "      <td>exequiel palacios</td>\n",
       "      <td>en</td>\n",
       "      <td>2023-02-23T20:50:50Z</td>\n",
       "      <td>NaN</td>\n",
       "    </tr>\n",
       "    <tr>\n",
       "      <th>1</th>\n",
       "      <td>midfielders  leandro paredes  juventus  angel ...</td>\n",
       "      <td>exequiel palacios</td>\n",
       "      <td>en</td>\n",
       "      <td>2023-03-03T16:42:19Z</td>\n",
       "      <td>neutral</td>\n",
       "    </tr>\n",
       "    <tr>\n",
       "      <th>2</th>\n",
       "      <td>half goal joshua kimmich canceled penalties pa...</td>\n",
       "      <td>exequiel palacios</td>\n",
       "      <td>en</td>\n",
       "      <td>2023-03-19T18:30:00Z</td>\n",
       "      <td>positiv</td>\n",
       "    </tr>\n",
       "    <tr>\n",
       "      <th>3</th>\n",
       "      <td>by reuters bayerleverkusen s palacios scored s...</td>\n",
       "      <td>exequiel palacios</td>\n",
       "      <td>en</td>\n",
       "      <td>2023-03-19T18:42:59Z</td>\n",
       "      <td>NaN</td>\n",
       "    </tr>\n",
       "    <tr>\n",
       "      <th>4</th>\n",
       "      <td>bayerleverkusen s palacios scored second half ...</td>\n",
       "      <td>exequiel palacios</td>\n",
       "      <td>en</td>\n",
       "      <td>2023-03-19T19:05:09Z</td>\n",
       "      <td>positiv</td>\n",
       "    </tr>\n",
       "  </tbody>\n",
       "</table>\n",
       "</div>"
      ],
      "text/plain": [
       "                                                data             player  \\\n",
       "0  bayerleverkusen took lead minute  midfielder p...  exequiel palacios   \n",
       "1  midfielders  leandro paredes  juventus  angel ...  exequiel palacios   \n",
       "2  half goal joshua kimmich canceled penalties pa...  exequiel palacios   \n",
       "3  by reuters bayerleverkusen s palacios scored s...  exequiel palacios   \n",
       "4  bayerleverkusen s palacios scored second half ...  exequiel palacios   \n",
       "\n",
       "  language           publishedAt    Label  \n",
       "0       en  2023-02-23T20:50:50Z      NaN  \n",
       "1       en  2023-03-03T16:42:19Z  neutral  \n",
       "2       en  2023-03-19T18:30:00Z  positiv  \n",
       "3       en  2023-03-19T18:42:59Z      NaN  \n",
       "4       en  2023-03-19T19:05:09Z  positiv  "
      ]
     },
     "execution_count": 4,
     "metadata": {},
     "output_type": "execute_result"
    }
   ],
   "source": [
    "df_en.head()"
   ]
  },
  {
   "attachments": {},
   "cell_type": "markdown",
   "metadata": {},
   "source": [
    "# Fix NA"
   ]
  },
  {
   "cell_type": "code",
   "execution_count": 5,
   "metadata": {},
   "outputs": [],
   "source": [
    "#for DE datasate drop empty lines\n",
    "df_de = df_en.dropna(subset=['data'])"
   ]
  },
  {
   "cell_type": "code",
   "execution_count": 6,
   "metadata": {},
   "outputs": [
    {
     "data": {
      "text/html": [
       "<div>\n",
       "<style scoped>\n",
       "    .dataframe tbody tr th:only-of-type {\n",
       "        vertical-align: middle;\n",
       "    }\n",
       "\n",
       "    .dataframe tbody tr th {\n",
       "        vertical-align: top;\n",
       "    }\n",
       "\n",
       "    .dataframe thead th {\n",
       "        text-align: right;\n",
       "    }\n",
       "</style>\n",
       "<table border=\"1\" class=\"dataframe\">\n",
       "  <thead>\n",
       "    <tr style=\"text-align: right;\">\n",
       "      <th></th>\n",
       "      <th>data</th>\n",
       "      <th>player</th>\n",
       "      <th>language</th>\n",
       "      <th>publishedAt</th>\n",
       "      <th>Label</th>\n",
       "    </tr>\n",
       "  </thead>\n",
       "  <tbody>\n",
       "    <tr>\n",
       "      <th>0</th>\n",
       "      <td>bayerleverkusen took lead minute  midfielder p...</td>\n",
       "      <td>exequiel palacios</td>\n",
       "      <td>en</td>\n",
       "      <td>2023-02-23T20:50:50Z</td>\n",
       "      <td>NaN</td>\n",
       "    </tr>\n",
       "    <tr>\n",
       "      <th>1</th>\n",
       "      <td>midfielders  leandro paredes  juventus  angel ...</td>\n",
       "      <td>exequiel palacios</td>\n",
       "      <td>en</td>\n",
       "      <td>2023-03-03T16:42:19Z</td>\n",
       "      <td>neutral</td>\n",
       "    </tr>\n",
       "    <tr>\n",
       "      <th>2</th>\n",
       "      <td>half goal joshua kimmich canceled penalties pa...</td>\n",
       "      <td>exequiel palacios</td>\n",
       "      <td>en</td>\n",
       "      <td>2023-03-19T18:30:00Z</td>\n",
       "      <td>positiv</td>\n",
       "    </tr>\n",
       "    <tr>\n",
       "      <th>3</th>\n",
       "      <td>by reuters bayerleverkusen s palacios scored s...</td>\n",
       "      <td>exequiel palacios</td>\n",
       "      <td>en</td>\n",
       "      <td>2023-03-19T18:42:59Z</td>\n",
       "      <td>NaN</td>\n",
       "    </tr>\n",
       "    <tr>\n",
       "      <th>4</th>\n",
       "      <td>bayerleverkusen s palacios scored second half ...</td>\n",
       "      <td>exequiel palacios</td>\n",
       "      <td>en</td>\n",
       "      <td>2023-03-19T19:05:09Z</td>\n",
       "      <td>positiv</td>\n",
       "    </tr>\n",
       "  </tbody>\n",
       "</table>\n",
       "</div>"
      ],
      "text/plain": [
       "                                                data             player  \\\n",
       "0  bayerleverkusen took lead minute  midfielder p...  exequiel palacios   \n",
       "1  midfielders  leandro paredes  juventus  angel ...  exequiel palacios   \n",
       "2  half goal joshua kimmich canceled penalties pa...  exequiel palacios   \n",
       "3  by reuters bayerleverkusen s palacios scored s...  exequiel palacios   \n",
       "4  bayerleverkusen s palacios scored second half ...  exequiel palacios   \n",
       "\n",
       "  language           publishedAt    Label  \n",
       "0       en  2023-02-23T20:50:50Z      NaN  \n",
       "1       en  2023-03-03T16:42:19Z  neutral  \n",
       "2       en  2023-03-19T18:30:00Z  positiv  \n",
       "3       en  2023-03-19T18:42:59Z      NaN  \n",
       "4       en  2023-03-19T19:05:09Z  positiv  "
      ]
     },
     "execution_count": 6,
     "metadata": {},
     "output_type": "execute_result"
    }
   ],
   "source": [
    "df_en.head()"
   ]
  },
  {
   "attachments": {},
   "cell_type": "markdown",
   "metadata": {},
   "source": [
    "# Sentiment analysis full text"
   ]
  },
  {
   "cell_type": "code",
   "execution_count": 7,
   "metadata": {},
   "outputs": [
    {
     "name": "stderr",
     "output_type": "stream",
     "text": [
      "Some weights of the model checkpoint at bert-base-uncased were not used when initializing BertForSequenceClassification: ['cls.predictions.transform.LayerNorm.bias', 'cls.seq_relationship.bias', 'cls.predictions.bias', 'cls.predictions.transform.dense.weight', 'cls.predictions.transform.LayerNorm.weight', 'cls.seq_relationship.weight', 'cls.predictions.transform.dense.bias', 'cls.predictions.decoder.weight']\n",
      "- This IS expected if you are initializing BertForSequenceClassification from the checkpoint of a model trained on another task or with another architecture (e.g. initializing a BertForSequenceClassification model from a BertForPreTraining model).\n",
      "- This IS NOT expected if you are initializing BertForSequenceClassification from the checkpoint of a model that you expect to be exactly identical (initializing a BertForSequenceClassification model from a BertForSequenceClassification model).\n",
      "Some weights of BertForSequenceClassification were not initialized from the model checkpoint at bert-base-uncased and are newly initialized: ['classifier.weight', 'classifier.bias']\n",
      "You should probably TRAIN this model on a down-stream task to be able to use it for predictions and inference.\n"
     ]
    }
   ],
   "source": [
    "sentiment_classifier = pipeline('sentiment-analysis', model='bert-base-uncased')\n"
   ]
  },
  {
   "cell_type": "code",
   "execution_count": 8,
   "metadata": {},
   "outputs": [
    {
     "data": {
      "text/html": [
       "<div>\n",
       "<style scoped>\n",
       "    .dataframe tbody tr th:only-of-type {\n",
       "        vertical-align: middle;\n",
       "    }\n",
       "\n",
       "    .dataframe tbody tr th {\n",
       "        vertical-align: top;\n",
       "    }\n",
       "\n",
       "    .dataframe thead th {\n",
       "        text-align: right;\n",
       "    }\n",
       "</style>\n",
       "<table border=\"1\" class=\"dataframe\">\n",
       "  <thead>\n",
       "    <tr style=\"text-align: right;\">\n",
       "      <th></th>\n",
       "      <th>data</th>\n",
       "      <th>player</th>\n",
       "      <th>language</th>\n",
       "      <th>publishedAt</th>\n",
       "      <th>Label</th>\n",
       "      <th>sentiment_score</th>\n",
       "      <th>sentiment_label</th>\n",
       "    </tr>\n",
       "  </thead>\n",
       "  <tbody>\n",
       "    <tr>\n",
       "      <th>0</th>\n",
       "      <td>bayerleverkusen took lead minute  midfielder p...</td>\n",
       "      <td>exequiel palacios</td>\n",
       "      <td>en</td>\n",
       "      <td>2023-02-23T20:50:50Z</td>\n",
       "      <td>NaN</td>\n",
       "      <td>0.632718</td>\n",
       "      <td>positiv</td>\n",
       "    </tr>\n",
       "    <tr>\n",
       "      <th>1</th>\n",
       "      <td>midfielders  leandro paredes  juventus  angel ...</td>\n",
       "      <td>exequiel palacios</td>\n",
       "      <td>en</td>\n",
       "      <td>2023-03-03T16:42:19Z</td>\n",
       "      <td>neutral</td>\n",
       "      <td>0.650659</td>\n",
       "      <td>positiv</td>\n",
       "    </tr>\n",
       "    <tr>\n",
       "      <th>2</th>\n",
       "      <td>half goal joshua kimmich canceled penalties pa...</td>\n",
       "      <td>exequiel palacios</td>\n",
       "      <td>en</td>\n",
       "      <td>2023-03-19T18:30:00Z</td>\n",
       "      <td>positiv</td>\n",
       "      <td>0.612918</td>\n",
       "      <td>positiv</td>\n",
       "    </tr>\n",
       "    <tr>\n",
       "      <th>3</th>\n",
       "      <td>by reuters bayerleverkusen s palacios scored s...</td>\n",
       "      <td>exequiel palacios</td>\n",
       "      <td>en</td>\n",
       "      <td>2023-03-19T18:42:59Z</td>\n",
       "      <td>NaN</td>\n",
       "      <td>0.612275</td>\n",
       "      <td>positiv</td>\n",
       "    </tr>\n",
       "    <tr>\n",
       "      <th>4</th>\n",
       "      <td>bayerleverkusen s palacios scored second half ...</td>\n",
       "      <td>exequiel palacios</td>\n",
       "      <td>en</td>\n",
       "      <td>2023-03-19T19:05:09Z</td>\n",
       "      <td>positiv</td>\n",
       "      <td>0.632688</td>\n",
       "      <td>positiv</td>\n",
       "    </tr>\n",
       "  </tbody>\n",
       "</table>\n",
       "</div>"
      ],
      "text/plain": [
       "                                                data             player  \\\n",
       "0  bayerleverkusen took lead minute  midfielder p...  exequiel palacios   \n",
       "1  midfielders  leandro paredes  juventus  angel ...  exequiel palacios   \n",
       "2  half goal joshua kimmich canceled penalties pa...  exequiel palacios   \n",
       "3  by reuters bayerleverkusen s palacios scored s...  exequiel palacios   \n",
       "4  bayerleverkusen s palacios scored second half ...  exequiel palacios   \n",
       "\n",
       "  language           publishedAt    Label  sentiment_score sentiment_label  \n",
       "0       en  2023-02-23T20:50:50Z      NaN         0.632718         positiv  \n",
       "1       en  2023-03-03T16:42:19Z  neutral         0.650659         positiv  \n",
       "2       en  2023-03-19T18:30:00Z  positiv         0.612918         positiv  \n",
       "3       en  2023-03-19T18:42:59Z      NaN         0.612275         positiv  \n",
       "4       en  2023-03-19T19:05:09Z  positiv         0.632688         positiv  "
      ]
     },
     "execution_count": 8,
     "metadata": {},
     "output_type": "execute_result"
    }
   ],
   "source": [
    "def perform_comparison_sentiment_analysis(df):\n",
    "    # Create empty lists to store the sentiment scores and labels\n",
    "    sentiment_scores = []\n",
    "    sentiment_labels = []\n",
    "\n",
    "    # Iterate over the 'data' column in the DataFrame\n",
    "    for text in df['data']:\n",
    "        # Perform sentiment analysis using the Hugging Face pipeline\n",
    "        result = sentiment_classifier(text)[0]\n",
    "        sentiment_score = result['score']\n",
    "        \n",
    "        # Convert logits to predicted label (positive/negative)\n",
    "        predicted_label = 1 if sentiment_score > 0.5 else 0\n",
    "        sentiment_label = \"positiv\" if predicted_label == 1 else \"negativ\"\n",
    "\n",
    "        # Append the sentiment score and label to the respective lists\n",
    "        sentiment_scores.append(sentiment_score)\n",
    "        sentiment_labels.append(sentiment_label)\n",
    "\n",
    "    # Add the sentiment scores and labels as new columns in the DataFrame\n",
    "    df['sentiment_score'] = sentiment_scores\n",
    "    df['sentiment_label'] = sentiment_labels\n",
    "\n",
    "    return df\n",
    "\n",
    "\n",
    "# Perform sentiment analysis on the DataFrame\n",
    "df = perform_comparison_sentiment_analysis(df_en)\n",
    "\n",
    "# Print the updated DataFrame\n",
    "df.head()\n"
   ]
  },
  {
   "cell_type": "code",
   "execution_count": 9,
   "metadata": {},
   "outputs": [
    {
     "data": {
      "text/plain": [
       "'three labels:\\ndef perform_comparison_sentiment_analysis(df):\\n    # Create empty lists to store the sentiment scores and labels\\n    sentiment_scores = []\\n    sentiment_labels = []\\n\\n    # Iterate over the \\'data\\' column in the DataFrame\\n    for text in df[\\'data\\']:\\n        # Perform sentiment analysis using the Hugging Face pipeline\\n        result = sentiment_classifier(text)[0]\\n        sentiment_score = result[\\'score\\']\\n        \\n        # Determine sentiment label based on sentiment score\\n        if sentiment_score > 0.6:\\n            sentiment_label = \"positive\"\\n        elif sentiment_score < 0.4:\\n            sentiment_label = \"negative\"\\n        else:\\n            sentiment_label = \"neutral\"\\n\\n        # Append the sentiment score and label to the respective lists\\n        sentiment_scores.append(sentiment_score)\\n        sentiment_labels.append(sentiment_label)\\n\\n    # Add the sentiment scores and labels as new columns in the DataFrame\\n    df[\\'sentiment_score\\'] = sentiment_scores\\n    df[\\'sentiment_label\\'] = sentiment_labels\\n\\n    return df\\n\\n\\n# Perform sentiment analysis on the DataFrame\\ndf = perform_comparison_sentiment_analysis(df_en)\\n\\n# Print the updated DataFrame\\ndf.head()\\n\\n'"
      ]
     },
     "execution_count": 9,
     "metadata": {},
     "output_type": "execute_result"
    }
   ],
   "source": [
    "'''three labels:\n",
    "def perform_comparison_sentiment_analysis(df):\n",
    "    # Create empty lists to store the sentiment scores and labels\n",
    "    sentiment_scores = []\n",
    "    sentiment_labels = []\n",
    "\n",
    "    # Iterate over the 'data' column in the DataFrame\n",
    "    for text in df['data']:\n",
    "        # Perform sentiment analysis using the Hugging Face pipeline\n",
    "        result = sentiment_classifier(text)[0]\n",
    "        sentiment_score = result['score']\n",
    "        \n",
    "        # Determine sentiment label based on sentiment score\n",
    "        if sentiment_score > 0.6:\n",
    "            sentiment_label = \"positive\"\n",
    "        elif sentiment_score < 0.4:\n",
    "            sentiment_label = \"negative\"\n",
    "        else:\n",
    "            sentiment_label = \"neutral\"\n",
    "\n",
    "        # Append the sentiment score and label to the respective lists\n",
    "        sentiment_scores.append(sentiment_score)\n",
    "        sentiment_labels.append(sentiment_label)\n",
    "\n",
    "    # Add the sentiment scores and labels as new columns in the DataFrame\n",
    "    df['sentiment_score'] = sentiment_scores\n",
    "    df['sentiment_label'] = sentiment_labels\n",
    "\n",
    "    return df\n",
    "\n",
    "\n",
    "# Perform sentiment analysis on the DataFrame\n",
    "df = perform_comparison_sentiment_analysis(df_en)\n",
    "\n",
    "# Print the updated DataFrame\n",
    "df.head()\n",
    "\n",
    "'''"
   ]
  },
  {
   "cell_type": "code",
   "execution_count": 10,
   "metadata": {},
   "outputs": [
    {
     "name": "stdout",
     "output_type": "stream",
     "text": [
      "['positiv']\n",
      "0.5091699957847595\n",
      "0.6674174070358276\n"
     ]
    }
   ],
   "source": [
    "print(df['sentiment_label'].unique())\n",
    "print(df['sentiment_score'].min())\n",
    "print(df['sentiment_score'].max())"
   ]
  },
  {
   "cell_type": "code",
   "execution_count": 11,
   "metadata": {},
   "outputs": [
    {
     "data": {
      "text/plain": [
       "0.0"
      ]
     },
     "execution_count": 11,
     "metadata": {},
     "output_type": "execute_result"
    }
   ],
   "source": [
    "df[df['sentiment_label'] == 'negativ'].shape[0]/df.shape[0]"
   ]
  },
  {
   "cell_type": "code",
   "execution_count": 12,
   "metadata": {},
   "outputs": [
    {
     "data": {
      "text/html": [
       "<div>\n",
       "<style scoped>\n",
       "    .dataframe tbody tr th:only-of-type {\n",
       "        vertical-align: middle;\n",
       "    }\n",
       "\n",
       "    .dataframe tbody tr th {\n",
       "        vertical-align: top;\n",
       "    }\n",
       "\n",
       "    .dataframe thead th {\n",
       "        text-align: right;\n",
       "    }\n",
       "</style>\n",
       "<table border=\"1\" class=\"dataframe\">\n",
       "  <thead>\n",
       "    <tr style=\"text-align: right;\">\n",
       "      <th></th>\n",
       "      <th>data</th>\n",
       "      <th>player</th>\n",
       "      <th>language</th>\n",
       "      <th>publishedAt</th>\n",
       "      <th>Label</th>\n",
       "      <th>sentiment_score</th>\n",
       "      <th>sentiment_label</th>\n",
       "    </tr>\n",
       "  </thead>\n",
       "  <tbody>\n",
       "    <tr>\n",
       "      <th>1</th>\n",
       "      <td>midfielders  leandro paredes  juventus  angel ...</td>\n",
       "      <td>exequiel palacios</td>\n",
       "      <td>en</td>\n",
       "      <td>2023-03-03T16:42:19Z</td>\n",
       "      <td>neutral</td>\n",
       "      <td>0.650659</td>\n",
       "      <td>positiv</td>\n",
       "    </tr>\n",
       "    <tr>\n",
       "      <th>2</th>\n",
       "      <td>half goal joshua kimmich canceled penalties pa...</td>\n",
       "      <td>exequiel palacios</td>\n",
       "      <td>en</td>\n",
       "      <td>2023-03-19T18:30:00Z</td>\n",
       "      <td>positiv</td>\n",
       "      <td>0.612918</td>\n",
       "      <td>positiv</td>\n",
       "    </tr>\n",
       "    <tr>\n",
       "      <th>4</th>\n",
       "      <td>bayerleverkusen s palacios scored second half ...</td>\n",
       "      <td>exequiel palacios</td>\n",
       "      <td>en</td>\n",
       "      <td>2023-03-19T19:05:09Z</td>\n",
       "      <td>positiv</td>\n",
       "      <td>0.632688</td>\n",
       "      <td>positiv</td>\n",
       "    </tr>\n",
       "    <tr>\n",
       "      <th>6</th>\n",
       "      <td>palacios scored penalties bayerleverkusen beat...</td>\n",
       "      <td>exequiel palacios</td>\n",
       "      <td>en</td>\n",
       "      <td>2023-03-19T20:03:28Z</td>\n",
       "      <td>positiv</td>\n",
       "      <td>0.643328</td>\n",
       "      <td>positiv</td>\n",
       "    </tr>\n",
       "    <tr>\n",
       "      <th>8</th>\n",
       "      <td>bayerleverkusen stun bayern munich bayerleverk...</td>\n",
       "      <td>exequiel palacios</td>\n",
       "      <td>en</td>\n",
       "      <td>2023-03-20T04:56:02Z</td>\n",
       "      <td>positiv</td>\n",
       "      <td>0.637220</td>\n",
       "      <td>positiv</td>\n",
       "    </tr>\n",
       "  </tbody>\n",
       "</table>\n",
       "</div>"
      ],
      "text/plain": [
       "                                                data             player  \\\n",
       "1  midfielders  leandro paredes  juventus  angel ...  exequiel palacios   \n",
       "2  half goal joshua kimmich canceled penalties pa...  exequiel palacios   \n",
       "4  bayerleverkusen s palacios scored second half ...  exequiel palacios   \n",
       "6  palacios scored penalties bayerleverkusen beat...  exequiel palacios   \n",
       "8  bayerleverkusen stun bayern munich bayerleverk...  exequiel palacios   \n",
       "\n",
       "  language           publishedAt    Label  sentiment_score sentiment_label  \n",
       "1       en  2023-03-03T16:42:19Z  neutral         0.650659         positiv  \n",
       "2       en  2023-03-19T18:30:00Z  positiv         0.612918         positiv  \n",
       "4       en  2023-03-19T19:05:09Z  positiv         0.632688         positiv  \n",
       "6       en  2023-03-19T20:03:28Z  positiv         0.643328         positiv  \n",
       "8       en  2023-03-20T04:56:02Z  positiv         0.637220         positiv  "
      ]
     },
     "execution_count": 12,
     "metadata": {},
     "output_type": "execute_result"
    }
   ],
   "source": [
    "# Drop rows where 'Label' is NaN or empty\n",
    "df_en.dropna(subset=['Label'], inplace=True)\n",
    "\n",
    "# Print the updated DataFrame\n",
    "data = df_en[df_en['Label'] != 'neutral']\n",
    "\n",
    "df_en.head()"
   ]
  },
  {
   "cell_type": "code",
   "execution_count": 13,
   "metadata": {},
   "outputs": [
    {
     "data": {
      "text/html": [
       "<div>\n",
       "<style scoped>\n",
       "    .dataframe tbody tr th:only-of-type {\n",
       "        vertical-align: middle;\n",
       "    }\n",
       "\n",
       "    .dataframe tbody tr th {\n",
       "        vertical-align: top;\n",
       "    }\n",
       "\n",
       "    .dataframe thead th {\n",
       "        text-align: right;\n",
       "    }\n",
       "</style>\n",
       "<table border=\"1\" class=\"dataframe\">\n",
       "  <thead>\n",
       "    <tr style=\"text-align: right;\">\n",
       "      <th></th>\n",
       "      <th>data</th>\n",
       "      <th>player</th>\n",
       "      <th>language</th>\n",
       "      <th>publishedAt</th>\n",
       "      <th>Label</th>\n",
       "      <th>sentiment_score</th>\n",
       "      <th>sentiment_label</th>\n",
       "    </tr>\n",
       "  </thead>\n",
       "  <tbody>\n",
       "    <tr>\n",
       "      <th>2</th>\n",
       "      <td>half goal joshua kimmich canceled penalties pa...</td>\n",
       "      <td>exequiel palacios</td>\n",
       "      <td>en</td>\n",
       "      <td>2023-03-19T18:30:00Z</td>\n",
       "      <td>positiv</td>\n",
       "      <td>0.612918</td>\n",
       "      <td>positiv</td>\n",
       "    </tr>\n",
       "    <tr>\n",
       "      <th>4</th>\n",
       "      <td>bayerleverkusen s palacios scored second half ...</td>\n",
       "      <td>exequiel palacios</td>\n",
       "      <td>en</td>\n",
       "      <td>2023-03-19T19:05:09Z</td>\n",
       "      <td>positiv</td>\n",
       "      <td>0.632688</td>\n",
       "      <td>positiv</td>\n",
       "    </tr>\n",
       "    <tr>\n",
       "      <th>6</th>\n",
       "      <td>palacios scored penalties bayerleverkusen beat...</td>\n",
       "      <td>exequiel palacios</td>\n",
       "      <td>en</td>\n",
       "      <td>2023-03-19T20:03:28Z</td>\n",
       "      <td>positiv</td>\n",
       "      <td>0.643328</td>\n",
       "      <td>positiv</td>\n",
       "    </tr>\n",
       "    <tr>\n",
       "      <th>8</th>\n",
       "      <td>bayerleverkusen stun bayern munich bayerleverk...</td>\n",
       "      <td>exequiel palacios</td>\n",
       "      <td>en</td>\n",
       "      <td>2023-03-20T04:56:02Z</td>\n",
       "      <td>positiv</td>\n",
       "      <td>0.637220</td>\n",
       "      <td>positiv</td>\n",
       "    </tr>\n",
       "    <tr>\n",
       "      <th>11</th>\n",
       "      <td>foul palacios  argentina</td>\n",
       "      <td>exequiel palacios</td>\n",
       "      <td>en</td>\n",
       "      <td>2023-03-29T06:58:57Z</td>\n",
       "      <td>negativ</td>\n",
       "      <td>0.615712</td>\n",
       "      <td>positiv</td>\n",
       "    </tr>\n",
       "    <tr>\n",
       "      <th>16</th>\n",
       "      <td>ronald koeman launched scathing assessment fri...</td>\n",
       "      <td>jeremie frimpong</td>\n",
       "      <td>en</td>\n",
       "      <td>2023-03-22T10:35:51Z</td>\n",
       "      <td>negativ</td>\n",
       "      <td>0.521703</td>\n",
       "      <td>positiv</td>\n",
       "    </tr>\n",
       "    <tr>\n",
       "      <th>17</th>\n",
       "      <td>ronald koeman undiplomatic return  saying over...</td>\n",
       "      <td>jeremie frimpong</td>\n",
       "      <td>en</td>\n",
       "      <td>2023-03-24T07:23:27Z</td>\n",
       "      <td>negativ</td>\n",
       "      <td>0.592686</td>\n",
       "      <td>positiv</td>\n",
       "    </tr>\n",
       "    <tr>\n",
       "      <th>19</th>\n",
       "      <td>bayerleverkusen handed schalke defeat matches ...</td>\n",
       "      <td>jeremie frimpong</td>\n",
       "      <td>en</td>\n",
       "      <td>2023-04-01T19:24:43Z</td>\n",
       "      <td>positiv</td>\n",
       "      <td>0.573699</td>\n",
       "      <td>positiv</td>\n",
       "    </tr>\n",
       "    <tr>\n",
       "      <th>31</th>\n",
       "      <td>german outfit stormed victory aggregate goals ...</td>\n",
       "      <td>jeremie frimpong</td>\n",
       "      <td>en</td>\n",
       "      <td>2023-04-20T20:52:37Z</td>\n",
       "      <td>positiv</td>\n",
       "      <td>0.606132</td>\n",
       "      <td>positiv</td>\n",
       "    </tr>\n",
       "    <tr>\n",
       "      <th>53</th>\n",
       "      <td>diaby wirtz struck break flip game it s head l...</td>\n",
       "      <td>moussa diaby</td>\n",
       "      <td>en</td>\n",
       "      <td>2023-02-16T23:15:39Z</td>\n",
       "      <td>positiv</td>\n",
       "      <td>0.548560</td>\n",
       "      <td>positiv</td>\n",
       "    </tr>\n",
       "    <tr>\n",
       "      <th>54</th>\n",
       "      <td>monaco midfielder eliot matazo hit bar second ...</td>\n",
       "      <td>moussa diaby</td>\n",
       "      <td>en</td>\n",
       "      <td>2023-02-23T20:50:50Z</td>\n",
       "      <td>positiv</td>\n",
       "      <td>0.590681</td>\n",
       "      <td>positiv</td>\n",
       "    </tr>\n",
       "    <tr>\n",
       "      <th>62</th>\n",
       "      <td>bayerleverkusen recorded second victory ferenc...</td>\n",
       "      <td>moussa diaby</td>\n",
       "      <td>en</td>\n",
       "      <td>2023-03-16T22:41:00Z</td>\n",
       "      <td>positiv</td>\n",
       "      <td>0.592335</td>\n",
       "      <td>positiv</td>\n",
       "    </tr>\n",
       "    <tr>\n",
       "      <th>72</th>\n",
       "      <td>german outfit stormed victory aggregate goals ...</td>\n",
       "      <td>moussa diaby</td>\n",
       "      <td>en</td>\n",
       "      <td>2023-04-20T20:52:37Z</td>\n",
       "      <td>positiv</td>\n",
       "      <td>0.606132</td>\n",
       "      <td>positiv</td>\n",
       "    </tr>\n",
       "  </tbody>\n",
       "</table>\n",
       "</div>"
      ],
      "text/plain": [
       "                                                 data             player  \\\n",
       "2   half goal joshua kimmich canceled penalties pa...  exequiel palacios   \n",
       "4   bayerleverkusen s palacios scored second half ...  exequiel palacios   \n",
       "6   palacios scored penalties bayerleverkusen beat...  exequiel palacios   \n",
       "8   bayerleverkusen stun bayern munich bayerleverk...  exequiel palacios   \n",
       "11                           foul palacios  argentina  exequiel palacios   \n",
       "16  ronald koeman launched scathing assessment fri...   jeremie frimpong   \n",
       "17  ronald koeman undiplomatic return  saying over...   jeremie frimpong   \n",
       "19  bayerleverkusen handed schalke defeat matches ...   jeremie frimpong   \n",
       "31  german outfit stormed victory aggregate goals ...   jeremie frimpong   \n",
       "53  diaby wirtz struck break flip game it s head l...       moussa diaby   \n",
       "54  monaco midfielder eliot matazo hit bar second ...       moussa diaby   \n",
       "62  bayerleverkusen recorded second victory ferenc...       moussa diaby   \n",
       "72  german outfit stormed victory aggregate goals ...       moussa diaby   \n",
       "\n",
       "   language           publishedAt    Label  sentiment_score sentiment_label  \n",
       "2        en  2023-03-19T18:30:00Z  positiv         0.612918         positiv  \n",
       "4        en  2023-03-19T19:05:09Z  positiv         0.632688         positiv  \n",
       "6        en  2023-03-19T20:03:28Z  positiv         0.643328         positiv  \n",
       "8        en  2023-03-20T04:56:02Z  positiv         0.637220         positiv  \n",
       "11       en  2023-03-29T06:58:57Z  negativ         0.615712         positiv  \n",
       "16       en  2023-03-22T10:35:51Z  negativ         0.521703         positiv  \n",
       "17       en  2023-03-24T07:23:27Z  negativ         0.592686         positiv  \n",
       "19       en  2023-04-01T19:24:43Z  positiv         0.573699         positiv  \n",
       "31       en  2023-04-20T20:52:37Z  positiv         0.606132         positiv  \n",
       "53       en  2023-02-16T23:15:39Z  positiv         0.548560         positiv  \n",
       "54       en  2023-02-23T20:50:50Z  positiv         0.590681         positiv  \n",
       "62       en  2023-03-16T22:41:00Z  positiv         0.592335         positiv  \n",
       "72       en  2023-04-20T20:52:37Z  positiv         0.606132         positiv  "
      ]
     },
     "execution_count": 13,
     "metadata": {},
     "output_type": "execute_result"
    }
   ],
   "source": [
    "data"
   ]
  },
  {
   "cell_type": "code",
   "execution_count": 17,
   "metadata": {},
   "outputs": [
    {
     "name": "stdout",
     "output_type": "stream",
     "text": [
      "0.5217034220695496\n",
      "0.6433281302452087\n"
     ]
    }
   ],
   "source": [
    "print(data['sentiment_score'].min())\n",
    "print(data['sentiment_score'].max())\n"
   ]
  },
  {
   "cell_type": "code",
   "execution_count": 14,
   "metadata": {},
   "outputs": [
    {
     "name": "stdout",
     "output_type": "stream",
     "text": [
      "Accuracy: 76.92%\n"
     ]
    }
   ],
   "source": [
    "# Calculate the accuracy\n",
    "accuracy = (data['sentiment_label'] == data['Label']).mean() * 100\n",
    "\n",
    "# Print the accuracy\n",
    "print(\"Accuracy: {:.2f}%\".format(accuracy))"
   ]
  },
  {
   "cell_type": "code",
   "execution_count": 15,
   "metadata": {},
   "outputs": [
    {
     "name": "stdout",
     "output_type": "stream",
     "text": [
      "Confusion Matrix:\n",
      "         negativ  positiv\n",
      "negativ        0        3\n",
      "positiv        0       10\n"
     ]
    }
   ],
   "source": [
    "# Assuming you have the true labels in 'Label' column and predicted labels in 'sentiment_label' column of the DataFrame\n",
    "true_labels = data['Label']\n",
    "predicted_labels = data['sentiment_label']\n",
    "\n",
    "# Create the confusion matrix\n",
    "cm = confusion_matrix(true_labels, predicted_labels)\n",
    "\n",
    "# Convert the confusion matrix to a DataFrame for better visualization\n",
    "labels = np.unique(np.concatenate((true_labels, predicted_labels)))\n",
    "cm_df = pd.DataFrame(cm, index=labels, columns=labels)\n",
    "\n",
    "# Display the confusion matrix\n",
    "print(\"Confusion Matrix:\")\n",
    "print(cm_df)"
   ]
  },
  {
   "cell_type": "code",
   "execution_count": 16,
   "metadata": {},
   "outputs": [
    {
     "name": "stdout",
     "output_type": "stream",
     "text": [
      "Classification Report:\n",
      "              precision    recall  f1-score   support\n",
      "\n",
      "     negativ       0.00      0.00      0.00         3\n",
      "     positiv       0.77      1.00      0.87        10\n",
      "\n",
      "    accuracy                           0.77        13\n",
      "   macro avg       0.38      0.50      0.43        13\n",
      "weighted avg       0.59      0.77      0.67        13\n",
      "\n"
     ]
    },
    {
     "name": "stderr",
     "output_type": "stream",
     "text": [
      "C:\\Users\\joana\\AppData\\Local\\Packages\\PythonSoftwareFoundation.Python.3.10_qbz5n2kfra8p0\\LocalCache\\local-packages\\Python310\\site-packages\\sklearn\\metrics\\_classification.py:1344: UndefinedMetricWarning: Precision and F-score are ill-defined and being set to 0.0 in labels with no predicted samples. Use `zero_division` parameter to control this behavior.\n",
      "  _warn_prf(average, modifier, msg_start, len(result))\n",
      "C:\\Users\\joana\\AppData\\Local\\Packages\\PythonSoftwareFoundation.Python.3.10_qbz5n2kfra8p0\\LocalCache\\local-packages\\Python310\\site-packages\\sklearn\\metrics\\_classification.py:1344: UndefinedMetricWarning: Precision and F-score are ill-defined and being set to 0.0 in labels with no predicted samples. Use `zero_division` parameter to control this behavior.\n",
      "  _warn_prf(average, modifier, msg_start, len(result))\n",
      "C:\\Users\\joana\\AppData\\Local\\Packages\\PythonSoftwareFoundation.Python.3.10_qbz5n2kfra8p0\\LocalCache\\local-packages\\Python310\\site-packages\\sklearn\\metrics\\_classification.py:1344: UndefinedMetricWarning: Precision and F-score are ill-defined and being set to 0.0 in labels with no predicted samples. Use `zero_division` parameter to control this behavior.\n",
      "  _warn_prf(average, modifier, msg_start, len(result))\n"
     ]
    }
   ],
   "source": [
    "# Assuming you have the true labels in 'Label' column and predicted labels in 'sentiment_label' column of the DataFrame\n",
    "true_labels = data['Label']\n",
    "predicted_labels = data['sentiment_label']\n",
    "\n",
    "# Generate the classification report\n",
    "report = classification_report(true_labels, predicted_labels)\n",
    "\n",
    "# Display the classification report\n",
    "print(\"Classification Report:\")\n",
    "print(report)\n"
   ]
  }
 ],
 "metadata": {
  "kernelspec": {
   "display_name": "Python 3.9.6 64-bit",
   "language": "python",
   "name": "python3"
  },
  "language_info": {
   "codemirror_mode": {
    "name": "ipython",
    "version": 3
   },
   "file_extension": ".py",
   "mimetype": "text/x-python",
   "name": "python",
   "nbconvert_exporter": "python",
   "pygments_lexer": "ipython3",
   "version": "3.9.6 (default, Oct 18 2022, 12:41:40) \n[Clang 14.0.0 (clang-1400.0.29.202)]"
  },
  "orig_nbformat": 4,
  "vscode": {
   "interpreter": {
    "hash": "31f2aee4e71d21fbe5cf8b01ff0e069b9275f58929596ceb00d14d90e3e16cd6"
   }
  }
 },
 "nbformat": 4,
 "nbformat_minor": 2
}
