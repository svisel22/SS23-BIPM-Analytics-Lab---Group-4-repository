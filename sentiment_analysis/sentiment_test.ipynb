{
 "cells": [
  {
   "cell_type": "code",
   "execution_count": 51,
   "metadata": {},
   "outputs": [],
   "source": [
    "from transformers import AutoTokenizer, AutoModelForSequenceClassification\n",
    "import torch\n",
    "import requests\n",
    "from bs4 import BeautifulSoup\n",
    "import re\n",
    "import numpy as np\n",
    "import pandas as pd"
   ]
  },
  {
   "cell_type": "markdown",
   "metadata": {},
   "source": [
    "# Load model"
   ]
  },
  {
   "cell_type": "code",
   "execution_count": 78,
   "metadata": {},
   "outputs": [],
   "source": [
    "# https://huggingface.co/nlptown/bert-base-multilingual-uncased-sentiment\n",
    "tokenizer = AutoTokenizer.from_pretrained('nlptown/bert-base-multilingual-uncased-sentiment')\n",
    "\n",
    "model = AutoModelForSequenceClassification.from_pretrained('nlptown/bert-base-multilingual-uncased-sentiment')"
   ]
  },
  {
   "cell_type": "markdown",
   "metadata": {},
   "source": [
    "# Load data clean"
   ]
  },
  {
   "cell_type": "code",
   "execution_count": 65,
   "metadata": {},
   "outputs": [],
   "source": [
    "# Load the CSV file into a DataFrame\n",
    "df_de = pd.read_csv('../Preprocessing/data_clean/de_clean_1.csv')\n",
    "df_en = pd.read_csv('../Preprocessing/data_clean/en_clean_1.csv')\n",
    "df_es = pd.read_csv('../Preprocessing/data_clean/es_clean_1.csv')"
   ]
  },
  {
   "cell_type": "markdown",
   "metadata": {},
   "source": [
    "### DE fix"
   ]
  },
  {
   "cell_type": "code",
   "execution_count": 66,
   "metadata": {},
   "outputs": [],
   "source": [
    "#for DE datasate drop empty lines\n",
    "df_de = df_de.dropna(subset=['data'])\n"
   ]
  },
  {
   "cell_type": "markdown",
   "metadata": {},
   "source": [
    "### Hincapié fix"
   ]
  },
  {
   "cell_type": "code",
   "execution_count": 67,
   "metadata": {},
   "outputs": [],
   "source": [
    "# Replace 'Piero Hincapié' with 'Piero Hincapie' in the 'player' column\n",
    "df_es['player'] = df_es['player'].replace('Piero Hincapié', 'Piero Hincapie')\n",
    "df_en['player'] = df_en['player'].replace('piero hincapié', 'piero hincapie')\n"
   ]
  },
  {
   "cell_type": "markdown",
   "metadata": {},
   "source": [
    "# Sentiment Analysis"
   ]
  },
  {
   "cell_type": "code",
   "execution_count": 70,
   "metadata": {},
   "outputs": [],
   "source": [
    "def sentiment_score(data):\n",
    "    if isinstance(data, str):\n",
    "        tokens = tokenizer.encode(data, return_tensors='pt')\n",
    "        result = model(tokens)\n",
    "        return int(torch.argmax(result.logits)) + 1\n",
    "    else:\n",
    "        return 0"
   ]
  },
  {
   "cell_type": "code",
   "execution_count": 71,
   "metadata": {},
   "outputs": [],
   "source": [
    "df_de['sentiment'] = df_de['data'].apply(lambda x: sentiment_score(x[:512]))\n",
    "df_en['sentiment'] = df_en['data'].apply(lambda x: sentiment_score(x[:512]))\n",
    "df_es['sentiment'] = df_es['data'].apply(lambda x: sentiment_score(x[:512]))"
   ]
  },
  {
   "cell_type": "code",
   "execution_count": 72,
   "metadata": {},
   "outputs": [
    {
     "name": "stdout",
     "output_type": "stream",
     "text": [
      "Sentiment score per player DE\n",
      "player\n",
      "exequiel palacios    1.608247\n",
      "jeremie frimpong     1.811966\n",
      "jonathan tah         1.784091\n",
      "mitchel bakker       1.677083\n",
      "moussa diaby         1.760331\n",
      "mykhaylo mudryk      1.000000\n",
      "piero hincapie       1.623529\n",
      "Name: sentiment, dtype: float64\n",
      "Sentiment score per player EN\n",
      "player\n",
      "exequiel palacios    2.958333\n",
      "jeremie frimpong     2.666667\n",
      "jonathan tah         3.142857\n",
      "mitchel bakker       2.777778\n",
      "moussa diaby         2.698925\n",
      "mykhaylo mudryk      2.692308\n",
      "piero hincapie       2.260870\n",
      "Name: sentiment, dtype: float64\n",
      "Sentiment score per player ES\n",
      "player\n",
      "Exequiel Palacios    2.927835\n",
      "Jeremie Frimpong     2.956522\n",
      "Jonathan Tah         2.833333\n",
      "Mitchel Bakker       2.818182\n",
      "Moussa Diaby         2.548387\n",
      "Mykhaylo Mudryk      1.962963\n",
      "Piero Hincapie       3.217949\n",
      "Name: sentiment, dtype: float64\n"
     ]
    }
   ],
   "source": [
    "# Grouping the data by 'player' and calculating the mean of 'sentiment' for each player\n",
    "mean_sentiment_de = df_de.groupby('player')['sentiment'].mean()\n",
    "mean_sentiment_en = df_en.groupby('player')['sentiment'].mean()\n",
    "mean_sentiment_es = df_es.groupby('player')['sentiment'].mean()\n",
    "\n",
    "print('Sentiment score per player DE')\n",
    "print(mean_sentiment_de)\n",
    "print('Sentiment score per player EN')\n",
    "print(mean_sentiment_en)\n",
    "print('Sentiment score per player ES')\n",
    "print(mean_sentiment_es)"
   ]
  },
  {
   "cell_type": "markdown",
   "metadata": {},
   "source": [
    "# Player sentence analysis"
   ]
  },
  {
   "cell_type": "code",
   "execution_count": 73,
   "metadata": {},
   "outputs": [],
   "source": [
    "def extract_sentence(df):\n",
    "    df['short'] = ''\n",
    "    \n",
    "    for index, row in df.iterrows():\n",
    "        player = row['player']\n",
    "        data = str(row['data'])  # Convert data to string\n",
    "        \n",
    "        # Find the sentence containing player's information\n",
    "        sentences = data.split('.')\n",
    "        for sentence in sentences:\n",
    "            if player.lower() in sentence.lower():\n",
    "                df.at[index, 'short'] = sentence.strip()\n",
    "                break\n",
    "    \n",
    "    return df"
   ]
  },
  {
   "cell_type": "code",
   "execution_count": 74,
   "metadata": {},
   "outputs": [
    {
     "data": {
      "text/html": [
       "<div>\n",
       "<style scoped>\n",
       "    .dataframe tbody tr th:only-of-type {\n",
       "        vertical-align: middle;\n",
       "    }\n",
       "\n",
       "    .dataframe tbody tr th {\n",
       "        vertical-align: top;\n",
       "    }\n",
       "\n",
       "    .dataframe thead th {\n",
       "        text-align: right;\n",
       "    }\n",
       "</style>\n",
       "<table border=\"1\" class=\"dataframe\">\n",
       "  <thead>\n",
       "    <tr style=\"text-align: right;\">\n",
       "      <th></th>\n",
       "      <th>data</th>\n",
       "      <th>player</th>\n",
       "      <th>language</th>\n",
       "      <th>publishedAt</th>\n",
       "      <th>sentiment</th>\n",
       "      <th>short</th>\n",
       "    </tr>\n",
       "  </thead>\n",
       "  <tbody>\n",
       "    <tr>\n",
       "      <th>0</th>\n",
       "      <td>Mercado de fichajes de fútbol, en directo  Con...</td>\n",
       "      <td>Exequiel Palacios</td>\n",
       "      <td>es</td>\n",
       "      <td>2023-01-29T18:25:03Z</td>\n",
       "      <td>2</td>\n",
       "      <td>Mercado de fichajes de fútbol, en directo  Con...</td>\n",
       "    </tr>\n",
       "    <tr>\n",
       "      <th>1</th>\n",
       "      <td>La última semana de marzo es la primera ventan...</td>\n",
       "      <td>Exequiel Palacios</td>\n",
       "      <td>es</td>\n",
       "      <td>2023-01-30T16:52:46Z</td>\n",
       "      <td>2</td>\n",
       "      <td>Además de Messi y Ángel Di María, máximos refe...</td>\n",
       "    </tr>\n",
       "    <tr>\n",
       "      <th>2</th>\n",
       "      <td>Gustavo Puerta ya no jugará en el Bayer Leverk...</td>\n",
       "      <td>Exequiel Palacios</td>\n",
       "      <td>es</td>\n",
       "      <td>2023-01-31T20:41:38Z</td>\n",
       "      <td>2</td>\n",
       "      <td>El club alemán, que siempre se ha caracterizad...</td>\n",
       "    </tr>\n",
       "    <tr>\n",
       "      <th>3</th>\n",
       "      <td>Alberto Fernández  El presidente de la AFA, Cl...</td>\n",
       "      <td>Exequiel Palacios</td>\n",
       "      <td>es</td>\n",
       "      <td>2023-02-09T18:32:38Z</td>\n",
       "      <td>3</td>\n",
       "      <td>Alberto Fernández  El presidente de la AFA, Cl...</td>\n",
       "    </tr>\n",
       "    <tr>\n",
       "      <th>4</th>\n",
       "      <td>Alberto Fernández  También participaron los ot...</td>\n",
       "      <td>Exequiel Palacios</td>\n",
       "      <td>es</td>\n",
       "      <td>2023-02-12T21:13:55Z</td>\n",
       "      <td>4</td>\n",
       "      <td>Alberto Fernández  También participaron los ot...</td>\n",
       "    </tr>\n",
       "    <tr>\n",
       "      <th>...</th>\n",
       "      <td>...</td>\n",
       "      <td>...</td>\n",
       "      <td>...</td>\n",
       "      <td>...</td>\n",
       "      <td>...</td>\n",
       "      <td>...</td>\n",
       "    </tr>\n",
       "    <tr>\n",
       "      <th>268</th>\n",
       "      <td>Antes del minuto, el visitante ya había llegad...</td>\n",
       "      <td>Piero Hincapie</td>\n",
       "      <td>es</td>\n",
       "      <td>2023-05-11T21:13:48Z</td>\n",
       "      <td>1</td>\n",
       "      <td></td>\n",
       "    </tr>\n",
       "    <tr>\n",
       "      <th>269</th>\n",
       "      <td>El Bayer Leverkusen jugó de visita contra la R...</td>\n",
       "      <td>Piero Hincapie</td>\n",
       "      <td>es</td>\n",
       "      <td>2023-05-11T20:56:21Z</td>\n",
       "      <td>3</td>\n",
       "      <td></td>\n",
       "    </tr>\n",
       "    <tr>\n",
       "      <th>270</th>\n",
       "      <td>Un ecuatoriano volverá a semifinales de un tor...</td>\n",
       "      <td>Piero Hincapie</td>\n",
       "      <td>es</td>\n",
       "      <td>2023-05-11T18:30:25Z</td>\n",
       "      <td>4</td>\n",
       "      <td></td>\n",
       "    </tr>\n",
       "    <tr>\n",
       "      <th>271</th>\n",
       "      <td>La Selección de Ecuador jugará sus dos últimos...</td>\n",
       "      <td>Piero Hincapie</td>\n",
       "      <td>es</td>\n",
       "      <td>2023-05-10T23:37:55Z</td>\n",
       "      <td>3</td>\n",
       "      <td></td>\n",
       "    </tr>\n",
       "    <tr>\n",
       "      <th>272</th>\n",
       "      <td>Auspiciado por  Uno de los ganchos será que ha...</td>\n",
       "      <td>Piero Hincapie</td>\n",
       "      <td>es</td>\n",
       "      <td>2023-05-09T00:58:48Z</td>\n",
       "      <td>4</td>\n",
       "      <td></td>\n",
       "    </tr>\n",
       "  </tbody>\n",
       "</table>\n",
       "<p>273 rows × 6 columns</p>\n",
       "</div>"
      ],
      "text/plain": [
       "                                                  data             player  \\\n",
       "0    Mercado de fichajes de fútbol, en directo  Con...  Exequiel Palacios   \n",
       "1    La última semana de marzo es la primera ventan...  Exequiel Palacios   \n",
       "2    Gustavo Puerta ya no jugará en el Bayer Leverk...  Exequiel Palacios   \n",
       "3    Alberto Fernández  El presidente de la AFA, Cl...  Exequiel Palacios   \n",
       "4    Alberto Fernández  También participaron los ot...  Exequiel Palacios   \n",
       "..                                                 ...                ...   \n",
       "268  Antes del minuto, el visitante ya había llegad...     Piero Hincapie   \n",
       "269  El Bayer Leverkusen jugó de visita contra la R...     Piero Hincapie   \n",
       "270  Un ecuatoriano volverá a semifinales de un tor...     Piero Hincapie   \n",
       "271  La Selección de Ecuador jugará sus dos últimos...     Piero Hincapie   \n",
       "272  Auspiciado por  Uno de los ganchos será que ha...     Piero Hincapie   \n",
       "\n",
       "    language           publishedAt  sentiment  \\\n",
       "0         es  2023-01-29T18:25:03Z          2   \n",
       "1         es  2023-01-30T16:52:46Z          2   \n",
       "2         es  2023-01-31T20:41:38Z          2   \n",
       "3         es  2023-02-09T18:32:38Z          3   \n",
       "4         es  2023-02-12T21:13:55Z          4   \n",
       "..       ...                   ...        ...   \n",
       "268       es  2023-05-11T21:13:48Z          1   \n",
       "269       es  2023-05-11T20:56:21Z          3   \n",
       "270       es  2023-05-11T18:30:25Z          4   \n",
       "271       es  2023-05-10T23:37:55Z          3   \n",
       "272       es  2023-05-09T00:58:48Z          4   \n",
       "\n",
       "                                                 short  \n",
       "0    Mercado de fichajes de fútbol, en directo  Con...  \n",
       "1    Además de Messi y Ángel Di María, máximos refe...  \n",
       "2    El club alemán, que siempre se ha caracterizad...  \n",
       "3    Alberto Fernández  El presidente de la AFA, Cl...  \n",
       "4    Alberto Fernández  También participaron los ot...  \n",
       "..                                                 ...  \n",
       "268                                                     \n",
       "269                                                     \n",
       "270                                                     \n",
       "271                                                     \n",
       "272                                                     \n",
       "\n",
       "[273 rows x 6 columns]"
      ]
     },
     "execution_count": 74,
     "metadata": {},
     "output_type": "execute_result"
    }
   ],
   "source": [
    "extract_sentence(df_de)\n",
    "extract_sentence(df_en)\n",
    "extract_sentence(df_es)"
   ]
  },
  {
   "cell_type": "code",
   "execution_count": 75,
   "metadata": {},
   "outputs": [],
   "source": [
    "df_de['sentiment2'] = df_de['short'].apply(lambda x: sentiment_score(x[:512]))\n",
    "df_en['sentiment2'] = df_en['short'].apply(lambda x: sentiment_score(x[:512]))\n",
    "df_es['sentiment2'] = df_es['short'].apply(lambda x: sentiment_score(x[:512]))"
   ]
  },
  {
   "cell_type": "code",
   "execution_count": 76,
   "metadata": {},
   "outputs": [
    {
     "name": "stdout",
     "output_type": "stream",
     "text": [
      "Sentiment score per player DE\n",
      "player\n",
      "exequiel palacios    1.896907\n",
      "jeremie frimpong     2.350427\n",
      "jonathan tah         2.363636\n",
      "mitchel bakker       2.302083\n",
      "moussa diaby         2.272727\n",
      "mykhaylo mudryk      1.166667\n",
      "piero hincapie       2.200000\n",
      "Name: sentiment2, dtype: float64\n",
      "Sentiment score per player EN\n",
      "player\n",
      "exequiel palacios    2.250000\n",
      "jeremie frimpong     2.839506\n",
      "jonathan tah         3.571429\n",
      "mitchel bakker       2.333333\n",
      "moussa diaby         3.075269\n",
      "mykhaylo mudryk      2.865385\n",
      "piero hincapie       3.000000\n",
      "Name: sentiment2, dtype: float64\n",
      "Sentiment score per player ES\n",
      "player\n",
      "Exequiel Palacios    3.226804\n",
      "Jeremie Frimpong     3.173913\n",
      "Jonathan Tah         3.000000\n",
      "Mitchel Bakker       2.272727\n",
      "Moussa Diaby         2.580645\n",
      "Mykhaylo Mudryk      2.407407\n",
      "Piero Hincapie       3.858974\n",
      "Name: sentiment2, dtype: float64\n"
     ]
    }
   ],
   "source": [
    "# Grouping the data by 'player' and calculating the mean of 'sentiment' for each player\n",
    "mean_sentiment_de = df_de.groupby('player')['sentiment2'].mean()\n",
    "mean_sentiment_en = df_en.groupby('player')['sentiment2'].mean()\n",
    "mean_sentiment_es = df_es.groupby('player')['sentiment2'].mean()\n",
    "\n",
    "print('Sentiment score per player DE')\n",
    "print(mean_sentiment_de)\n",
    "print('Sentiment score per player EN')\n",
    "print(mean_sentiment_en)\n",
    "print('Sentiment score per player ES')\n",
    "print(mean_sentiment_es)"
   ]
  }
 ],
 "metadata": {
  "kernelspec": {
   "display_name": "Python 3.9.6 64-bit",
   "language": "python",
   "name": "python3"
  },
  "language_info": {
   "codemirror_mode": {
    "name": "ipython",
    "version": 3
   },
   "file_extension": ".py",
   "mimetype": "text/x-python",
   "name": "python",
   "nbconvert_exporter": "python",
   "pygments_lexer": "ipython3",
   "version": "3.9.6"
  },
  "orig_nbformat": 4,
  "vscode": {
   "interpreter": {
    "hash": "31f2aee4e71d21fbe5cf8b01ff0e069b9275f58929596ceb00d14d90e3e16cd6"
   }
  }
 },
 "nbformat": 4,
 "nbformat_minor": 2
}
