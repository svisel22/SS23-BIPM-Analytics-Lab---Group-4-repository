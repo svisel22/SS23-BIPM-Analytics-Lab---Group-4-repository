{
 "cells": [
  {
   "cell_type": "code",
   "execution_count": 113,
   "metadata": {},
   "outputs": [],
   "source": [
    "import pprint\n",
    "import requests\n",
    "from newsapi import NewsApiClient\n",
    "import datetime\n",
    "import matplotlib.pyplot as plt\n",
    "import pandas as pd\n",
    "from bs4 import BeautifulSoup\n",
    "\n"
   ]
  },
  {
   "cell_type": "code",
   "execution_count": 114,
   "metadata": {},
   "outputs": [],
   "source": [
    "secret = '40d4a2e1919c4066b59df69ca787f4ba'\n",
    "  \n",
    "# Define the endpoint\n",
    "url = 'https://newsapi.org/v2/everything'\n",
    "\n",
    "# Get today's date\n",
    "today = datetime.date.today()\n",
    "\n",
    "# Get the date 2 years ago\n",
    "two_years = today - datetime.timedelta(days=365*2)"
   ]
  },
  {
   "cell_type": "code",
   "execution_count": 115,
   "metadata": {},
   "outputs": [
    {
     "name": "stdout",
     "output_type": "stream",
     "text": [
      "Error: Request failed with status 429\n",
      "                                                                             title  \\\n",
      "0  Nach DFB-Backpfeife für Bayer-Star: Alonso: „Diese Erfahrung muss Wirtz machen“   \n",
      "1                    Alonso stärkt Wirtz: \"Er muss auch diese Erfahrungen sammeln\"   \n",
      "2                                                                      ZEIT ONLINE   \n",
      "3              Bundesliga: Nach DFB-Auswechslung: Alonso sorgt sich nicht um Wirtz   \n",
      "\n",
      "  author  \\\n",
      "0          \n",
      "1          \n",
      "2          \n",
      "3          \n",
      "\n",
      "                                                                                                                                                                                                                                                                                                                                                                                                                                                                                                                                                                                                                                                                                                                                                                                                                                                                                                                                                                                                                                                                                                                                                                                                                                                                                                                                                                                                                                                                                                                                                                                                                                                                                                                                                                                                                                                                                                                                                                                                                                                                                                                                                                                                                                                                                                                                                                                                                                                                                                                                                                                                                                                                                                                                                                                                                                                                                                                                                                                                                                                                                                                                                                                                                                                                                                                                                                                                                                                                                                                                                                                                                                                                                                                                                                                                                                                                                                                                                                                                                                                                                                                                                                                                                                                                                                                                                                                                                           content  \n",
      "0                                                                                                                                                                                                                                                                                                                                                                                                                                                                                                                                                                                                                                                                                                                                                                                                                                                                                                                                                                                                                                                                                                                                                                                                                                                                                                                                                                                                                                                                                                                                                                                                                                                                                                                                                                                                                                                                                                                      Enttäuscht nach seiner Auswechslung gegen Belgien: Florian Wirtz\\nAusgerechnet in Köln musste Florian Wirtz (19) beim 2:3-Länderspiel gegen Belgien in der 32. Minute vom Platz. Die Folge seiner schwachen Vorstellung.\\nWie verkraftet Wirtz die DFB-Backpfeife?\\n„Da muss er auch durch. Aber er ist so gut. Ich glaube, das spornt ihn eher noch an“, meinte Bundestrainer Hansi Flick (58) nach der Partie gegen Belgien.\\nSein Klub-Trainer Xabi Alonso (41) sagt: „Wir haben am Donnerstag gesprochen. Er ist stark im Kopf, hat eine gute Mentalität. Er ist ruhig, kann mit dieser Situation umgehen und akzeptiert sie. Deutschland wird im nächsten Spiel besser spielen und bei der EM wettbewerbsfähig sein. Und Flo wird ein wichtiger Teil dieser Mannschaft sein.“\\nAlonso ist überzeugt, dass die frühe Auswechslung Wirtz für den Verlauf seiner Karriere helfen wird: „Flo ist so jung, er muss jede Art von Erfahrung machen, ob gute oder schlechte. Jede Erfahrung ist wichtig für ihn, um besser zu werden.“\\nMit Blick aufs Bayer-Duell bei Schalke 04 (Samstag 15.30 Uhr/Sky) in der  Bundesliga sagt Alonso über Wirtz: „Ich habe das Gefühl, dass er sehr motiviert ist, um das Beste zu geben. Wir brauchen ihn, weil wir in den nächsten zwei Monaten viele Spiele und große Ziele zu erreichen haben.“\\nOhne Frage: Der Aufschwung von  Bayer Leverkusen 2023 (seit sieben Spielen ungeschlagen, davon sechs Siege Leverkusen) hat entscheidend mit dem Wirtz-Comeback nach seinem Kreuzbandriss zu tun.\\n\\nFlorian Wirtz (r.) nach der Länderspiel-Niederlage gegen Belgien\\n„Gegen die Bayern hat er vielleicht nicht die spektakulärste Leistung gezeigt. Aber er war sehr, sehr wichtig für uns, um Druck zu machen, um den Angriff und das Mittelfeld zu verbinden. Ich war sehr zufrieden mit seiner Arbeit“, sagt Alonso und ergänzt: „Wir müssen gut spielen, aber auch als Mannschaft gut sein. Wenn Flo uns da helfen kann, ist die Mannschaft besser.“\\nWirtz war einer von 13 Leverkusener Nationalspielern, die mit ihren Auswahlteams unterwegs waren. „Alles sind gesund zurückgekommen, es gab keine Probleme, das ist eine gute Nachricht für uns“, meint Trainer Alonso.\\n\\nDer Marktwert des Kaders von Bayer Leverkusen ist nach der Krise im Herbst jetzt um 7,5 Millionen Euro gestiegen.\\nLeverkusens Trainer Xabi Alonso hat den vierten Platz neun Spieltage vor Schluss noch nicht abgeschrieben.\\nBILD Gutscheine\\nBILD Vergleich\\nPartnerangebote  \n",
      "1  Nutze kicker auf seinen digitalen Plattformen wie gewohnt mit Werbung und Tracking. Die Zustimmung kann jederzeit für die Zukunft widerrufen werden. Details zu Werbe- und Analyse-Trackern findest du in unserer Datenschutzerklärung oder bei Cookies & Tracking am Ende jeder Seite.\\nMit dem PUR-Abo nutzt du kicker auf seinen digitalen Plattformen ohne Werbetracking und praktisch werbefrei.\\nNur €2,49 im Monat\\nBereits PUR-Abonnent? Hier anmelden.\\nAlle Antworten zum PUR-Abo findest du hier.\\nWerbung und Tracking: Um dir relevante Inhalte und personalisierte Werbung anzubieten, setzen wir Cookies und andere Technologien ein. Damit messen wir, wie und womit du unsere Angebote nutzt. Diese Daten geben wir auch an Dritte weiter. Wir greifen dabei auf dein Endgerät zu, speichern Cookies oder sonstige Informationen und wir oder Dritte können mit diesen sowie mit persönlichen Identifikatoren (z.B. Geräte-Kennungen oder IP-Adressen) und basierend auf deinem individuellen Nutzungsverhalten ...\\nHinweis zur Verarbeitung deiner auf dieser Webseite erhobenen Daten in den USA: Wir weisen dich darauf hin, dass bezogen auf einzelne Cookies und Dienstleister eine Verarbeitung deiner Daten in den USA erfolgt. Die USA werden vom Europäischen Gerichtshof als ein Land mit einem nach EU-Standards unzureichendem Datenschutzniveau eingeschätzt. Es besteht insbesondere das Risiko, dass deine Daten durch US-Behörden, zu Kontroll- und zu Überwachungszwecken, möglicherweise auch ohne Rechtsbehelfsmöglichkeiten, verarbeitet werden können.\\nBayer-Talent musste beim Länderspiel gegen Belgien früh vom Feld\\nTrainer Xabi Alonso ist überzeugt davon, dass Florian Wirtz die Auswechslung bei der Nationalmannschaft gut verkraftet hat. Vor dem Gastspiel auf Schalke steht zudem noch nicht fest, ob Robert Andrich erneut in letzter Kette auflaufen wird.\\nGlaubt an die mentale Stärke von Florian Wirtz (re.): Leverkusen-Coach Xavi Alonso.\\r\\n\\r\\n                                        IMAGO/Laci Perenyi\\nEs war lange anders, möglicherweise kommen die Worte ihm deshalb so flüssig über die Lippen: \"Alle sind gesund, es gibt keine Probleme\", sagt Xabi Alonso, und Bayer Leverkusens Trainer befürchtet auch keinen Einbruch bei Florian Wirtz, dessen Aufenthalt bei der Nationalmannschaft keinen Glanzpunkt seiner zu erwartenden Karriere bildete.\\nDie frühe Auswechslung des Mittelfeldspielers gegen Belgien  sollte nach seines Chefs Beobachtung allerdings keine Nachwirkungen zeitigen. \"Wir haben miteinander gesprochen. Er ist stark im Kopf und kann mit dieser Situation umgehen. Er ist jetzt bei uns und wir brauchen ihn.\" Wirtz müsse eben \"alle Erfahrungen sammeln, auch diese\". Aber Alonso sieht seinen Schützling \"mit großer Motivation\" im Training arbeiten.\\nUnd gerne lässt er noch den Hinweis darauf fallen, dass Wirtz nicht allein für das Spektakel zuständig ist, sondern auch für die harte Arbeit. Genau dies habe der Nationalspieler gegen die Bayern gezeigt, als er Räume zulief, den Aufbau des Meisters störte und insgesamt mehr als Mannschaftsspieler überzeugte denn als Einzelkönner.\\nDer Kollege Robert Andrich darf als Gegenentwurf herhalten. Ein robuster Zweikämpfer, der keinem Duell aus dem Wege geht, allerdings dank seiner Erfahrung in der Lage ist, ein Spiel von hinten aufzubauen. Seine Nominierung gegen die Bayern als Mittelmann der Dreierkette wurde allgemein als ein Grund für die souveräne Leistung der Leverkusener genannt.\\nOb Andrich beim FC Schalke am Samstag (15.30 Uhr, LIVE! bei kicker) diese Position erneut ausfüllen wird, lässt der Trainer offen: \"Er ist eine Option, er hat es gut gemacht. Aber Jonathan Tah vorher auch. Es ist gut, unterschiedliche Profile zu haben.\"\\nDer Ansatz gegen die Schalker - gegen die der Trainer im Hinspiel sein Debüt feierte - wird nicht anders sein als gegen die Bayern. Alonso betont die Mischung aus \"Ballbesitz, Konzentration und dagegenhalten\" bei einem Gegner, der den \"Glauben zurückgewonnen hat, in der Bundesliga zu bleiben\".\\nNicht dabei sein werden Patrik Schick, Charles Aranguiz und Nadiem Amiri, das Trio laboriert an mehr oder weniger schweren Blessuren. Ansonsten kann der Trainer für jeden Mannschaftsteil aus dem Vollen schöpfen.\\nFrank Lußem\\nWeitere Angebote des Olympia-Verlags:  \n",
      "2                                                                                                                                                                                                                                                                                                                                                                                                                                                                                                                                                                                                                                                                                                                                                                                                                                                                                                                                                                                                                                                                                                                                                                                                                                                                                                                                                                                                                                                                                                                                                                                                                                                                                                                                                                                                                                                                                                                                                                                                                                                                                                                                                                                                                                                                                                                                                                                                                                                                                                                                                                                                                                                                                                                                                                                                                                                                                                                                                                                          Um der Nutzung mit Werbung zuzustimmen, muss JavaScript in Ihrem Browser aktiviert sein.\\nBesuchen Sie zeit.de wie gewohnt mit Werbung und Tracking. Ihre Zustimmung ist jederzeit widerrufbar.\\nDetails zum Tracking finden Sie in der Datenschutzerklärung und im Privacy Center.\\nNutzen Sie zeit.de nahezu ohne Werbung und ohne Werbetracking.\\nBereits Pur abonniert?\\n                                    Hier anmelden.\\nWir erheben personenbezogene Daten und übermitteln diese auch an Drittanbieter, die uns helfen, unser Webangebot zu verbessern und zu finanzieren. Eine Verarbeitung der auf Ihrem Gerät gespeicherten Informationen wie z.B. Cookies oder persönliche Identifikatoren, IP-Adressen sowie Ihres individuellen Nutzungsverhaltens erfolgt dabei zu den folgenden Zwecken:\\nFür die Ihnen angezeigten Verarbeitungszwecke können Cookies, Geräte-Kennungen oder andere Informationen auf Ihrem Gerät gespeichert oder abgerufen werden.\\nAnzeigen und Inhalte können basierend auf einem Profil personalisiert werden. Es können mehr Daten hinzugefügt werden, um Anzeigen und Inhalte besser zu personalisieren. Die Performance von Anzeigen und Inhalten kann gemessen werden. Erkenntnisse über Zielgruppen, die die Anzeigen und Inhalte betrachtet haben, können abgeleitet werden. Daten können verwendet werden, um Benutzerfreundlichkeit, Systeme und Software aufzubauen oder zu verbessern.  \n",
      "3                                                                                                                                                                                                                                                                                                                                                                                                                                                                                                                                                                                                                                                                                                                                                                                                                                                                                                                                                                                                                                                                                                                                                                                                                                                                                                                                                                                                                                                                                                                                                                                                                                                                                                                                                                                                                                                                                                                                                                                                                                                                                                                                                                                                                                                                                                                                                                                                                                                                                                                                                                                                                                                                                                                                                   Trainer Xabi Alonso von Bayer Leverkusen macht sich nach der frühen Auswechslung von Florian Wirtz im Fußball-Länderspiel gegen Belgien (2:3) keine Sorgen um die mentale Verfassung des Ausnahmetalents. \"Ich habe gestern mit ihm gesprochen. Er ist ruhig, stark im Kopf und hat eine gute Mentalität\", sagte der frühere Welt- und Europameister am Freitag.\\n\"Flo ist so jung. Er muss alle Erfahrungen machen. Gute, aber auch einige schlechte, um noch besser zu werden\", sagte der Leverkusener Coach: \"Jede Schwierigkeit ist wichtig für seine Entwicklung.\" Nach dem Gespräch erwarte er im Spiel beim FC Schalke 04 am Samstag (15.30 Uhr/Sky) eher eine Trotzreaktion des 19-Jährigen: \"Ich habe das Gefühl, er ist voller Motivation.\"\\nFür Bayer sei Wirtz \"sehr wichtig\", betonte Alonso mehrfach. Und auch in Bezug auf die Nationalmannschaft befürchtet er keine nachhaltigen Probleme. \"Es war ein Thema der ganzen Mannschaft\", sagte er: \"Im nächsten Spiel werden sie sicher besser sein. Und bei der EM werden sie auch besser sein. Und Flo wir dann sicher ein wichtiger Teil der Mannschaft sein.\"\\nBundestrainer Hansi Flick hatte den gebürtigen Rheinländer, der bis zum Januar zehn Monate lang wegen eines Kreuzbandrisses ausgefallen war, im Spiel am Dienstag in Köln bereits in der 32. Minute ausgewechselt. \"Er hat nicht den besten Tag gehabt, da muss er durch\", hatte Flick erklärt. Aber auch gesagt: \"Er ist so gut. Das spornt ihn sicher noch an.\"\\nPressekonferenz auf youtube\\n© G+J Medien GmbH\\nZugang zu allen STERN PLUS-Inhalten und Artikeln aus dem Print-Magazin\\nwerbefrei & jederzeit kündbar\\nBereits registriert?  \n"
     ]
    }
   ],
   "source": [
    "secret = '40d4a2e1919c4066b59df69ca787f4ba'\n",
    "  \n",
    "# Define the endpoint\n",
    "url = 'https://newsapi.org/v2/everything'\n",
    "\n",
    "# Get today's date\n",
    "today = datetime.date.today()\n",
    "\n",
    "# Get the date 2 years ago\n",
    "two_years = today - datetime.timedelta(days=365*2)\n",
    "\n",
    "# Specify the query and number of returns\n",
    "parameters_wirtz = {\n",
    "    'q': 'Wirtz', # query phrase\n",
    "    'pageSize': 100,  # maximum is 100\n",
    "    'apiKey': secret, # your own API key\n",
    "    'sortBy':'publishedAt',\n",
    "    'searchIn': 'title',\n",
    "    'from': '2023-03-31',\n",
    "    'to': '2023-03-31'\n",
    "}\n",
    "\n",
    "response = requests.get(url, params = parameters_wirtz)\n",
    "\n",
    "# Parse the JSON response and extract article URLs\n",
    "if response.ok:\n",
    "    data = response.json()\n",
    "    urls = [article['url'] for article in data['articles']]\n",
    "else:\n",
    "    print('Error: Request failed with status', response.status_code)\n",
    "\n",
    "# Scrape the full article content for each URL and store in a dataframe\n",
    "articles = []\n",
    "for url in urls:\n",
    "    # Make a request to the article URL\n",
    "    response = requests.get(url)\n",
    "\n",
    "    # Parse the HTML response and extract the article content\n",
    "    if response.ok:\n",
    "        soup = BeautifulSoup(response.content, 'html.parser')\n",
    "        \n",
    "        # Check if the title element is present\n",
    "        title_element = soup.find('h1')\n",
    "        if title_element:\n",
    "            title = title_element.text.strip()\n",
    "        else:\n",
    "            title = ''\n",
    "        \n",
    "        # Check if the author element is present\n",
    "        author_element = soup.find('span', {'class': 'author'})\n",
    "        if author_element:\n",
    "            author = author_element.text.strip()\n",
    "        else:\n",
    "            author = ''\n",
    "\n",
    "        content = '\\n'.join([p.text.strip() for p in soup.find_all('p')])\n",
    "        articles.append({'title': title, 'author': author, 'content': content})\n",
    "    else:\n",
    "        print('Error: Request failed with status', response.status_code)\n",
    "\n",
    "\n",
    "# Convert the list of articles to a Pandas dataframe\n",
    "df = pd.DataFrame(articles)\n",
    "pd.set_option('max_colwidth', None)\n",
    "pd.set_option('display.max_rows', None)\n",
    "print(df)\n",
    "\n",
    "\n"
   ]
  },
  {
   "cell_type": "code",
   "execution_count": 124,
   "metadata": {},
   "outputs": [],
   "source": [
    "import requests\n",
    "import datetime\n",
    "import pandas as pd\n",
    "from bs4 import BeautifulSoup\n",
    "\n",
    "def get_news_articles(query, lang='en'):\n",
    "    secret = '40d4a2e1919c4066b59df69ca787f4ba'\n",
    "  \n",
    "    # Define the endpoint\n",
    "    url = 'https://newsapi.org/v2/everything'\n",
    "\n",
    "    # Get today's date\n",
    "    today = datetime.date.today()\n",
    "\n",
    "    # Get the date 30 days ago\n",
    "    thirty_days_ago = today - datetime.timedelta(days=30)\n",
    "\n",
    "    # Specify the query and number of returns\n",
    "    parameters = {\n",
    "        'q': query, # query phrase\n",
    "        'pageSize': 100,  # maximum is 100\n",
    "        'apiKey': secret, # your own API key\n",
    "        'sortBy':'publishedAt',\n",
    "        'searchIn': 'title',\n",
    "        'from': '2023-04-03',#thirty_days_ago.strftime('%Y-%m-%d'),\n",
    "        'to': '2023-04-03',#thirty_days_ago.strftime('%Y-%m-%d'),\n",
    "        'language': lang\n",
    "    }\n",
    "\n",
    "    response = requests.get(url, params=parameters)\n",
    "\n",
    "    # Parse the JSON response and extract article URLs\n",
    "    if response.ok:\n",
    "        data = response.json()\n",
    "        urls = [article['url'] for article in data['articles']]\n",
    "    else:\n",
    "        print('Error: Request failed with status', response.status_code)\n",
    "\n",
    "    # Scrape the full article content for each URL and store in a dataframe\n",
    "    articles = []\n",
    "    for url in urls:\n",
    "        # Make a request to the article URL\n",
    "        response = requests.get(url)\n",
    "\n",
    "        # Parse the HTML response and extract the article content\n",
    "        if response.ok:\n",
    "            soup = BeautifulSoup(response.content, 'html.parser')\n",
    "\n",
    "            # Check if the title element is present\n",
    "            title_element = soup.find('h1')\n",
    "            if title_element:\n",
    "                title = title_element.text.strip()\n",
    "            else:\n",
    "                title = ''\n",
    "\n",
    "            # Check if the author element is present\n",
    "            author_element = soup.find('span', {'class': 'author'})\n",
    "            if author_element:\n",
    "                author = author_element.text.strip()\n",
    "            else:\n",
    "                author = ''\n",
    "\n",
    "            content = '\\n'.join([p.text.strip() for p in soup.find_all('p')])\n",
    "            articles.append({'title': title, 'author': author, 'content': content})\n",
    "        else:\n",
    "            print('Error: Request failed with status', response.status_code)\n",
    "\n",
    "    # Convert the list of articles to a Pandas dataframe\n",
    "    df = pd.DataFrame(articles)\n",
    "    pd.set_option('max_colwidth', None)\n",
    "    pd.set_option('display.max_rows', None)\n",
    "    \n",
    "    return df\n"
   ]
  },
  {
   "cell_type": "code",
   "execution_count": 117,
   "metadata": {},
   "outputs": [
    {
     "name": "stdout",
     "output_type": "stream",
     "text": [
      "2023-03-29\n"
     ]
    }
   ],
   "source": [
    "thirty_days_ago = today - datetime.timedelta(days=30)\n",
    "print(thirty_days_ago.strftime('%Y-%m-%d'))"
   ]
  },
  {
   "cell_type": "markdown",
   "metadata": {},
   "source": [
    "## Mitchel Bakker"
   ]
  },
  {
   "cell_type": "code",
   "execution_count": 118,
   "metadata": {},
   "outputs": [
    {
     "name": "stdout",
     "output_type": "stream",
     "text": [
      "Error: Request failed with status 429\n"
     ]
    },
    {
     "ename": "UnboundLocalError",
     "evalue": "local variable 'urls' referenced before assignment",
     "output_type": "error",
     "traceback": [
      "\u001b[0;31m---------------------------------------------------------------------------\u001b[0m",
      "\u001b[0;31mUnboundLocalError\u001b[0m                         Traceback (most recent call last)",
      "Cell \u001b[0;32mIn [118], line 1\u001b[0m\n\u001b[0;32m----> 1\u001b[0m MB_en_20230328 \u001b[39m=\u001b[39m get_news_articles(\u001b[39m'\u001b[39;49m\u001b[39mMitchel Bakker\u001b[39;49m\u001b[39m'\u001b[39;49m, lang\u001b[39m=\u001b[39;49m\u001b[39m'\u001b[39;49m\u001b[39men\u001b[39;49m\u001b[39m'\u001b[39;49m)\n\u001b[1;32m      2\u001b[0m MB_de_20230328 \u001b[39m=\u001b[39m get_news_articles(\u001b[39m'\u001b[39m\u001b[39mMitchel Bakker\u001b[39m\u001b[39m'\u001b[39m, lang\u001b[39m=\u001b[39m\u001b[39m'\u001b[39m\u001b[39mde\u001b[39m\u001b[39m'\u001b[39m)\n\u001b[1;32m      3\u001b[0m MB_es_20230328 \u001b[39m=\u001b[39m get_news_articles(\u001b[39m'\u001b[39m\u001b[39mMitchel Bakker\u001b[39m\u001b[39m'\u001b[39m, lang\u001b[39m=\u001b[39m\u001b[39m'\u001b[39m\u001b[39mes\u001b[39m\u001b[39m'\u001b[39m)\n",
      "Cell \u001b[0;32mIn [116], line 41\u001b[0m, in \u001b[0;36mget_news_articles\u001b[0;34m(query, lang)\u001b[0m\n\u001b[1;32m     39\u001b[0m \u001b[39m# Scrape the full article content for each URL and store in a dataframe\u001b[39;00m\n\u001b[1;32m     40\u001b[0m articles \u001b[39m=\u001b[39m []\n\u001b[0;32m---> 41\u001b[0m \u001b[39mfor\u001b[39;00m url \u001b[39min\u001b[39;00m urls:\n\u001b[1;32m     42\u001b[0m     \u001b[39m# Make a request to the article URL\u001b[39;00m\n\u001b[1;32m     43\u001b[0m     response \u001b[39m=\u001b[39m requests\u001b[39m.\u001b[39mget(url)\n\u001b[1;32m     45\u001b[0m     \u001b[39m# Parse the HTML response and extract the article content\u001b[39;00m\n",
      "\u001b[0;31mUnboundLocalError\u001b[0m: local variable 'urls' referenced before assignment"
     ]
    }
   ],
   "source": [
    "MB_en_20230328 = get_news_articles('Mitchel Bakker', lang='en')\n",
    "MB_de_20230328 = get_news_articles('Mitchel Bakker', lang='de')\n",
    "MB_es_20230328 = get_news_articles('Mitchel Bakker', lang='es')\n",
    "print(MB_es_20230328)\n"
   ]
  },
  {
   "cell_type": "markdown",
   "metadata": {},
   "source": [
    "## Jeremie Frimpong"
   ]
  },
  {
   "cell_type": "code",
   "execution_count": 125,
   "metadata": {},
   "outputs": [],
   "source": [
    "JF_en_20230403 = get_news_articles('Jeremie Frimpong', lang='en')\n",
    "JF_de_20230403 = get_news_articles('Jeremie Frimpong', lang='de')\n",
    "JF_es_20230403 = get_news_articles('Jeremie Frimpong', lang='es')\n",
    "JF_en_20230403.to_csv('JF_en_20230403.csv', index=False)\n",
    "JF_de_20230403.to_csv('JF_de_20230403.csv', index=False)\n",
    "JF_es_20230403.to_csv('JF_es_20230403.csv', index=False)"
   ]
  },
  {
   "cell_type": "markdown",
   "metadata": {},
   "source": [
    "## Moussa Diaby"
   ]
  },
  {
   "cell_type": "code",
   "execution_count": null,
   "metadata": {},
   "outputs": [
    {
     "name": "stdout",
     "output_type": "stream",
     "text": [
      "Empty DataFrame\n",
      "Columns: []\n",
      "Index: []\n"
     ]
    }
   ],
   "source": [
    "MD_en_20230328 = get_news_articles('Moussa Diaby', lang='en')\n",
    "MD_de_20230328 = get_news_articles('Moussa Diaby', lang='de')\n",
    "MD_es_20230328 = get_news_articles('Moussa Diaby', lang='es')\n",
    "print(MB_en_20230328)"
   ]
  },
  {
   "cell_type": "code",
   "execution_count": 121,
   "metadata": {},
   "outputs": [
    {
     "name": "stdout",
     "output_type": "stream",
     "text": [
      "{'articles': [{'author': 'Adam Brown',\n",
      "               'content': 'The January transfer window may be closed around '\n",
      "                          'Europe, but teams are looking ahead to the summer '\n",
      "                          \"and there's plenty of gossip swirling around. \"\n",
      "                          'Transfer Talk brings you all the latest buzz on '\n",
      "                          'rumour… [+3180 chars]',\n",
      "               'description': 'Manchester United have begun talks with the '\n",
      "                              'representatives of Bayer Leverkusen wingback '\n",
      "                              'Jeremie Frimpong. Transfer Talk has the latest.',\n",
      "               'publishedAt': '2023-04-03T22:35:02Z',\n",
      "               'source': {'id': None, 'name': 'ESPN'},\n",
      "               'title': 'Transfer Talk: Man Utd in touch over Bayer '\n",
      "                        \"Leverkusen's Jeremie Frimpong\",\n",
      "               'url': 'https://www.espn.com/soccer/blog-transfer-talk/story/4915879/transfer-talk-man-utd-in-touch-over-bayer-leverkusens-jeremie-frimpong',\n",
      "               'urlToImage': 'https://a2.espncdn.com/combiner/i?img=%2Fphoto%2F2023%2F0403%2Fr1154052_1296x729_16%2D9.jpg'},\n",
      "              {'author': 'Sportredactie',\n",
      "               'content': 'De in Amsterdam geboren Frimpong (22) mocht met '\n",
      "                          'Oranje mee naar het WK in Qatar, maar kwam daar '\n",
      "                          'niet in actie met Denzel Dumfries als zijn '\n",
      "                          \"concurrent op wingback'. Frimpong behoorde niet tot \"\n",
      "                          'de eerst… [+2956 chars]',\n",
      "               'description': 'Jeremie Frimpong lijkt op weg naar Manchester '\n",
      "                              'United, waar Erik ten Hag op zoek is naar een '\n",
      "                              'rechtsback met aanvallende kwaliteiten. Volgens '\n",
      "                              'Duitse journalisten zijn de onderhandelingen '\n",
      "                              'met zijn huidige club Bayer Leverkusen al '\n",
      "                              'gestart.',\n",
      "               'publishedAt': '2023-04-03T18:52:18Z',\n",
      "               'source': {'id': None, 'name': 'Www.ad.nl'},\n",
      "               'title': 'Jeremie Frimpong lijkt op weg naar Manchester United, '\n",
      "                        'onderhandelingen met Leverkusen gestart',\n",
      "               'url': 'https://www.ad.nl/transfer-talk/jeremie-frimpong-lijkt-op-weg-naar-manchester-united-onderhandelingen-met-leverkusen-gestart~a16d9eaf/',\n",
      "               'urlToImage': 'https://images0.persgroep.net/rcs/dkiPoTqxKkLEq_C4hYVgQRHBhy4/diocontent/223406995/_focus/0.48/0.22/_fill/1200/630/?appId=21791a8992982cd8da851550a453bd7f&quality=0.7'}],\n",
      " 'status': 'ok',\n",
      " 'totalResults': 2}\n"
     ]
    }
   ],
   "source": [
    "secret = '40d4a2e1919c4066b59df69ca787f4ba'\n",
    "  \n",
    "# Define the endpoint\n",
    "url = 'https://newsapi.org/v2/everything'\n",
    "\n",
    "\n",
    "# Get today's date\n",
    "today = datetime.date.today()\n",
    "\n",
    "# Get the date 2 years ago\n",
    "two_years = today - datetime.timedelta(days=365*2)\n",
    "\n",
    "# Specify the query and number of returns\n",
    "parameters_wirtz = {\n",
    "    'q': 'Jeremie Frimpong', # query phrase\n",
    "    'pageSize': 100,  # maximum is 100\n",
    "    'apiKey': secret, # your own API key\n",
    "    'sortBy':'publishedAt',\n",
    "    'searchIn': 'title',\n",
    "    'from': '2023-04-03',\n",
    "    'to': '2023-04-03',\n",
    "    \n",
    "}\n",
    "response = requests.get(url,\n",
    "                        params = parameters_wirtz)\n",
    "\n",
    "# Convert the response to\n",
    "# JSON format and pretty print it\n",
    "response_json = response.json()\n",
    "pprint.pprint(response_json)"
   ]
  }
 ],
 "metadata": {
  "kernelspec": {
   "display_name": "Python 3.9.6 64-bit",
   "language": "python",
   "name": "python3"
  },
  "language_info": {
   "codemirror_mode": {
    "name": "ipython",
    "version": 3
   },
   "file_extension": ".py",
   "mimetype": "text/x-python",
   "name": "python",
   "nbconvert_exporter": "python",
   "pygments_lexer": "ipython3",
   "version": "3.9.6"
  },
  "orig_nbformat": 4,
  "vscode": {
   "interpreter": {
    "hash": "31f2aee4e71d21fbe5cf8b01ff0e069b9275f58929596ceb00d14d90e3e16cd6"
   }
  }
 },
 "nbformat": 4,
 "nbformat_minor": 2
}
