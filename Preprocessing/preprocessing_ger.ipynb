{
 "cells": [
  {
   "cell_type": "code",
   "execution_count": 1,
   "metadata": {},
   "outputs": [
    {
     "name": "stdout",
     "output_type": "stream",
     "text": [
      "\u001b[33mDEPRECATION: Configuring installation scheme with distutils config files is deprecated and will no longer work in the near future. If you are using a Homebrew or Linuxbrew Python, please see discussion at https://github.com/Homebrew/homebrew-core/issues/76621\u001b[0m\u001b[33m\n",
      "\u001b[0mRequirement already satisfied: scikit-learn in /opt/homebrew/lib/python3.9/site-packages (1.2.2)\n",
      "Requirement already satisfied: numpy>=1.17.3 in /opt/homebrew/lib/python3.9/site-packages (from scikit-learn) (1.24.3)\n",
      "Requirement already satisfied: scipy>=1.3.2 in /opt/homebrew/lib/python3.9/site-packages (from scikit-learn) (1.10.1)\n",
      "Requirement already satisfied: joblib>=1.1.1 in /opt/homebrew/lib/python3.9/site-packages (from scikit-learn) (1.2.0)\n",
      "Requirement already satisfied: threadpoolctl>=2.0.0 in /opt/homebrew/lib/python3.9/site-packages (from scikit-learn) (3.1.0)\n",
      "\u001b[33mDEPRECATION: Configuring installation scheme with distutils config files is deprecated and will no longer work in the near future. If you are using a Homebrew or Linuxbrew Python, please see discussion at https://github.com/Homebrew/homebrew-core/issues/76621\u001b[0m\u001b[33m\n",
      "\u001b[0mNote: you may need to restart the kernel to use updated packages.\n"
     ]
    }
   ],
   "source": [
    "%pip install scikit-learn\n"
   ]
  },
  {
   "cell_type": "code",
   "execution_count": 2,
   "metadata": {},
   "outputs": [],
   "source": [
    "import pandas as pd\n",
    "import re\n",
    "from nltk.corpus import stopwords\n",
    "from sklearn.feature_extraction.text import CountVectorizer\n",
    "from gensim.parsing.preprocessing import STOPWORDS, strip_tags, strip_numeric, strip_punctuation, strip_multiple_whitespaces, remove_stopwords, strip_short, stem_text\n",
    "import numpy as np\n",
    "import sys\n",
    "sys.path.append('../')\n",
    "from utils import remove_similar_rows_per_player, find_lines_with_player, del_patterns, map_emoji_to_description\n",
    "import emoji\n",
    "from googletrans import Translator\n",
    "\n"
   ]
  },
  {
   "cell_type": "code",
   "execution_count": 3,
   "metadata": {},
   "outputs": [],
   "source": [
    "url = 'https://raw.githubusercontent.com/svisel22/SS23-BIPM-Analytics-Lab---Group-4-repository/main/data_files/all_data_v3.csv'\n",
    "df = pd.read_csv(url)"
   ]
  },
  {
   "cell_type": "code",
   "execution_count": 4,
   "metadata": {},
   "outputs": [],
   "source": [
    "# Filter out the German data and reindex\n",
    "df_ger = df[df[\"language\"] == \"de\"]\n",
    "df_ger = df_ger.reset_index(drop=True)"
   ]
  },
  {
   "cell_type": "code",
   "execution_count": 5,
   "metadata": {},
   "outputs": [],
   "source": [
    "# Remove the similiar rows (The Function is imported from utils on top)\n",
    "df = remove_similar_rows_per_player(df_ger, df_ger['player'].unique())\n"
   ]
  },
  {
   "cell_type": "code",
   "execution_count": 6,
   "metadata": {},
   "outputs": [],
   "source": [
    "# transform data into lower case\n",
    "data_lower = df.copy()\n",
    "\n",
    "data_lower['data'] = data_lower['data'].str.lower()\n",
    "data_lower['player'] = data_lower['player'].str.lower()\n",
    "data_lower.head()\n",
    "\n",
    "data_wo_pattern = data_lower.copy()\n",
    "\n",
    "# delete content patterns\n",
    "data_wo_pattern['data'] = data_wo_pattern['data'].apply(lambda x: re.sub(r\"^{\\'content\\': \\'\", \"\", str(x)))"
   ]
  },
  {
   "cell_type": "code",
   "execution_count": 7,
   "metadata": {},
   "outputs": [],
   "source": [
    "pattern = ['nutze kicker', \n",
    "           'mit dem', \n",
    "           'nur €2,49', \n",
    "           'bereits pur-abonnent?', \n",
    "           'alle antworten', \n",
    "           'hinweis zur verarbeitung', \n",
    "           'werbung','olympia-verlags', \n",
    "           'bild', 'g+j medien gmbh', \n",
    "           'services',\n",
    "           'kurz-link dieses artikels lautet:', \n",
    "           'http://epaper.welt.de',\n",
    "           'stephan von nocks',\n",
    "           'www.faz.net',\n",
    "           'mcfit mitgliedschaft',\n",
    "           'fitx-vertrag',\n",
    "           'kündigeneasyfitness',\n",
    "           'proteinbedarf',\n",
    "           'fitnessland',\n",
    "           'kündigeneasyfitness',\n",
    "           'trainingspuls berechnen',\n",
    "           'pulsrechner',\n",
    "           'fitseveneleven-mitgliedschaft',\n",
    "           'alkoholabbau & promille',\n",
    "           'index.promillerechner',\n",
    "           'mitgliedschaft kündigen',\n",
    "           'promillerechner',\n",
    "           'ihr body-mass-index',\n",
    "           'bmi rechner',\n",
    "           'kalorienrechner',\n",
    "           'grundumsatz & kalorienbedarf',\n",
    "           'partnerangebote',\n",
    "           'newsletter',\n",
    "           'journalismus der presse',\n",
    "           'abonnieren',\n",
    "           '(apa)',\n",
    "           'foto:',\n",
    "           'quelle:',\n",
    "           'lesezeit:',\n",
    "           'lesen sie mehr',\n",
    "           'stellenmarkt der sz.',\n",
    "           'bewerben sie sich jetzt',\n",
    "           'gutscheine',\n",
    "           'vergleichsportal',\n",
    "           'stern plus-inhalten',\n",
    "           'jederzeit kündbar',\n",
    "           'bereits registriert?',\n",
    "           'zur startseite',\n",
    "           'öffnet in neuem tab oder fenster'\n",
    "           'vollansicht der tabelle unter'\n",
    "        \n",
    "           ]\n"
   ]
  },
  {
   "cell_type": "code",
   "execution_count": 8,
   "metadata": {},
   "outputs": [],
   "source": [
    "data_wo_pattern['data'] = data_wo_pattern['data'].apply(lambda x: del_patterns(str(x), pattern))                                                      "
   ]
  },
  {
   "cell_type": "code",
   "execution_count": 9,
   "metadata": {},
   "outputs": [
    {
     "data": {
      "text/plain": [
       "'leverkusens edmond tapsoba, robert andrich, odilon kossounou und kerem demirbay nach dem schlusspfiff.bayer leverkusen und der vfl wolfsburg trennen sich in einem schwachen spiel torlos. der punkt hilft im kampf um die europacup-plätze am ehesten noch der werkself.die siegesserie von bayer leverkusen ist gerissen. für das team von trainer xabi alonso reichte es im auswärtsspiel am sonntag beim vfl wolfsburg nur zu einem 0:0, zuvor hatte bayer fünfmal in folge in der fußball-bundesliga gewonnen. das torlose remis taugt auch nur bedingt als mutmacher für das viertelfinal-rückspiel in der europa league am kommenden donnerstag bei union saint-gilloise (hinspiel 1:1). in der bundesliga-tabelle bleibt leverkusen sechster, der vfl belegt mit vier punkten rückstand weiter den neunten\\\\xa0platz.bayer-coach alonso rotierte im vergleich zur europacup-partie gegen union saint-gilloise auf fünf positionen und ließ unter anderem die nationalspieler florian wirtz und jonathan tah zunächst auf der bank. \"heute brauchen wir etwas anderes\", sagte der weltmeister von 2010 vor dem\\\\xa0anpfiff.nach dem sturz auf den letzten tabellenplatz trennt sich hertha bsc von trainer sandro schwarz und vertraut sich wieder einmal pal dardai an. der steht vor einer noch schwierigeren aufgabe als die letzten male.                                                                    \\\\u2002                                von javier cáceresallerdings merkte man der zuletzt besten bundesliga-mannschaft die hohe belastung durch die internationalen spiele merklich an. die langen bälle auf die von vfl-trainer niko kovac als \"flinke jungs\" bezeichneten offensiv-stars um moussa diaby kamen nur selten an. von der spielfreude der vergangenen wochen war kaum etwas zu sehen. die beste gelegenheit in der ersten halben stunde besaß adam hlozek. der tscheche traf zwar die latte, passgeber jeremie frimpong stand jedoch zuvor im abseits\\\\xa0(27.).nicht viel besser machten es die wolfsburger, die die vorherigen fünf heimspiele nicht gewinnen konnten. ohne den erkrankten kapitän maximilian arnold fehlte vor 20\\\\xa0137 zuschauern power im mittelfeld. die beste und einzige vfl-chance vor der pause hatte yannick gerhardt, dessen kopfball knapp über das tor von bayer-torhüter lukas hradecky ging\\\\xa0(33.).bayer-coach alonso brachte nach knapp einer stunde offensiv-star wirtz. mit der einwechslung des 19 jahren alte ausnahmetalents wurde bayer dominanter und legte die europa-league-strapazen immer weiter ab. einen schlenzer von kerem demirbay klärte vfl-keeper casteels zur\\\\xa0ecke.allerdings blieb die kurze offensiv-phase der alonso-elf ohne wirkung. wolfsburg befreite sich und hatte durch den eingewechselten patrick wimmer die chance auf den siegtreffer. der offensivspieler scheiterte aber am gut reagierenden hradecky. auf der gegenseite vergab amine adli\\\\xa0(88.).vier tage vor dem champions-league-rückspiel gegen manchester city agiert der fc bayern so lustlos, als gäbe es keine relevanten ziele mehr zu erreichen. es scheint, als seien plötzlich ein paar münchner naturgesetze ausgehebelt.'"
      ]
     },
     "execution_count": 9,
     "metadata": {},
     "output_type": "execute_result"
    }
   ],
   "source": [
    "data_wo_pattern['data'].iloc[191]"
   ]
  },
  {
   "cell_type": "code",
   "execution_count": 10,
   "metadata": {},
   "outputs": [],
   "source": [
    "data_lower['data'] = data_lower['data'].apply(lambda x: re.sub(r'[^\\w\\s]', lambda match: map_emoji_to_description(match.group(), language = 'de',), str(x)))"
   ]
  },
  {
   "cell_type": "code",
   "execution_count": 11,
   "metadata": {},
   "outputs": [
    {
     "data": {
      "text/plain": [
       "\"{'content': 'bayern münchen hat die tabellenführung in der deutschen bundesliga an borussia dortmund verloren. der rekordmeister verlor am sonntag durch zwei kuriose elfmeter nach videobeweis bei bayer leverkusen mit 1:2. das team von trainer julian nagelsmann hat nach der dritten saisonniederlage einen punkt rückstand auf dortmund, das am samstag gegen den 1. fc köln mit 6:1 gewonnen hatte. damit gehen die bayern als verfolger in das duell mit der borussia am 1. april.\\\\njoshua kimmich (22.) brachte die münchner in führung. der argentinische weltmeister exequiel palacios drehte das spiel mit zwei verwandelten foulelfmetern (56., 73.). schiedsrichter tobias stieler hatte dem gefoulten amine adli wegen vermeintlicher schwalben jeweils zunächst die gelbe karte gegeben. beide male nahm er die karte nach videostudium zurück. leverkusen ist nun dicht an den europacup-plätzen dran.\\\\ntabellendritter ist weiter union berlin nach einem 2:0-heimsieg gegen eintracht frankfurt, an rb leipzig vorbei auf rang vier schob sich der sc freiburg mit einem 1:1 in mainz.\\\\nunion berlin untermauerte im duell der unter der woche im europacup gescheiterten mannschaften den anspruch auf die champions-league-plätze. im stadion an der alten försterei erzielten rani khedira (53.) und der eingewechselte kevin behrens (75.) die tore für die „eisernen“ gegen die vom österreicher oliver glasner trainierten frankfurter.\\\\nｈｅｉｍｄｒｅｉｅｒ :lächelndes_gesicht_mit_herzen: #fcusge pic.twitter.com/ymfouhjajz\\\\nunion-trainer urs fischer hatte die angekündigte rotation mit gleich fünf spielern vollzogen. weiterhin musste fischer ebenso wie sein gegenüber glasner auf den etatmäßigen kapitän verzichten. der österreicher christopher trimmel fehlte wie bereits bei der 0:3-niederlage bei royale union saint-gilloise in der europa league krankheitsbedingt, frankfurts sebastian rode saß eine gelbsperre ab.\\\\nbeide mannschaften agierten nach anstrengenden englischen wochen zunächst auf sparflamme. nach dem seitenwechsel konnten die hausherren ihre erste möglichkeit gleich zur führung durch khedira nach einem eckball nutzen. frankfurt versuchte es mit einzelaktionen, behrens fixierte aber den sieg der berliner.\\\\nim letzten spiel des tages trennten sich mainz und freiburg mit 1:1. für die führung der gäste zeichnete ritsu doan (55.) nach kopfballvorlage von michael gregoritsch verantwortlich. dem nach einer stunde auf den platz gekommenen österreicher karim onisiwo glückte in der 96.\\\\xa0minute der ausgleich.\\\\nunsere nerven: :achterbahn::achterbahn:alter, was macht ihr mit uns?! ja man!!!!!!!!1!1!1!11!1 pic.twitter.com/zln6mzcfxg\\\\nbei freiburg fehlte der an einer muskelverletzung laborierende philipp lienhart, dessen einsatz damit auch weiter für die anstehenden em-qualifikationsspiele österreichs fraglich ist.\\\\ndeutsche bundesliga, 25. runde\\\\nsonntag:\\\\ntore: palacios (55./elfmeter, 73./elfmeter) bzw. kimmich (22.)\\\\nleverkusen: pentz ersatzbayern: ohne wanner\\\\ntore: khedira (53.), behrens (75.)\\\\nunion: ohne trimmel (krank)\\\\ntore: onisiwo (96.) bzw. doan (55.)\\\\nmainz: onisiwo ab 60. minute, ohne mustaphafreiburg: gregoritsch bis 93. minute, ohne lienhart (verletzt)\\\\nsamstag:\\\\ntor: masovic (48.)\\\\nbochum: stöger bis 69. minuteleipzig: laimer bis 82. minute, ohne schlager (verletzt)\\\\ntore: kramaric (24./elfmeter, 37./elfmeter), bebou (51.) bzw. jovetic (92.)\\\\nhoffenheim: baumgartner bis 69. minute\\\\ntor: marmoush (56.)\\\\nwolfsburg: wimmer bis 58. minute, pervan ersatz\\\\ntore: maier (51.) bzw. bülter (93./elfmeter)\\\\naugsburg: baumgartlinger ab 74. minuteschalke: greiml ersatz\\\\ntore: guerreiro (15.), haller (17., 69.), reus (32., 70.), malen (36.) bzw. selke (42.)\\\\nköln: kainz bis 58. minute, ljubicic bis 83. minute\\\\nfreitag:\\\\ntore: thuram (48.), neuhaus (73.) bzw. ducksch (65., 89.)\\\\ngladbach: wolf ab 85. minute, lainer ersatzbremen: schmid ab 63. minute, ohne friedl (krank)\\\\nvollansicht der tabelle unter https://sport.orf.at/fussball/competitions/comp/22\\\\nred, orf.at/agenturen'}\""
      ]
     },
     "execution_count": 11,
     "metadata": {},
     "output_type": "execute_result"
    }
   ],
   "source": [
    "data_lower['data'].iloc[19]"
   ]
  },
  {
   "cell_type": "code",
   "execution_count": 12,
   "metadata": {},
   "outputs": [
    {
     "data": {
      "text/plain": [
       "\"{'content': 'bayern münchen hat die tabellenführung in der deutschen bundesliga an borussia dortmund verloren. der rekordmeister verlor am sonntag durch zwei kuriose elfmeter nach videobeweis bei bayer leverkusen mit 1:2. das team von trainer julian nagelsmann hat nach der dritten saisonniederlage einen punkt rückstand auf dortmund, das am samstag gegen den 1. fc köln mit 6:1 gewonnen hatte. damit gehen die bayern als verfolger in das duell mit der borussia am 1. april.\\\\njoshua kimmich (22.) brachte die münchner in führung. der argentinische weltmeister exequiel palacios drehte das spiel mit zwei verwandelten foulelfmetern (56., 73.). schiedsrichter tobias stieler hatte dem gefoulten amine adli wegen vermeintlicher schwalben jeweils zunächst die gelbe karte gegeben. beide male nahm er die karte nach videostudium zurück. leverkusen ist nun dicht an den europacup-plätzen dran.\\\\ntabellendritter ist weiter union berlin nach einem 2:0-heimsieg gegen eintracht frankfurt, an rb leipzig vorbei auf rang vier schob sich der sc freiburg mit einem 1:1 in mainz.\\\\nunion berlin untermauerte im duell der unter der woche im europacup gescheiterten mannschaften den anspruch auf die champions-league-plätze. im stadion an der alten försterei erzielten rani khedira (53.) und der eingewechselte kevin behrens (75.) die tore für die „eisernen“ gegen die vom österreicher oliver glasner trainierten frankfurter.\\\\nｈｅｉｍｄｒｅｉｅｒ :lächelndes_gesicht_mit_herzen: #fcusge pic.twitter.com/ymfouhjajz\\\\nunion-trainer urs fischer hatte die angekündigte rotation mit gleich fünf spielern vollzogen. weiterhin musste fischer ebenso wie sein gegenüber glasner auf den etatmäßigen kapitän verzichten. der österreicher christopher trimmel fehlte wie bereits bei der 0:3-niederlage bei royale union saint-gilloise in der europa league krankheitsbedingt, frankfurts sebastian rode saß eine gelbsperre ab.\\\\nbeide mannschaften agierten nach anstrengenden englischen wochen zunächst auf sparflamme. nach dem seitenwechsel konnten die hausherren ihre erste möglichkeit gleich zur führung durch khedira nach einem eckball nutzen. frankfurt versuchte es mit einzelaktionen, behrens fixierte aber den sieg der berliner.\\\\nim letzten spiel des tages trennten sich mainz und freiburg mit 1:1. für die führung der gäste zeichnete ritsu doan (55.) nach kopfballvorlage von michael gregoritsch verantwortlich. dem nach einer stunde auf den platz gekommenen österreicher karim onisiwo glückte in der 96.\\\\xa0minute der ausgleich.\\\\nunsere nerven: :achterbahn::achterbahn:alter, was macht ihr mit uns?! ja man!!!!!!!!1!1!1!11!1 pic.twitter.com/zln6mzcfxg\\\\nbei freiburg fehlte der an einer muskelverletzung laborierende philipp lienhart, dessen einsatz damit auch weiter für die anstehenden em-qualifikationsspiele österreichs fraglich ist.\\\\ndeutsche bundesliga, 25. runde\\\\nsonntag:\\\\ntore: palacios (55./elfmeter, 73./elfmeter) bzw. kimmich (22.)\\\\nleverkusen: pentz ersatzbayern: ohne wanner\\\\ntore: khedira (53.), behrens (75.)\\\\nunion: ohne trimmel (krank)\\\\ntore: onisiwo (96.) bzw. doan (55.)\\\\nmainz: onisiwo ab 60. minute, ohne mustaphafreiburg: gregoritsch bis 93. minute, ohne lienhart (verletzt)\\\\nsamstag:\\\\ntor: masovic (48.)\\\\nbochum: stöger bis 69. minuteleipzig: laimer bis 82. minute, ohne schlager (verletzt)\\\\ntore: kramaric (24./elfmeter, 37./elfmeter), bebou (51.) bzw. jovetic (92.)\\\\nhoffenheim: baumgartner bis 69. minute\\\\ntor: marmoush (56.)\\\\nwolfsburg: wimmer bis 58. minute, pervan ersatz\\\\ntore: maier (51.) bzw. bülter (93./elfmeter)\\\\naugsburg: baumgartlinger ab 74. minuteschalke: greiml ersatz\\\\ntore: guerreiro (15.), haller (17., 69.), reus (32., 70.), malen (36.) bzw. selke (42.)\\\\nköln: kainz bis 58. minute, ljubicic bis 83. minute\\\\nfreitag:\\\\ntore: thuram (48.), neuhaus (73.) bzw. ducksch (65., 89.)\\\\ngladbach: wolf ab 85. minute, lainer ersatzbremen: schmid ab 63. minute, ohne friedl (krank)\\\\nvollansicht der tabelle unter https://sport.orf.at/fussball/competitions/comp/22\\\\nred, orf.at/agenturen'}\""
      ]
     },
     "execution_count": 12,
     "metadata": {},
     "output_type": "execute_result"
    }
   ],
   "source": [
    "data_lower['data'].iloc[19]"
   ]
  },
  {
   "attachments": {},
   "cell_type": "markdown",
   "metadata": {},
   "source": [
    "## Find sentences with Playername"
   ]
  },
  {
   "cell_type": "code",
   "execution_count": 13,
   "metadata": {},
   "outputs": [],
   "source": [
    "data_with_playernames = find_lines_with_player(df, df['player'].unique())"
   ]
  },
  {
   "cell_type": "code",
   "execution_count": 14,
   "metadata": {},
   "outputs": [
    {
     "data": {
      "text/html": [
       "<div>\n",
       "<style scoped>\n",
       "    .dataframe tbody tr th:only-of-type {\n",
       "        vertical-align: middle;\n",
       "    }\n",
       "\n",
       "    .dataframe tbody tr th {\n",
       "        vertical-align: top;\n",
       "    }\n",
       "\n",
       "    .dataframe thead th {\n",
       "        text-align: right;\n",
       "    }\n",
       "</style>\n",
       "<table border=\"1\" class=\"dataframe\">\n",
       "  <thead>\n",
       "    <tr style=\"text-align: right;\">\n",
       "      <th></th>\n",
       "      <th>data</th>\n",
       "      <th>player</th>\n",
       "      <th>language</th>\n",
       "      <th>publishedAt</th>\n",
       "    </tr>\n",
       "  </thead>\n",
       "  <tbody>\n",
       "    <tr>\n",
       "      <th>0</th>\n",
       "      <td>{'content': 'Trainer Xabi Alonso vor den mitge...</td>\n",
       "      <td>Exequiel Palacios</td>\n",
       "      <td>de</td>\n",
       "      <td>2023-02-24T09:33:31Z</td>\n",
       "    </tr>\n",
       "    <tr>\n",
       "      <th>1</th>\n",
       "      <td>{'content': 'Nutze kicker auf seinen digitalen...</td>\n",
       "      <td>Exequiel Palacios</td>\n",
       "      <td>de</td>\n",
       "      <td>2023-03-03T21:35:13Z</td>\n",
       "    </tr>\n",
       "    <tr>\n",
       "      <th>2</th>\n",
       "      <td>{'content': 'Nutze kicker auf seinen digitalen...</td>\n",
       "      <td>Exequiel Palacios</td>\n",
       "      <td>de</td>\n",
       "      <td>2023-03-07T11:34:39Z</td>\n",
       "    </tr>\n",
       "    <tr>\n",
       "      <th>3</th>\n",
       "      <td>{'content': 'Mitchel Bakker am Mittwoch im Abs...</td>\n",
       "      <td>Exequiel Palacios</td>\n",
       "      <td>de</td>\n",
       "      <td>2023-03-08T14:25:18Z</td>\n",
       "    </tr>\n",
       "    <tr>\n",
       "      <th>4</th>\n",
       "      <td>{'content': '© G+J Medien GmbH</td>\n",
       "      <td>Exequiel Palacios</td>\n",
       "      <td>de</td>\n",
       "      <td>2023-03-09T19:36:53Z</td>\n",
       "    </tr>\n",
       "    <tr>\n",
       "      <th>...</th>\n",
       "      <td>...</td>\n",
       "      <td>...</td>\n",
       "      <td>...</td>\n",
       "      <td>...</td>\n",
       "    </tr>\n",
       "    <tr>\n",
       "      <th>21</th>\n",
       "      <td>{'content': \"Der SC Freiburg und Bayer Leverku...</td>\n",
       "      <td>Piero Hincapié</td>\n",
       "      <td>de</td>\n",
       "      <td>2023-02-26T16:28:57Z</td>\n",
       "    </tr>\n",
       "    <tr>\n",
       "      <th>22</th>\n",
       "      <td>{'content': 'Ein Monaco-Betreuer packt Sardar ...</td>\n",
       "      <td>Piero Hincapié</td>\n",
       "      <td>de</td>\n",
       "      <td>2023-02-22T16:59:33Z</td>\n",
       "    </tr>\n",
       "    <tr>\n",
       "      <th>23</th>\n",
       "      <td>{'content': 'Leverkusens Torwart Lukas Hradeck...</td>\n",
       "      <td>Piero Hincapié</td>\n",
       "      <td>de</td>\n",
       "      <td>2023-02-17T17:14:46Z</td>\n",
       "    </tr>\n",
       "    <tr>\n",
       "      <th>24</th>\n",
       "      <td>{'content': 'Das WichtigsteTut es in der Kolle...</td>\n",
       "      <td>Piero Hincapié</td>\n",
       "      <td>de</td>\n",
       "      <td>2023-02-17T08:56:42Z</td>\n",
       "    </tr>\n",
       "    <tr>\n",
       "      <th>25</th>\n",
       "      <td>{'content': 'Warum sehe ich FAZ.NET nicht?Vor ...</td>\n",
       "      <td>Piero Hincapié</td>\n",
       "      <td>de</td>\n",
       "      <td>2023-02-17T07:51:22Z</td>\n",
       "    </tr>\n",
       "  </tbody>\n",
       "</table>\n",
       "<p>455 rows × 4 columns</p>\n",
       "</div>"
      ],
      "text/plain": [
       "                                                 data             player   \n",
       "0   {'content': 'Trainer Xabi Alonso vor den mitge...  Exequiel Palacios  \\\n",
       "1   {'content': 'Nutze kicker auf seinen digitalen...  Exequiel Palacios   \n",
       "2   {'content': 'Nutze kicker auf seinen digitalen...  Exequiel Palacios   \n",
       "3   {'content': 'Mitchel Bakker am Mittwoch im Abs...  Exequiel Palacios   \n",
       "4                      {'content': '© G+J Medien GmbH  Exequiel Palacios   \n",
       "..                                                ...                ...   \n",
       "21  {'content': \"Der SC Freiburg und Bayer Leverku...     Piero Hincapié   \n",
       "22  {'content': 'Ein Monaco-Betreuer packt Sardar ...     Piero Hincapié   \n",
       "23  {'content': 'Leverkusens Torwart Lukas Hradeck...     Piero Hincapié   \n",
       "24  {'content': 'Das WichtigsteTut es in der Kolle...     Piero Hincapié   \n",
       "25  {'content': 'Warum sehe ich FAZ.NET nicht?Vor ...     Piero Hincapié   \n",
       "\n",
       "   language           publishedAt  \n",
       "0        de  2023-02-24T09:33:31Z  \n",
       "1        de  2023-03-03T21:35:13Z  \n",
       "2        de  2023-03-07T11:34:39Z  \n",
       "3        de  2023-03-08T14:25:18Z  \n",
       "4        de  2023-03-09T19:36:53Z  \n",
       "..      ...                   ...  \n",
       "21       de  2023-02-26T16:28:57Z  \n",
       "22       de  2023-02-22T16:59:33Z  \n",
       "23       de  2023-02-17T17:14:46Z  \n",
       "24       de  2023-02-17T08:56:42Z  \n",
       "25       de  2023-02-17T07:51:22Z  \n",
       "\n",
       "[455 rows x 4 columns]"
      ]
     },
     "execution_count": 14,
     "metadata": {},
     "output_type": "execute_result"
    }
   ],
   "source": [
    "data_with_playernames"
   ]
  },
  {
   "cell_type": "code",
   "execution_count": 15,
   "metadata": {},
   "outputs": [],
   "source": [
    "data_with_playernames = find_lines_with_player(data_wo_pattern, data_wo_pattern['player'].unique(), n_lines=5)"
   ]
  },
  {
   "cell_type": "code",
   "execution_count": 21,
   "metadata": {},
   "outputs": [
    {
     "data": {
      "text/plain": [
       "\"bayern münchen hat die tabellenführung in der deutschen bundesliga an borussia dortmund verloren. der rekordmeister verlor am sonntag durch zwei kuriose elfmeter nach videobeweis bei bayer leverkusen mit 1:2. das team von trainer julian nagelsmann hat nach der dritten saisonniederlage einen punkt rückstand auf dortmund, das am samstag gegen den 1. fc köln mit 6:1 gewonnen hatte. damit gehen die bayern als verfolger in das duell mit der borussia am 1. april.joshua kimmich (22.) brachte die münchner in führung. der argentinische weltmeister exequiel palacios drehte das spiel mit zwei verwandelten foulelfmetern (56., 73.). schiedsrichter tobias stieler hatte dem gefoulten amine adli wegen vermeintlicher schwalben jeweils zunächst die gelbe karte gegeben. beide male nahm er die karte nach videostudium zurück. leverkusen ist nun dicht an den europacup-plätzen dran.tabellendritter ist weiter union berlin nach einem 2:0-heimsieg gegen eintracht frankfurt, an rb leipzig vorbei auf rang vier schob sich der sc freiburg mit einem 1:1 in mainz.union berlin untermauerte im duell der unter der woche im europacup gescheiterten mannschaften den anspruch auf die champions-league-plätze. im stadion an der alten försterei erzielten rani khedira (53.) und der eingewechselte kevin behrens (75.) die tore für die „eisernen“ gegen die vom österreicher oliver glasner trainierten frankfurter.ｈｅｉｍｄｒｅｉｅｒ 🥰 #fcusge pic.twitter.com/ymfouhjajzunion-trainer urs fischer hatte die angekündigte rotation mit gleich fünf spielern vollzogen. weiterhin musste fischer ebenso wie sein gegenüber glasner auf den etatmäßigen kapitän verzichten. der österreicher christopher trimmel fehlte wie bereits bei der 0:3-niederlage bei royale union saint-gilloise in der europa league krankheitsbedingt, frankfurts sebastian rode saß eine gelbsperre ab.beide mannschaften agierten nach anstrengenden englischen wochen zunächst auf sparflamme. nach dem seitenwechsel konnten die hausherren ihre erste möglichkeit gleich zur führung durch khedira nach einem eckball nutzen. frankfurt versuchte es mit einzelaktionen, behrens fixierte aber den sieg der berliner.im letzten spiel des tages trennten sich mainz und freiburg mit 1:1. für die führung der gäste zeichnete ritsu doan (55.) nach kopfballvorlage von michael gregoritsch verantwortlich. dem nach einer stunde auf den platz gekommenen österreicher karim onisiwo glückte in der 96.\\\\xa0minute der ausgleich.unsere nerven: 🎢🎢alter, was macht ihr mit uns?! ja man!!!!!!!!1!1!1!11!1 pic.twitter.com/zln6mzcfxgbei freiburg fehlte der an einer muskelverletzung laborierende philipp lienhart, dessen einsatz damit auch weiter für die anstehenden em-qualifikationsspiele österreichs fraglich ist.deutsche bundesliga, 25. rundesonntag:tore: palacios (55./elfmeter, 73./elfmeter) bzw. kimmich (22.)leverkusen: pentz ersatzbayern: ohne wannertore: khedira (53.), behrens (75.)union: ohne trimmel (krank)tore: onisiwo (96.) bzw. doan (55.)mainz: onisiwo ab 60. minute, ohne mustaphafreiburg: gregoritsch bis 93. minute, ohne lienhart (verletzt)samstag:tor: masovic (48.)bochum: stöger bis 69. minuteleipzig: laimer bis 82. minute, ohne schlager (verletzt)tore: kramaric (24./elfmeter, 37./elfmeter), bebou (51.) bzw. jovetic (92.)hoffenheim: baumgartner bis 69. minutetor: marmoush (56.)wolfsburg: wimmer bis 58. minute, pervan ersatztore: maier (51.) bzw. bülter (93./elfmeter)augsburg: baumgartlinger ab 74. minuteschalke: greiml ersatztore: guerreiro (15.), haller (17., 69.), reus (32., 70.), malen (36.) bzw. selke (42.)köln: kainz bis 58. minute, ljubicic bis 83. minutefreitag:tore: thuram (48.), neuhaus (73.) bzw. ducksch (65., 89.)gladbach: wolf ab 85. minute, lainer ersatzbremen: schmid ab 63. minute, ohne friedl (krank)vollansicht der tabelle unter https://sport.orf.at/fussball/competitions/comp/22red, orf.at/agenturen'}\""
      ]
     },
     "execution_count": 21,
     "metadata": {},
     "output_type": "execute_result"
    }
   ],
   "source": [
    "data_with_playernames['data'].iloc[19]"
   ]
  },
  {
   "cell_type": "code",
   "execution_count": 22,
   "metadata": {},
   "outputs": [],
   "source": [
    "data_with_playernames['data'] = data_with_playernames['data'].apply(lambda x: re.sub(r'[^\\w\\s]', lambda match: map_emoji_to_description(match.group(), language = 'de',), str(x)))"
   ]
  },
  {
   "cell_type": "code",
   "execution_count": 17,
   "metadata": {},
   "outputs": [],
   "source": [
    "data_rm = data_with_playernames.copy()\n",
    "\n",
    "# strip_numeric -> removing digits (https://gensimr.news-r.org/reference/strip_numeric.html)\n",
    "data_rm['data'] = data_rm['data'].apply(strip_numeric)\n",
    "\n",
    "# strip_punctutation -> removing punctations (https://gensimr.news-r.org/reference/strip_punctuation.html)\n",
    "data_rm['data'] = data_rm['data'].apply(strip_punctuation)\n",
    "\n",
    "# strip multiple whitespaces also \\n -> (https://radimrehurek.com/gensim/parsing/preprocessing.html#gensim.parsing.preprocessing.strip_multiple_whitespaces)\n",
    "data_rm['data'] = data_rm['data'].apply(strip_multiple_whitespaces)"
   ]
  },
  {
   "cell_type": "code",
   "execution_count": 18,
   "metadata": {},
   "outputs": [
    {
     "data": {
      "text/plain": [
       "'der fc bayern ist nicht mehr tabellenführer der fußball bundesliga in leverkusen liegt schiedsrichter tobias stieler zweimal komplett daneben wird zweimal vom videoassistenten korrigiert und zweimal jubelt bayer kurz darauf für die münchner ist es die dritte pleite der saison oliver kahn warf sich verzweifelt in seinem vip sitz hin und her trainer julian nagelsmann schlug sich wütend mit der handfläche gegen die stirn bayern münchen hat im titelrennen nach dem offensivfeuerwerk von borussia dortmund auf kuriose weise gepatzt und ist krachend von der tabellenspitze gestürzt der abonnementmeister verlor bei bayer leverkusen gab eine führung aus der hand und liegt in der tabelle vor dem ligagipfel in zwei wochen plötzlich einen punkt hinter dem bvb dortmund der einzig verbliebene herausforderer um die meisterschaft hatte am gestrigen samstag ein gegen den fc köln vorgelegt der fc bayern ist erstmals seit dem zwölften spieltag nicht tabellenführer leverkusen hat das sehr gut gemacht sie waren giftig und unangenehm stellte thomas müller bei dazn mit grimmiger miene fest diese niederlage ist leider verdient der fc bayern steht nicht dort wo er eigentlich stehen soll in der länderspielpause müsse sich die mannschaft deshalb so einige fragen stellen und dann wir müssen auf jeden fall gewinnen sonst wird es schwierig die meisterschaft zu holen sagte nagelsmann die münchner wackelten in leverkusen bedenklich bevor joshua kimmich die erste chance zur führung nutzte hatte leverkusen ein deutliches übergewicht mit hohem pressing ließ das team des früheren bayern profis xabi alonso dem rekordmeister kaum zeit und platz es haperte zunächst einzig an der effizienz leverkusen drehte das spiel durch exequiel palacios der in der und minute foulelfmeter verwandelte schiedsrichter tobias stieler benötigte bei beiden strafstößen kräftige unterstützung seines video assistenten stieler gab in beiden fällen amine adli zunächst gelb wegen einer vermeintlichen schwalbe nahm die karten aber dann jeweils zurück gravierende fehleinschätzungen die leverkusen ohne var korrektur wohl um den sieg gebracht hätten leverkusen begann stark und schwungvoll fcb keeper yann sommer war aufmerksam bei einer direkt aufs tor gezogenen ecke von kerem demirbay dann parierte er gegen jeremie frimpong unmittelbar davor verfehlte moussa diaby aus der distanz knapp wie es besser geht zeigten die bayern nach einer flanke von joão cancelo legte leon goretzka auf kimmich ab der aus elf metern mühelos verwandelte der gegentreffer nahm leverkusen etwas den schwung und die überzeugung der anfangsphase beide teams neutralisierten sich weitgehend thomas müller und sadio mané die im wechsel versuchten den verletzten torjäger eric maxim choupo moting zu ersetzen hatten kaum bindung zum spiel entsprechend nahm nagelsmann das glücklose duo und cancelo nach der pause vom platz dafür kamen vor den augen von bundestrainer hansi flick nun kingsley coman jamal musiala und serge gnabry '"
      ]
     },
     "execution_count": 18,
     "metadata": {},
     "output_type": "execute_result"
    }
   ],
   "source": [
    "data_rm['data'].iloc[13]"
   ]
  },
  {
   "attachments": {},
   "cell_type": "markdown",
   "metadata": {},
   "source": [
    "## Stopwords"
   ]
  },
  {
   "cell_type": "code",
   "execution_count": 19,
   "metadata": {},
   "outputs": [],
   "source": [
    "german_stop_words = stopwords.words('german')\n",
    "\n",
    "# Create a list of stop words to remove \n",
    "stop_words_to_remove = ['nicht', 'nichts']\n",
    "\n",
    "stop_words_to_add = ['vor', 'in', 'den', 'dem', 'beim', 'wir', 'der', 'ist','ende', 'seite', 'ersten', 'fürs', 'eh', 'blick', 'schon', 'zumal', 'erst', 'mal', 'bild', 't', '(dpa)']\n",
    "\n",
    "# Remove the stop words to remove from the stop words list\n",
    "for word in stop_words_to_remove:\n",
    "  german_stop_words.remove(word)\n",
    "\n",
    "german_stop_words.append(stop_words_to_add)\n",
    "\n",
    "# Define a function to apply remove_stopwords on a column\n",
    "def remove_stopwords_from_text(text):\n",
    "    return remove_stopwords(text, stopwords=german_stop_words)\n",
    "\n",
    "# Apply the remove_stopwords function to the 'text' column using the apply method\n",
    "data_rm['data'] = data_rm['data'].apply(remove_stopwords_from_text)\n"
   ]
  },
  {
   "attachments": {},
   "cell_type": "markdown",
   "metadata": {},
   "source": [
    "## Pattern Regex\n"
   ]
  },
  {
   "cell_type": "code",
   "execution_count": 20,
   "metadata": {},
   "outputs": [
    {
     "data": {
      "text/plain": [
       "'patternlist = [\\n    r\\'^\\\\s*nutze kicker.*?\\\\.\\',\\n    r\\'^\\\\s*die zustimmung.*?\\\\.\\',\\n]\\n\\nfor pattern in patternlist:\\n\\n    data_wo_pattern[\\'data\\'] = data_wo_pattern[\\'data\\'].apply(lambda x: re.sub(pattern, \"\", str(x), flags=re.M))\\n'"
      ]
     },
     "execution_count": 20,
     "metadata": {},
     "output_type": "execute_result"
    }
   ],
   "source": [
    "'''patternlist = [\n",
    "    r'^\\s*nutze kicker.*?\\.',\n",
    "    r'^\\s*die zustimmung.*?\\.',\n",
    "]\n",
    "\n",
    "for pattern in patternlist:\n",
    "\n",
    "    data_wo_pattern['data'] = data_wo_pattern['data'].apply(lambda x: re.sub(pattern, \"\", str(x), flags=re.M))\n",
    "'''\n"
   ]
  }
 ],
 "metadata": {
  "kernelspec": {
   "display_name": "Python 3.9.6 64-bit",
   "language": "python",
   "name": "python3"
  },
  "language_info": {
   "codemirror_mode": {
    "name": "ipython",
    "version": 3
   },
   "file_extension": ".py",
   "mimetype": "text/x-python",
   "name": "python",
   "nbconvert_exporter": "python",
   "pygments_lexer": "ipython3",
   "version": "3.9.6"
  },
  "orig_nbformat": 4,
  "vscode": {
   "interpreter": {
    "hash": "31f2aee4e71d21fbe5cf8b01ff0e069b9275f58929596ceb00d14d90e3e16cd6"
   }
  }
 },
 "nbformat": 4,
 "nbformat_minor": 2
}
