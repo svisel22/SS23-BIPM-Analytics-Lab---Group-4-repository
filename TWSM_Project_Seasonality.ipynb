{
  "cells": [
    {
      "cell_type": "code",
      "execution_count": 1,
      "metadata": {
        "id": "BIBYRQkjyo_V"
      },
      "outputs": [],
      "source": [
        "#!pip install newsapi-python"
      ]
    },
    {
      "cell_type": "code",
      "execution_count": 2,
      "metadata": {
        "id": "zB8qe29gzMd0"
      },
      "outputs": [],
      "source": [
        "import pprint\n",
        "import requests\n",
        "from newsapi import NewsApiClient\n",
        "import pandas as pd\n",
        "import matplotlib.pyplot as plt\n",
        "import datetime"
      ]
    },
    {
      "cell_type": "code",
      "execution_count": 3,
      "metadata": {},
      "outputs": [],
      "source": [
        "### ACTION for later: Include shorter forms of names or nicknames? without then having articles double"
      ]
    },
    {
      "cell_type": "code",
      "execution_count": 4,
      "metadata": {},
      "outputs": [],
      "source": [
        "k1_secret = '629525a47ff6458789d19a3c489419fa'\n",
        "\n",
        "j1_secret = '40d4a2e1919c4066b59df69ca787f4ba'\n",
        "\n",
        "j2_secret = '2211c202d86d46f78b48b3e532557d7d'\n",
        "  \n",
        "# Define the endpoint\n",
        "url = 'https://newsapi.org/v2/everything'\n",
        "\n",
        "# Get today's date\n",
        "today = datetime.date.today()\n",
        "\n",
        "# Get the timeperiod\n",
        "two_years = (today - datetime.timedelta(days=365*2)).strftime('%Y-%m-%d') #strftime formats the datetime object as a string here in the YYYY-MM-DD\n",
        "thirty_days = (today - datetime.timedelta(days=30)).strftime('%Y-%m-%d') "
      ]
    },
    {
      "cell_type": "code",
      "execution_count": 9,
      "metadata": {},
      "outputs": [],
      "source": [
        "#it*s for two years --> only possible with extended version\n",
        "\n",
        "def plot_results_per_month(query):\n",
        "    # Initialize the dictionary with the months as keys\n",
        "    results_per_month = {}\n",
        "\n",
        "\n",
        "    # Send a request for each month in the time range\n",
        "    curr_month = datetime.date.today().replace(day=1)\n",
        "    while curr_month >= datetime.date.fromisoformat(two_years):\n",
        "        month_str = curr_month.strftime('%Y-%m')\n",
        "        parameters = {\n",
        "            'q': query,\n",
        "            'pageSize': 100,\n",
        "            'apiKey': j2_secret,\n",
        "            'sortBy': 'publishedAt',\n",
        "            'from': f'{month_str}-{curr_month.day}',\n",
        "            'to': f'{month_str}-01' #maybe cause for problems? switch from and to??\n",
        "        }\n",
        "        response = requests.get(url, params=parameters)\n",
        "        response_json = response.json()\n",
        "        print(response_json)\n",
        "        results_per_month[month_str] = response_json['totalResults']\n",
        "\n",
        "    # Go back one month\n",
        "        curr_month = curr_month - datetime.timedelta(days=1)\n",
        "        curr_month = curr_month.replace(day=1)\n",
        "\n",
        "    # Calculate the total number of results\n",
        "    total_results = sum(results_per_month.values())\n",
        "\n",
        "    # Calculate the percentage of results for each month\n",
        "    results_percentages = {k: v / total_results * 100 for k, v in results_per_month.items()}\n",
        "\n",
        "    # Plot the results\n",
        "    months = list(results_per_month.keys())\n",
        "    results = list(results_per_month.values())\n",
        "    percentages = [f'{v:.1f}%' for v in results_percentages.values()]\n",
        "\n",
        "    fig, ax = plt.subplots()\n",
        "\n",
        "    ax.bar(months, results)\n",
        "    ax.set_title(f'Number of results per month for \"{query}\"')\n",
        "    ax.set_xlabel('Month')\n",
        "    ax.set_ylabel('Number of results')\n",
        "    for i, v in enumerate(results):\n",
        "        ax.text(i, v, percentages[i], ha='center', va='bottom')\n",
        "\n",
        "    plt.show()"
      ]
    },
    {
      "cell_type": "code",
      "execution_count": 10,
      "metadata": {
        "colab": {
          "base_uri": "https://localhost:8080/",
          "height": 36
        },
        "id": "B3g9SLE0B9e5",
        "outputId": "49b9c4c7-6193-4fb2-d163-1c2d50febab0"
      },
      "outputs": [
        {
          "name": "stdout",
          "output_type": "stream",
          "text": [
            "{'status': 'ok', 'totalResults': 4, 'articles': [{'source': {'id': None, 'name': 'Www.nu.nl'}, 'author': 'onze sportredactie', 'title': 'Tuchel debuteert bij Bayern met overtuigende zege op titelconcurrent Dortmund', 'description': \"Bayern München heeft zaterdag bij het debuut van trainer Thomas Tuchel op simpele wijze afgerekend met titelrivaal Borussia Dortmund: 4-2. Door de overwinning neemt 'Der Rekordmeister' de koppositie in de Bundesliga over van Dortmund.\", 'url': 'https://www.nu.nl/voetbal/6257791/tuchel-debuteert-bij-bayern-met-overtuigende-zege-op-titelconcurrent-dortmund.html', 'urlToImage': 'https://media.nu.nl/m/9dkx2pbab7vk_wd1280/tuchel-debuteert-bij-bayern-met-overtuigende-zege-op-titelconcurrent-dortmund.jpg', 'publishedAt': '2023-04-01T18:36:25Z', 'content': '01 apr 2023 om 17:29Update: 4 minuten geleden\\r\\nBayern München heeft zaterdag bij het debuut van trainer Thomas Tuchel op simpele wijze afgerekend met titelrivaal Borussia Dortmund: 4-2. Door de overw… [+2214 chars]'}, {'source': {'id': 'rtl-nieuws', 'name': 'RTL Nieuws'}, 'author': None, 'title': 'Frimpong en Becker leiden zeges in van Leverkusen en Union', 'description': 'Jeremie Frimpong en Sheraldo Becker hebben beiden met een doelpunt een zege ingeleid van hun clubs Bayer Leverkusen en Union Berlin. Leverkusen won de uitwedstrijd tegen Schalke 04 met 3-0, terwijl de club uit Berlijn op eigen veld met 3-0 te sterk was voor V…', 'url': 'https://www.rtlnieuws.nl/sport/voetbal/artikel/5375442/frimpong-en-becker-leiden-zeges-van-leverkusen-en-union', 'urlToImage': 'https://www.rtlnieuws.nl/sites/default/files/ANP010423101-1.jpg?itok=DB-qn1Bm&width=2048&height=1152&impolicy=semi_dynamic', 'publishedAt': '2023-04-01T15:43:11Z', 'content': 'Jeremie Frimpong en Sheraldo Becker hebben beiden met een doelpunt een zege ingeleid van hun clubs Bayer Leverkusen en Union Berlin. Leverkusen won de uitwedstrijd tegen Schalke 04 met 3-0, terwijl d… [+1177 chars]'}, {'source': {'id': None, 'name': 'Www.ad.nl'}, 'author': 'Sportredactie', 'title': 'Jeremie Frimpong en Sheraldo Becker trefzeker in de Bundesliga', 'description': 'Jeremie Frimpong en Sheraldo Becker hebben beiden met een doelpunt een zege ingeleid van hun clubs Bayer Leverkusen en Union Berlin. Leverkusen won de uitwedstrijd tegen Schalke 04 met 3-0, terwijl de club uit Berlijn op eigen veld met 3-0 te sterk was voor V…', 'url': 'https://www.ad.nl/buitenlands-voetbal/jeremie-frimpong-en-sheraldo-becker-trefzeker-in-de-bundesliga~a2dd6680/', 'urlToImage': 'https://images0.persgroep.net/rcs/5xLTU57p7MoD2csSPTTl1aU1wb0/diocontent/229336106/_focus/0.44/0.14/_fill/1200/630/?appId=21791a8992982cd8da851550a453bd7f&quality=0.7', 'publishedAt': '2023-04-01T15:42:45Z', 'content': 'De mee opgekomen Frimpong tikte de bal in de 50ste minuut in het lege doel na een voorzet vanaf de linkerflank van de Franse aanvaller Moussa Diaby. Het was voor Frimpong al zijn achtste doelpunt van… [+4119 chars]'}, {'source': {'id': None, 'name': 'Www.nu.nl'}, 'author': 'onze sportredactie', 'title': 'Becker houdt Union in spoor van Bayern en Dortmund, Frimpong scoort opnieuw', 'description': 'Union Berlin is zaterdag in het spoor gebleven van Bayern München en Borussia Dortmund in de Bundesliga. Mede door de openingstreffer van Sheraldo Becker won de nummer drie met 3-0 van VfB Stuttgart. Jeremie Frimpong maakte zijn achtste competitietreffer bij …', 'url': 'https://www.nu.nl/voetbal/6257791/becker-houdt-union-in-spoor-van-bayern-en-dortmund-frimpong-scoort-opnieuw.html', 'urlToImage': 'https://media.nu.nl/m/dpixacsaci7r_wd1280/becker-houdt-union-in-spoor-van-bayern-en-dortmund-frimpong-scoort-opnieuw.jpg', 'publishedAt': '2023-04-01T15:32:01Z', 'content': '01 apr 2023 om 17:29Update: 8 minuten geleden\\r\\nUnion Berlin is zaterdag in het spoor gebleven van Bayern München en Borussia Dortmund in de Bundesliga. Mede door de openingstreffer van Sheraldo Becke… [+1321 chars]'}]}\n",
            "{'status': 'error', 'code': 'parameterInvalid', 'message': 'You are trying to request results too far in the past. Your plan permits you to request articles as far back as 2023-03-27, but you have requested 2023-03-01. You may need to upgrade to a paid plan.'}\n"
          ]
        },
        {
          "ename": "KeyError",
          "evalue": "'totalResults'",
          "output_type": "error",
          "traceback": [
            "\u001b[1;31m---------------------------------------------------------------------------\u001b[0m",
            "\u001b[1;31mKeyError\u001b[0m                                  Traceback (most recent call last)",
            "Cell \u001b[1;32mIn[10], line 2\u001b[0m\n\u001b[0;32m      1\u001b[0m \u001b[39m# ACTION for the user: insert the parameters names for the players you want to analyse\u001b[39;00m\n\u001b[1;32m----> 2\u001b[0m plot_results_per_month(\u001b[39m'\u001b[39;49m\u001b[39mMitchel Bakker\u001b[39;49m\u001b[39m'\u001b[39;49m)\n",
            "Cell \u001b[1;32mIn[9], line 23\u001b[0m, in \u001b[0;36mplot_results_per_month\u001b[1;34m(query)\u001b[0m\n\u001b[0;32m     21\u001b[0m     response_json \u001b[39m=\u001b[39m response\u001b[39m.\u001b[39mjson()\n\u001b[0;32m     22\u001b[0m     \u001b[39mprint\u001b[39m(response_json)\n\u001b[1;32m---> 23\u001b[0m     results_per_month[month_str] \u001b[39m=\u001b[39m response_json[\u001b[39m'\u001b[39;49m\u001b[39mtotalResults\u001b[39;49m\u001b[39m'\u001b[39;49m]\n\u001b[0;32m     25\u001b[0m \u001b[39m# Go back one month\u001b[39;00m\n\u001b[0;32m     26\u001b[0m     curr_month \u001b[39m=\u001b[39m curr_month \u001b[39m-\u001b[39m datetime\u001b[39m.\u001b[39mtimedelta(days\u001b[39m=\u001b[39m\u001b[39m1\u001b[39m)\n",
            "\u001b[1;31mKeyError\u001b[0m: 'totalResults'"
          ]
        }
      ],
      "source": [
        "# ACTION for the user: insert the parameters names for the players you want to analyse\n",
        "plot_results_per_month('Mitchel Bakker')"
      ]
    },
    {
      "cell_type": "code",
      "execution_count": null,
      "metadata": {},
      "outputs": [],
      "source": [
        "def plot_results_per_day(query):\n",
        "    results_per_day = {}\n",
        "    \n",
        "    # Send a request for each day in the time range\n",
        "    curr_day = today\n",
        "    while curr_day >= datetime.date.fromisoformat(thirty_days):\n",
        "        day_str = curr_day.strftime('%Y-%m-%d')\n",
        "        parameters = {\n",
        "            'q': query,\n",
        "            'pageSize': 100,\n",
        "            'apiKey': j1_secret,\n",
        "            'sortBy': 'publishedAt',\n",
        "            'from': day_str,\n",
        "            'to': day_str,\n",
        "        }\n",
        "        response = requests.get(url, params=parameters)\n",
        "        response_json = response.json()\n",
        "        #print(response_json)\n",
        "        results_per_day[day_str] = response_json['totalResults']\n",
        "        curr_day = curr_day - datetime.timedelta(days=1)\n",
        "\n",
        "    # Calculate the total number of results\n",
        "    total_results = sum(results_per_day.values())\n",
        "\n",
        "    # Plot the results\n",
        "    days = list(results_per_day.keys())\n",
        "    results = list(results_per_day.values())\n",
        "\n",
        "    fig, ax = plt.subplots()\n",
        "\n",
        "    ax.bar(days, results)\n",
        "    ax.set_title(f'Number of results per day for \"{query}\"')\n",
        "    ax.set_xlabel('Day')\n",
        "    ax.set_ylabel('Number of results')\n",
        "\n",
        "    plt.show()"
      ]
    },
    {
      "cell_type": "code",
      "execution_count": null,
      "metadata": {},
      "outputs": [
        {
          "data": {
            "image/png": "[encoded data removed]",
            "text/plain": [
              "<Figure size 640x480 with 1 Axes>"
            ]
          },
          "metadata": {},
          "output_type": "display_data"
        }
      ],
      "source": [
        "# ACTION for the user: insert the parameters names for the players you want to analyse\n",
        "plot_results_per_day('Mitchel Bakker')"
      ]
    },
    {
      "attachments": {},
      "cell_type": "markdown",
      "metadata": {},
      "source": [
        "# Perspective task \n",
        "Compare with matchdays"
      ]
    },
    {
      "cell_type": "code",
      "execution_count": null,
      "metadata": {},
      "outputs": [],
      "source": []
    }
  ],
  "metadata": {
    "colab": {
      "provenance": []
    },
    "kernelspec": {
      "display_name": "Python 3.9.6 64-bit",
      "language": "python",
      "name": "python3"
    },
    "language_info": {
      "codemirror_mode": {
        "name": "ipython",
        "version": 3
      },
      "file_extension": ".py",
      "mimetype": "text/x-python",
      "name": "python",
      "nbconvert_exporter": "python",
      "pygments_lexer": "ipython3",
      "version": "3.10.11"
    },
    "vscode": {
      "interpreter": {
        "hash": "31f2aee4e71d21fbe5cf8b01ff0e069b9275f58929596ceb00d14d90e3e16cd6"
      }
    }
  },
  "nbformat": 4,
  "nbformat_minor": 0
}
