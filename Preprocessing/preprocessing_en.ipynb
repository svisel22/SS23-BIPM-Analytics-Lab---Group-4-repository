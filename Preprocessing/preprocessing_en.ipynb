{
 "cells": [
  {
   "cell_type": "markdown",
   "metadata": {},
   "source": [
    "# Preprocessing English Language"
   ]
  },
  {
   "cell_type": "markdown",
   "metadata": {},
   "source": [
    "#### In this notebook, specifically for the English data, we will apply a series of techniques to remove ads, noise, and any information that is not needed for our analysis. We will clean the data that has been previously extracted and store it in different files and structures to fulfill the requirements of the models that will be applied later."
   ]
  },
  {
   "attachments": {},
   "cell_type": "markdown",
   "metadata": {},
   "source": [
    "## Import packages"
   ]
  },
  {
   "cell_type": "code",
   "execution_count": 2,
   "metadata": {},
   "outputs": [
    {
     "data": {
      "text/plain": [
       "\"def del_patterns(df_line, pattern):\\n    lines = df_line.split('\\\\n')\\n    new_string = ''\\n    for line in lines:\\n        deleting = False\\n        for word in pattern:\\n            if deleting:\\n                break\\n            elif word in line:\\n                deleting = True\\n            else:\\n                deleting = False\\n        if not deleting:\\n            new_string += line + '\\n'\\n    return new_string.strip()\""
      ]
     },
     "execution_count": 2,
     "metadata": {},
     "output_type": "execute_result"
    }
   ],
   "source": [
    "import pandas as pd\n",
    "import re\n",
    "#from sklarn.feature_extraction.text import CountVectorizer\n",
    "from gensim.parsing.preprocessing import STOPWORDS, strip_tags, strip_numeric, strip_punctuation, strip_multiple_whitespaces, remove_stopwords, strip_short, stem_text\n",
    "import numpy as np\n",
    "import sys\n",
    "import os\n",
    "sys.path.append('../')\n",
    "#from utils import remove_similar_rows, find_lines_with_player, remove_stopwords_from_text, map_emoji_to_description, remove_similar_rows_per_player ##del_patterns, \n",
    "\n",
    "\n",
    "#INFO included in utils - but utils doesn't work for me here\n",
    "import emoji\n",
    "def map_emoji_to_description(emoji_text, language): \n",
    "    emoji_description = emoji.demojize(emoji_text, language=language)\n",
    "    return emoji_description\n",
    "\n",
    "def translate_emojis(text, language):\n",
    "    return re.sub(r'[\\U0001F000-\\U0001F999]', lambda match: map_emoji_to_description(match.group(), language=language), text)\n",
    "\n",
    "def remove_stopwords_from_text(text, stopwords_list_per_language):\n",
    "    return remove_stopwords(text, stopwords=stopwords_list_per_language)\n",
    "\n",
    "from difflib import SequenceMatcher\n",
    "def remove_similar_rows_per_player(df, playerlist, threshold=0.9):\n",
    "    '''The procedure of deleting similiar articles needs to be done by each player because if an article writes about \n",
    "    # e.g. two players we want to keep it for both of the players'''\n",
    "\n",
    "    # define empty df which will be returned in the end\n",
    "    df_complete = pd.DataFrame()\n",
    "\n",
    "    for player in playerlist:\n",
    "        \n",
    "        # create the df for the player\n",
    "        df_player = df[df[\"player\"] == player]\n",
    "        df_player = df_player.reset_index(drop=True)\n",
    "        column_as_df = pd.DataFrame(df_player['data'])\n",
    "\n",
    "\n",
    "        \n",
    "        # Compute similarity scores for each pair of rows\n",
    "        similarity_scores = {}\n",
    "        for i, row in column_as_df.iterrows():\n",
    "            for j, other_row in column_as_df.iterrows():\n",
    "                if i >= j:\n",
    "                    continue\n",
    "                score = SequenceMatcher(None, row, other_row).ratio()\n",
    "                if score >= threshold:\n",
    "                    similarity_scores[(i, j)] = score\n",
    "        \n",
    "        # Identify rows to remove\n",
    "        rows_to_remove = []\n",
    "        for (i, j), score in similarity_scores.items():\n",
    "            if i not in rows_to_remove and j not in rows_to_remove:\n",
    "                rows_to_remove.append(j if df_player.index[i] < df_player.index[j] else i)\n",
    "        \n",
    "        # Remove rows and concatenate df\n",
    "        df_player = df_player.drop(rows_to_remove)\n",
    "        df_complete = pd.concat([df_complete, df_player], axis=0)\n",
    "\n",
    "        #return modified DataFrame\n",
    "    return df_complete\n",
    "\n",
    "from unidecode import unidecode\n",
    "def remove_accents(text):\n",
    "    return unidecode(text)\n",
    "\n",
    "# Function which finds the lines where a players name is contained\n",
    "def find_lines_with_player(dataframe, playerlist, n_lines = 0):\n",
    "    \n",
    "    # create empty df \n",
    "    df_complete = pd.DataFrame()\n",
    "\n",
    "    # iterating over all players\n",
    "    for player in playerlist:\n",
    "\n",
    "        # get players first and last_name to include them in later sentence checks\n",
    "        player_first_name, player_last_name = player.split()\n",
    "\n",
    "        # just select player indiviual data\n",
    "        df_player = dataframe[dataframe[\"player\"] == player]\n",
    "        df_player = df_player.reset_index(drop=True)\n",
    "\n",
    "        # iterate over all data for the player\n",
    "        for i in range(len(df_player)):\n",
    "\n",
    "            # get the current record\n",
    "            current_line = df_player['data'].iloc[i]\n",
    "            # split up the records in lines\n",
    "            lines = current_line.split('\\\\n')\n",
    "            # create an empty string\n",
    "            new_string = ''\n",
    "\n",
    "            line_counter = 0\n",
    "            # iterate over all lines in the record\n",
    "            for line in lines:\n",
    "                # if the playername can be found in the line add the line to the string\n",
    "                if line.find(player) != -1:\n",
    "                    new_string = new_string + line + \" \"\n",
    "                    if line_counter <= 0:\n",
    "                        line_counter = line_counter + n_lines\n",
    "            \n",
    "                elif line.find(player_first_name) != -1:\n",
    "                    new_string = new_string + line + \" \"\n",
    "                    if line_counter <= 0:\n",
    "                        line_counter = line_counter + n_lines\n",
    "        \n",
    "                elif line.find(player_last_name) != -1:\n",
    "                    new_string = new_string + line + \" \"\n",
    "                    if line_counter <= 0:\n",
    "                        line_counter = line_counter + n_lines\n",
    "            \n",
    "                elif line_counter >= 0:\n",
    "                    new_string = new_string + line + \" \"\n",
    "                    line_counter = line_counter-1\n",
    "        \n",
    "            # switch the previos record against the newly created string \n",
    "            df_player['data'].iloc[i] = new_string\n",
    "\n",
    "        # add the new data to the Dataframe and return\n",
    "        df_complete = pd.concat([df_complete, df_player], axis=0)\n",
    "        \n",
    "    return df_complete\n",
    "\n",
    "def name_wordgroups(df):\n",
    "    '''\n",
    "    Function to match first and surname to just last name\n",
    "    '''\n",
    "    # create patterns which should be matched \n",
    "    # first lastname and firstname should both result in just lastname\n",
    "    pattern_match2d = np.array([[r\"\\b(mitchel bakker|mitchel)\\b\", 'bakker'], \n",
    "                                [r\"\\b(xabi alonso|xabi)\\b\", 'alonso'], \n",
    "                                [r\"\\b(exequiel palacios|exequiel)\\b\", 'palacios'],\n",
    "                                [r\"\\b(nadiem amiri|nadiem)\\b\", 'amiri'],\n",
    "                                [r\"\\b(kerem demirbay|kerem)\\b\", 'demirbay'],\n",
    "                                [r\"\\b(robert andrich|robert)\\b\", 'andrich'],\n",
    "                                [r\"\\b(exequiel palacios|exequiel)\\b\", 'palacios'],\n",
    "                                [r\"\\b(piero hincapie|piero)\\b\", 'hincapie'],\n",
    "                                [r\"\\b(jeremie frimpong|jeremie)\\b\", 'frimpong'],\n",
    "                                [r\"\\b(jonathan tah|jonathan)\\b\", 'tah'],\n",
    "                                [r\"\\b(moussa diaby|moussa)\\b\", 'diaby'],\n",
    "                                [r\"\\b(mykhaylo mudryk|mykhaylo)\\b\", 'mudryk'],\n",
    "                                [r\"\\b(amine adli|amine)\\b\", 'adli'],\n",
    "                                [r\"\\b(florian wirtz|florian)\\b\", 'wirtz'],\n",
    "                                [r\"\\b(jose mourinho|jose)\\b\", 'mourinho'],     \n",
    "                                #other wordgroups\n",
    "                                [r\"\\b(europa league)\\b\", 'europaleague'],\n",
    "                                [r\"\\b(champions league)\\b\", 'championsleague'],\n",
    "                                [r\"\\b(bayer leverkusen|bayer|leverkusen|leverkusens)\\b\", 'bayerleverkusen']\n",
    "                                ])\n",
    "\n",
    "    # do the pattern matching for each player\n",
    "    for pattern, player in pattern_match2d:\n",
    "        df['data'] = df['data'].apply(lambda x: re.sub(pattern, str(player), str(x)))\n",
    "\n",
    "    return df\n",
    "\n",
    "'''def del_patterns(df_line, pattern):\n",
    "    lines = df_line.split('\\\\n')\n",
    "    new_string = ''\n",
    "    for line in lines:\n",
    "        deleting = False\n",
    "        for word in pattern:\n",
    "            if deleting:\n",
    "                break\n",
    "            elif word in line:\n",
    "                deleting = True\n",
    "            else:\n",
    "                deleting = False\n",
    "        if not deleting:\n",
    "            new_string += line + '\\n'\n",
    "    return new_string.strip()'''\n"
   ]
  },
  {
   "cell_type": "code",
   "execution_count": 3,
   "metadata": {},
   "outputs": [],
   "source": [
    "def del_patterns(df_line, pattern):\n",
    "    '''\n",
    "    Function which takes an input and deletes defined text pattern \n",
    "    '''\n",
    "    # split up the records in lines\n",
    "    lines = df_line.split('\\\\n')\n",
    "    \n",
    "    if len(lines) > 1:\n",
    "        # create an empty string\n",
    "        new_string = ''\n",
    "        \n",
    "        # iterating over the lines \n",
    "        for line in lines:\n",
    "            # set deleting to False first\n",
    "            deleting = False\n",
    "            \n",
    "            # check if any pattern word is included in the line and set deleting to True if so \n",
    "            for word in pattern:\n",
    "                if word in line:\n",
    "                    deleting = True\n",
    "                    break\n",
    "            \n",
    "            # if the sentence should not be deleted, add it to the string  \n",
    "            if not deleting:\n",
    "                new_string += line + ' '  # Add a space after each line\n",
    "            \n",
    "        # remove trailing space from the new_string\n",
    "        new_string = new_string.rstrip()\n",
    "        \n",
    "    else:\n",
    "        new_string = df_line\n",
    "    \n",
    "    # return the string \n",
    "    return new_string\n"
   ]
  },
  {
   "attachments": {},
   "cell_type": "markdown",
   "metadata": {},
   "source": [
    "## Load Data"
   ]
  },
  {
   "cell_type": "markdown",
   "metadata": {},
   "source": [
    "We load the data from our csv file with all the previously pulled data. And we filter English language data."
   ]
  },
  {
   "cell_type": "code",
   "execution_count": 4,
   "metadata": {},
   "outputs": [],
   "source": [
    "url = 'https://raw.githubusercontent.com/svisel22/SS23-BIPM-Analytics-Lab---Group-4-repository/main/data_files/all_data_v3.csv'\n",
    "df = pd.read_csv(url)"
   ]
  },
  {
   "cell_type": "code",
   "execution_count": 5,
   "metadata": {},
   "outputs": [
    {
     "data": {
      "text/html": [
       "<div>\n",
       "<style scoped>\n",
       "    .dataframe tbody tr th:only-of-type {\n",
       "        vertical-align: middle;\n",
       "    }\n",
       "\n",
       "    .dataframe tbody tr th {\n",
       "        vertical-align: top;\n",
       "    }\n",
       "\n",
       "    .dataframe thead th {\n",
       "        text-align: right;\n",
       "    }\n",
       "</style>\n",
       "<table border=\"1\" class=\"dataframe\">\n",
       "  <thead>\n",
       "    <tr style=\"text-align: right;\">\n",
       "      <th></th>\n",
       "      <th>data</th>\n",
       "      <th>player</th>\n",
       "      <th>language</th>\n",
       "      <th>publishedAt</th>\n",
       "    </tr>\n",
       "  </thead>\n",
       "  <tbody>\n",
       "    <tr>\n",
       "      <th>0</th>\n",
       "      <td>{'content': 'Football\\nFlorian Wirtz\\'s goal f...</td>\n",
       "      <td>Exequiel Palacios</td>\n",
       "      <td>en</td>\n",
       "      <td>2023-02-16T23:56:00Z</td>\n",
       "    </tr>\n",
       "    <tr>\n",
       "      <th>1</th>\n",
       "      <td>{'content': '[1/4]\\xa0Soccer Football - Europa...</td>\n",
       "      <td>Exequiel Palacios</td>\n",
       "      <td>en</td>\n",
       "      <td>2023-02-23T20:50:50Z</td>\n",
       "    </tr>\n",
       "    <tr>\n",
       "      <th>2</th>\n",
       "      <td>{'content': \"By Will Pickworth For Mailonline\\...</td>\n",
       "      <td>Exequiel Palacios</td>\n",
       "      <td>en</td>\n",
       "      <td>2023-02-23T20:53:59Z</td>\n",
       "    </tr>\n",
       "    <tr>\n",
       "      <th>3</th>\n",
       "      <td>{'content': '\\nBUENOS AIRES (AP) — World Cup w...</td>\n",
       "      <td>Exequiel Palacios</td>\n",
       "      <td>en</td>\n",
       "      <td>2023-03-03T16:40:46Z</td>\n",
       "    </tr>\n",
       "    <tr>\n",
       "      <th>4</th>\n",
       "      <td>{'content': 'Sign In\\nSign In\\nThe Star Editio...</td>\n",
       "      <td>Exequiel Palacios</td>\n",
       "      <td>en</td>\n",
       "      <td>2023-03-03T16:42:19Z</td>\n",
       "    </tr>\n",
       "    <tr>\n",
       "      <th>...</th>\n",
       "      <td>...</td>\n",
       "      <td>...</td>\n",
       "      <td>...</td>\n",
       "      <td>...</td>\n",
       "    </tr>\n",
       "    <tr>\n",
       "      <th>408</th>\n",
       "      <td>{'content': 'Real Madrid and Manchester City p...</td>\n",
       "      <td>Mykhaylo Mudryk</td>\n",
       "      <td>en</td>\n",
       "      <td>2023-05-09T20:58:09Z</td>\n",
       "    </tr>\n",
       "    <tr>\n",
       "      <th>409</th>\n",
       "      <td>{'content': 'Real Madrid and Manchester City p...</td>\n",
       "      <td>Mykhaylo Mudryk</td>\n",
       "      <td>en</td>\n",
       "      <td>2023-05-09T19:45:09Z</td>\n",
       "    </tr>\n",
       "    <tr>\n",
       "      <th>410</th>\n",
       "      <td>{'content': 'West Ham United are the sole Prem...</td>\n",
       "      <td>Mykhaylo Mudryk</td>\n",
       "      <td>en</td>\n",
       "      <td>2023-05-09T14:30:39Z</td>\n",
       "    </tr>\n",
       "    <tr>\n",
       "      <th>411</th>\n",
       "      <td>{'content': \"Inter Milan beat AC Milan 2-0 in ...</td>\n",
       "      <td>Mykhaylo Mudryk</td>\n",
       "      <td>en</td>\n",
       "      <td>2023-05-09T14:17:43Z</td>\n",
       "    </tr>\n",
       "    <tr>\n",
       "      <th>412</th>\n",
       "      <td>{'content': 'Chelsea transfer news has been in...</td>\n",
       "      <td>Mykhaylo Mudryk</td>\n",
       "      <td>en</td>\n",
       "      <td>2023-05-09T13:30:38Z</td>\n",
       "    </tr>\n",
       "  </tbody>\n",
       "</table>\n",
       "<p>413 rows × 4 columns</p>\n",
       "</div>"
      ],
      "text/plain": [
       "                                                  data             player   \n",
       "0    {'content': 'Football\\nFlorian Wirtz\\'s goal f...  Exequiel Palacios  \\\n",
       "1    {'content': '[1/4]\\xa0Soccer Football - Europa...  Exequiel Palacios   \n",
       "2    {'content': \"By Will Pickworth For Mailonline\\...  Exequiel Palacios   \n",
       "3    {'content': '\\nBUENOS AIRES (AP) — World Cup w...  Exequiel Palacios   \n",
       "4    {'content': 'Sign In\\nSign In\\nThe Star Editio...  Exequiel Palacios   \n",
       "..                                                 ...                ...   \n",
       "408  {'content': 'Real Madrid and Manchester City p...    Mykhaylo Mudryk   \n",
       "409  {'content': 'Real Madrid and Manchester City p...    Mykhaylo Mudryk   \n",
       "410  {'content': 'West Ham United are the sole Prem...    Mykhaylo Mudryk   \n",
       "411  {'content': \"Inter Milan beat AC Milan 2-0 in ...    Mykhaylo Mudryk   \n",
       "412  {'content': 'Chelsea transfer news has been in...    Mykhaylo Mudryk   \n",
       "\n",
       "    language           publishedAt  \n",
       "0         en  2023-02-16T23:56:00Z  \n",
       "1         en  2023-02-23T20:50:50Z  \n",
       "2         en  2023-02-23T20:53:59Z  \n",
       "3         en  2023-03-03T16:40:46Z  \n",
       "4         en  2023-03-03T16:42:19Z  \n",
       "..       ...                   ...  \n",
       "408       en  2023-05-09T20:58:09Z  \n",
       "409       en  2023-05-09T19:45:09Z  \n",
       "410       en  2023-05-09T14:30:39Z  \n",
       "411       en  2023-05-09T14:17:43Z  \n",
       "412       en  2023-05-09T13:30:38Z  \n",
       "\n",
       "[413 rows x 4 columns]"
      ]
     },
     "execution_count": 5,
     "metadata": {},
     "output_type": "execute_result"
    }
   ],
   "source": [
    "# Filter out the English data and reindex\n",
    "df_en = df[df[\"language\"] == \"en\"]\n",
    "\n",
    "#Reset index\n",
    "df_en = df_en.reset_index(drop=True)\n",
    "df_en"
   ]
  },
  {
   "attachments": {},
   "cell_type": "markdown",
   "metadata": {},
   "source": [
    "## Remove similiar rows"
   ]
  },
  {
   "cell_type": "markdown",
   "metadata": {},
   "source": [
    "We are using a pre-tailored function to remove duplicates and rows that were mistakenly stored twice."
   ]
  },
  {
   "cell_type": "code",
   "execution_count": 7,
   "metadata": {},
   "outputs": [
    {
     "data": {
      "text/html": [
       "<div>\n",
       "<style scoped>\n",
       "    .dataframe tbody tr th:only-of-type {\n",
       "        vertical-align: middle;\n",
       "    }\n",
       "\n",
       "    .dataframe tbody tr th {\n",
       "        vertical-align: top;\n",
       "    }\n",
       "\n",
       "    .dataframe thead th {\n",
       "        text-align: right;\n",
       "    }\n",
       "</style>\n",
       "<table border=\"1\" class=\"dataframe\">\n",
       "  <thead>\n",
       "    <tr style=\"text-align: right;\">\n",
       "      <th></th>\n",
       "      <th>data</th>\n",
       "      <th>player</th>\n",
       "      <th>language</th>\n",
       "      <th>publishedAt</th>\n",
       "    </tr>\n",
       "  </thead>\n",
       "  <tbody>\n",
       "    <tr>\n",
       "      <th>0</th>\n",
       "      <td>{'content': 'Football\\nFlorian Wirtz\\'s goal f...</td>\n",
       "      <td>Exequiel Palacios</td>\n",
       "      <td>en</td>\n",
       "      <td>2023-02-16T23:56:00Z</td>\n",
       "    </tr>\n",
       "    <tr>\n",
       "      <th>1</th>\n",
       "      <td>{'content': '[1/4]\\xa0Soccer Football - Europa...</td>\n",
       "      <td>Exequiel Palacios</td>\n",
       "      <td>en</td>\n",
       "      <td>2023-02-23T20:50:50Z</td>\n",
       "    </tr>\n",
       "    <tr>\n",
       "      <th>2</th>\n",
       "      <td>{'content': \"By Will Pickworth For Mailonline\\...</td>\n",
       "      <td>Exequiel Palacios</td>\n",
       "      <td>en</td>\n",
       "      <td>2023-02-23T20:53:59Z</td>\n",
       "    </tr>\n",
       "    <tr>\n",
       "      <th>3</th>\n",
       "      <td>{'content': '\\nBUENOS AIRES (AP) — World Cup w...</td>\n",
       "      <td>Exequiel Palacios</td>\n",
       "      <td>en</td>\n",
       "      <td>2023-03-03T16:40:46Z</td>\n",
       "    </tr>\n",
       "    <tr>\n",
       "      <th>4</th>\n",
       "      <td>{'content': 'Sign In\\nSign In\\nThe Star Editio...</td>\n",
       "      <td>Exequiel Palacios</td>\n",
       "      <td>en</td>\n",
       "      <td>2023-03-03T16:42:19Z</td>\n",
       "    </tr>\n",
       "    <tr>\n",
       "      <th>...</th>\n",
       "      <td>...</td>\n",
       "      <td>...</td>\n",
       "      <td>...</td>\n",
       "      <td>...</td>\n",
       "    </tr>\n",
       "    <tr>\n",
       "      <th>24</th>\n",
       "      <td>{'content': \"By Dominic Hogan For Mailonline\\n...</td>\n",
       "      <td>Piero Hincapie</td>\n",
       "      <td>en</td>\n",
       "      <td>2023-05-16T12:22:18Z</td>\n",
       "    </tr>\n",
       "    <tr>\n",
       "      <th>0</th>\n",
       "      <td>{'content': 'We use cookies and other tracking...</td>\n",
       "      <td>Piero Hincapié</td>\n",
       "      <td>en</td>\n",
       "      <td>2023-04-27T04:57:02Z</td>\n",
       "    </tr>\n",
       "    <tr>\n",
       "      <th>1</th>\n",
       "      <td>{'content': 'Man City’s Alex Robertson makes d...</td>\n",
       "      <td>Piero Hincapié</td>\n",
       "      <td>en</td>\n",
       "      <td>2023-03-24T15:24:08Z</td>\n",
       "    </tr>\n",
       "    <tr>\n",
       "      <th>2</th>\n",
       "      <td>{'content': \"\\nLast updated on 19 March 202319...</td>\n",
       "      <td>Piero Hincapié</td>\n",
       "      <td>en</td>\n",
       "      <td>2023-03-19T20:03:28Z</td>\n",
       "    </tr>\n",
       "    <tr>\n",
       "      <th>3</th>\n",
       "      <td>{'content': '\\nLast updated on 19 May 202319 M...</td>\n",
       "      <td>Piero Hincapié</td>\n",
       "      <td>en</td>\n",
       "      <td>2023-05-18T21:09:58Z</td>\n",
       "    </tr>\n",
       "  </tbody>\n",
       "</table>\n",
       "<p>394 rows × 4 columns</p>\n",
       "</div>"
      ],
      "text/plain": [
       "                                                 data             player   \n",
       "0   {'content': 'Football\\nFlorian Wirtz\\'s goal f...  Exequiel Palacios  \\\n",
       "1   {'content': '[1/4]\\xa0Soccer Football - Europa...  Exequiel Palacios   \n",
       "2   {'content': \"By Will Pickworth For Mailonline\\...  Exequiel Palacios   \n",
       "3   {'content': '\\nBUENOS AIRES (AP) — World Cup w...  Exequiel Palacios   \n",
       "4   {'content': 'Sign In\\nSign In\\nThe Star Editio...  Exequiel Palacios   \n",
       "..                                                ...                ...   \n",
       "24  {'content': \"By Dominic Hogan For Mailonline\\n...     Piero Hincapie   \n",
       "0   {'content': 'We use cookies and other tracking...     Piero Hincapié   \n",
       "1   {'content': 'Man City’s Alex Robertson makes d...     Piero Hincapié   \n",
       "2   {'content': \"\\nLast updated on 19 March 202319...     Piero Hincapié   \n",
       "3   {'content': '\\nLast updated on 19 May 202319 M...     Piero Hincapié   \n",
       "\n",
       "   language           publishedAt  \n",
       "0        en  2023-02-16T23:56:00Z  \n",
       "1        en  2023-02-23T20:50:50Z  \n",
       "2        en  2023-02-23T20:53:59Z  \n",
       "3        en  2023-03-03T16:40:46Z  \n",
       "4        en  2023-03-03T16:42:19Z  \n",
       "..      ...                   ...  \n",
       "24       en  2023-05-16T12:22:18Z  \n",
       "0        en  2023-04-27T04:57:02Z  \n",
       "1        en  2023-03-24T15:24:08Z  \n",
       "2        en  2023-03-19T20:03:28Z  \n",
       "3        en  2023-05-18T21:09:58Z  \n",
       "\n",
       "[394 rows x 4 columns]"
      ]
     },
     "execution_count": 7,
     "metadata": {},
     "output_type": "execute_result"
    }
   ],
   "source": [
    "# Remove the similiar rows (The Function is imported from utils on top)\n",
    "df_en = remove_similar_rows_per_player(df_en, df_en['player'].unique())\n",
    "df_en"
   ]
  },
  {
   "attachments": {},
   "cell_type": "markdown",
   "metadata": {},
   "source": [
    "## Transform data into lower case"
   ]
  },
  {
   "cell_type": "markdown",
   "metadata": {},
   "source": [
    "We want to transform data and player into lower case"
   ]
  },
  {
   "cell_type": "code",
   "execution_count": 8,
   "metadata": {},
   "outputs": [],
   "source": [
    "# Transform data into lower case\n",
    "df_en['data'] = df_en['data'].str.lower()\n",
    "df_en['player'] = df_en['player'].str.lower()"
   ]
  },
  {
   "attachments": {},
   "cell_type": "markdown",
   "metadata": {},
   "source": [
    "## Delete Patterns"
   ]
  },
  {
   "cell_type": "markdown",
   "metadata": {},
   "source": [
    "Due to the large number of noice and irrelevant information, patterns are defined to be removed from all texts. These patterns are specific for English texts"
   ]
  },
  {
   "cell_type": "code",
   "execution_count": 9,
   "metadata": {},
   "outputs": [],
   "source": [
    "# Delete content patterns\n",
    "df_en['data'] = df_en['data'].apply(lambda x: re.sub(r\"^{\\'content\\': \\'\", \"\", str(x)))\n",
    "df_en['data'] = df_en['data'].apply(lambda x: re.sub(r\"{'content':\", \"\", str(x)))\n",
    "\n",
    "# Define patterns to delete\n",
    "patternlist_en = [\n",
    "    \"copyright\",\n",
    "    \"photo\",\n",
    "    'image',\n",
    "    \"all rights reserved\",\n",
    "    'published by',\n",
    "    'published',\n",
    "    'publisher',\n",
    "    'pic.twitter.com',\n",
    "    'want an ad-free experience?',\n",
    "    'comments',\n",
    "    'log in',    \n",
    "    'last updated on',\n",
    "    'updated',\n",
    "    'we use cookies and other tracking technologies',\n",
    "    'we use cookies',\n",
    "    'sign',\n",
    "    'xa',\n",
    "    'external-link',\n",
    "    'creator',\n",
    "    'gameswednesday',\n",
    "    'fridayman', \n",
    "    'subscription', \n",
    "    'subscription',\n",
    "    'februaryarsen',\n",
    "    'decemberwest',\n",
    "    'from the section',\n",
    "    'filed under:',\n",
    "    'when you purchase through links on our site, we may earn an affiliate commission',\n",
    "    'how it works',\n",
    "    'the ambury',\n",
    "    'bath',\n",
    "    'future publishing limited quay house',\n",
    "    'to the independent?',\n",
    "    'if you would prefer:',\n",
    "    'want an ad-free experience?\\n',\n",
    "    'fourfourtwo is part of future plc, an international media group and leading digital publisher.',\n",
    "    'visit our corporate site (opens in new tab).',\n",
    "    ' the journal publishes the biggest breaking news in irish and international sport but for all of the 42′s insightful analysis and sharp sportswriting, subscribe\\\\xa0here. making a difference',\n",
    "    'a mix of advertising and supporting contributions helps keep paywalls away from valuable information like this article.',\n",
    "    'over 5,000 readers like you have already stepped up and support us with a monthly payment or a once-off donation.',\n",
    "    'for the price of one cup of coffee each week you can make sure we can keep reliable, meaningful news open to everyone regardless of their ability to pay.',\n",
    "    'support us',\n",
    "    'learn more for the price of one cup of coffee each week you can make sure we can keep reliable, meaningful news open to everyone regardless of their ability to pay. to embed this post, copy the code below on your site 600px wide <iframe width=\"600\" height=\"460\" frameborder=\"0\" style=\"border:0px;\" src=\"https://www.thejournal.ie/https://www.thejournal.ie/ireland-france-4-6030557-mar2023/?embedpost=6030557&width=600&height=460\" ></iframe> 400px wide <iframe width=\"600\" height=\"460\" frameborder=\"0\" style=\"border:0px;\" src=\"https://www.thejournal.ie/https://www.thejournal.ie/ireland-france-4-6030557-mar2023/?embedpost=6030557&width=400&height=460\" ></iframe> 300px wide <iframe width=\"600\" height=\"460\" frameborder=\"0\" style=\"border:0px;\" src=\"https://www.thejournal.ie/https://www.thejournal.ie/ireland-france-4-6030557-mar2023/?embedpost=6030557&width=300&height=460\" ></iframe> access to the comments facility has been disabled for this user',\n",
    "    '483623.',\n",
    "    'for mailonline',\n",
    "    'registered office: 3rd floor, latin hall, golden lane, dublin 8. please note that the journal uses cookies to improve your experience and to provide',\n",
    "    'services and',\n",
    "    'advertising. for more information on cookies please refer to our cookies',\n",
    "    'policy. the journal supports the work of the press council of ireland and the office of the press',\n",
    "    'ombudsman, and our staff operate within the code of practice. you can obtain a copy of the',\n",
    "    'code, or contact the council, at www.presscouncil.ie,',\n",
    "    'ph: (01) 6489130, lo-call 1890 208 080 or email: info@presscouncil.ie news images provided by press association',\n",
    "    'and rollingnews.ie unless otherwise stated.',\n",
    "    'unless otherwise stated. wire service provided by afp and press association. journal media does not control and is not responsible for user created content, posts, comments,',\n",
    "    'submissions or preferences. users are reminded that they are fully responsible for their own',\n",
    "    'and indemnify journal media in relation to such content and their ability to make such content,',\n",
    "    'posts, comments and submissions available. journal media does not control and is not responsible',\n",
    "    'for the content of external websites. switch to mobile site switch to desktop site',\n",
    "    'create an email alert based on the current article',\n",
    "    'refresh the page or navigate to another page on the site to be automatically logged inplease refresh your browser to be logged in',\n",
    "    'your bookmarks in your independent premium section, under my profile',\n",
    "    'referee:\\\\xa0artur dias (por) the journal publishes the biggest breaking news in irish and international sport but for all of the 42′s insightful analysis and sharp sportswriting, subscribe\\\\xa0here. making a difference',\n",
    "    'learn more to embed this post, copy the code below on your site 600px wide <iframe width=\"600\" height=\"460\" frameborder=\"0\" style=\"border:0px;\" src=\"https://www.thejournal.ie/https://www.thejournal.ie/ireland-france-4-6030557-mar2023/?embedpost=6030557&width=600&height=460\" ></iframe> 400px wide <iframe width=\"600\" height=\"460\" frameborder=\"0\" style=\"border:0px;\" src=\"https://www.thejournal.ie/https://www.thejournal.ie/ireland-france-4-6030557-mar2023/?embedpost=6030557&width=400&height=460\" ></iframe> 300px wide <iframe width=\"600\" height=\"460\" frameborder=\"0\" style=\"border:0px;\" src=\"https://www.thejournal.ie/https://www.thejournal.ie/ireland-france-4-6030557-mar2023/?embedpost=6030557&width=300&height=460\" ></iframe> access to the comments facility has been disabled for this user',\n",
    "    'registered office: 3rd floor, latin hall, golden lane, dublin 8. please note that the journal uses cookies to improve your experience and to provide',\n",
    "    'policy. the journal supports the work of the press council of ireland and the office of the press',\n",
    "    'ph: (01) 6489130, lo-call 1890 208 080 or email: info@presscouncil.ie news images provided by press association',\n",
    "    'unless otherwise stated. wire service provided by afp and press association. journal media does not control and is not responsible for user created content, posts, comments,',\n",
    "    'created content and their own posts, comments and submissions and fully and effectively warrant',\n",
    "    'for the content of external websites. switch to mobile site switch to desktop site.',\n",
    "    'to bookmark your favourite articles and stories to read or reference later? start your independent premium subscription today.please refresh the page or navigate to another page on the site to be automatically logged inplease refresh your browser to be logged inlog in',\n",
    "    'use cookies and other tracking technologies to improve your browsing experience on our site, show personalized content and targeted ads, analyze site traffic, and understand where our audiences come from. to learn more or opt-out, read our cookie policy. please also read our privacy notice and terms of use, which became effective december 20, 2019.',\n",
    "    'by choosing i accept, you consent to our use of cookies and other tracking technologies.',\n",
    "    'latest transfer news',\n",
    "    'manchester city transfer news, live! latest reports, rumors, updates',\n",
    "    'manchester united transfer news, live! latest reports, rumors, updates',\n",
    "    'arsenal transfer news, live! latest reports, rumors, updates',\n",
    "    'liverpool transfer news, rumors today, live!',\n",
    "    '[ transfer news: chelsea | tottenham | man city | arsenal | man united ]',\n",
    "    'we bring sports news that matters to your inbox, to help you stay informed and get a winning edge.',\n",
    "    'cbs interactive',\n",
    "    'cbs sports is a registered trademark of cbs broadcasting inc. commissioner.com is a registered trademark of cbs interactive inc.',\n",
    "    'images by getty images and us presswire',\n",
    "    'want to bookmark your favourite articles and stories to read or reference later?',\n",
    "    'start your independent premium subscription today.',\n",
    "    'log in want an ad-free experience?',\n",
    "    'comment',\n",
    "    'name',\n",
    "    'email',\n",
    "    'website',\n",
    "    'arsenal live scores',\n",
    "    'january',\n",
    "    'february',\n",
    "    'march',\n",
    "    'april',\n",
    "    'mai',\n",
    "    'june',\n",
    "    'july',\n",
    "    'august',\n",
    "    'september',\n",
    "    'october',\n",
    "    'november',\n",
    "    'december'\n",
    "]"
   ]
  },
  {
   "cell_type": "code",
   "execution_count": 10,
   "metadata": {},
   "outputs": [
    {
     "data": {
      "text/html": [
       "<div>\n",
       "<style scoped>\n",
       "    .dataframe tbody tr th:only-of-type {\n",
       "        vertical-align: middle;\n",
       "    }\n",
       "\n",
       "    .dataframe tbody tr th {\n",
       "        vertical-align: top;\n",
       "    }\n",
       "\n",
       "    .dataframe thead th {\n",
       "        text-align: right;\n",
       "    }\n",
       "</style>\n",
       "<table border=\"1\" class=\"dataframe\">\n",
       "  <thead>\n",
       "    <tr style=\"text-align: right;\">\n",
       "      <th></th>\n",
       "      <th>data</th>\n",
       "      <th>player</th>\n",
       "      <th>language</th>\n",
       "      <th>publishedAt</th>\n",
       "    </tr>\n",
       "  </thead>\n",
       "  <tbody>\n",
       "    <tr>\n",
       "      <th>0</th>\n",
       "      <td>football florian wirtz\\'s goal for bayer lever...</td>\n",
       "      <td>exequiel palacios</td>\n",
       "      <td>en</td>\n",
       "      <td>2023-02-16T23:56:00Z</td>\n",
       "    </tr>\n",
       "    <tr>\n",
       "      <th>1</th>\n",
       "      <td>monaco, feb 23 (reuters) - bayer leverkusen be...</td>\n",
       "      <td>exequiel palacios</td>\n",
       "      <td>en</td>\n",
       "      <td>2023-02-23T20:50:50Z</td>\n",
       "    </tr>\n",
       "    <tr>\n",
       "      <th>2</th>\n",
       "      <td>5  it was a goal-heavy thursday in the compet...</td>\n",
       "      <td>exequiel palacios</td>\n",
       "      <td>en</td>\n",
       "      <td>2023-02-23T20:53:59Z</td>\n",
       "    </tr>\n",
       "    <tr>\n",
       "      <th>3</th>\n",
       "      <td>argentina coach lionel scaloni on friday anno...</td>\n",
       "      <td>exequiel palacios</td>\n",
       "      <td>en</td>\n",
       "      <td>2023-03-03T16:40:46Z</td>\n",
       "    </tr>\n",
       "    <tr>\n",
       "      <th>4</th>\n",
       "      <td>the star edition change location this copy is ...</td>\n",
       "      <td>exequiel palacios</td>\n",
       "      <td>en</td>\n",
       "      <td>2023-03-03T16:42:19Z</td>\n",
       "    </tr>\n",
       "    <tr>\n",
       "      <th>...</th>\n",
       "      <td>...</td>\n",
       "      <td>...</td>\n",
       "      <td>...</td>\n",
       "      <td>...</td>\n",
       "    </tr>\n",
       "    <tr>\n",
       "      <th>24</th>\n",
       "      <td>43  tottenham have identified form bayer leve...</td>\n",
       "      <td>piero hincapie</td>\n",
       "      <td>en</td>\n",
       "      <td>2023-05-16T12:22:18Z</td>\n",
       "    </tr>\n",
       "    <tr>\n",
       "      <th>0</th>\n",
       "      <td>one for the future of course, kendry is still ...</td>\n",
       "      <td>piero hincapié</td>\n",
       "      <td>en</td>\n",
       "      <td>2023-04-27T04:57:02Z</td>\n",
       "    </tr>\n",
       "    <tr>\n",
       "      <th>1</th>\n",
       "      <td>man city’s alex robertson makes debut as aiden...</td>\n",
       "      <td>piero hincapié</td>\n",
       "      <td>en</td>\n",
       "      <td>2023-03-24T15:24:08Z</td>\n",
       "    </tr>\n",
       "    <tr>\n",
       "      <th>2</th>\n",
       "      <td>\" exequiel palacios scored two penalties as b...</td>\n",
       "      <td>piero hincapié</td>\n",
       "      <td>en</td>\n",
       "      <td>2023-03-19T20:03:28Z</td>\n",
       "    </tr>\n",
       "    <tr>\n",
       "      <th>3</th>\n",
       "      <td>jose mourinho\\'s roma reached the europa leag...</td>\n",
       "      <td>piero hincapié</td>\n",
       "      <td>en</td>\n",
       "      <td>2023-05-18T21:09:58Z</td>\n",
       "    </tr>\n",
       "  </tbody>\n",
       "</table>\n",
       "<p>394 rows × 4 columns</p>\n",
       "</div>"
      ],
      "text/plain": [
       "                                                 data             player   \n",
       "0   football florian wirtz\\'s goal for bayer lever...  exequiel palacios  \\\n",
       "1   monaco, feb 23 (reuters) - bayer leverkusen be...  exequiel palacios   \n",
       "2    5  it was a goal-heavy thursday in the compet...  exequiel palacios   \n",
       "3    argentina coach lionel scaloni on friday anno...  exequiel palacios   \n",
       "4   the star edition change location this copy is ...  exequiel palacios   \n",
       "..                                                ...                ...   \n",
       "24   43  tottenham have identified form bayer leve...     piero hincapie   \n",
       "0   one for the future of course, kendry is still ...     piero hincapié   \n",
       "1   man city’s alex robertson makes debut as aiden...     piero hincapié   \n",
       "2    \" exequiel palacios scored two penalties as b...     piero hincapié   \n",
       "3    jose mourinho\\'s roma reached the europa leag...     piero hincapié   \n",
       "\n",
       "   language           publishedAt  \n",
       "0        en  2023-02-16T23:56:00Z  \n",
       "1        en  2023-02-23T20:50:50Z  \n",
       "2        en  2023-02-23T20:53:59Z  \n",
       "3        en  2023-03-03T16:40:46Z  \n",
       "4        en  2023-03-03T16:42:19Z  \n",
       "..      ...                   ...  \n",
       "24       en  2023-05-16T12:22:18Z  \n",
       "0        en  2023-04-27T04:57:02Z  \n",
       "1        en  2023-03-24T15:24:08Z  \n",
       "2        en  2023-03-19T20:03:28Z  \n",
       "3        en  2023-05-18T21:09:58Z  \n",
       "\n",
       "[394 rows x 4 columns]"
      ]
     },
     "execution_count": 10,
     "metadata": {},
     "output_type": "execute_result"
    }
   ],
   "source": [
    "# Delete patterns\n",
    "df_en['data'] = df_en['data'].apply(lambda x: del_patterns(str(x), patternlist_en))   \n",
    "df_en                                                   "
   ]
  },
  {
   "attachments": {},
   "cell_type": "markdown",
   "metadata": {},
   "source": [
    "## Transform Emojis to text"
   ]
  },
  {
   "cell_type": "markdown",
   "metadata": {},
   "source": [
    "Due to the presence of emojis, they are being translated into text"
   ]
  },
  {
   "cell_type": "code",
   "execution_count": 1,
   "metadata": {},
   "outputs": [
    {
     "ename": "NameError",
     "evalue": "name 'df_en' is not defined",
     "output_type": "error",
     "traceback": [
      "\u001b[0;31m---------------------------------------------------------------------------\u001b[0m",
      "\u001b[0;31mNameError\u001b[0m                                 Traceback (most recent call last)",
      "Cell \u001b[0;32mIn [1], line 2\u001b[0m\n\u001b[1;32m      1\u001b[0m \u001b[39m# Use translate emjois function to have text instead\u001b[39;00m\n\u001b[0;32m----> 2\u001b[0m df_en[\u001b[39m'\u001b[39m\u001b[39mdata\u001b[39m\u001b[39m'\u001b[39m] \u001b[39m=\u001b[39m df_en[\u001b[39m'\u001b[39m\u001b[39mdata\u001b[39m\u001b[39m'\u001b[39m]\u001b[39m.\u001b[39mapply(\u001b[39mlambda\u001b[39;00m x: translate_emojis(\u001b[39mstr\u001b[39m(x), language\u001b[39m=\u001b[39m\u001b[39m'\u001b[39m\u001b[39men\u001b[39m\u001b[39m'\u001b[39m))\n",
      "\u001b[0;31mNameError\u001b[0m: name 'df_en' is not defined"
     ]
    }
   ],
   "source": [
    "# Use translate emjois function to have text instead\n",
    "df_en['data'] = df_en['data'].apply(lambda x: translate_emojis(str(x), language='en'))"
   ]
  },
  {
   "attachments": {},
   "cell_type": "markdown",
   "metadata": {},
   "source": [
    "## Remove noise"
   ]
  },
  {
   "cell_type": "markdown",
   "metadata": {},
   "source": [
    "\"Noise\" refers to non-meaningful data, such as numbers, links, additional whitespaces, and for Spanish data, it also includes accents"
   ]
  },
  {
   "cell_type": "code",
   "execution_count": 12,
   "metadata": {},
   "outputs": [],
   "source": [
    "# Strip_numeric\n",
    "df_en['data'] = df_en['data'].apply(strip_numeric)\n",
    "\n",
    "# Strip links\n",
    "df_en['data'] = df_en['data'].apply(lambda x: re.sub(r'http\\S+', '', str(x)))\n",
    "\n",
    "# Strip multiple whitespaces also \\n\n",
    "df_en['data'] = df_en['data'].apply(strip_multiple_whitespaces)\n",
    "\n",
    "# Strip spanish accents\n",
    "df_en['data'] = df_en['data'].apply(lambda x: remove_accents(str(x)))\n",
    "df_en['player'] = df_en['player'].apply(lambda x: remove_accents(str(x)))"
   ]
  },
  {
   "cell_type": "code",
   "execution_count": 13,
   "metadata": {},
   "outputs": [
    {
     "data": {
      "text/html": [
       "<div>\n",
       "<style scoped>\n",
       "    .dataframe tbody tr th:only-of-type {\n",
       "        vertical-align: middle;\n",
       "    }\n",
       "\n",
       "    .dataframe tbody tr th {\n",
       "        vertical-align: top;\n",
       "    }\n",
       "\n",
       "    .dataframe thead th {\n",
       "        text-align: right;\n",
       "    }\n",
       "</style>\n",
       "<table border=\"1\" class=\"dataframe\">\n",
       "  <thead>\n",
       "    <tr style=\"text-align: right;\">\n",
       "      <th></th>\n",
       "      <th>data</th>\n",
       "      <th>player</th>\n",
       "      <th>language</th>\n",
       "      <th>publishedAt</th>\n",
       "    </tr>\n",
       "  </thead>\n",
       "  <tbody>\n",
       "    <tr>\n",
       "      <th>0</th>\n",
       "      <td>football florian wirtz\\'s goal for bayer lever...</td>\n",
       "      <td>exequiel palacios</td>\n",
       "      <td>en</td>\n",
       "      <td>2023-02-16T23:56:00Z</td>\n",
       "    </tr>\n",
       "    <tr>\n",
       "      <th>1</th>\n",
       "      <td>monaco, feb (reuters) - bayer leverkusen beat ...</td>\n",
       "      <td>exequiel palacios</td>\n",
       "      <td>en</td>\n",
       "      <td>2023-02-23T20:50:50Z</td>\n",
       "    </tr>\n",
       "    <tr>\n",
       "      <th>2</th>\n",
       "      <td>it was a goal-heavy thursday in the competiti...</td>\n",
       "      <td>exequiel palacios</td>\n",
       "      <td>en</td>\n",
       "      <td>2023-02-23T20:53:59Z</td>\n",
       "    </tr>\n",
       "    <tr>\n",
       "      <th>3</th>\n",
       "      <td>argentina coach lionel scaloni on friday anno...</td>\n",
       "      <td>exequiel palacios</td>\n",
       "      <td>en</td>\n",
       "      <td>2023-03-03T16:40:46Z</td>\n",
       "    </tr>\n",
       "    <tr>\n",
       "      <th>4</th>\n",
       "      <td>the star edition change location this copy is ...</td>\n",
       "      <td>exequiel palacios</td>\n",
       "      <td>en</td>\n",
       "      <td>2023-03-03T16:42:19Z</td>\n",
       "    </tr>\n",
       "    <tr>\n",
       "      <th>...</th>\n",
       "      <td>...</td>\n",
       "      <td>...</td>\n",
       "      <td>...</td>\n",
       "      <td>...</td>\n",
       "    </tr>\n",
       "    <tr>\n",
       "      <th>24</th>\n",
       "      <td>tottenham have identified form bayer leverkus...</td>\n",
       "      <td>piero hincapie</td>\n",
       "      <td>en</td>\n",
       "      <td>2023-05-16T12:22:18Z</td>\n",
       "    </tr>\n",
       "    <tr>\n",
       "      <th>0</th>\n",
       "      <td>one for the future of course, kendry is still ...</td>\n",
       "      <td>piero hincapie</td>\n",
       "      <td>en</td>\n",
       "      <td>2023-04-27T04:57:02Z</td>\n",
       "    </tr>\n",
       "    <tr>\n",
       "      <th>1</th>\n",
       "      <td>man city's alex robertson makes debut as aiden...</td>\n",
       "      <td>piero hincapie</td>\n",
       "      <td>en</td>\n",
       "      <td>2023-03-24T15:24:08Z</td>\n",
       "    </tr>\n",
       "    <tr>\n",
       "      <th>2</th>\n",
       "      <td>\" exequiel palacios scored two penalties as b...</td>\n",
       "      <td>piero hincapie</td>\n",
       "      <td>en</td>\n",
       "      <td>2023-03-19T20:03:28Z</td>\n",
       "    </tr>\n",
       "    <tr>\n",
       "      <th>3</th>\n",
       "      <td>jose mourinho\\'s roma reached the europa leag...</td>\n",
       "      <td>piero hincapie</td>\n",
       "      <td>en</td>\n",
       "      <td>2023-05-18T21:09:58Z</td>\n",
       "    </tr>\n",
       "  </tbody>\n",
       "</table>\n",
       "<p>394 rows × 4 columns</p>\n",
       "</div>"
      ],
      "text/plain": [
       "                                                 data             player   \n",
       "0   football florian wirtz\\'s goal for bayer lever...  exequiel palacios  \\\n",
       "1   monaco, feb (reuters) - bayer leverkusen beat ...  exequiel palacios   \n",
       "2    it was a goal-heavy thursday in the competiti...  exequiel palacios   \n",
       "3    argentina coach lionel scaloni on friday anno...  exequiel palacios   \n",
       "4   the star edition change location this copy is ...  exequiel palacios   \n",
       "..                                                ...                ...   \n",
       "24   tottenham have identified form bayer leverkus...     piero hincapie   \n",
       "0   one for the future of course, kendry is still ...     piero hincapie   \n",
       "1   man city's alex robertson makes debut as aiden...     piero hincapie   \n",
       "2    \" exequiel palacios scored two penalties as b...     piero hincapie   \n",
       "3    jose mourinho\\'s roma reached the europa leag...     piero hincapie   \n",
       "\n",
       "   language           publishedAt  \n",
       "0        en  2023-02-16T23:56:00Z  \n",
       "1        en  2023-02-23T20:50:50Z  \n",
       "2        en  2023-02-23T20:53:59Z  \n",
       "3        en  2023-03-03T16:40:46Z  \n",
       "4        en  2023-03-03T16:42:19Z  \n",
       "..      ...                   ...  \n",
       "24       en  2023-05-16T12:22:18Z  \n",
       "0        en  2023-04-27T04:57:02Z  \n",
       "1        en  2023-03-24T15:24:08Z  \n",
       "2        en  2023-03-19T20:03:28Z  \n",
       "3        en  2023-05-18T21:09:58Z  \n",
       "\n",
       "[394 rows x 4 columns]"
      ]
     },
     "execution_count": 13,
     "metadata": {},
     "output_type": "execute_result"
    }
   ],
   "source": [
    "df_en"
   ]
  },
  {
   "attachments": {},
   "cell_type": "markdown",
   "metadata": {},
   "source": [
    "# Remove weird cells from tah"
   ]
  },
  {
   "cell_type": "code",
   "execution_count": 14,
   "metadata": {},
   "outputs": [
    {
     "data": {
      "text/html": [
       "<div>\n",
       "<style scoped>\n",
       "    .dataframe tbody tr th:only-of-type {\n",
       "        vertical-align: middle;\n",
       "    }\n",
       "\n",
       "    .dataframe tbody tr th {\n",
       "        vertical-align: top;\n",
       "    }\n",
       "\n",
       "    .dataframe thead th {\n",
       "        text-align: right;\n",
       "    }\n",
       "</style>\n",
       "<table border=\"1\" class=\"dataframe\">\n",
       "  <thead>\n",
       "    <tr style=\"text-align: right;\">\n",
       "      <th></th>\n",
       "      <th>data</th>\n",
       "      <th>player</th>\n",
       "      <th>language</th>\n",
       "      <th>publishedAt</th>\n",
       "    </tr>\n",
       "  </thead>\n",
       "  <tbody>\n",
       "    <tr>\n",
       "      <th>0</th>\n",
       "      <td>it seems that \"citing gun research without bot...</td>\n",
       "      <td>jonathan tah</td>\n",
       "      <td>en</td>\n",
       "      <td>2023-02-08T21:46:59Z</td>\n",
       "    </tr>\n",
       "    <tr>\n",
       "      <th>1</th>\n",
       "      <td>\" the razor-sharp stand-up comic reveals it a...</td>\n",
       "      <td>jonathan tah</td>\n",
       "      <td>en</td>\n",
       "      <td>2023-02-10T22:36:59Z</td>\n",
       "    </tr>\n",
       "    <tr>\n",
       "      <th>2</th>\n",
       "      <td>what made so much of world jewry--ashkenazim, ...</td>\n",
       "      <td>jonathan tah</td>\n",
       "      <td>en</td>\n",
       "      <td>2023-02-15T11:15:52Z</td>\n",
       "    </tr>\n",
       "    <tr>\n",
       "      <th>3</th>\n",
       "      <td>the unofficial guide to official washington. t...</td>\n",
       "      <td>jonathan tah</td>\n",
       "      <td>en</td>\n",
       "      <td>2023-03-17T10:16:11Z</td>\n",
       "    </tr>\n",
       "    <tr>\n",
       "      <th>4</th>\n",
       "      <td>\" exequiel palacios scored two penalties as b...</td>\n",
       "      <td>jonathan tah</td>\n",
       "      <td>en</td>\n",
       "      <td>2023-03-19T20:03:28Z</td>\n",
       "    </tr>\n",
       "    <tr>\n",
       "      <th>5</th>\n",
       "      <td>once again it\\'s a much bigger week in notable...</td>\n",
       "      <td>jonathan tah</td>\n",
       "      <td>en</td>\n",
       "      <td>2023-04-07T14:12:31Z</td>\n",
       "    </tr>\n",
       "    <tr>\n",
       "      <th>6</th>\n",
       "      <td>\"after kicking off espn's college football fu...</td>\n",
       "      <td>jonathan tah</td>\n",
       "      <td>en</td>\n",
       "      <td>2023-04-26T11:24:16Z</td>\n",
       "    </tr>\n",
       "  </tbody>\n",
       "</table>\n",
       "</div>"
      ],
      "text/plain": [
       "                                                data        player language   \n",
       "0  it seems that \"citing gun research without bot...  jonathan tah       en  \\\n",
       "1   \" the razor-sharp stand-up comic reveals it a...  jonathan tah       en   \n",
       "2  what made so much of world jewry--ashkenazim, ...  jonathan tah       en   \n",
       "3  the unofficial guide to official washington. t...  jonathan tah       en   \n",
       "4   \" exequiel palacios scored two penalties as b...  jonathan tah       en   \n",
       "5  once again it\\'s a much bigger week in notable...  jonathan tah       en   \n",
       "6   \"after kicking off espn's college football fu...  jonathan tah       en   \n",
       "\n",
       "            publishedAt  \n",
       "0  2023-02-08T21:46:59Z  \n",
       "1  2023-02-10T22:36:59Z  \n",
       "2  2023-02-15T11:15:52Z  \n",
       "3  2023-03-17T10:16:11Z  \n",
       "4  2023-03-19T20:03:28Z  \n",
       "5  2023-04-07T14:12:31Z  \n",
       "6  2023-04-26T11:24:16Z  "
      ]
     },
     "execution_count": 14,
     "metadata": {},
     "output_type": "execute_result"
    }
   ],
   "source": [
    "df_en[df_en['player']== 'jonathan tah']"
   ]
  },
  {
   "cell_type": "code",
   "execution_count": 15,
   "metadata": {},
   "outputs": [
    {
     "name": "stdout",
     "output_type": "stream",
     "text": [
      "<class 'pandas.core.frame.DataFrame'>\n",
      "Index: 394 entries, 0 to 3\n",
      "Data columns (total 4 columns):\n",
      " #   Column       Non-Null Count  Dtype \n",
      "---  ------       --------------  ----- \n",
      " 0   data         394 non-null    object\n",
      " 1   player       394 non-null    object\n",
      " 2   language     394 non-null    object\n",
      " 3   publishedAt  394 non-null    object\n",
      "dtypes: object(4)\n",
      "memory usage: 15.4+ KB\n"
     ]
    }
   ],
   "source": [
    "df_en.info()"
   ]
  },
  {
   "cell_type": "code",
   "execution_count": 16,
   "metadata": {},
   "outputs": [],
   "source": [
    "# Reset the index of the df\n",
    "df_en = df_en.reset_index(drop=True)"
   ]
  },
  {
   "cell_type": "code",
   "execution_count": 17,
   "metadata": {},
   "outputs": [],
   "source": [
    "# we examined unoprapiate rows for jonathan tah which have to be deleted manually\n",
    "# print out the rows for tah and examine them \n",
    "df_en[df_en['player'] == 'jonathan tah']\n",
    "#rows 131, 133, 134, 136 should be deleted\n",
    "\n",
    "rows_to_delete = [131, 133, 134, 136]\n",
    "df_en = df_en.drop(rows_to_delete)\n"
   ]
  },
  {
   "cell_type": "code",
   "execution_count": 18,
   "metadata": {},
   "outputs": [
    {
     "data": {
      "text/html": [
       "<div>\n",
       "<style scoped>\n",
       "    .dataframe tbody tr th:only-of-type {\n",
       "        vertical-align: middle;\n",
       "    }\n",
       "\n",
       "    .dataframe tbody tr th {\n",
       "        vertical-align: top;\n",
       "    }\n",
       "\n",
       "    .dataframe thead th {\n",
       "        text-align: right;\n",
       "    }\n",
       "</style>\n",
       "<table border=\"1\" class=\"dataframe\">\n",
       "  <thead>\n",
       "    <tr style=\"text-align: right;\">\n",
       "      <th></th>\n",
       "      <th>data</th>\n",
       "      <th>player</th>\n",
       "      <th>language</th>\n",
       "      <th>publishedAt</th>\n",
       "    </tr>\n",
       "  </thead>\n",
       "  <tbody>\n",
       "    <tr>\n",
       "      <th>132</th>\n",
       "      <td>\" the razor-sharp stand-up comic reveals it a...</td>\n",
       "      <td>jonathan tah</td>\n",
       "      <td>en</td>\n",
       "      <td>2023-02-10T22:36:59Z</td>\n",
       "    </tr>\n",
       "    <tr>\n",
       "      <th>135</th>\n",
       "      <td>\" exequiel palacios scored two penalties as b...</td>\n",
       "      <td>jonathan tah</td>\n",
       "      <td>en</td>\n",
       "      <td>2023-03-19T20:03:28Z</td>\n",
       "    </tr>\n",
       "    <tr>\n",
       "      <th>137</th>\n",
       "      <td>\"after kicking off espn's college football fu...</td>\n",
       "      <td>jonathan tah</td>\n",
       "      <td>en</td>\n",
       "      <td>2023-04-26T11:24:16Z</td>\n",
       "    </tr>\n",
       "  </tbody>\n",
       "</table>\n",
       "</div>"
      ],
      "text/plain": [
       "                                                  data        player language   \n",
       "132   \" the razor-sharp stand-up comic reveals it a...  jonathan tah       en  \\\n",
       "135   \" exequiel palacios scored two penalties as b...  jonathan tah       en   \n",
       "137   \"after kicking off espn's college football fu...  jonathan tah       en   \n",
       "\n",
       "              publishedAt  \n",
       "132  2023-02-10T22:36:59Z  \n",
       "135  2023-03-19T20:03:28Z  \n",
       "137  2023-04-26T11:24:16Z  "
      ]
     },
     "execution_count": 18,
     "metadata": {},
     "output_type": "execute_result"
    }
   ],
   "source": [
    "# examine if rows are deleted\n",
    "df_en[df_en['player'] == 'jonathan tah']"
   ]
  },
  {
   "attachments": {},
   "cell_type": "markdown",
   "metadata": {},
   "source": [
    "## Remove duplicates and nulls\n",
    "If nulls or duplicates appeared during the transformation steps drop them now "
   ]
  },
  {
   "cell_type": "code",
   "execution_count": 19,
   "metadata": {},
   "outputs": [],
   "source": [
    "# remove nulls and duplicated rows \n",
    "# remove empty rows \n",
    "df_en = df_en.replace('', pd.NA)\n",
    "df_en.dropna(inplace=True)\n",
    "\n",
    "# Remove the similiar rows (The Function is imported from utils on top)\n",
    "df_en = remove_similar_rows_per_player(df_en, df_en['player'].unique())"
   ]
  },
  {
   "attachments": {},
   "cell_type": "markdown",
   "metadata": {},
   "source": [
    "## Reset index"
   ]
  },
  {
   "cell_type": "code",
   "execution_count": 20,
   "metadata": {},
   "outputs": [],
   "source": [
    "df_en_index = df_en.copy()\n",
    "\n",
    "df_en_index.reset_index(drop=True, inplace=True)"
   ]
  },
  {
   "cell_type": "code",
   "execution_count": 21,
   "metadata": {},
   "outputs": [
    {
     "name": "stdout",
     "output_type": "stream",
     "text": [
      "<class 'pandas.core.frame.DataFrame'>\n",
      "RangeIndex: 378 entries, 0 to 377\n",
      "Data columns (total 4 columns):\n",
      " #   Column       Non-Null Count  Dtype \n",
      "---  ------       --------------  ----- \n",
      " 0   data         378 non-null    object\n",
      " 1   player       378 non-null    object\n",
      " 2   language     378 non-null    object\n",
      " 3   publishedAt  378 non-null    object\n",
      "dtypes: object(4)\n",
      "memory usage: 11.9+ KB\n"
     ]
    }
   ],
   "source": [
    "df_en_index.info()"
   ]
  },
  {
   "cell_type": "code",
   "execution_count": 22,
   "metadata": {},
   "outputs": [
    {
     "data": {
      "text/html": [
       "<div>\n",
       "<style scoped>\n",
       "    .dataframe tbody tr th:only-of-type {\n",
       "        vertical-align: middle;\n",
       "    }\n",
       "\n",
       "    .dataframe tbody tr th {\n",
       "        vertical-align: top;\n",
       "    }\n",
       "\n",
       "    .dataframe thead th {\n",
       "        text-align: right;\n",
       "    }\n",
       "</style>\n",
       "<table border=\"1\" class=\"dataframe\">\n",
       "  <thead>\n",
       "    <tr style=\"text-align: right;\">\n",
       "      <th></th>\n",
       "      <th>data</th>\n",
       "      <th>player</th>\n",
       "      <th>language</th>\n",
       "      <th>publishedAt</th>\n",
       "    </tr>\n",
       "  </thead>\n",
       "  <tbody>\n",
       "    <tr>\n",
       "      <th>0</th>\n",
       "      <td>football florian wirtz\\'s goal for bayer lever...</td>\n",
       "      <td>exequiel palacios</td>\n",
       "      <td>en</td>\n",
       "      <td>2023-02-16T23:56:00Z</td>\n",
       "    </tr>\n",
       "    <tr>\n",
       "      <th>1</th>\n",
       "      <td>monaco, feb (reuters) - bayer leverkusen beat ...</td>\n",
       "      <td>exequiel palacios</td>\n",
       "      <td>en</td>\n",
       "      <td>2023-02-23T20:50:50Z</td>\n",
       "    </tr>\n",
       "    <tr>\n",
       "      <th>2</th>\n",
       "      <td>it was a goal-heavy thursday in the competiti...</td>\n",
       "      <td>exequiel palacios</td>\n",
       "      <td>en</td>\n",
       "      <td>2023-02-23T20:53:59Z</td>\n",
       "    </tr>\n",
       "    <tr>\n",
       "      <th>3</th>\n",
       "      <td>argentina coach lionel scaloni on friday anno...</td>\n",
       "      <td>exequiel palacios</td>\n",
       "      <td>en</td>\n",
       "      <td>2023-03-03T16:40:46Z</td>\n",
       "    </tr>\n",
       "    <tr>\n",
       "      <th>4</th>\n",
       "      <td>the star edition change location this copy is ...</td>\n",
       "      <td>exequiel palacios</td>\n",
       "      <td>en</td>\n",
       "      <td>2023-03-03T16:42:19Z</td>\n",
       "    </tr>\n",
       "    <tr>\n",
       "      <th>...</th>\n",
       "      <td>...</td>\n",
       "      <td>...</td>\n",
       "      <td>...</td>\n",
       "      <td>...</td>\n",
       "    </tr>\n",
       "    <tr>\n",
       "      <th>373</th>\n",
       "      <td>tottenham have identified form bayer leverkus...</td>\n",
       "      <td>piero hincapie</td>\n",
       "      <td>en</td>\n",
       "      <td>2023-05-16T12:22:18Z</td>\n",
       "    </tr>\n",
       "    <tr>\n",
       "      <th>374</th>\n",
       "      <td>one for the future of course, kendry is still ...</td>\n",
       "      <td>piero hincapie</td>\n",
       "      <td>en</td>\n",
       "      <td>2023-04-27T04:57:02Z</td>\n",
       "    </tr>\n",
       "    <tr>\n",
       "      <th>375</th>\n",
       "      <td>man city's alex robertson makes debut as aiden...</td>\n",
       "      <td>piero hincapie</td>\n",
       "      <td>en</td>\n",
       "      <td>2023-03-24T15:24:08Z</td>\n",
       "    </tr>\n",
       "    <tr>\n",
       "      <th>376</th>\n",
       "      <td>\" exequiel palacios scored two penalties as b...</td>\n",
       "      <td>piero hincapie</td>\n",
       "      <td>en</td>\n",
       "      <td>2023-03-19T20:03:28Z</td>\n",
       "    </tr>\n",
       "    <tr>\n",
       "      <th>377</th>\n",
       "      <td>jose mourinho\\'s roma reached the europa leag...</td>\n",
       "      <td>piero hincapie</td>\n",
       "      <td>en</td>\n",
       "      <td>2023-05-18T21:09:58Z</td>\n",
       "    </tr>\n",
       "  </tbody>\n",
       "</table>\n",
       "<p>378 rows × 4 columns</p>\n",
       "</div>"
      ],
      "text/plain": [
       "                                                  data             player   \n",
       "0    football florian wirtz\\'s goal for bayer lever...  exequiel palacios  \\\n",
       "1    monaco, feb (reuters) - bayer leverkusen beat ...  exequiel palacios   \n",
       "2     it was a goal-heavy thursday in the competiti...  exequiel palacios   \n",
       "3     argentina coach lionel scaloni on friday anno...  exequiel palacios   \n",
       "4    the star edition change location this copy is ...  exequiel palacios   \n",
       "..                                                 ...                ...   \n",
       "373   tottenham have identified form bayer leverkus...     piero hincapie   \n",
       "374  one for the future of course, kendry is still ...     piero hincapie   \n",
       "375  man city's alex robertson makes debut as aiden...     piero hincapie   \n",
       "376   \" exequiel palacios scored two penalties as b...     piero hincapie   \n",
       "377   jose mourinho\\'s roma reached the europa leag...     piero hincapie   \n",
       "\n",
       "    language           publishedAt  \n",
       "0         en  2023-02-16T23:56:00Z  \n",
       "1         en  2023-02-23T20:50:50Z  \n",
       "2         en  2023-02-23T20:53:59Z  \n",
       "3         en  2023-03-03T16:40:46Z  \n",
       "4         en  2023-03-03T16:42:19Z  \n",
       "..       ...                   ...  \n",
       "373       en  2023-05-16T12:22:18Z  \n",
       "374       en  2023-04-27T04:57:02Z  \n",
       "375       en  2023-03-24T15:24:08Z  \n",
       "376       en  2023-03-19T20:03:28Z  \n",
       "377       en  2023-05-18T21:09:58Z  \n",
       "\n",
       "[378 rows x 4 columns]"
      ]
     },
     "execution_count": 22,
     "metadata": {},
     "output_type": "execute_result"
    }
   ],
   "source": [
    "df_en_index"
   ]
  },
  {
   "attachments": {},
   "cell_type": "markdown",
   "metadata": {},
   "source": [
    "## Save data clean 1"
   ]
  },
  {
   "cell_type": "markdown",
   "metadata": {},
   "source": [
    "This data is stored for a later treatment"
   ]
  },
  {
   "cell_type": "code",
   "execution_count": 23,
   "metadata": {},
   "outputs": [
    {
     "name": "stdout",
     "output_type": "stream",
     "text": [
      "Data saved successfully.\n"
     ]
    }
   ],
   "source": [
    "# Define the folder path\n",
    "folder_path = \"data_clean\"\n",
    "\n",
    "# Define the file path\n",
    "file_path = os.path.join(folder_path, \"en_clean_1.csv\")\n",
    "\n",
    "# Save the DataFrame as a CSV file\n",
    "df_en_index.to_csv(file_path, index=False)\n",
    "\n",
    "print(\"Data saved successfully.\")"
   ]
  },
  {
   "cell_type": "markdown",
   "metadata": {},
   "source": [
    "# ------------------------"
   ]
  },
  {
   "cell_type": "markdown",
   "metadata": {},
   "source": [
    "# Preprocess for data clean 2"
   ]
  },
  {
   "cell_type": "markdown",
   "metadata": {},
   "source": [
    "# ------------------------"
   ]
  },
  {
   "attachments": {},
   "cell_type": "markdown",
   "metadata": {},
   "source": [
    "## Remove punctuation & short words"
   ]
  },
  {
   "cell_type": "code",
   "execution_count": 24,
   "metadata": {},
   "outputs": [],
   "source": [
    "# Create a copy\n",
    "df_en_2 = df_en_index.copy()\n",
    "\n",
    "# Strip_punctutation\n",
    "df_en_2['data'] = df_en_2['data'].apply(strip_punctuation)\n",
    "\n",
    "# Strip_short deletes words smaller 3\n",
    "df_en_2['data'] = df_en_2['data'].apply(strip_short)"
   ]
  },
  {
   "attachments": {},
   "cell_type": "markdown",
   "metadata": {},
   "source": [
    "## Remove Stopwords"
   ]
  },
  {
   "cell_type": "code",
   "execution_count": 25,
   "metadata": {},
   "outputs": [
    {
     "name": "stdout",
     "output_type": "stream",
     "text": [
      "frozenset({'last', 'which', 'or', 'between', 'others', 'former', 'keep', 'several', 'myself', 'used', 'ever', 'whither', 'perhaps', 'wherever', 'forty', 'third', 'system', 'often', 'hundred', 'itself', 'before', 'at', 'either', 'an', 'call', 'made', 'anything', 'can', 'con', 'whence', 'from', 'then', 'twelve', 'each', 'thence', 'latterly', 'might', 'well', 'found', 'among', 'off', 'upon', 'on', 'towards', 'them', 'namely', 'we', 'did', 'so', 'via', 'became', 'mostly', 'rather', 'co', 'any', 'seem', 'hereupon', 'onto', 'etc', 'to', 'beforehand', 'couldnt', 'would', 'various', 'already', 'you', 'describe', 'what', 'amoungst', 'should', 'he', 'km', 'hasnt', 'really', 'yet', 'take', 'is', 'since', 'their', 'being', 'nothing', 'full', 'per', 'sincere', 'own', 'other', 'who', 'however', 'becoming', 'only', 'fill', 'does', 'whereas', 'eg', 'its', 'quite', 'herein', 'she', 'hence', 'through', 'me', 'someone', 'go', 'not', 'enough', 'the', 'these', 'with', 'ie', 'side', 'and', 'elsewhere', 'six', 'interest', 'anywhere', 'nevertheless', 'where', 'doing', 'bottom', 'seemed', 'seeming', 'many', 'using', 'into', 'sometimes', 'most', 'once', 'until', 'noone', 'whatever', 'such', 'another', 'de', 'becomes', 'otherwise', 'beside', 'further', 'computer', 'thus', 'due', 'as', 'wherein', 'none', 'kg', 'first', 'over', 'without', 'ourselves', 'give', 'somewhere', 'up', 'all', 'therefore', 'ltd', 'whether', 'one', 'against', 'are', 'thin', 'about', 'back', 'everyone', 'nobody', 'whose', 'same', 'beyond', 'throughout', 'again', 'front', 'herself', 'inc', 'in', 'whereby', 'thick', 'been', 'had', 'part', 'could', 'serious', 'say', 'may', 'four', 'hereby', 'a', 'too', 'twenty', 'i', 'somehow', 'still', 'though', 'if', 'have', 'below', 'whenever', 'eight', 'were', 'when', 'whom', 'it', 'but', 'why', 'move', 'whole', 'there', 'your', 'him', 'ten', 'yourself', 'moreover', 'together', 'mine', 'few', 'anyhow', 'sometime', 'un', 'see', 're', 'seems', 'amongst', 'nine', 'just', 'latter', 'find', 'our', 'under', 'unless', 'do', 'how', 'eleven', 'whereupon', 'afterwards', 'fifteen', 'indeed', 'yourselves', 'must', 'sixty', 'for', 'next', 'meanwhile', 'hers', 'regarding', 'else', 'whoever', 'formerly', 'hereafter', 'thereby', 'fifty', 'almost', 'during', 'even', 'therein', 'put', 'both', 'bill', 'name', 'thereafter', 'thereupon', 'yours', 'more', 'although', 'toward', 'of', 'everything', 'us', 'after', 'please', 'behind', 'be', 'everywhere', 'down', 'because', 'themselves', 'my', 'nowhere', 'those', 'her', 'detail', 'thru', 'has', 'his', 'here', 'always', 'they', 'across', 'also', 'much', 'now', 'himself', 'show', 'around', 'done', 'amount', 'was', 'three', 'whereafter', 'five', 'fire', 'two', 'am', 'some', 'within', 'above', 'by', 'anyone', 'besides', 'cry', 'every', 'anyway', 'along', 'mill', 'something', 'this', 'get', 'than', 'alone', 'make', 'very', 'empty', 'while', 'ours', 'will', 'become', 'less', 'that', 'out'})\n"
     ]
    }
   ],
   "source": [
    "# Words to keep\n",
    "words_to_keep = {'don', 'didn', 'doesn', 'shouldn', 'couldn', 'wouldn', 'never', 'isn', 'cannot', 'no', 'neither', 'nor', 'cant', 'top', 'least', 'except'} #'top', 'least', 'except' these would also change the meaning, which is why we keep them\n",
    "\n",
    "# Create modified stopwords list\n",
    "modified_en_stopwords = STOPWORDS - words_to_keep\n",
    "\n",
    "print(modified_en_stopwords)"
   ]
  },
  {
   "cell_type": "code",
   "execution_count": 26,
   "metadata": {},
   "outputs": [],
   "source": [
    "# Apply the remove_stopwords function to the 'text' column using the apply method\n",
    "df_en_2['data'] = df_en_2['data'].apply(lambda x: remove_stopwords_from_text(x, modified_en_stopwords))"
   ]
  },
  {
   "cell_type": "code",
   "execution_count": 27,
   "metadata": {},
   "outputs": [],
   "source": [
    "# remove nulls and duplicated rows \n",
    "# remove empty rows \n",
    "df_en_2 = df_en_2.replace('', pd.NA)\n",
    "df_en_2.dropna(inplace=True)\n",
    "\n",
    "# Remove the similiar rows (The Function is imported from utils on top)\n",
    "df_en_2 = remove_similar_rows_per_player(df_en_2, df_en_2['player'].unique())\n"
   ]
  },
  {
   "attachments": {},
   "cell_type": "markdown",
   "metadata": {},
   "source": [
    "## Reset index"
   ]
  },
  {
   "cell_type": "code",
   "execution_count": 28,
   "metadata": {},
   "outputs": [],
   "source": [
    "# Create a copy\n",
    "df_en_2_index = df_en_2.copy()\n",
    "\n",
    "# Reset index\n",
    "df_en_2_index.reset_index(drop=True, inplace=True)"
   ]
  },
  {
   "cell_type": "code",
   "execution_count": 29,
   "metadata": {},
   "outputs": [
    {
     "data": {
      "text/html": [
       "<div>\n",
       "<style scoped>\n",
       "    .dataframe tbody tr th:only-of-type {\n",
       "        vertical-align: middle;\n",
       "    }\n",
       "\n",
       "    .dataframe tbody tr th {\n",
       "        vertical-align: top;\n",
       "    }\n",
       "\n",
       "    .dataframe thead th {\n",
       "        text-align: right;\n",
       "    }\n",
       "</style>\n",
       "<table border=\"1\" class=\"dataframe\">\n",
       "  <thead>\n",
       "    <tr style=\"text-align: right;\">\n",
       "      <th></th>\n",
       "      <th>data</th>\n",
       "      <th>player</th>\n",
       "      <th>language</th>\n",
       "      <th>publishedAt</th>\n",
       "    </tr>\n",
       "  </thead>\n",
       "  <tbody>\n",
       "    <tr>\n",
       "      <th>0</th>\n",
       "      <td>football florian wirtz goal bayer leverkusen e...</td>\n",
       "      <td>exequiel palacios</td>\n",
       "      <td>en</td>\n",
       "      <td>2023-02-16T23:56:00Z</td>\n",
       "    </tr>\n",
       "    <tr>\n",
       "      <th>1</th>\n",
       "      <td>monaco feb reuters bayer leverkusen beat monac...</td>\n",
       "      <td>exequiel palacios</td>\n",
       "      <td>en</td>\n",
       "      <td>2023-02-23T20:50:50Z</td>\n",
       "    </tr>\n",
       "    <tr>\n",
       "      <th>2</th>\n",
       "      <td>goal heavy thursday competition goals scored t...</td>\n",
       "      <td>exequiel palacios</td>\n",
       "      <td>en</td>\n",
       "      <td>2023-02-23T20:53:59Z</td>\n",
       "    </tr>\n",
       "    <tr>\n",
       "      <th>3</th>\n",
       "      <td>argentina coach lionel scaloni friday announce...</td>\n",
       "      <td>exequiel palacios</td>\n",
       "      <td>en</td>\n",
       "      <td>2023-03-03T16:40:46Z</td>\n",
       "    </tr>\n",
       "    <tr>\n",
       "      <th>4</th>\n",
       "      <td>star edition change location copy personal non...</td>\n",
       "      <td>exequiel palacios</td>\n",
       "      <td>en</td>\n",
       "      <td>2023-03-03T16:42:19Z</td>\n",
       "    </tr>\n",
       "  </tbody>\n",
       "</table>\n",
       "</div>"
      ],
      "text/plain": [
       "                                                data             player   \n",
       "0  football florian wirtz goal bayer leverkusen e...  exequiel palacios  \\\n",
       "1  monaco feb reuters bayer leverkusen beat monac...  exequiel palacios   \n",
       "2  goal heavy thursday competition goals scored t...  exequiel palacios   \n",
       "3  argentina coach lionel scaloni friday announce...  exequiel palacios   \n",
       "4  star edition change location copy personal non...  exequiel palacios   \n",
       "\n",
       "  language           publishedAt  \n",
       "0       en  2023-02-16T23:56:00Z  \n",
       "1       en  2023-02-23T20:50:50Z  \n",
       "2       en  2023-02-23T20:53:59Z  \n",
       "3       en  2023-03-03T16:40:46Z  \n",
       "4       en  2023-03-03T16:42:19Z  "
      ]
     },
     "execution_count": 29,
     "metadata": {},
     "output_type": "execute_result"
    }
   ],
   "source": [
    "df_en_2_index.head()"
   ]
  },
  {
   "cell_type": "code",
   "execution_count": 30,
   "metadata": {},
   "outputs": [
    {
     "data": {
      "text/html": [
       "<div>\n",
       "<style scoped>\n",
       "    .dataframe tbody tr th:only-of-type {\n",
       "        vertical-align: middle;\n",
       "    }\n",
       "\n",
       "    .dataframe tbody tr th {\n",
       "        vertical-align: top;\n",
       "    }\n",
       "\n",
       "    .dataframe thead th {\n",
       "        text-align: right;\n",
       "    }\n",
       "</style>\n",
       "<table border=\"1\" class=\"dataframe\">\n",
       "  <thead>\n",
       "    <tr style=\"text-align: right;\">\n",
       "      <th></th>\n",
       "      <th>data</th>\n",
       "      <th>player</th>\n",
       "      <th>language</th>\n",
       "      <th>publishedAt</th>\n",
       "    </tr>\n",
       "  </thead>\n",
       "  <tbody>\n",
       "    <tr>\n",
       "      <th>0</th>\n",
       "      <td>football florian wirtz goal bayer leverkusen e...</td>\n",
       "      <td>exequiel palacios</td>\n",
       "      <td>en</td>\n",
       "      <td>2023-02-16T23:56:00Z</td>\n",
       "    </tr>\n",
       "    <tr>\n",
       "      <th>1</th>\n",
       "      <td>monaco feb reuters bayer leverkusen beat monac...</td>\n",
       "      <td>exequiel palacios</td>\n",
       "      <td>en</td>\n",
       "      <td>2023-02-23T20:50:50Z</td>\n",
       "    </tr>\n",
       "    <tr>\n",
       "      <th>2</th>\n",
       "      <td>goal heavy thursday competition goals scored t...</td>\n",
       "      <td>exequiel palacios</td>\n",
       "      <td>en</td>\n",
       "      <td>2023-02-23T20:53:59Z</td>\n",
       "    </tr>\n",
       "    <tr>\n",
       "      <th>3</th>\n",
       "      <td>argentina coach lionel scaloni friday announce...</td>\n",
       "      <td>exequiel palacios</td>\n",
       "      <td>en</td>\n",
       "      <td>2023-03-03T16:40:46Z</td>\n",
       "    </tr>\n",
       "    <tr>\n",
       "      <th>4</th>\n",
       "      <td>star edition change location copy personal non...</td>\n",
       "      <td>exequiel palacios</td>\n",
       "      <td>en</td>\n",
       "      <td>2023-03-03T16:42:19Z</td>\n",
       "    </tr>\n",
       "    <tr>\n",
       "      <th>...</th>\n",
       "      <td>...</td>\n",
       "      <td>...</td>\n",
       "      <td>...</td>\n",
       "      <td>...</td>\n",
       "    </tr>\n",
       "    <tr>\n",
       "      <th>372</th>\n",
       "      <td>tottenham identified form bayer leverkusen wer...</td>\n",
       "      <td>piero hincapie</td>\n",
       "      <td>en</td>\n",
       "      <td>2023-05-16T12:22:18Z</td>\n",
       "    </tr>\n",
       "    <tr>\n",
       "      <th>373</th>\n",
       "      <td>future course kendry couple weeks shy birthday...</td>\n",
       "      <td>piero hincapie</td>\n",
       "      <td>en</td>\n",
       "      <td>2023-04-27T04:57:02Z</td>\n",
       "    </tr>\n",
       "    <tr>\n",
       "      <th>374</th>\n",
       "      <td>man city alex robertson makes debut aiden neil...</td>\n",
       "      <td>piero hincapie</td>\n",
       "      <td>en</td>\n",
       "      <td>2023-03-24T15:24:08Z</td>\n",
       "    </tr>\n",
       "    <tr>\n",
       "      <th>375</th>\n",
       "      <td>exequiel palacios scored penalties bayer lever...</td>\n",
       "      <td>piero hincapie</td>\n",
       "      <td>en</td>\n",
       "      <td>2023-03-19T20:03:28Z</td>\n",
       "    </tr>\n",
       "    <tr>\n",
       "      <th>376</th>\n",
       "      <td>jose mourinho roma reached europa league final...</td>\n",
       "      <td>piero hincapie</td>\n",
       "      <td>en</td>\n",
       "      <td>2023-05-18T21:09:58Z</td>\n",
       "    </tr>\n",
       "  </tbody>\n",
       "</table>\n",
       "<p>377 rows × 4 columns</p>\n",
       "</div>"
      ],
      "text/plain": [
       "                                                  data             player   \n",
       "0    football florian wirtz goal bayer leverkusen e...  exequiel palacios  \\\n",
       "1    monaco feb reuters bayer leverkusen beat monac...  exequiel palacios   \n",
       "2    goal heavy thursday competition goals scored t...  exequiel palacios   \n",
       "3    argentina coach lionel scaloni friday announce...  exequiel palacios   \n",
       "4    star edition change location copy personal non...  exequiel palacios   \n",
       "..                                                 ...                ...   \n",
       "372  tottenham identified form bayer leverkusen wer...     piero hincapie   \n",
       "373  future course kendry couple weeks shy birthday...     piero hincapie   \n",
       "374  man city alex robertson makes debut aiden neil...     piero hincapie   \n",
       "375  exequiel palacios scored penalties bayer lever...     piero hincapie   \n",
       "376  jose mourinho roma reached europa league final...     piero hincapie   \n",
       "\n",
       "    language           publishedAt  \n",
       "0         en  2023-02-16T23:56:00Z  \n",
       "1         en  2023-02-23T20:50:50Z  \n",
       "2         en  2023-02-23T20:53:59Z  \n",
       "3         en  2023-03-03T16:40:46Z  \n",
       "4         en  2023-03-03T16:42:19Z  \n",
       "..       ...                   ...  \n",
       "372       en  2023-05-16T12:22:18Z  \n",
       "373       en  2023-04-27T04:57:02Z  \n",
       "374       en  2023-03-24T15:24:08Z  \n",
       "375       en  2023-03-19T20:03:28Z  \n",
       "376       en  2023-05-18T21:09:58Z  \n",
       "\n",
       "[377 rows x 4 columns]"
      ]
     },
     "execution_count": 30,
     "metadata": {},
     "output_type": "execute_result"
    }
   ],
   "source": [
    "df_en_2_index"
   ]
  },
  {
   "attachments": {},
   "cell_type": "markdown",
   "metadata": {},
   "source": [
    "## Save data clean 2"
   ]
  },
  {
   "cell_type": "code",
   "execution_count": 31,
   "metadata": {},
   "outputs": [
    {
     "name": "stdout",
     "output_type": "stream",
     "text": [
      "Data saved successfully.\n"
     ]
    }
   ],
   "source": [
    "# Define the folder path\n",
    "folder_path = \"data_clean\"\n",
    "\n",
    "# Define the file path\n",
    "file_path = os.path.join(folder_path, \"en_clean_2.csv\")\n",
    "\n",
    "# Save the DataFrame as a CSV file\n",
    "df_en_2_index.to_csv(file_path, index=False)\n",
    "\n",
    "print(\"Data saved successfully.\")"
   ]
  },
  {
   "cell_type": "markdown",
   "metadata": {},
   "source": [
    "# ------------------------"
   ]
  },
  {
   "cell_type": "markdown",
   "metadata": {},
   "source": [
    "# Data condensed\n",
    "The third transformation focus on the deletion of sentences to clean the corpus. The only paragraphs kept are the one including the player names."
   ]
  },
  {
   "cell_type": "markdown",
   "metadata": {},
   "source": [
    "# ------------------------"
   ]
  },
  {
   "cell_type": "markdown",
   "metadata": {},
   "source": [
    "## Keep only paragraph"
   ]
  },
  {
   "cell_type": "markdown",
   "metadata": {},
   "source": [
    "Get lines and following lines where the Player name appears in the corpus "
   ]
  },
  {
   "cell_type": "code",
   "execution_count": 32,
   "metadata": {},
   "outputs": [],
   "source": [
    "# Because the following code wouldn't work with stripped punctuation we will redo the steps from en_data_2\n",
    "\n",
    "# Create a copy\n",
    "df_en_con = df_en_index.copy()\n",
    "\n",
    "# remove stopwords\n",
    "df_en_con['data'] = df_en_con['data'].apply(lambda x: remove_stopwords_from_text(x, modified_en_stopwords))\n",
    "\n",
    "#strip_short deletes words smaller 3\n",
    "df_en_con['data'] = df_en_con['data'].apply(strip_short)"
   ]
  },
  {
   "cell_type": "code",
   "execution_count": 33,
   "metadata": {},
   "outputs": [],
   "source": [
    "# select only paragraphs which include playernames \n",
    "df_en_con = find_lines_with_player(df_en_con, df_en_con['player'].unique(), n_lines = 1)"
   ]
  },
  {
   "cell_type": "code",
   "execution_count": 34,
   "metadata": {},
   "outputs": [],
   "source": [
    "# now reperform punctuation\n",
    "\n",
    "\n",
    "# strip_punctutation\n",
    "#df_en_con['data'] = df_en_con['data'].apply(strip_punctuation)\n",
    "\n",
    "#ACITON: not used yet, but might make sense\n",
    "# reperform remove similar rows\n",
    "#df_en_con = remove_similar_rows_per_player(df_en_con, df_en_con['player'].unique())\n",
    "#df_en_con.info()"
   ]
  },
  {
   "attachments": {},
   "cell_type": "markdown",
   "metadata": {},
   "source": [
    "## Create Wordgroups"
   ]
  },
  {
   "cell_type": "code",
   "execution_count": 35,
   "metadata": {},
   "outputs": [],
   "source": [
    "# perform wordpair function\n",
    "# df_en_con = name_wordgroups(df_en_con)"
   ]
  },
  {
   "attachments": {},
   "cell_type": "markdown",
   "metadata": {},
   "source": [
    "## Delete playernames from their sentences"
   ]
  },
  {
   "cell_type": "code",
   "execution_count": 36,
   "metadata": {},
   "outputs": [
    {
     "data": {
      "text/plain": [
       "'# for every player remove their names from the texts \\nfor player in df_en_con[\\'player\\'].unique():\\n    f_l_name = player.split()\\n\\n    # Extracting the first name\\n    first_name = str(f_l_name[0])\\n\\n    # Extracting the last name\\n    last_name = str(f_l_name[1])\\n\\n    updated_pattern = r\"\\x08(\" + first_name.lower() + r\"|\" + last_name.lower() + r\")\\x08|\"\\n\\n\\n    # Apply the function to the data column\\n    df_en_con.loc[df_en_con[\\'player\\'] == player, \\'data\\'] = df_en_con.loc[df_en_con[\\'player\\'] == player, \\'data\\'].apply(lambda x: re.sub(updated_pattern, \"\", str(x)))'"
      ]
     },
     "execution_count": 36,
     "metadata": {},
     "output_type": "execute_result"
    }
   ],
   "source": [
    "'''# for every player remove their names from the texts \n",
    "for player in df_en_con['player'].unique():\n",
    "    f_l_name = player.split()\n",
    "\n",
    "    # Extracting the first name\n",
    "    first_name = str(f_l_name[0])\n",
    "\n",
    "    # Extracting the last name\n",
    "    last_name = str(f_l_name[1])\n",
    "\n",
    "    updated_pattern = r\"\\b(\" + first_name.lower() + r\"|\" + last_name.lower() + r\")\\b|\"\n",
    "\n",
    "\n",
    "    # Apply the function to the data column\n",
    "    df_en_con.loc[df_en_con['player'] == player, 'data'] = df_en_con.loc[df_en_con['player'] == player, 'data'].apply(lambda x: re.sub(updated_pattern, \"\", str(x)))'''\n"
   ]
  },
  {
   "attachments": {},
   "cell_type": "markdown",
   "metadata": {},
   "source": [
    "## Remove empty rows (=where the API misclassified the Articles for players)"
   ]
  },
  {
   "cell_type": "code",
   "execution_count": 37,
   "metadata": {},
   "outputs": [],
   "source": [
    "# Remove empty rows \n",
    "df_en_con = df_en_con.replace('', pd.NA)\n",
    "df_en_con.dropna(inplace=True)\n",
    "\n",
    "# Remove the similiar rows (The Function is imported from utils on top)\n",
    "df_en_con = remove_similar_rows_per_player(df_en_con, df_en_con['player'].unique())\n"
   ]
  },
  {
   "attachments": {},
   "cell_type": "markdown",
   "metadata": {},
   "source": [
    "## Reset index"
   ]
  },
  {
   "cell_type": "code",
   "execution_count": 38,
   "metadata": {},
   "outputs": [],
   "source": [
    "df_en_con_index = df_en_con.copy()\n",
    "\n",
    "df_en_con_index.reset_index(drop=True, inplace=True)"
   ]
  },
  {
   "cell_type": "code",
   "execution_count": 39,
   "metadata": {},
   "outputs": [
    {
     "name": "stdout",
     "output_type": "stream",
     "text": [
      "<class 'pandas.core.frame.DataFrame'>\n",
      "RangeIndex: 378 entries, 0 to 377\n",
      "Data columns (total 4 columns):\n",
      " #   Column       Non-Null Count  Dtype \n",
      "---  ------       --------------  ----- \n",
      " 0   data         378 non-null    object\n",
      " 1   player       378 non-null    object\n",
      " 2   language     378 non-null    object\n",
      " 3   publishedAt  378 non-null    object\n",
      "dtypes: object(4)\n",
      "memory usage: 11.9+ KB\n"
     ]
    }
   ],
   "source": [
    "df_en_con_index.info()"
   ]
  },
  {
   "cell_type": "code",
   "execution_count": 40,
   "metadata": {},
   "outputs": [
    {
     "data": {
      "text/html": [
       "<div>\n",
       "<style scoped>\n",
       "    .dataframe tbody tr th:only-of-type {\n",
       "        vertical-align: middle;\n",
       "    }\n",
       "\n",
       "    .dataframe tbody tr th {\n",
       "        vertical-align: top;\n",
       "    }\n",
       "\n",
       "    .dataframe thead th {\n",
       "        text-align: right;\n",
       "    }\n",
       "</style>\n",
       "<table border=\"1\" class=\"dataframe\">\n",
       "  <thead>\n",
       "    <tr style=\"text-align: right;\">\n",
       "      <th></th>\n",
       "      <th>data</th>\n",
       "      <th>player</th>\n",
       "      <th>language</th>\n",
       "      <th>publishedAt</th>\n",
       "    </tr>\n",
       "  </thead>\n",
       "  <tbody>\n",
       "    <tr>\n",
       "      <th>0</th>\n",
       "      <td>football florian wirtz\\'s goal bayer leverkuse...</td>\n",
       "      <td>exequiel palacios</td>\n",
       "      <td>en</td>\n",
       "      <td>2023-02-16T23:56:00Z</td>\n",
       "    </tr>\n",
       "    <tr>\n",
       "      <th>1</th>\n",
       "      <td>monaco, feb (reuters) bayer leverkusen beat mo...</td>\n",
       "      <td>exequiel palacios</td>\n",
       "      <td>en</td>\n",
       "      <td>2023-02-23T20:50:50Z</td>\n",
       "    </tr>\n",
       "    <tr>\n",
       "      <th>2</th>\n",
       "      <td>goal-heavy thursday competition goals scored t...</td>\n",
       "      <td>exequiel palacios</td>\n",
       "      <td>en</td>\n",
       "      <td>2023-02-23T20:53:59Z</td>\n",
       "    </tr>\n",
       "    <tr>\n",
       "      <th>3</th>\n",
       "      <td>argentina coach lionel scaloni friday announce...</td>\n",
       "      <td>exequiel palacios</td>\n",
       "      <td>en</td>\n",
       "      <td>2023-03-03T16:40:46Z</td>\n",
       "    </tr>\n",
       "    <tr>\n",
       "      <th>4</th>\n",
       "      <td>star edition change location copy personal non...</td>\n",
       "      <td>exequiel palacios</td>\n",
       "      <td>en</td>\n",
       "      <td>2023-03-03T16:42:19Z</td>\n",
       "    </tr>\n",
       "    <tr>\n",
       "      <th>...</th>\n",
       "      <td>...</td>\n",
       "      <td>...</td>\n",
       "      <td>...</td>\n",
       "      <td>...</td>\n",
       "    </tr>\n",
       "    <tr>\n",
       "      <th>373</th>\n",
       "      <td>tottenham identified form bayer leverkusen wer...</td>\n",
       "      <td>piero hincapie</td>\n",
       "      <td>en</td>\n",
       "      <td>2023-05-16T12:22:18Z</td>\n",
       "    </tr>\n",
       "    <tr>\n",
       "      <th>374</th>\n",
       "      <td>future course, kendry couple weeks shy birthda...</td>\n",
       "      <td>piero hincapie</td>\n",
       "      <td>en</td>\n",
       "      <td>2023-04-27T04:57:02Z</td>\n",
       "    </tr>\n",
       "    <tr>\n",
       "      <th>375</th>\n",
       "      <td>man city's alex robertson makes debut aiden o'...</td>\n",
       "      <td>piero hincapie</td>\n",
       "      <td>en</td>\n",
       "      <td>2023-03-24T15:24:08Z</td>\n",
       "    </tr>\n",
       "    <tr>\n",
       "      <th>376</th>\n",
       "      <td>exequiel palacios scored penalties bayer lever...</td>\n",
       "      <td>piero hincapie</td>\n",
       "      <td>en</td>\n",
       "      <td>2023-03-19T20:03:28Z</td>\n",
       "    </tr>\n",
       "    <tr>\n",
       "      <th>377</th>\n",
       "      <td>jose mourinho\\'s roma reached europa league fi...</td>\n",
       "      <td>piero hincapie</td>\n",
       "      <td>en</td>\n",
       "      <td>2023-05-18T21:09:58Z</td>\n",
       "    </tr>\n",
       "  </tbody>\n",
       "</table>\n",
       "<p>378 rows × 4 columns</p>\n",
       "</div>"
      ],
      "text/plain": [
       "                                                  data             player   \n",
       "0    football florian wirtz\\'s goal bayer leverkuse...  exequiel palacios  \\\n",
       "1    monaco, feb (reuters) bayer leverkusen beat mo...  exequiel palacios   \n",
       "2    goal-heavy thursday competition goals scored t...  exequiel palacios   \n",
       "3    argentina coach lionel scaloni friday announce...  exequiel palacios   \n",
       "4    star edition change location copy personal non...  exequiel palacios   \n",
       "..                                                 ...                ...   \n",
       "373  tottenham identified form bayer leverkusen wer...     piero hincapie   \n",
       "374  future course, kendry couple weeks shy birthda...     piero hincapie   \n",
       "375  man city's alex robertson makes debut aiden o'...     piero hincapie   \n",
       "376  exequiel palacios scored penalties bayer lever...     piero hincapie   \n",
       "377  jose mourinho\\'s roma reached europa league fi...     piero hincapie   \n",
       "\n",
       "    language           publishedAt  \n",
       "0         en  2023-02-16T23:56:00Z  \n",
       "1         en  2023-02-23T20:50:50Z  \n",
       "2         en  2023-02-23T20:53:59Z  \n",
       "3         en  2023-03-03T16:40:46Z  \n",
       "4         en  2023-03-03T16:42:19Z  \n",
       "..       ...                   ...  \n",
       "373       en  2023-05-16T12:22:18Z  \n",
       "374       en  2023-04-27T04:57:02Z  \n",
       "375       en  2023-03-24T15:24:08Z  \n",
       "376       en  2023-03-19T20:03:28Z  \n",
       "377       en  2023-05-18T21:09:58Z  \n",
       "\n",
       "[378 rows x 4 columns]"
      ]
     },
     "execution_count": 40,
     "metadata": {},
     "output_type": "execute_result"
    }
   ],
   "source": [
    "df_en_con_index"
   ]
  },
  {
   "attachments": {},
   "cell_type": "markdown",
   "metadata": {},
   "source": [
    "## Save data condensed"
   ]
  },
  {
   "cell_type": "code",
   "execution_count": 41,
   "metadata": {},
   "outputs": [
    {
     "name": "stdout",
     "output_type": "stream",
     "text": [
      "Data saved successfully.\n"
     ]
    }
   ],
   "source": [
    "# Define the folder path\n",
    "folder_path = \"data_clean\"\n",
    "\n",
    "# Define the file path\n",
    "file_path = os.path.join(folder_path, \"en_clean_condensed_punc_play.csv\")\n",
    "\n",
    "# Save the DataFrame as a CSV file\n",
    "df_en_con_index.to_csv(file_path, index=False)\n",
    "\n",
    "print(\"Data saved successfully.\")"
   ]
  },
  {
   "attachments": {},
   "cell_type": "markdown",
   "metadata": {},
   "source": [
    "# Code to check whether preprocessing worked"
   ]
  },
  {
   "cell_type": "code",
   "execution_count": 42,
   "metadata": {},
   "outputs": [
    {
     "data": {
      "text/plain": [
       "\"Control for patterns\\n#check whether it worked\\ndata_affected_row = data_wo_pattern_en.copy()\\nfiltered_rows = data_affected_row[data_affected_row['data'].str.contains('by choosing', case=False)]\\n\\n# Display the filtered rows\\ndf_filtered = pd.DataFrame(filtered_rows['data'])\\ndf_filtered\\n#print(df_filtered.iloc[0].values)\\n\""
      ]
     },
     "execution_count": 42,
     "metadata": {},
     "output_type": "execute_result"
    }
   ],
   "source": [
    "'''Control for patterns\n",
    "#check whether it worked\n",
    "data_affected_row = data_wo_pattern_en.copy()\n",
    "filtered_rows = data_affected_row[data_affected_row['data'].str.contains('by choosing', case=False)]\n",
    "\n",
    "# Display the filtered rows\n",
    "df_filtered = pd.DataFrame(filtered_rows['data'])\n",
    "df_filtered\n",
    "#print(df_filtered.iloc[0].values)\n",
    "'''"
   ]
  },
  {
   "cell_type": "code",
   "execution_count": 43,
   "metadata": {},
   "outputs": [
    {
     "data": {
      "text/plain": [
       "'Control for emojis\\n\\n# Unicode ranges for emojis\\nemoji_ranges = [\\n    (0x1F600, 0x1F64F),  # Emoticons\\n    (0x1F300, 0x1F5FF),  # Miscellaneous symbols and pictographs\\n    (0x1F680, 0x1F6FF),  # Transport and map symbols\\n    (0x2600, 0x26FF),    # Miscellaneous symbols\\n    (0x2700, 0x27BF),    # Dingbats\\n    (0xFE00, 0xFE0F),    # Variation Selectors\\n    (0x1F900, 0x1F9FF),  # Supplemental Symbols and Pictographs\\n    (0x1F1E6, 0x1F1FF)   # Flags\\n]\\n\\n# Function to check if a character is an emoji\\ndef is_emoji(character):\\n    if emoji.demojize(character) != character:\\n        return True\\n    return False\\n\\n# Assuming your DataFrame is named \\'df\\'\\narticles_with_untranslated_emojis = 0\\n\\n# Iterate over the rows of the DataFrame\\nfor index, row in data_wo_emojis.iterrows():\\n    # Counter for untranslated emojis in the current row\\n    untranslated_emoji_count = 0\\n\\n    # Iterate over the characters in the row\\n    for char in str(row[\\'data\\']):\\n        if is_emoji(char) and emoji.demojize(char) == char:\\n            untranslated_emoji_count += 1\\n\\n    # If there is at least one untranslated emoji in the current row, increment the count of rows with untranslated emojis\\n    if untranslated_emoji_count > 0:\\n        articles_with_untranslated_emojis += 1\\n        print(\"Untranslated emojis found in row\", index + 1, \":\", untranslated_emoji_count)\\n\\nprint(\"Total number of rows with untranslated emojis:\", articles_with_untranslated_emojis)\\n'"
      ]
     },
     "execution_count": 43,
     "metadata": {},
     "output_type": "execute_result"
    }
   ],
   "source": [
    "'''Control for emojis\n",
    "\n",
    "# Unicode ranges for emojis\n",
    "emoji_ranges = [\n",
    "    (0x1F600, 0x1F64F),  # Emoticons\n",
    "    (0x1F300, 0x1F5FF),  # Miscellaneous symbols and pictographs\n",
    "    (0x1F680, 0x1F6FF),  # Transport and map symbols\n",
    "    (0x2600, 0x26FF),    # Miscellaneous symbols\n",
    "    (0x2700, 0x27BF),    # Dingbats\n",
    "    (0xFE00, 0xFE0F),    # Variation Selectors\n",
    "    (0x1F900, 0x1F9FF),  # Supplemental Symbols and Pictographs\n",
    "    (0x1F1E6, 0x1F1FF)   # Flags\n",
    "]\n",
    "\n",
    "# Function to check if a character is an emoji\n",
    "def is_emoji(character):\n",
    "    if emoji.demojize(character) != character:\n",
    "        return True\n",
    "    return False\n",
    "\n",
    "# Assuming your DataFrame is named 'df'\n",
    "articles_with_untranslated_emojis = 0\n",
    "\n",
    "# Iterate over the rows of the DataFrame\n",
    "for index, row in data_wo_emojis.iterrows():\n",
    "    # Counter for untranslated emojis in the current row\n",
    "    untranslated_emoji_count = 0\n",
    "\n",
    "    # Iterate over the characters in the row\n",
    "    for char in str(row['data']):\n",
    "        if is_emoji(char) and emoji.demojize(char) == char:\n",
    "            untranslated_emoji_count += 1\n",
    "\n",
    "    # If there is at least one untranslated emoji in the current row, increment the count of rows with untranslated emojis\n",
    "    if untranslated_emoji_count > 0:\n",
    "        articles_with_untranslated_emojis += 1\n",
    "        print(\"Untranslated emojis found in row\", index + 1, \":\", untranslated_emoji_count)\n",
    "\n",
    "print(\"Total number of rows with untranslated emojis:\", articles_with_untranslated_emojis)\n",
    "'''"
   ]
  },
  {
   "cell_type": "code",
   "execution_count": 44,
   "metadata": {},
   "outputs": [
    {
     "data": {
      "text/plain": [
       "'control for empty rows\\n\\ndef check_empty_lines(df):\\n    empty_lines_count = df.isnull().any(axis=1).sum()\\n\\n    # Print the count of empty lines\\n    print(\"Number of empty lines:\", empty_lines_count)\\n    \\n'"
      ]
     },
     "execution_count": 44,
     "metadata": {},
     "output_type": "execute_result"
    }
   ],
   "source": [
    "'''control for empty rows\n",
    "\n",
    "def check_empty_lines(df):\n",
    "    empty_lines_count = df.isnull().any(axis=1).sum()\n",
    "\n",
    "    # Print the count of empty lines\n",
    "    print(\"Number of empty lines:\", empty_lines_count)\n",
    "    \n",
    "'''"
   ]
  },
  {
   "cell_type": "markdown",
   "metadata": {},
   "source": [
    "# Notebook Output"
   ]
  },
  {
   "cell_type": "markdown",
   "metadata": {},
   "source": [
    "This notebook will create the following CSV files:\n",
    "\n",
    "1. data1\n",
    "2. data2\n",
    "3. data_condensed\n",
    "\n",
    "The objective of these files is to have the data cleaned and saved at different levels of detail. They allow us to use the same data for different processes with various requirements."
   ]
  },
  {
   "cell_type": "markdown",
   "metadata": {},
   "source": [
    "# Next steps for Buyer04"
   ]
  },
  {
   "cell_type": "markdown",
   "metadata": {},
   "source": [
    "To further improve the data processing, we could recommend Buyer04 to try different preprocessing combinations. By storing the data and experimenting with various combinations in subsequent processes, the goal is to achieve the best accuracy for each of the models. This iterative approach allows for fine-tuning the preprocessing steps and selecting the most effective ones that lead to improved model performance."
   ]
  }
 ],
 "metadata": {
  "kernelspec": {
   "display_name": "Python 3.9.6 64-bit",
   "language": "python",
   "name": "python3"
  },
  "language_info": {
   "codemirror_mode": {
    "name": "ipython",
    "version": 3
   },
   "file_extension": ".py",
   "mimetype": "text/x-python",
   "name": "python",
   "nbconvert_exporter": "python",
   "pygments_lexer": "ipython3",
   "version": "3.9.6"
  },
  "orig_nbformat": 4,
  "vscode": {
   "interpreter": {
    "hash": "31f2aee4e71d21fbe5cf8b01ff0e069b9275f58929596ceb00d14d90e3e16cd6"
   }
  }
 },
 "nbformat": 4,
 "nbformat_minor": 2
}
