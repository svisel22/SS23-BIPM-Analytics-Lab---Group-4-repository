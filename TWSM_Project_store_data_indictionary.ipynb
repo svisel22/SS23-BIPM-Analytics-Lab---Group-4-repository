{
 "cells": [
  {
   "cell_type": "code",
   "execution_count": 5,
   "metadata": {},
   "outputs": [],
   "source": [
    "import pprint\n",
    "import requests\n",
    "from newsapi import NewsApiClient\n",
    "import pandas as pd"
   ]
  },
  {
   "cell_type": "code",
   "execution_count": 2,
   "metadata": {},
   "outputs": [],
   "source": [
    "k1_secret = '629525a47ff6458789d19a3c489419fa'\n",
    "\n",
    "j1_secret = '40d4a2e1919c4066b59df69ca787f4ba'\n",
    "\n",
    "j2_secret = '2211c202d86d46f78b48b3e532557d7d'\n",
    "  \n",
    "# Define the endpoint\n",
    "url = 'https://newsapi.org/v2/everything'\n"
   ]
  },
  {
   "cell_type": "code",
   "execution_count": null,
   "metadata": {},
   "outputs": [],
   "source": [
    "### CAUTION: It isn't working at the moment, but one could build upon it, because it was before. In case we need it"
   ]
  },
  {
   "attachments": {},
   "cell_type": "markdown",
   "metadata": {},
   "source": [
    "# Descriptive Analysis Prep\n",
    "\n",
    "\n",
    "*   make  into dictionary\n",
    "*   delete unnecessary columns\n",
    "*   add column which states which player the row is concerning\n",
    "*   add column which states language of the article\n",
    "\n"
   ]
  },
  {
   "cell_type": "code",
   "execution_count": 8,
   "metadata": {},
   "outputs": [
    {
     "data": {
      "text/plain": [
       "\"\\nif we also want him, we can put him in:\\n    ,\\n      {\\n        'q': 'Lionel Messi', # query phrase\\n        'pageSize': 100,  # maximum is 100\\n        'apiKey': secret, # your own API key\\n        'sortBy':'publishedAt', # sorting by date\\n        'from': '2023-01-01', # from\\n        'to': '2022-04-18' # to\\n      }\\n\""
      ]
     },
     "execution_count": 8,
     "metadata": {},
     "output_type": "execute_result"
    }
   ],
   "source": [
    "# list of players to choose from\n",
    "players = [\n",
    "    {\n",
    "        'q': 'Mitchel Bakker', # query phrase\n",
    "        'pageSize': 100,  # maximum is 100\n",
    "        'apiKey': k1_secret, # your own API key\n",
    "        'sortBy':'publishedAt', # sorting by date\n",
    "        'from': '2023-01-01', # form\n",
    "        'to': '2022-04-18' # to\n",
    "     },\n",
    "     {\n",
    "        'q': 'Jeremie Frimpong', # query phrase\n",
    "        'pageSize': 100,  # maximum is 100\n",
    "        'apiKey': k1_secret, # your own API key\n",
    "        'sortBy':'publishedAt',\n",
    "        'from': '2023-01-01',\n",
    "        'to': '2022-04-18',\n",
    "        'searchIn': 'title'\n",
    "     },\n",
    "     {\n",
    "        'q': 'Moussa Diaby', # query phrase\n",
    "        'pageSize': 100,  # maximum is 100\n",
    "        'apiKey': j1_secret, # your own API key\n",
    "        'sortBy':'publishedAt',\n",
    "        'from': '2023-01-01',\n",
    "        'to': '2022-04-18'\n",
    "      },\n",
    "      {\n",
    "        'q': 'Jonathan Tah', # query phrase\n",
    "        'pageSize': 100,  # maximum is 100\n",
    "        'apiKey': j1_secret, # your own API key\n",
    "        'sortBy':'publishedAt',\n",
    "        'from': '2023-01-01',\n",
    "        'to': '2022-04-18'\n",
    "      },\n",
    "      {\n",
    "        'q': 'Piero Hincapie', # query phrase\n",
    "        'pageSize': 100,  # maximum is 100\n",
    "        'apiKey': j2_secret, # your own API key\n",
    "        'sortBy':'publishedAt',\n",
    "        'from': '2023-01-01',\n",
    "        'to': '2022-04-18'\n",
    "      },\n",
    "      {\n",
    "        'q': 'Exequiel Palacios', # query phrase\n",
    "        'pageSize': 100,  # maximum is 100\n",
    "        'apiKey': j2_secret, # your own API key\n",
    "        'sortBy':'publishedAt',\n",
    "        'from': '2023-01-01',\n",
    "        'to': '2022-04-18'\n",
    "      },\n",
    "      {\n",
    "        'q': 'Mykhaylo Mudryk', # query phrase\n",
    "        'pageSize': 100,  # maximum is 100\n",
    "        'apiKey': j1_secret, # your own API key\n",
    "        'sortBy':'publishedAt',\n",
    "        'from': '2023-01-01',\n",
    "        'to': '2022-04-18'\n",
    "      }\n",
    "]\n",
    "\n",
    "'''\n",
    "if we also want him, we can put him in:\n",
    "    ,\n",
    "      {\n",
    "        'q': 'Lionel Messi', # query phrase\n",
    "        'pageSize': 100,  # maximum is 100\n",
    "        'apiKey': secret, # your own API key\n",
    "        'sortBy':'publishedAt', # sorting by date\n",
    "        'from': '2023-01-01', # from\n",
    "        'to': '2022-04-18' # to\n",
    "      }\n",
    "'''"
   ]
  },
  {
   "cell_type": "code",
   "execution_count": 10,
   "metadata": {},
   "outputs": [
    {
     "ename": "KeyError",
     "evalue": "'articles'",
     "output_type": "error",
     "traceback": [
      "\u001b[1;31m---------------------------------------------------------------------------\u001b[0m",
      "\u001b[1;31mKeyError\u001b[0m                                  Traceback (most recent call last)",
      "Cell \u001b[1;32mIn[10], line 7\u001b[0m\n\u001b[0;32m      5\u001b[0m     response \u001b[39m=\u001b[39m requests\u001b[39m.\u001b[39mget(url, params\u001b[39m=\u001b[39mplayer)\n\u001b[0;32m      6\u001b[0m     response_json \u001b[39m=\u001b[39m response\u001b[39m.\u001b[39mjson()\n\u001b[1;32m----> 7\u001b[0m     player_articles \u001b[39m=\u001b[39m response_json[\u001b[39m'\u001b[39;49m\u001b[39marticles\u001b[39;49m\u001b[39m'\u001b[39;49m]\n\u001b[0;32m      8\u001b[0m     articles\u001b[39m.\u001b[39mextend(player_articles)\n\u001b[0;32m     11\u001b[0m \u001b[39m#or to skip error messages if there are no articles for a certain player\u001b[39;00m\n",
      "\u001b[1;31mKeyError\u001b[0m: 'articles'"
     ]
    }
   ],
   "source": [
    "articles = []\n",
    "\n",
    "# iterate over the players and get the articles for each one\n",
    "for player in players:\n",
    "    response = requests.get(url, params=player)\n",
    "    response_json = response.json()\n",
    "    player_articles = response_json['articles']\n",
    "    articles.extend(player_articles)\n",
    "\n",
    "\n",
    "#or to skip error messages if there are no articles for a certain player\n",
    "\n",
    "for player in players:\n",
    "    response = requests.get(url, params=player)\n",
    "    response_json = response.json()\n",
    "    if 'articles' in response_json:\n",
    "        articles = response_json['articles']\n",
    "        # create an empty list to hold the rows of the table\n",
    "        rows = []\n",
    "        # iterate over the articles and extract the relevant information. \n",
    "        # a direct conversion into a df is not possible because 'source' is a series with two subcolumns\n",
    "        rows = [{    \n",
    "            'author': article['author'],\n",
    "            'content': article['content'],\n",
    "            'description': article['description'],\n",
    "            'publishedAt': article['publishedAt'],\n",
    "            'source_id': article['source'].get('id', ''),  # use .get() method to handle KeyError\n",
    "            'source_name': article['source'].get('name', '')  # use .get()\n",
    "        } for article in articles]\n",
    "\n",
    "        df = pd.DataFrame(rows)\n",
    "        # expand the source column to separate id and name\n",
    "        df[['source_id', 'source_name']] = pd.json_normalize(df['source'])\n",
    "        # drop the original source column because otherwise we would have it and the new source_id and source_name columns (which are appended as last columns)\n",
    "        df.drop('source', axis=1, inplace=True)\n",
    "        \n",
    "        # do something with the data frame, e.g. append to a list of data frames or concatenate into one large data frame\n",
    "        # ...\n",
    "        \n",
    "    else:\n",
    "        print(f\"No articles found for {player['q']}\")\n",
    "        continue\n"
   ]
  },
  {
   "cell_type": "code",
   "execution_count": 11,
   "metadata": {},
   "outputs": [
    {
     "ename": "KeyError",
     "evalue": "'articles'",
     "output_type": "error",
     "traceback": [
      "\u001b[1;31m---------------------------------------------------------------------------\u001b[0m",
      "\u001b[1;31mKeyError\u001b[0m                                  Traceback (most recent call last)",
      "Cell \u001b[1;32mIn[11], line 1\u001b[0m\n\u001b[1;32m----> 1\u001b[0m articles \u001b[39m=\u001b[39m response_json[\u001b[39m'\u001b[39;49m\u001b[39marticles\u001b[39;49m\u001b[39m'\u001b[39;49m]\n\u001b[0;32m      3\u001b[0m \u001b[39m# create an empty list to hold the rows of the table\u001b[39;00m\n\u001b[0;32m      4\u001b[0m rows \u001b[39m=\u001b[39m []\n",
      "\u001b[1;31mKeyError\u001b[0m: 'articles'"
     ]
    }
   ],
   "source": [
    "articles = response_json['articles']\n",
    "\n",
    "# create an empty list to hold the rows of the table\n",
    "rows = []\n",
    "\n",
    "# iterate over the articles and extract the relevant information. \n",
    "# a direct conversion into a df is not possible because 'source' is a series with two subcolumns\n",
    "[{    'author': article['author'],\n",
    "    'content': article['content'],\n",
    "    'description': article['description'],\n",
    "    'publishedAt': article['publishedAt'],\n",
    "    'source_id': article['source'].get('id', ''),  # use .get() method to handle KeyError\n",
    "    'source_name': article['source'].get('name', '')  # use .get()\n",
    "} for article in articles]\n",
    "\n",
    "\n",
    "df = pd.DataFrame(articles)\n",
    "\n",
    "# expand the source column to separate id and name\n",
    "df[['source_id', 'source_name']] = pd.json_normalize(df['source'])\n",
    "\n",
    "# drop the original source column because otherwise we would have it and the new source_id and source_name columns (which are appended as last columns)\n",
    "df.drop('source', axis=1, inplace=True)"
   ]
  },
  {
   "cell_type": "code",
   "execution_count": 12,
   "metadata": {},
   "outputs": [
    {
     "ename": "NameError",
     "evalue": "name 'df' is not defined",
     "output_type": "error",
     "traceback": [
      "\u001b[1;31m---------------------------------------------------------------------------\u001b[0m",
      "\u001b[1;31mNameError\u001b[0m                                 Traceback (most recent call last)",
      "Cell \u001b[1;32mIn[12], line 2\u001b[0m\n\u001b[0;32m      1\u001b[0m \u001b[39m# DataFrame with the selected players\u001b[39;00m\n\u001b[1;32m----> 2\u001b[0m df\u001b[39m.\u001b[39minfo()\n\u001b[0;32m      3\u001b[0m df\u001b[39m.\u001b[39mhead()\n",
      "\u001b[1;31mNameError\u001b[0m: name 'df' is not defined"
     ]
    }
   ],
   "source": [
    "# DataFrame with the selected players\n",
    "df.info()\n",
    "df.head()\n"
   ]
  }
 ],
 "metadata": {
  "kernelspec": {
   "display_name": "Python 3",
   "language": "python",
   "name": "python3"
  },
  "language_info": {
   "codemirror_mode": {
    "name": "ipython",
    "version": 3
   },
   "file_extension": ".py",
   "mimetype": "text/x-python",
   "name": "python",
   "nbconvert_exporter": "python",
   "pygments_lexer": "ipython3",
   "version": "3.10.11"
  },
  "orig_nbformat": 4
 },
 "nbformat": 4,
 "nbformat_minor": 2
}
