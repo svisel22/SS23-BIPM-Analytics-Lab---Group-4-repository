{
 "cells": [
  {
   "cell_type": "code",
   "execution_count": 1,
   "metadata": {},
   "outputs": [],
   "source": [
    "#%pip install scikit-learn\n",
    "#%pip install nltk\n",
    "#%pip install utils\n",
    "#%pip install emoji"
   ]
  },
  {
   "cell_type": "code",
   "execution_count": 6,
   "metadata": {},
   "outputs": [],
   "source": [
    "import pandas as pd\n",
    "import re\n",
    "from sklearn.feature_extraction.text import CountVectorizer\n",
    "import numpy as np\n",
    "import sys\n",
    "sys.path.append('../')\n",
    "#from utils import remove_similar_rows, find_lines_with_player, remove_similar_rows_per_player \n",
    "import emoji\n",
    "\n",
    "#ACTION include in utils - but utils doesn't work for me here\n",
    "def map_emoji_to_description(emoji_text): \n",
    "    emoji_description = emoji.demojize(emoji_text)\n",
    "    return emoji_description\n"
   ]
  },
  {
   "attachments": {},
   "cell_type": "markdown",
   "metadata": {},
   "source": [
    "# Load Data"
   ]
  },
  {
   "cell_type": "code",
   "execution_count": 7,
   "metadata": {},
   "outputs": [],
   "source": [
    "url = 'https://raw.githubusercontent.com/svisel22/SS23-BIPM-Analytics-Lab---Group-4-repository/main/data_files/all_data_v3.csv'\n",
    "df = pd.read_csv(url)"
   ]
  },
  {
   "cell_type": "code",
   "execution_count": 8,
   "metadata": {},
   "outputs": [
    {
     "data": {
      "text/html": [
       "<div>\n",
       "<style scoped>\n",
       "    .dataframe tbody tr th:only-of-type {\n",
       "        vertical-align: middle;\n",
       "    }\n",
       "\n",
       "    .dataframe tbody tr th {\n",
       "        vertical-align: top;\n",
       "    }\n",
       "\n",
       "    .dataframe thead th {\n",
       "        text-align: right;\n",
       "    }\n",
       "</style>\n",
       "<table border=\"1\" class=\"dataframe\">\n",
       "  <thead>\n",
       "    <tr style=\"text-align: right;\">\n",
       "      <th></th>\n",
       "      <th>data</th>\n",
       "      <th>player</th>\n",
       "      <th>language</th>\n",
       "      <th>publishedAt</th>\n",
       "    </tr>\n",
       "  </thead>\n",
       "  <tbody>\n",
       "    <tr>\n",
       "      <th>0</th>\n",
       "      <td>{'content': 'Football\\nFlorian Wirtz\\'s goal f...</td>\n",
       "      <td>Exequiel Palacios</td>\n",
       "      <td>en</td>\n",
       "      <td>2023-02-16T23:56:00Z</td>\n",
       "    </tr>\n",
       "    <tr>\n",
       "      <th>1</th>\n",
       "      <td>{'content': '[1/4]\\xa0Soccer Football - Europa...</td>\n",
       "      <td>Exequiel Palacios</td>\n",
       "      <td>en</td>\n",
       "      <td>2023-02-23T20:50:50Z</td>\n",
       "    </tr>\n",
       "    <tr>\n",
       "      <th>2</th>\n",
       "      <td>{'content': \"By Will Pickworth For Mailonline\\...</td>\n",
       "      <td>Exequiel Palacios</td>\n",
       "      <td>en</td>\n",
       "      <td>2023-02-23T20:53:59Z</td>\n",
       "    </tr>\n",
       "    <tr>\n",
       "      <th>3</th>\n",
       "      <td>{'content': '\\nBUENOS AIRES (AP) — World Cup w...</td>\n",
       "      <td>Exequiel Palacios</td>\n",
       "      <td>en</td>\n",
       "      <td>2023-03-03T16:40:46Z</td>\n",
       "    </tr>\n",
       "    <tr>\n",
       "      <th>4</th>\n",
       "      <td>{'content': 'Sign In\\nSign In\\nThe Star Editio...</td>\n",
       "      <td>Exequiel Palacios</td>\n",
       "      <td>en</td>\n",
       "      <td>2023-03-03T16:42:19Z</td>\n",
       "    </tr>\n",
       "    <tr>\n",
       "      <th>...</th>\n",
       "      <td>...</td>\n",
       "      <td>...</td>\n",
       "      <td>...</td>\n",
       "      <td>...</td>\n",
       "    </tr>\n",
       "    <tr>\n",
       "      <th>297</th>\n",
       "      <td>{'content': 'Please refresh the page or naviga...</td>\n",
       "      <td>Moussa Diaby</td>\n",
       "      <td>en</td>\n",
       "      <td>2023-05-04T06:28:32Z</td>\n",
       "    </tr>\n",
       "    <tr>\n",
       "      <th>298</th>\n",
       "      <td>{'content': \"By Oliver Salt For Mailonline\\nPu...</td>\n",
       "      <td>Mykhaylo Mudryk</td>\n",
       "      <td>en</td>\n",
       "      <td>2023-05-05T14:58:51Z</td>\n",
       "    </tr>\n",
       "    <tr>\n",
       "      <th>299</th>\n",
       "      <td>{'content': 'We use cookies and other tracking...</td>\n",
       "      <td>Piero Hincapié</td>\n",
       "      <td>en</td>\n",
       "      <td>2023-04-27T04:57:02Z</td>\n",
       "    </tr>\n",
       "    <tr>\n",
       "      <th>300</th>\n",
       "      <td>{'content': 'Man City’s Alex Robertson makes d...</td>\n",
       "      <td>Piero Hincapié</td>\n",
       "      <td>en</td>\n",
       "      <td>2023-03-24T15:24:08Z</td>\n",
       "    </tr>\n",
       "    <tr>\n",
       "      <th>301</th>\n",
       "      <td>{'content': \"\\nLast updated on 19 March 202319...</td>\n",
       "      <td>Piero Hincapié</td>\n",
       "      <td>en</td>\n",
       "      <td>2023-03-19T20:03:28Z</td>\n",
       "    </tr>\n",
       "  </tbody>\n",
       "</table>\n",
       "<p>302 rows × 4 columns</p>\n",
       "</div>"
      ],
      "text/plain": [
       "                                                  data             player  \\\n",
       "0    {'content': 'Football\\nFlorian Wirtz\\'s goal f...  Exequiel Palacios   \n",
       "1    {'content': '[1/4]\\xa0Soccer Football - Europa...  Exequiel Palacios   \n",
       "2    {'content': \"By Will Pickworth For Mailonline\\...  Exequiel Palacios   \n",
       "3    {'content': '\\nBUENOS AIRES (AP) — World Cup w...  Exequiel Palacios   \n",
       "4    {'content': 'Sign In\\nSign In\\nThe Star Editio...  Exequiel Palacios   \n",
       "..                                                 ...                ...   \n",
       "297  {'content': 'Please refresh the page or naviga...       Moussa Diaby   \n",
       "298  {'content': \"By Oliver Salt For Mailonline\\nPu...    Mykhaylo Mudryk   \n",
       "299  {'content': 'We use cookies and other tracking...     Piero Hincapié   \n",
       "300  {'content': 'Man City’s Alex Robertson makes d...     Piero Hincapié   \n",
       "301  {'content': \"\\nLast updated on 19 March 202319...     Piero Hincapié   \n",
       "\n",
       "    language           publishedAt  \n",
       "0         en  2023-02-16T23:56:00Z  \n",
       "1         en  2023-02-23T20:50:50Z  \n",
       "2         en  2023-02-23T20:53:59Z  \n",
       "3         en  2023-03-03T16:40:46Z  \n",
       "4         en  2023-03-03T16:42:19Z  \n",
       "..       ...                   ...  \n",
       "297       en  2023-05-04T06:28:32Z  \n",
       "298       en  2023-05-05T14:58:51Z  \n",
       "299       en  2023-04-27T04:57:02Z  \n",
       "300       en  2023-03-24T15:24:08Z  \n",
       "301       en  2023-03-19T20:03:28Z  \n",
       "\n",
       "[302 rows x 4 columns]"
      ]
     },
     "execution_count": 8,
     "metadata": {},
     "output_type": "execute_result"
    }
   ],
   "source": [
    "# Filter out the Spanish data and reindex\n",
    "df_en = df[df[\"language\"] == \"en\"]\n",
    "\n",
    "#Reset index\n",
    "df_en = df_en.reset_index(drop=True)\n",
    "df_en"
   ]
  },
  {
   "cell_type": "code",
   "execution_count": null,
   "metadata": {},
   "outputs": [
    {
     "name": "stdout",
     "output_type": "stream",
     "text": [
      "{'content': \"World Cup winners Argentina will celebrate with their fans at two home games in March against Panama and Curacao in their first matches since their triumph in Qatar.\\nArgentina coach Lionel Scaloni announced a 35-man squad on Friday which included Lionel Messi, Angel Di Maria and the other members of Argentina's winning squad in Qatar.\\nManchester United forward Alejandro Garnacho is rewarded for impressing at Old Trafford with his first-ever callup. The 18-year-old, in his breakthrough season with Erik ten Hag's side, has contributed five goals and six assists in 30 matches this campaign.\\nIn their first games since beating France in the World Cup final, Argentina will play Panama on March 23 at the Monumental Stadium in Buenos Aires. Five days later, they will host Curacao in another friendly at the northern city of Santiago del Estero.\\nScaloni, 44, earlier this week extended his contract until the end of the 2026 World Cup.\\nSquad:\\nGoalkeepers: Emiliano Martinez (Aston Villa), Franco Armani (River Plate), Geronimo Rulli (Ajax)\\nDefenders: Nahuel Molina (Atletico Madrid), Cristian Romero (Tottenham), Nicolas Otamendi (Benfica), Nicolas Tagliafico (Lyon), Gonzalo Montiel (Sevilla,), German Pezzella (Real Betis), Lisandro Martinez (Manchester United), Marcos Acuna (Sevilla), Juan Foyth (Villarreal), Lautaro Blanco (Elche), Nehuen Perez (Udinese).\\nMidfielders: Rodrigo De Paul (Atletico Madrid), Leandro Paredes (Juventus), Guido Rodriguez (Real Betis), Alejandro Gomez (Sevilla), Alexis Mac Allister (Brighton), Exequiel Palacios (Bayer Leverkusen), Enzo Fernandez (Chelsea), Maximo Perrone (Manchester City), Facundo Buonanotte (Brighton), Giovani Lo Celso (Villarreal), Thiago Almada (Atlanta United), Valentin Carboni (Inter Milan).\\nForwards: Lionel Messi (PSG), Lautaro Martinez (Inter Milan), Angel Di Maria (Juventus), Alejandro Garnacho (Manchester United), Angel Correa (Atletico Madrid), Nicolas Gonzalez (Fiorentina), Julian Alvarez (Manchester City), Paulo Dybala (Roma), Emiliano Buendia (Aston Villa).\"}\n"
     ]
    }
   ],
   "source": [
    "print(df_en.loc[5, 'data'])"
   ]
  },
  {
   "attachments": {},
   "cell_type": "markdown",
   "metadata": {},
   "source": [
    "# Remove duplicates"
   ]
  },
  {
   "cell_type": "code",
   "execution_count": null,
   "metadata": {},
   "outputs": [],
   "source": [
    "# Remove the similiar rows (The Function is imported from utils on top)\n",
    "\n",
    "# Returned df is not working well"
   ]
  },
  {
   "attachments": {},
   "cell_type": "markdown",
   "metadata": {},
   "source": [
    "# Remove patterns"
   ]
  },
  {
   "cell_type": "code",
   "execution_count": null,
   "metadata": {},
   "outputs": [],
   "source": [
    "#testing to find afftected rows\n",
    "data_affected_row = df_en.copy()\n",
    "filtered_rows = data_affected_row[data_affected_row['data'].str.contains('new to', case=False)]\n",
    "\n",
    "# Display the filtered rows\n",
    "print(filtered_rows['data'].values)"
   ]
  },
  {
   "cell_type": "code",
   "execution_count": 10,
   "metadata": {},
   "outputs": [],
   "source": [
    "# Create a copy\n",
    "data_wo_pattern_en = df_en.copy()\n",
    "\n",
    "#translate emojis into words\n",
    "data_wo_pattern_en['data'] = data_wo_pattern_en['data'].apply(lambda x: re.sub(r'[^\\w\\s]', lambda match: map_emoji_to_description(match.group()), str(x)))\n",
    "\n",
    "#remove patterns\n",
    "patternlist_en = [\n",
    "    r\"^{\\'content\\': \\'\",\n",
    "    r\"^{\\'content\\'\",\n",
    "    r'http\\S+',\n",
    "    r\"Copyright.*\",\n",
    "    r\"Photo.*\",\n",
    "    r\"All rights reserved.*\",\n",
    "    r'Published.*2023',\n",
    "    r'Published by.*',\n",
    "    r'Updated.*2023',\n",
    "    r'Last updated.*2023',\n",
    "    r'When you purchase through.*',\n",
    "    #r'New to.*',\n",
    "    r'Please refresh.*',\n",
    "    r'From the section.*',\n",
    "    r'We use cookies.*',\n",
    "    r'Sign In\\nSign In\\nThe Star Edition\\nCHANGE LOCATION\\nThis copy is for your personal non-commercial use only. To order\\n    presentation-ready copies of Toronto Star content for distribution\\n    to colleagues, clients or customers, or inquire about\\n    permissions/licensing, please go to: www.TorontoStarReprints.com\\n'\n",
    "]\n",
    "#do we want to keep authors of the text? #data_wo_pattern_en['data'] = data_wo_pattern_en['data'].apply(lambda x: re.sub(r'By.*\\n', \"\", str(x)))\n",
    "#second version #data_wo_pattern_en['data'] = data_wo_pattern_en['data'].apply(lambda x: re.sub(r'Edited by.*\\n', \"\", str(x)))\n"
   ]
  },
  {
   "cell_type": "code",
   "execution_count": 11,
   "metadata": {},
   "outputs": [
    {
     "name": "stdout",
     "output_type": "stream",
     "text": [
      ": \"By Will Pickworth For Mailonline\\n\\n\\n5\\nView  comments\\n\\nBayer Leverkusen, Shakhtar Donetsk, Union Berlin, Sevilla and Sporting Lisbon all joined Juventus,Manchester United\\xa0and Roma\\xa0in reaching the Europa League last-16.\\nIt was a goal-heavy Thursday in the competition with 24 goals scored across the eight ties.\\nShakhtar Donetsk continued their miraculous season as they overcame Rennes in the most dramatic fashion, beating them 5-4 on penalties.\\nHaving led 2-1 from last week's first leg in Warsaw, a Karl Toko Ekambi strike gave the French side a 1-0 lead early on in the second half.\\nThere were no more goals in the rest of normal time and the game headed into extra time with the score 2-2 on aggregate.\\nShakhtar Donetsk reached the Europa League last-16 in miraculous fashion against Rennes\\nKeeper Anatolii Trubin made three spectacular saves in the shootout to send them through\\nBayer Leverkusen also reached the last-16 after beating AS Monaco 5-3 on penalties\\nIbrahim Salah looked to have won it for Rennes in the 106th minute as he put them 2-0 up on the night, but a disastrous own goal at the death from 18-year-old Jeanuel Belocian took the tie to penalties after he sliced a routine clearance into his own net.\\nAnd the Ukrainians were victorious with goalkeeper Anatolii Trubin making three spectacular saves in the shootout to send them through.\\nElsewhere, Leverkusen picked up a dramatic 5-3 victory over AS Monaco on penalties after an enthralling tie.\\nMonaco headed into the game with a 3-2 lead following last week's first leg, but their advantage was pegged back almost immediately as wonderkid Florian Wirtz opened the scoring.\\nWissam Ben Yedder levelled straight away from the spot for Monaco, before Exequiel Palacios put Leverkusen back ahead.\\nAmine Adli scored again as Xabi Alonso's side raced into a 5-4 lead on aggregate before Breel Embolo brought the tie back level again in the 84th minute.\\nExtra time was less eventful, and then the Germans emerged victorious 5-3 on penalties after they scored all five of their spot kicks and Eliot Matazo was guilty of missing one for the Principality side.\\nBreel Embolo scored late on to take the tie to extra time with the score at 5-5 on aggregate\\nAjax crashed out after losing 3-1 on the night to the Bundesliga's surprise outfit Union Berlin\\nFellow Bundesliga outfit Union Berlin - who remarkably are joint top of the German top flight along with Bayern Munich and Borussia Dortmund - continued their fairytale season as they beat Ajax 3-1.\\nFirst half goals from\\xa0Robin Knoche and\\xa0Josip Juranovic put them 2-0 up. Ajax star Mohammed Kudus pulled one back but\\xa0Danilho Doekhi helped Union to regain their two-goal lead.\\nThey saw out the rest of the game, before Edson Alvarez picked up a red card in stoppage time.\\nSporting Lisbon - who were narrowly pipped by Tottenham and Eintracht Frankfurt in qualifying for the Champions League knockout stages - romped home against Danish outfit Midtjylland.\\nA brace from Pedro Goncalves, along with a Sebastian Coates finish and a disastrous own goal from Stefan Gartenmann gave Ruben Amorin's side a 4-0 win on the night and an overall 5-0 aggregate victory.\\nDespite a spirited comeback from PSV against Sevilla, the Spanish side held on after winning the first leg 3-0 last week and progressed to the last-16.\\nLuuk de Jong had opened the scoring against his former team in the 77th minute to give Jorge Sampaoli's side a scare but the Dutch outfit couldn't complete the turnaround.\\nAlthough an injury time goal from Wolves loanee Fabio Silva gave them a 2-0 victory on the night.\\nHowever, the game was marred by ugly scenes when a fan invaded the pitch and attacked\\xa0Sevilla goalkeeper Marko Dmitrovic in the closing stages of the game.\\nElsewhere, Manchester United defeated Barcelona 2-1 after a stirring comeback\\xa0to win 4-3 on aggregate.\\nJuventus saw past Nantes by four goals-to-one over the two legs and in Italy, Roma overturned a first leg deficit to win 2-1 on aggregate.\\nElsewhere, Sporting Lisbon thrashed\\xa0Danish side Midtjylland 4-0 to progress to the next round\\nLuuk de Jong almost inspired a PSV comeback but they went down 3-2 to Sevilla on aggregate\\n\n"
     ]
    }
   ],
   "source": [
    "for pattern in patternlist_en:\n",
    "    data_wo_pattern_en['data'] = data_wo_pattern_en['data'].apply(lambda x: re.sub(pattern, \"\", str(x), flags=re.M))\n",
    "print(data_wo_pattern_en.loc[2, 'data'])\n",
    "#it takes too long,if I would extend the pattern with + r'.*?\\n' . But at the moment it deletes too much"
   ]
  },
  {
   "cell_type": "code",
   "execution_count": null,
   "metadata": {},
   "outputs": [
    {
     "name": "stdout",
     "output_type": "stream",
     "text": [
      "Empty DataFrame\n",
      "Columns: [data, player, language, publishedAt]\n",
      "Index: []\n"
     ]
    }
   ],
   "source": [
    "#check whether it worked\n",
    "data_affected_row = data_wo_pattern_en.copy()\n",
    "filtered_rows = data_affected_row[data_affected_row['data'].str.contains('Erik ten Hag is reportedly looking', case=False)]\n",
    "\n",
    "# Display the filtered rows\n",
    "print(filtered_rows)"
   ]
  },
  {
   "cell_type": "code",
   "execution_count": 12,
   "metadata": {},
   "outputs": [
    {
     "name": "stdout",
     "output_type": "stream",
     "text": [
      "5     : \"World Cup winners Argentina will celebrate ...\n",
      "6     Bayer Leverkusen became the third side to beat...\n",
      "7     : \"By Reuters\\n\\n\\n7\\nView  comments\\n\\nBayer ...\n",
      "8     Bayer Leverkusen\\'s Exequiel Palacios scored t...\n",
      "9     by Tamojit Chakraborty March 19, 2023\\nExequie...\n",
      "10                                               : \"\\n.\n",
      "11                                                     \n",
      "12    : \"Players from Barcelona and Real Madrid clas...\n",
      "13    Craig Burley thinks Fulham players losing thei...\n",
      "14    Argentina\\'s World Cup winner Exequiel Palacio...\n",
      "15    \\nBarcelona took a huge step towards winning t...\n",
      "Name: data, dtype: object\n"
     ]
    }
   ],
   "source": [
    "data_wo_pattern_en['data'] = data_wo_pattern_en['data'].apply(lambda x: re.sub(r\"Sign InnSign Inn*\", \"\", str(x)))\n",
    "print(data_wo_pattern_en.loc[5:15, 'data'])\n"
   ]
  }
 ],
 "metadata": {
  "kernelspec": {
   "display_name": "Python 3",
   "language": "python",
   "name": "python3"
  },
  "language_info": {
   "codemirror_mode": {
    "name": "ipython",
    "version": 3
   },
   "file_extension": ".py",
   "mimetype": "text/x-python",
   "name": "python",
   "nbconvert_exporter": "python",
   "pygments_lexer": "ipython3",
   "version": "3.10.8 (v3.10.8:aaaf517424, Oct 11 2022, 10:14:40) [Clang 13.0.0 (clang-1300.0.29.30)]"
  },
  "orig_nbformat": 4,
  "vscode": {
   "interpreter": {
    "hash": "aee8b7b246df8f9039afb4144a1f6fd8d2ca17a180786b69acc140d282b71a49"
   }
  }
 },
 "nbformat": 4,
 "nbformat_minor": 2
}
