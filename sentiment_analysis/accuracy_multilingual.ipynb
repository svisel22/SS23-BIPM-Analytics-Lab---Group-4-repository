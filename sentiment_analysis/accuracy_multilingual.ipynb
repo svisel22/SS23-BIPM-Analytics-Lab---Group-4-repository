{
 "cells": [
  {
   "cell_type": "code",
   "execution_count": 44,
   "metadata": {},
   "outputs": [],
   "source": [
    "from transformers import AutoTokenizer, AutoModelForSequenceClassification\n",
    "import torch\n",
    "import requests\n",
    "from bs4 import BeautifulSoup\n",
    "import re\n",
    "import numpy as np\n",
    "import pandas as pd\n",
    "import matplotlib.pyplot as plt\n",
    "import seaborn as sns\n",
    "import matplotlib.dates as mdates\n",
    "from gensim.parsing.preprocessing import remove_stopwords, strip_numeric, strip_punctuation, strip_multiple_whitespaces, strip_short\n",
    "from sklearn.metrics import confusion_matrix\n",
    "import os"
   ]
  },
  {
   "attachments": {},
   "cell_type": "markdown",
   "metadata": {},
   "source": [
    "# Load model"
   ]
  },
  {
   "cell_type": "code",
   "execution_count": 45,
   "metadata": {},
   "outputs": [],
   "source": [
    "# https://huggingface.co/nlptown/bert-base-multilingual-uncased-sentiment\n",
    "tokenizer = AutoTokenizer.from_pretrained('nlptown/bert-base-multilingual-uncased-sentiment')\n",
    "\n",
    "model = AutoModelForSequenceClassification.from_pretrained('nlptown/bert-base-multilingual-uncased-sentiment')"
   ]
  },
  {
   "attachments": {},
   "cell_type": "markdown",
   "metadata": {},
   "source": [
    "# Load data clean"
   ]
  },
  {
   "cell_type": "code",
   "execution_count": 46,
   "metadata": {},
   "outputs": [],
   "source": [
    "# Load the CSV file into a DataFrame\n",
    "df_de = pd.read_csv('../Preprocessing/data_clean/labeled-data/labeled-de_clean_1-1.csv',sep = ';')\n",
    "#df_en = pd.read_csv('../Preprocessing/data_clean/en_clean_1.csv')\n",
    "df_en = pd.read_csv('../Preprocessing/data_clean/labeled-data/labeled-en_clean_1-1_not101010.csv')\n",
    "#df_es = pd.read_csv('../Preprocessing/data_clean/en_clean_1.csv')\n",
    "df_es = pd.read_csv('../Preprocessing/data_clean/labeled-data/labeled-es_clean_1-1.csv', sep = ';')\n"
   ]
  },
  {
   "cell_type": "code",
   "execution_count": 47,
   "metadata": {},
   "outputs": [],
   "source": [
    "df_es['data'] = df_es['data'].apply(strip_punctuation)\n",
    "df_es['data'] = df_es['data'].str.replace('xa', ' ')\n",
    "df_es['data'] = df_es['data'].apply(strip_multiple_whitespaces)\n",
    "\n",
    "df_de['data'] = df_de['data'].apply(strip_punctuation)\n",
    "df_de['data'] = df_de['data'].apply(strip_multiple_whitespaces)\n",
    "\n",
    "df_en['data'] = df_en['data'].apply(strip_punctuation)\n",
    "df_en['data'] = df_en['data'].apply(strip_multiple_whitespaces)"
   ]
  },
  {
   "attachments": {},
   "cell_type": "markdown",
   "metadata": {},
   "source": [
    "# Sentiment Analysis"
   ]
  },
  {
   "cell_type": "code",
   "execution_count": 48,
   "metadata": {},
   "outputs": [],
   "source": [
    "def sentiment_score(data):\n",
    "    if isinstance(data, str):\n",
    "        tokens = tokenizer.encode(data, return_tensors='pt')\n",
    "        result = model(tokens)\n",
    "        return int(torch.argmax(result.logits)) + 1\n",
    "    else:\n",
    "        return 0"
   ]
  },
  {
   "cell_type": "code",
   "execution_count": 49,
   "metadata": {},
   "outputs": [],
   "source": [
    "df_de['sentiment'] = df_de['data'].apply(lambda x: sentiment_score(x[:512]))\n",
    "df_en['sentiment'] = df_en['data'].apply(lambda x: sentiment_score(x[:512]))\n",
    "df_es['sentiment'] = df_es['data'].apply(lambda x: sentiment_score(x[:512]))"
   ]
  },
  {
   "cell_type": "code",
   "execution_count": 50,
   "metadata": {},
   "outputs": [
    {
     "data": {
      "image/png": "[encoded data removed]",
      "text/plain": [
       "<Figure size 640x480 with 1 Axes>"
      ]
     },
     "metadata": {},
     "output_type": "display_data"
    }
   ],
   "source": [
    "# Calculate the count of each sentiment category for each DataFrame\n",
    "es_sentiment_counts = df_es['sentiment'].value_counts().sort_index()\n",
    "de_sentiment_counts = df_de['sentiment'].value_counts().sort_index()\n",
    "en_sentiment_counts = df_en['sentiment'].value_counts().sort_index()\n",
    "\n",
    "# Set the x-axis labels\n",
    "sentiment_labels = ['1', '2', '3', '4', '5']\n",
    "x = np.arange(len(sentiment_labels))\n",
    "\n",
    "# Set the width of each bar\n",
    "bar_width = 0.2\n",
    "\n",
    "# Create a figure and axis\n",
    "fig, ax = plt.subplots()\n",
    "\n",
    "# Plot the counts for each sentiment category for each DataFrame\n",
    "ax.bar(x - bar_width, es_sentiment_counts, width=bar_width, label='spanish')\n",
    "ax.bar(x, de_sentiment_counts, width=bar_width, label='german')\n",
    "ax.bar(x + bar_width, en_sentiment_counts, width=bar_width, label='english')\n",
    "\n",
    "# Set the x-axis ticks and labels\n",
    "ax.set_xticks(x)\n",
    "ax.set_xticklabels(sentiment_labels)\n",
    "\n",
    "# Set the plot title and labels\n",
    "ax.set_title('Sentiment Counts for Each Language')\n",
    "ax.set_xlabel('Sentiment')\n",
    "ax.set_ylabel('Count')\n",
    "\n",
    "# Add a legend\n",
    "ax.legend()\n",
    "\n",
    "# Show the plot\n",
    "plt.show()"
   ]
  },
  {
   "cell_type": "markdown",
   "metadata": {},
   "source": [
    "### Translate scores to positive, neutral and negative"
   ]
  },
  {
   "cell_type": "code",
   "execution_count": 51,
   "metadata": {},
   "outputs": [],
   "source": [
    "sentiment_mapping = {1: 'negativ', 2: 'neutral', 3: 'neutral', 4: 'neutral', 5: 'positiv'}\n",
    "\n",
    "# Replace the numbers with labels using the mapping\n",
    "df_de['sentiment_label'] = df_de['sentiment'].map(sentiment_mapping)\n",
    "df_en['sentiment_label'] = df_en['sentiment'].map(sentiment_mapping)\n",
    "df_es['sentiment_label'] = df_es['sentiment'].map(sentiment_mapping)"
   ]
  },
  {
   "cell_type": "markdown",
   "metadata": {},
   "source": [
    "### Save data"
   ]
  },
  {
   "cell_type": "code",
   "execution_count": 52,
   "metadata": {},
   "outputs": [],
   "source": [
    "# Concatenate the dataframes vertically\n",
    "merged_df = pd.concat([df_de, df_en, df_es], ignore_index=True)\n",
    "\n",
    "# Create the folder if it doesn't exist\n",
    "folder_name = 'data'\n",
    "\n",
    "# Define the file path for saving the CSV\n",
    "file_name = 'data_sentiment_final.csv'\n",
    "file_path = os.path.join(folder_name, file_name)\n",
    "\n",
    "# Convert the dataframe to CSV and save it\n",
    "merged_df.to_csv(file_path, index=False)"
   ]
  },
  {
   "attachments": {},
   "cell_type": "markdown",
   "metadata": {},
   "source": [
    "### Drop unlabeled rows"
   ]
  },
  {
   "cell_type": "code",
   "execution_count": 53,
   "metadata": {},
   "outputs": [],
   "source": [
    "# Drop rows where 'Label' is NaN or empty\n",
    "df_de.dropna(subset=['Label'], inplace=True)\n",
    "df_en.dropna(subset=['Label'], inplace=True)\n",
    "df_es.dropna(subset=['Label'], inplace=True)"
   ]
  },
  {
   "attachments": {},
   "cell_type": "markdown",
   "metadata": {},
   "source": [
    "### Accuracy exact match positive, neutral and negative"
   ]
  },
  {
   "cell_type": "code",
   "execution_count": 54,
   "metadata": {},
   "outputs": [
    {
     "name": "stdout",
     "output_type": "stream",
     "text": [
      "Accuracy DE: 56.67%\n",
      "Accuracy EN: 46.67%\n",
      "Accuracy ES: 43.33%\n"
     ]
    }
   ],
   "source": [
    "# Calculate the accuracy\n",
    "accuracy_de = (df_de['sentiment_label'] == df_de['Label']).mean() * 100\n",
    "accuracy_en = (df_en['sentiment_label'] == df_en['Label']).mean() * 100\n",
    "accuracy_es = (df_es['sentiment_label'] == df_es['Label']).mean() * 100\n",
    "\n",
    "# Print the accuracy\n",
    "print(\"Accuracy DE: {:.2f}%\".format(accuracy_de))\n",
    "print(\"Accuracy EN: {:.2f}%\".format(accuracy_en))\n",
    "print(\"Accuracy ES: {:.2f}%\".format(accuracy_es))"
   ]
  },
  {
   "cell_type": "code",
   "execution_count": 55,
   "metadata": {},
   "outputs": [],
   "source": [
    "def c_matrix(df):\n",
    "\n",
    "    # Define the labels\n",
    "    labels = ['positiv', 'neutral', 'negativ']\n",
    "\n",
    "    # Create the confusion matrix\n",
    "    cm = confusion_matrix(df['Label'], df['sentiment_label'], labels=labels)\n",
    "\n",
    "    # Calculate True Positives (TP), True Negatives (TN), False Positives (FP), and False Negatives (FN) as percentages\n",
    "    total = np.sum(cm)\n",
    "    tp_percent = (np.diag(cm) / total) * 100\n",
    "    tn_percent = ((total - (np.sum(cm, axis=0) + np.sum(cm, axis=1) - np.diag(cm))) / total) * 100\n",
    "    fp_percent = (np.sum(cm, axis=0) - np.diag(cm)) / total * 100\n",
    "    fn_percent = (np.sum(cm, axis=1) - np.diag(cm)) / total * 100\n",
    "\n",
    "    # Display the confusion matrix and calculations as percentages\n",
    "    confusion_df = pd.DataFrame(cm, index=labels, columns=labels)\n",
    "    confusion_df['True Positives (%)'] = tp_percent\n",
    "    confusion_df['True Negatives (%)'] = tn_percent\n",
    "    confusion_df['False Positives (%)'] = fp_percent\n",
    "    confusion_df['False Negatives (%)'] = fn_percent\n",
    "    return confusion_df"
   ]
  },
  {
   "cell_type": "code",
   "execution_count": 56,
   "metadata": {},
   "outputs": [
    {
     "data": {
      "text/html": [
       "<div>\n",
       "<style scoped>\n",
       "    .dataframe tbody tr th:only-of-type {\n",
       "        vertical-align: middle;\n",
       "    }\n",
       "\n",
       "    .dataframe tbody tr th {\n",
       "        vertical-align: top;\n",
       "    }\n",
       "\n",
       "    .dataframe thead th {\n",
       "        text-align: right;\n",
       "    }\n",
       "</style>\n",
       "<table border=\"1\" class=\"dataframe\">\n",
       "  <thead>\n",
       "    <tr style=\"text-align: right;\">\n",
       "      <th></th>\n",
       "      <th>positiv</th>\n",
       "      <th>neutral</th>\n",
       "      <th>negativ</th>\n",
       "      <th>True Positives (%)</th>\n",
       "      <th>True Negatives (%)</th>\n",
       "      <th>False Positives (%)</th>\n",
       "      <th>False Negatives (%)</th>\n",
       "    </tr>\n",
       "  </thead>\n",
       "  <tbody>\n",
       "    <tr>\n",
       "      <th>positiv</th>\n",
       "      <td>4</td>\n",
       "      <td>3</td>\n",
       "      <td>3</td>\n",
       "      <td>13.333333</td>\n",
       "      <td>60.000000</td>\n",
       "      <td>6.666667</td>\n",
       "      <td>20.000000</td>\n",
       "    </tr>\n",
       "    <tr>\n",
       "      <th>neutral</th>\n",
       "      <td>1</td>\n",
       "      <td>8</td>\n",
       "      <td>1</td>\n",
       "      <td>26.666667</td>\n",
       "      <td>43.333333</td>\n",
       "      <td>23.333333</td>\n",
       "      <td>6.666667</td>\n",
       "    </tr>\n",
       "    <tr>\n",
       "      <th>negativ</th>\n",
       "      <td>1</td>\n",
       "      <td>4</td>\n",
       "      <td>5</td>\n",
       "      <td>16.666667</td>\n",
       "      <td>53.333333</td>\n",
       "      <td>13.333333</td>\n",
       "      <td>16.666667</td>\n",
       "    </tr>\n",
       "  </tbody>\n",
       "</table>\n",
       "</div>"
      ],
      "text/plain": [
       "         positiv  neutral  negativ  True Positives (%)  True Negatives (%)  \\\n",
       "positiv        4        3        3           13.333333           60.000000   \n",
       "neutral        1        8        1           26.666667           43.333333   \n",
       "negativ        1        4        5           16.666667           53.333333   \n",
       "\n",
       "         False Positives (%)  False Negatives (%)  \n",
       "positiv             6.666667            20.000000  \n",
       "neutral            23.333333             6.666667  \n",
       "negativ            13.333333            16.666667  "
      ]
     },
     "execution_count": 56,
     "metadata": {},
     "output_type": "execute_result"
    }
   ],
   "source": [
    "de_matrix = c_matrix(df_de)\n",
    "de_matrix"
   ]
  },
  {
   "cell_type": "code",
   "execution_count": 57,
   "metadata": {},
   "outputs": [
    {
     "data": {
      "text/html": [
       "<div>\n",
       "<style scoped>\n",
       "    .dataframe tbody tr th:only-of-type {\n",
       "        vertical-align: middle;\n",
       "    }\n",
       "\n",
       "    .dataframe tbody tr th {\n",
       "        vertical-align: top;\n",
       "    }\n",
       "\n",
       "    .dataframe thead th {\n",
       "        text-align: right;\n",
       "    }\n",
       "</style>\n",
       "<table border=\"1\" class=\"dataframe\">\n",
       "  <thead>\n",
       "    <tr style=\"text-align: right;\">\n",
       "      <th></th>\n",
       "      <th>positiv</th>\n",
       "      <th>neutral</th>\n",
       "      <th>negativ</th>\n",
       "      <th>True Positives (%)</th>\n",
       "      <th>True Negatives (%)</th>\n",
       "      <th>False Positives (%)</th>\n",
       "      <th>False Negatives (%)</th>\n",
       "    </tr>\n",
       "  </thead>\n",
       "  <tbody>\n",
       "    <tr>\n",
       "      <th>positiv</th>\n",
       "      <td>2</td>\n",
       "      <td>5</td>\n",
       "      <td>6</td>\n",
       "      <td>6.666667</td>\n",
       "      <td>50.000000</td>\n",
       "      <td>6.666667</td>\n",
       "      <td>36.666667</td>\n",
       "    </tr>\n",
       "    <tr>\n",
       "      <th>neutral</th>\n",
       "      <td>2</td>\n",
       "      <td>8</td>\n",
       "      <td>3</td>\n",
       "      <td>26.666667</td>\n",
       "      <td>40.000000</td>\n",
       "      <td>16.666667</td>\n",
       "      <td>16.666667</td>\n",
       "    </tr>\n",
       "    <tr>\n",
       "      <th>negativ</th>\n",
       "      <td>0</td>\n",
       "      <td>0</td>\n",
       "      <td>4</td>\n",
       "      <td>13.333333</td>\n",
       "      <td>56.666667</td>\n",
       "      <td>30.000000</td>\n",
       "      <td>0.000000</td>\n",
       "    </tr>\n",
       "  </tbody>\n",
       "</table>\n",
       "</div>"
      ],
      "text/plain": [
       "         positiv  neutral  negativ  True Positives (%)  True Negatives (%)  \\\n",
       "positiv        2        5        6            6.666667           50.000000   \n",
       "neutral        2        8        3           26.666667           40.000000   \n",
       "negativ        0        0        4           13.333333           56.666667   \n",
       "\n",
       "         False Positives (%)  False Negatives (%)  \n",
       "positiv             6.666667            36.666667  \n",
       "neutral            16.666667            16.666667  \n",
       "negativ            30.000000             0.000000  "
      ]
     },
     "execution_count": 57,
     "metadata": {},
     "output_type": "execute_result"
    }
   ],
   "source": [
    "en_matrix = c_matrix(df_en)\n",
    "en_matrix"
   ]
  },
  {
   "cell_type": "code",
   "execution_count": 58,
   "metadata": {},
   "outputs": [
    {
     "data": {
      "text/html": [
       "<div>\n",
       "<style scoped>\n",
       "    .dataframe tbody tr th:only-of-type {\n",
       "        vertical-align: middle;\n",
       "    }\n",
       "\n",
       "    .dataframe tbody tr th {\n",
       "        vertical-align: top;\n",
       "    }\n",
       "\n",
       "    .dataframe thead th {\n",
       "        text-align: right;\n",
       "    }\n",
       "</style>\n",
       "<table border=\"1\" class=\"dataframe\">\n",
       "  <thead>\n",
       "    <tr style=\"text-align: right;\">\n",
       "      <th></th>\n",
       "      <th>positiv</th>\n",
       "      <th>neutral</th>\n",
       "      <th>negativ</th>\n",
       "      <th>True Positives (%)</th>\n",
       "      <th>True Negatives (%)</th>\n",
       "      <th>False Positives (%)</th>\n",
       "      <th>False Negatives (%)</th>\n",
       "    </tr>\n",
       "  </thead>\n",
       "  <tbody>\n",
       "    <tr>\n",
       "      <th>positiv</th>\n",
       "      <td>0</td>\n",
       "      <td>5</td>\n",
       "      <td>5</td>\n",
       "      <td>0.000000</td>\n",
       "      <td>66.666667</td>\n",
       "      <td>0.000000</td>\n",
       "      <td>33.333333</td>\n",
       "    </tr>\n",
       "    <tr>\n",
       "      <th>neutral</th>\n",
       "      <td>0</td>\n",
       "      <td>8</td>\n",
       "      <td>2</td>\n",
       "      <td>26.666667</td>\n",
       "      <td>33.333333</td>\n",
       "      <td>33.333333</td>\n",
       "      <td>6.666667</td>\n",
       "    </tr>\n",
       "    <tr>\n",
       "      <th>negativ</th>\n",
       "      <td>0</td>\n",
       "      <td>5</td>\n",
       "      <td>5</td>\n",
       "      <td>16.666667</td>\n",
       "      <td>43.333333</td>\n",
       "      <td>23.333333</td>\n",
       "      <td>16.666667</td>\n",
       "    </tr>\n",
       "  </tbody>\n",
       "</table>\n",
       "</div>"
      ],
      "text/plain": [
       "         positiv  neutral  negativ  True Positives (%)  True Negatives (%)  \\\n",
       "positiv        0        5        5            0.000000           66.666667   \n",
       "neutral        0        8        2           26.666667           33.333333   \n",
       "negativ        0        5        5           16.666667           43.333333   \n",
       "\n",
       "         False Positives (%)  False Negatives (%)  \n",
       "positiv             0.000000            33.333333  \n",
       "neutral            33.333333             6.666667  \n",
       "negativ            23.333333            16.666667  "
      ]
     },
     "execution_count": 58,
     "metadata": {},
     "output_type": "execute_result"
    }
   ],
   "source": [
    "es_matrix = c_matrix(df_es)\n",
    "es_matrix"
   ]
  },
  {
   "cell_type": "markdown",
   "metadata": {},
   "source": [
    "# Save data"
   ]
  },
  {
   "cell_type": "code",
   "execution_count": 59,
   "metadata": {},
   "outputs": [],
   "source": [
    "# Concatenate the dataframes vertically\n",
    "#merged_df = pd.concat([df_de, df_en, df_es], ignore_index=True)\n",
    "\n",
    "# Print the merged dataframe\n",
    "#print(merged_df)"
   ]
  },
  {
   "cell_type": "code",
   "execution_count": 60,
   "metadata": {},
   "outputs": [],
   "source": [
    "# Create the folder if it doesn't exist\n",
    "#folder_name = 'data'\n",
    "\n",
    "# Define the file path for saving the CSV\n",
    "#file_name = 'data_sentiment_final.csv'\n",
    "#file_path = os.path.join(folder_name, file_name)\n",
    "\n",
    "# Convert the dataframe to CSV and save it\n",
    "#merged_df.to_csv(file_path, index=False)"
   ]
  }
 ],
 "metadata": {
  "kernelspec": {
   "display_name": "Python 3.9.6 64-bit",
   "language": "python",
   "name": "python3"
  },
  "language_info": {
   "codemirror_mode": {
    "name": "ipython",
    "version": 3
   },
   "file_extension": ".py",
   "mimetype": "text/x-python",
   "name": "python",
   "nbconvert_exporter": "python",
   "pygments_lexer": "ipython3",
   "version": "3.9.6"
  },
  "orig_nbformat": 4,
  "vscode": {
   "interpreter": {
    "hash": "31f2aee4e71d21fbe5cf8b01ff0e069b9275f58929596ceb00d14d90e3e16cd6"
   }
  }
 },
 "nbformat": 4,
 "nbformat_minor": 2
}
