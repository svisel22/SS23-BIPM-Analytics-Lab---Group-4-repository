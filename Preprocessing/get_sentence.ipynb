{
 "cells": [
  {
   "cell_type": "code",
   "execution_count": 309,
   "metadata": {},
   "outputs": [],
   "source": [
    "import pandas as pd\n",
    "import re\n",
    "import regex as re\n",
    "from utils import find_lines_with_player, name_wordgroups\n",
    "import numpy as np\n"
   ]
  },
  {
   "cell_type": "code",
   "execution_count": 310,
   "metadata": {},
   "outputs": [],
   "source": [
    "def name_wordgroups_player(df):\n",
    "    '''\n",
    "    Function to match first and surname to just last name\n",
    "    '''\n",
    "    # create patterns which should be matched \n",
    "    # first lastname and firstname should both result in just lastname\n",
    "    pattern_match2d = np.array([[r\"\\b(mitchel bakker|mitchel)\\b\", 'bakker'], \n",
    "                                [r\"\\b(xabi alonso|xabi)\\b\", 'alonso'], \n",
    "                                [r\"\\b(exequiel palacios|exequiel)\\b\", 'palacios'],\n",
    "                                [r\"\\b(nadiem amiri|nadiem)\\b\", 'amiri'],\n",
    "                                [r\"\\b(kerem demirbay|kerem)\\b\", 'demirbay'],\n",
    "                                [r\"\\b(robert andrich|robert)\\b\", 'andrich'],\n",
    "                                [r\"\\b(exequiel palacios|exequiel)\\b\", 'palacios'],\n",
    "                                [r\"\\b(piero hincapie|piero hincapié|piero)\\b\", 'hincapie'],\n",
    "                                [r\"\\b(jeremie frimpong|jeremie)\\b\", 'frimpong'],\n",
    "                                [r\"\\b(jonathan tah|jonathan)\\b\", 'tah'],\n",
    "                                [r\"\\b(moussa diaby|moussa)\\b\", 'diaby'],\n",
    "                                [r\"\\b(mykhaylo mudryk|mykhaylo)\\b\", 'mudryk'],\n",
    "                                [r\"\\b(amine adli|amine)\\b\", 'adli'],\n",
    "                                [r\"\\b(florian wirtz|florian)\\b\", 'wirtz'],\n",
    "                                [r\"\\b(jose mourinho|jose)\\b\", 'mourinho'],     \n",
    "                                #other wordgroups\n",
    "                                [r\"\\b(europa league)\\b\", 'europaleague'],\n",
    "                                [r\"\\b(champions league)\\b\", 'championsleague'],\n",
    "                                [r\"\\b(bayer leverkusen|bayer|leverkusen|leverkusens)\\b\", 'bayerleverkusen']\n",
    "                                ])\n",
    "\n",
    "    # do the pattern matching for each player\n",
    "    for pattern, player in pattern_match2d:\n",
    "        df['player'] = df['player'].apply(lambda x: re.sub(pattern, str(player), str(x)))\n",
    "\n",
    "    return df"
   ]
  },
  {
   "cell_type": "code",
   "execution_count": 311,
   "metadata": {},
   "outputs": [],
   "source": [
    "def extract_sentence(df):\n",
    "    player_info_sentences = []\n",
    "    for idx, row in df.iterrows():\n",
    "        player = row['player']\n",
    "        entry = row['data']\n",
    "        sentences = re.split('\\. ', entry)\n",
    "        found_sentence = False\n",
    "        for sentence in sentences:\n",
    "            if player in sentence:\n",
    "                player_info_sentences.append(sentence)\n",
    "                found_sentence = True\n",
    "                break\n",
    "        if not found_sentence:\n",
    "            player_info_sentences.append('')\n",
    "    \n",
    "    df['sentence'] = player_info_sentences\n",
    "    return df\n"
   ]
  },
  {
   "cell_type": "code",
   "execution_count": 312,
   "metadata": {},
   "outputs": [],
   "source": [
    "# Load the CSV file into a DataFrame\n",
    "df_de = pd.read_csv('../Preprocessing/data_clean/de_clean_1.csv')\n",
    "df_en = pd.read_csv('../Preprocessing/data_clean/en_clean_1.csv')\n",
    "df_es = pd.read_csv('../Preprocessing/data_clean/es_clean_1.csv')"
   ]
  },
  {
   "cell_type": "code",
   "execution_count": 313,
   "metadata": {},
   "outputs": [],
   "source": [
    "# Keep paragraph where the player name is found\n",
    "df_de = find_lines_with_player(df_de, df_de['player'].unique(),n_lines=1)\n",
    "df_en = find_lines_with_player(df_en, df_en['player'].unique(),n_lines=1)\n",
    "df_es = find_lines_with_player(df_es, df_es['player'].unique(),n_lines=1)"
   ]
  },
  {
   "cell_type": "code",
   "execution_count": 314,
   "metadata": {},
   "outputs": [],
   "source": [
    "# Change names in the text to unify player name to last name\n",
    "df_de = name_wordgroups(df_de)\n",
    "df_en = name_wordgroups(df_en)\n",
    "df_es = name_wordgroups(df_es)"
   ]
  },
  {
   "cell_type": "code",
   "execution_count": 315,
   "metadata": {},
   "outputs": [],
   "source": [
    "# Change names in player column to keep only last name\n",
    "df_de = name_wordgroups_player(df_de)\n",
    "df_en = name_wordgroups_player(df_en)\n",
    "df_es = name_wordgroups_player(df_es)"
   ]
  },
  {
   "cell_type": "code",
   "execution_count": 316,
   "metadata": {},
   "outputs": [],
   "source": [
    "# Extract sentence\n",
    "df_de = extract_sentence(df_de)\n",
    "df_en = extract_sentence(df_en)\n",
    "df_es = extract_sentence(df_es)"
   ]
  },
  {
   "cell_type": "code",
   "execution_count": 317,
   "metadata": {},
   "outputs": [],
   "source": [
    "# copy sentence column into data and remove sentence\n",
    "df_de['data']= df_de['sentence']\n",
    "df_de.drop('sentence', axis=1, inplace=True)\n",
    "df_en['data']= df_en['sentence']\n",
    "df_en.drop('sentence', axis=1, inplace=True)\n",
    "df_es['data']= df_es['sentence']\n",
    "df_es.drop('sentence', axis=1, inplace=True)"
   ]
  },
  {
   "cell_type": "code",
   "execution_count": 318,
   "metadata": {},
   "outputs": [],
   "source": [
    "# Create the folder if it doesn't exist\n",
    "folder_name = 'data_clean'\n",
    "\n",
    "# Define the file path for saving the CSV\n",
    "file_name = 'de_clean_1-1.csv'\n",
    "file_path = os.path.join(folder_name, file_name)\n",
    "\n",
    "# Convert the dataframe to CSV and save it\n",
    "df_de.to_csv(file_path, index=False)"
   ]
  },
  {
   "cell_type": "code",
   "execution_count": 319,
   "metadata": {},
   "outputs": [],
   "source": [
    "# Create the folder if it doesn't exist\n",
    "folder_name = 'data_clean'\n",
    "\n",
    "# Define the file path for saving the CSV\n",
    "file_name = 'en_clean_1-1.csv'\n",
    "file_path = os.path.join(folder_name, file_name)\n",
    "\n",
    "# Convert the dataframe to CSV and save it\n",
    "df_en.to_csv(file_path, index=False)"
   ]
  },
  {
   "cell_type": "code",
   "execution_count": 320,
   "metadata": {},
   "outputs": [],
   "source": [
    "# Create the folder if it doesn't exist\n",
    "folder_name = 'data_clean'\n",
    "\n",
    "# Define the file path for saving the CSV\n",
    "file_name = 'es_clean_1-1.csv'\n",
    "file_path = os.path.join(folder_name, file_name)\n",
    "\n",
    "# Convert the dataframe to CSV and save it\n",
    "df_es.to_csv(file_path, index=False)"
   ]
  }
 ],
 "metadata": {
  "kernelspec": {
   "display_name": "Python 3.9.6 64-bit",
   "language": "python",
   "name": "python3"
  },
  "language_info": {
   "codemirror_mode": {
    "name": "ipython",
    "version": 3
   },
   "file_extension": ".py",
   "mimetype": "text/x-python",
   "name": "python",
   "nbconvert_exporter": "python",
   "pygments_lexer": "ipython3",
   "version": "3.9.6"
  },
  "orig_nbformat": 4,
  "vscode": {
   "interpreter": {
    "hash": "31f2aee4e71d21fbe5cf8b01ff0e069b9275f58929596ceb00d14d90e3e16cd6"
   }
  }
 },
 "nbformat": 4,
 "nbformat_minor": 2
}
