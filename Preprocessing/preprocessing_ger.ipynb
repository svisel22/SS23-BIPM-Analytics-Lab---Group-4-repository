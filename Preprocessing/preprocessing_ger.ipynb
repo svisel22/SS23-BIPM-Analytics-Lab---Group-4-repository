{
 "cells": [
  {
   "cell_type": "code",
   "execution_count": 10,
   "metadata": {},
   "outputs": [
    {
     "name": "stdout",
     "output_type": "stream",
     "text": [
      "\u001b[33mDEPRECATION: Configuring installation scheme with distutils config files is deprecated and will no longer work in the near future. If you are using a Homebrew or Linuxbrew Python, please see discussion at https://github.com/Homebrew/homebrew-core/issues/76621\u001b[0m\u001b[33m\n",
      "\u001b[0mRequirement already satisfied: scikit-learn in /opt/homebrew/lib/python3.9/site-packages (1.2.2)\n",
      "Requirement already satisfied: numpy>=1.17.3 in /opt/homebrew/lib/python3.9/site-packages (from scikit-learn) (1.24.3)\n",
      "Requirement already satisfied: scipy>=1.3.2 in /opt/homebrew/lib/python3.9/site-packages (from scikit-learn) (1.10.1)\n",
      "Requirement already satisfied: joblib>=1.1.1 in /opt/homebrew/lib/python3.9/site-packages (from scikit-learn) (1.2.0)\n",
      "Requirement already satisfied: threadpoolctl>=2.0.0 in /opt/homebrew/lib/python3.9/site-packages (from scikit-learn) (3.1.0)\n",
      "\u001b[33mDEPRECATION: Configuring installation scheme with distutils config files is deprecated and will no longer work in the near future. If you are using a Homebrew or Linuxbrew Python, please see discussion at https://github.com/Homebrew/homebrew-core/issues/76621\u001b[0m\u001b[33m\n",
      "\u001b[0mNote: you may need to restart the kernel to use updated packages.\n"
     ]
    }
   ],
   "source": [
    "%pip install scikit-learn\n"
   ]
  },
  {
   "cell_type": "code",
   "execution_count": 11,
   "metadata": {},
   "outputs": [],
   "source": [
    "import pandas as pd\n",
    "import re\n",
    "from nltk.corpus import stopwords\n",
    "from sklearn.feature_extraction.text import CountVectorizer\n",
    "from gensim.parsing.preprocessing import STOPWORDS, strip_tags, strip_numeric, strip_punctuation, strip_multiple_whitespaces, remove_stopwords, strip_short, stem_text\n",
    "import numpy as np\n",
    "import sys\n",
    "sys.path.append('../')\n",
    "from utils import remove_similar_rows, find_lines_with_player\n"
   ]
  },
  {
   "cell_type": "code",
   "execution_count": 12,
   "metadata": {},
   "outputs": [],
   "source": [
    "url = 'https://raw.githubusercontent.com/svisel22/SS23-BIPM-Analytics-Lab---Group-4-repository/main/data_files/all_data_v3.csv'\n",
    "df = pd.read_csv(url)\n"
   ]
  },
  {
   "cell_type": "code",
   "execution_count": 13,
   "metadata": {},
   "outputs": [],
   "source": [
    "# Filter out the German data and reindex\n",
    "df_ger = df[df[\"language\"] == \"de\"]\n",
    "\n",
    "\n",
    "df_ger = df_ger.reset_index(drop=True)"
   ]
  },
  {
   "cell_type": "code",
   "execution_count": 14,
   "metadata": {},
   "outputs": [],
   "source": [
    "# Remove the similiar rows (The Function is imported from utils on top)\n",
    "df = remove_similar_rows(pd.DataFrame(df_ger['data']), df_ger)\n",
    "\n",
    "data_lower = df.copy()\n",
    "\n",
    "data_lower['data'] = data_lower['data'].str.lower()\n",
    "data_lower['player'] = data_lower['player'].str.lower()\n",
    "data_lower.head()\n",
    "\n",
    "data_wo_pattern = data_lower.copy()\n",
    "\n",
    "data_wo_pattern['data'] = data_wo_pattern['data'].apply(lambda x: re.sub(r\"^{\\'content\\': \\'\", \"\", str(x)))\n",
    "data_wo_pattern['data'] = data_wo_pattern['data'].apply(lambda x: re.sub(r\"\\\\nAdvertisement\\\\nAdvertisement\\\\nAdvertisement|nutze kicker'\\}$\", \"\", str(x)))\n"
   ]
  },
  {
   "cell_type": "code",
   "execution_count": null,
   "metadata": {},
   "outputs": [],
   "source": [
    "#data_wo_pattern['data'] = data_wo_pattern['data'].apply(lambda x: re.sub(r'^\\s*nutze kicker.*?\\.', \"\", str(x), flags=re.M))\n"
   ]
  },
  {
   "cell_type": "code",
   "execution_count": null,
   "metadata": {},
   "outputs": [
    {
     "data": {
      "text/plain": [
       "'nutze kicker auf seinen digitalen plattformen wie gewohnt mit werbung und tracking. die zustimmung kann jederzeit für die zukunft widerrufen werden. details zu werbe- und analyse-trackern findest du in unserer datenschutzerklärung oder bei cookies & tracking am ende jeder seite.\\\\nmit dem pur-abo nutzt du kicker auf seinen digitalen plattformen ohne werbetracking und praktisch werbefrei.\\\\nnur €2,49 im monat\\\\nbereits pur-abonnent? hier anmelden.\\\\nalle antworten zum pur-abo findest du hier.\\\\nwerbung und tracking: um dir relevante inhalte und personalisierte werbung anzubieten, setzen wir cookies und andere technologien ein. damit messen wir, wie und womit du unsere angebote nutzt. diese daten geben wir auch an dritte weiter. wir greifen dabei auf dein endgerät zu, speichern cookies oder sonstige informationen und wir oder dritte können mit diesen sowie mit persönlichen identifikatoren (z.b. geräte-kennungen oder ip-adressen) und basierend auf deinem individuellen nutzungsverhalten ...\\\\nhinweis zur verarbeitung deiner auf dieser webseite erhobenen daten in den usa: wir weisen dich darauf hin, dass bezogen auf einzelne cookies und dienstleister eine verarbeitung deiner daten in den usa erfolgt. die usa werden vom europäischen gerichtshof als ein land mit einem nach eu-standards unzureichendem datenschutzniveau eingeschätzt. es besteht insbesondere das risiko, dass deine daten durch us-behörden, zu kontroll- und zu überwachungszwecken, möglicherweise auch ohne rechtsbehelfsmöglichkeiten, verarbeitet werden können.\\\\nsechser droht nach viereinhalb monaten pause bitterer abschied aus leverkusen\\\\nanfangs rechnete man bei bayer 04 mit ein paar wochen ausfallzeit für charles aranguiz. doch nach nun viereinhalb monaten pause ist eine rückkehr des strategen immer noch nicht absehbar. der chilene, der ab dem sommer in brasilien spielen wird, steht vor einem bitteren abschied.\\\\nmitte oktober spielte charles aranguiz zuletzt für bayer.\\\\r\\\\n\\\\r\\\\n                                        imago/jan huebner\\\\nes war \"nur\" ein muskelfaserriss, den charles aranguiz mitte oktober bei der 1:5-niederlage von bayer 04 bei eintracht frankfurt erlitt.  doch die nachwirkungen dieser verletzung sind für den chronisch an patella- und achillessehnenproblemen leidenden mittelfeldspieler dramatisch.\\\\nmehr als viereinhalb monaten kämpft der 33-jährige inzwischen um sein comeback. diverse versuche auf den platz zurückzukehren, wie zum beispiel anfang dezember und vor ein paar wochen, schlugen fehl. immer wieder musste der chilenische nationalspieler zurück in die reha.\\\\nund die aussagen von xabi alonso über den profi, der seit acht jahren das trikot von bayer 04 trägt, sind alles andere als mut machend. \"wir wissen nicht, wie lange er noch verletzt ist\", sagte der trainer am freitag, \"es ist nicht klar, wann er wieder mit der mannschaft trainieren kann.\"\\\\nprognosen möchte niemand abgeben, wann und ob es für aranguiz in leverkusen nochmal für einen einsatz reicht, der im sommer zu seinem brasilianischen ex-klub internacional porto alegre zurückkehren wird. \"er hatte nochmal ein problem. er ist in dem prozess, dass es besser wird, aber für mich ist es schwer zu sagen, wann er trainieren kann\", zeigt sich auch xabi alonso ratlos.\\\\naranguiz, in bestform immer ein schlüsselspieler bei bayer 04, droht immer konkreter ein bitterer abschied aus leverkusen. \"hoffentlich kann er nochmal für uns spielen bis zum ende der saison\", wünscht sich sein trainer. doch dass der defensive mittelfeldspieler nochmal ein echter faktor wird, ist nahezu undenkbar.\\\\ndafür erscheint seine verletzungspause schon zu lang. zudem ist die konkurrenzsituation auf der doppelsechs gegen die seit woche voll im saft stehenden exequiel palacios, nadiem amiri, kerem demirbay und robert andrich unter diesen voraussetzungen eine extrem schwierige für aranguiz.\\\\nzumal auch der zuletzt aufgrund der personellen engpässe in der innenverteidigung zentral in der abwehrkette eingesetzte andrich künftig weiter im mittelfeld auflaufen dürfte. auch wenn xabi alonso das vorrücken des 28-jährigen auf die sechs am sonntag gegen hertha bsc nicht als sicher einstufen möchte.\\\\n\"nein, das ist nicht klar. er kann in dieser position (in der abwehr, anm. d. red.) spielen. das ist gut. es war am sonntag ein experiment. aber es gab dann den beweis, dass er die rolle gut spielen kann. es ist gut, manchmal diese möglichkeit zu haben\", erklärte der trainer, \"es ist auch für sonntag eine gute möglichkeit.\"\\\\nwohl nicht mehr als das übliche versteckspiel vor einer partie. sicher ist auf jeden fall: andrich wird immer seinen platz im team finden. für aranguiz erscheint dies als ein in dieser saison unerreichbarer status.\\\\nstephan von nocks\\\\nweitere angebote des olympia-verlags:\\'}'"
      ]
     },
     "execution_count": 5,
     "metadata": {},
     "output_type": "execute_result"
    }
   ],
   "source": [
    "data_wo_pattern['data'].iloc[1]"
   ]
  },
  {
   "attachments": {},
   "cell_type": "markdown",
   "metadata": {},
   "source": [
    "## Find sentences with Playername"
   ]
  },
  {
   "cell_type": "code",
   "execution_count": null,
   "metadata": {},
   "outputs": [],
   "source": [
    "data_with_playernames = find_lines_with_player(data_wo_pattern, data_wo_pattern['player'].unique())"
   ]
  },
  {
   "cell_type": "code",
   "execution_count": null,
   "metadata": {},
   "outputs": [
    {
     "data": {
      "text/plain": [
       "'glücksmoment! exequiel palacios hebt nach seinem tor zum 2:1 ab'"
      ]
     },
     "execution_count": 9,
     "metadata": {},
     "output_type": "execute_result"
    }
   ],
   "source": [
    "data_with_playernames['data'].iloc[0]"
   ]
  },
  {
   "attachments": {},
   "cell_type": "markdown",
   "metadata": {},
   "source": [
    "## Pattern Regex\n"
   ]
  },
  {
   "cell_type": "code",
   "execution_count": null,
   "metadata": {},
   "outputs": [],
   "source": [
    "patternlist = [\n",
    "    r'^\\s*nutze kicker.*?\\.',\n",
    "    r'^\\s*die zustimmung.*?\\.',\n",
    "    r'^\\s*details zu werbe-.*?\\.',\n",
    "    r'^\\s*\\\\nmit dem.*?\\.',\n",
    "    r'^\\s*\\\\nnur €2,49.*?\\.',\n",
    "    r'^\\s*\\\\nbereits pur-.*?\\.',\n",
    "    r'^\\s*\\\\nalle antworten.*?\\.',\n",
    "    r'^\\s*\\\\nwerbung.*?\\.',\n",
    "    r'^\\s*damit messen.*?\\.',\n",
    "    r'^\\s*diese daten .*?\\.', \n",
    "    r'^\\s*wir greifen .*?\\.', \n",
    "    r'^\\s*b..*?\\.', \n",
    "    r'^\\s*\\\\nhinweis.*?\\.',\n",
    "    r'^\\s*..\\\\nhinweis.*?\\.',\n",
    "    r'^\\s*die usa.*?\\.',\n",
    "    r'^\\s*es besteht.*?\\.',    \n",
    "    # add more patterns here\n",
    "]"
   ]
  },
  {
   "cell_type": "code",
   "execution_count": null,
   "metadata": {},
   "outputs": [],
   "source": [
    "for pattern in patternlist:\n",
    "\n",
    "    data_wo_pattern['data'] = data_wo_pattern['data'].apply(lambda x: re.sub(pattern, \"\", str(x), flags=re.M))\n"
   ]
  },
  {
   "attachments": {},
   "cell_type": "markdown",
   "metadata": {},
   "source": [
    "## Stopwords"
   ]
  },
  {
   "cell_type": "code",
   "execution_count": null,
   "metadata": {},
   "outputs": [],
   "source": [
    "german_stop_words = stopwords.words('german')\n",
    "\n",
    "# Create a list of stop words to remove \n",
    "stop_words_to_remove = ['nicht', 'nichts']\n",
    "\n",
    "# Remove the stop words to remove from the stop words list\n",
    "for word in stop_words_to_remove:\n",
    "  german_stop_words.remove(word)\n",
    "\n",
    "data_rm = df_ger.copy()\n",
    "\n",
    "# Define a function to apply remove_stopwords on a column\n",
    "def remove_stopwords_from_text(text):\n",
    "    return remove_stopwords(text, stopwords=german_stop_words)\n",
    "\n",
    "# Apply the remove_stopwords function to the 'text' column using the apply method\n",
    "data_rm['data'] = data_rm['data'].apply(remove_stopwords_from_text)\n"
   ]
  },
  {
   "cell_type": "code",
   "execution_count": null,
   "metadata": {},
   "outputs": [
    {
     "data": {
      "text/html": [
       "<div>\n",
       "<style scoped>\n",
       "    .dataframe tbody tr th:only-of-type {\n",
       "        vertical-align: middle;\n",
       "    }\n",
       "\n",
       "    .dataframe tbody tr th {\n",
       "        vertical-align: top;\n",
       "    }\n",
       "\n",
       "    .dataframe thead th {\n",
       "        text-align: right;\n",
       "    }\n",
       "</style>\n",
       "<table border=\"1\" class=\"dataframe\">\n",
       "  <thead>\n",
       "    <tr style=\"text-align: right;\">\n",
       "      <th></th>\n",
       "      <th>data</th>\n",
       "      <th>player</th>\n",
       "      <th>language</th>\n",
       "      <th>publishedAt</th>\n",
       "    </tr>\n",
       "  </thead>\n",
       "  <tbody>\n",
       "    <tr>\n",
       "      <th>0</th>\n",
       "      <td>{'content': 'Trainer Xabi Alonso mitgereisten ...</td>\n",
       "      <td>Exequiel Palacios</td>\n",
       "      <td>de</td>\n",
       "      <td>2023-02-24T09:33:31Z</td>\n",
       "    </tr>\n",
       "    <tr>\n",
       "      <th>1</th>\n",
       "      <td>{'content': 'Nutze kicker digitalen Plattforme...</td>\n",
       "      <td>Exequiel Palacios</td>\n",
       "      <td>de</td>\n",
       "      <td>2023-03-03T21:35:13Z</td>\n",
       "    </tr>\n",
       "    <tr>\n",
       "      <th>2</th>\n",
       "      <td>{'content': 'Nutze kicker digitalen Plattforme...</td>\n",
       "      <td>Exequiel Palacios</td>\n",
       "      <td>de</td>\n",
       "      <td>2023-03-07T11:34:39Z</td>\n",
       "    </tr>\n",
       "    <tr>\n",
       "      <th>3</th>\n",
       "      <td>{'content': 'Mitchel Bakker Mittwoch Abschluss...</td>\n",
       "      <td>Exequiel Palacios</td>\n",
       "      <td>de</td>\n",
       "      <td>2023-03-08T14:25:18Z</td>\n",
       "    </tr>\n",
       "    <tr>\n",
       "      <th>4</th>\n",
       "      <td>{'content': '© G+J Medien GmbH\\nZugang STERN P...</td>\n",
       "      <td>Exequiel Palacios</td>\n",
       "      <td>de</td>\n",
       "      <td>2023-03-09T19:36:53Z</td>\n",
       "    </tr>\n",
       "  </tbody>\n",
       "</table>\n",
       "</div>"
      ],
      "text/plain": [
       "                                                data             player   \n",
       "0  {'content': 'Trainer Xabi Alonso mitgereisten ...  Exequiel Palacios  \\\n",
       "1  {'content': 'Nutze kicker digitalen Plattforme...  Exequiel Palacios   \n",
       "2  {'content': 'Nutze kicker digitalen Plattforme...  Exequiel Palacios   \n",
       "3  {'content': 'Mitchel Bakker Mittwoch Abschluss...  Exequiel Palacios   \n",
       "4  {'content': '© G+J Medien GmbH\\nZugang STERN P...  Exequiel Palacios   \n",
       "\n",
       "  language           publishedAt  \n",
       "0       de  2023-02-24T09:33:31Z  \n",
       "1       de  2023-03-03T21:35:13Z  \n",
       "2       de  2023-03-07T11:34:39Z  \n",
       "3       de  2023-03-08T14:25:18Z  \n",
       "4       de  2023-03-09T19:36:53Z  "
      ]
     },
     "execution_count": 214,
     "metadata": {},
     "output_type": "execute_result"
    }
   ],
   "source": [
    "data_rm.head()"
   ]
  }
 ],
 "metadata": {
  "kernelspec": {
   "display_name": "Python 3.9.6 64-bit",
   "language": "python",
   "name": "python3"
  },
  "language_info": {
   "codemirror_mode": {
    "name": "ipython",
    "version": 3
   },
   "file_extension": ".py",
   "mimetype": "text/x-python",
   "name": "python",
   "nbconvert_exporter": "python",
   "pygments_lexer": "ipython3",
   "version": "3.9.6"
  },
  "orig_nbformat": 4,
  "vscode": {
   "interpreter": {
    "hash": "31f2aee4e71d21fbe5cf8b01ff0e069b9275f58929596ceb00d14d90e3e16cd6"
   }
  }
 },
 "nbformat": 4,
 "nbformat_minor": 2
}
