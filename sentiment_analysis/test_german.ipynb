{
 "cells": [
  {
   "cell_type": "code",
   "execution_count": 25,
   "metadata": {},
   "outputs": [],
   "source": [
    "from transformers import AutoTokenizer, AutoModelForSequenceClassification\n",
    "import torch\n",
    "import requests\n",
    "from bs4 import BeautifulSoup\n",
    "import re\n",
    "import numpy as np\n",
    "import pandas as pd\n"
   ]
  },
  {
   "cell_type": "markdown",
   "metadata": {},
   "source": [
    "# Load Data"
   ]
  },
  {
   "cell_type": "code",
   "execution_count": 30,
   "metadata": {},
   "outputs": [],
   "source": [
    "# Load the CSV file into a DataFrame\n",
    "df_de = pd.read_csv('../Preprocessing/data_clean/de_clean_1.csv')"
   ]
  },
  {
   "cell_type": "markdown",
   "metadata": {},
   "source": [
    "### Fix DE"
   ]
  },
  {
   "cell_type": "code",
   "execution_count": 31,
   "metadata": {},
   "outputs": [],
   "source": [
    "#for DE datasate drop empty lines\n",
    "df_de = df_de.dropna(subset=['data'])"
   ]
  },
  {
   "cell_type": "markdown",
   "metadata": {},
   "source": [
    "# Sentiment analysis full text"
   ]
  },
  {
   "cell_type": "code",
   "execution_count": 32,
   "metadata": {},
   "outputs": [
    {
     "name": "stdout",
     "output_type": "stream",
     "text": [
      "                                                  data             player  \\\n",
      "0    trainer xabi alonso mitgereisten fans monaco f...  exequiel palacios   \n",
      "1    sechser droht viereinhalb monaten pause bitter...  exequiel palacios   \n",
      "2    leverkusens sechser erklart budapest spiel jun...  exequiel palacios   \n",
      "3    mitchel bakker mittwoch abschluss training lev...  exequiel palacios   \n",
      "5    warum sehe faz net nicht permalink aktuelle na...  exequiel palacios   \n",
      "..                                                 ...                ...   \n",
      "627  bayer leverkusen wehrt europa league lange gut...     piero hincapie   \n",
      "628  xabi alonso taktik duell alten lehrmeister jos...     piero hincapie   \n",
      "629  trotz pleite halbfinal hinspiel rom gibt lever...     piero hincapie   \n",
      "630  hitzigen aufeinandertreffen stadio olimpico na...     piero hincapie   \n",
      "631  hitzigen aufeinandertreffen stadio olimpico na...     piero hincapie   \n",
      "\n",
      "    language           publishedAt sentiment  \n",
      "0         de  2023-02-24T09:33:31Z  negative  \n",
      "1         de  2023-03-03T21:35:13Z  negative  \n",
      "2         de  2023-03-07T11:34:39Z  negative  \n",
      "3         de  2023-03-08T14:25:18Z  negative  \n",
      "5         de  2023-03-09T19:53:46Z  negative  \n",
      "..       ...                   ...       ...  \n",
      "627       de  2023-05-12T10:02:12Z  negative  \n",
      "628       de  2023-05-11T21:17:00Z  negative  \n",
      "629       de  2023-05-11T21:09:16Z  negative  \n",
      "630       de  2023-05-11T20:58:58Z  negative  \n",
      "631       de  2023-05-11T20:57:28Z  negative  \n",
      "\n",
      "[622 rows x 5 columns]\n"
     ]
    }
   ],
   "source": [
    "def perform_sentiment_analysis(df):\n",
    "    # Load the tokenizer and model\n",
    "    tokenizer = AutoTokenizer.from_pretrained(\"oliverguhr/german-sentiment-bert\")\n",
    "    model = AutoModelForSequenceClassification.from_pretrained(\"oliverguhr/german-sentiment-bert\")\n",
    "\n",
    "    # Create an empty list to store the sentiment scores\n",
    "    sentiment_scores = []\n",
    "\n",
    "    # Iterate over the 'data' column in the DataFrame\n",
    "    for text in df['data']:\n",
    "        # Tokenize the input text\n",
    "        tokens = tokenizer.encode_plus(text, padding=\"max_length\", truncation=True, max_length=128,\n",
    "                                       return_tensors=\"pt\")\n",
    "\n",
    "        # Perform the sentiment analysis\n",
    "        with torch.no_grad():\n",
    "            logits = model(**tokens)[0]\n",
    "\n",
    "        # Convert logits to predicted label (positive/negative)\n",
    "        predicted_label = torch.argmax(logits, dim=1).item()\n",
    "        sentiment = \"positive\" if predicted_label == 1 else \"negative\"\n",
    "\n",
    "        # Append the sentiment score to the list\n",
    "        sentiment_scores.append(sentiment)\n",
    "\n",
    "    # Add the sentiment scores as a new column in the DataFrame\n",
    "    df['sentiment'] = sentiment_scores\n",
    "\n",
    "    return df\n",
    "\n",
    "\n",
    "# Perform sentiment analysis on the DataFrame\n",
    "df = perform_sentiment_analysis(df_de)\n",
    "\n",
    "# Print the updated DataFrame\n",
    "print(df)"
   ]
  },
  {
   "cell_type": "markdown",
   "metadata": {},
   "source": [
    "# Percentage negative"
   ]
  },
  {
   "cell_type": "code",
   "execution_count": 38,
   "metadata": {},
   "outputs": [
    {
     "data": {
      "text/plain": [
       "0.9517684887459807"
      ]
     },
     "execution_count": 38,
     "metadata": {},
     "output_type": "execute_result"
    }
   ],
   "source": [
    "df[df['sentiment'] == 'negative'].shape[0]/df.shape[0]"
   ]
  },
  {
   "cell_type": "markdown",
   "metadata": {},
   "source": [
    "# Analysis only Player"
   ]
  },
  {
   "cell_type": "code",
   "execution_count": 39,
   "metadata": {},
   "outputs": [],
   "source": [
    "def extract_sentence(df):\n",
    "    df['short'] = ''\n",
    "    \n",
    "    for index, row in df.iterrows():\n",
    "        player = row['player']\n",
    "        data = str(row['data'])  # Convert data to string\n",
    "        \n",
    "        # Find the sentence containing player's information\n",
    "        sentences = data.split('.')\n",
    "        for sentence in sentences:\n",
    "            if player.lower() in sentence.lower():\n",
    "                df.at[index, 'short'] = sentence.strip()\n",
    "                break\n",
    "    \n",
    "    return df"
   ]
  },
  {
   "cell_type": "markdown",
   "metadata": {},
   "source": [
    "### Create short column"
   ]
  },
  {
   "cell_type": "code",
   "execution_count": 40,
   "metadata": {},
   "outputs": [
    {
     "data": {
      "text/html": [
       "<div>\n",
       "<style scoped>\n",
       "    .dataframe tbody tr th:only-of-type {\n",
       "        vertical-align: middle;\n",
       "    }\n",
       "\n",
       "    .dataframe tbody tr th {\n",
       "        vertical-align: top;\n",
       "    }\n",
       "\n",
       "    .dataframe thead th {\n",
       "        text-align: right;\n",
       "    }\n",
       "</style>\n",
       "<table border=\"1\" class=\"dataframe\">\n",
       "  <thead>\n",
       "    <tr style=\"text-align: right;\">\n",
       "      <th></th>\n",
       "      <th>data</th>\n",
       "      <th>player</th>\n",
       "      <th>language</th>\n",
       "      <th>publishedAt</th>\n",
       "      <th>sentiment</th>\n",
       "      <th>short</th>\n",
       "    </tr>\n",
       "  </thead>\n",
       "  <tbody>\n",
       "    <tr>\n",
       "      <th>0</th>\n",
       "      <td>trainer xabi alonso mitgereisten fans monaco f...</td>\n",
       "      <td>exequiel palacios</td>\n",
       "      <td>de</td>\n",
       "      <td>2023-02-24T09:33:31Z</td>\n",
       "      <td>negative</td>\n",
       "      <td>trainer xabi alonso mitgereisten fans monaco f...</td>\n",
       "    </tr>\n",
       "    <tr>\n",
       "      <th>1</th>\n",
       "      <td>sechser droht viereinhalb monaten pause bitter...</td>\n",
       "      <td>exequiel palacios</td>\n",
       "      <td>de</td>\n",
       "      <td>2023-03-03T21:35:13Z</td>\n",
       "      <td>negative</td>\n",
       "      <td>sechser droht viereinhalb monaten pause bitter...</td>\n",
       "    </tr>\n",
       "    <tr>\n",
       "      <th>2</th>\n",
       "      <td>leverkusens sechser erklart budapest spiel jun...</td>\n",
       "      <td>exequiel palacios</td>\n",
       "      <td>de</td>\n",
       "      <td>2023-03-07T11:34:39Z</td>\n",
       "      <td>negative</td>\n",
       "      <td>leverkusens sechser erklart budapest spiel jun...</td>\n",
       "    </tr>\n",
       "    <tr>\n",
       "      <th>3</th>\n",
       "      <td>mitchel bakker mittwoch abschluss training lev...</td>\n",
       "      <td>exequiel palacios</td>\n",
       "      <td>de</td>\n",
       "      <td>2023-03-08T14:25:18Z</td>\n",
       "      <td>negative</td>\n",
       "      <td>mitchel bakker mittwoch abschluss training lev...</td>\n",
       "    </tr>\n",
       "    <tr>\n",
       "      <th>5</th>\n",
       "      <td>warum sehe faz net nicht permalink aktuelle na...</td>\n",
       "      <td>exequiel palacios</td>\n",
       "      <td>de</td>\n",
       "      <td>2023-03-09T19:53:46Z</td>\n",
       "      <td>negative</td>\n",
       "      <td>warum sehe faz net nicht permalink aktuelle na...</td>\n",
       "    </tr>\n",
       "    <tr>\n",
       "      <th>...</th>\n",
       "      <td>...</td>\n",
       "      <td>...</td>\n",
       "      <td>...</td>\n",
       "      <td>...</td>\n",
       "      <td>...</td>\n",
       "      <td>...</td>\n",
       "    </tr>\n",
       "    <tr>\n",
       "      <th>627</th>\n",
       "      <td>bayer leverkusen wehrt europa league lange gut...</td>\n",
       "      <td>piero hincapie</td>\n",
       "      <td>de</td>\n",
       "      <td>2023-05-12T10:02:12Z</td>\n",
       "      <td>negative</td>\n",
       "      <td>bayer leverkusen wehrt europa league lange gut...</td>\n",
       "    </tr>\n",
       "    <tr>\n",
       "      <th>628</th>\n",
       "      <td>xabi alonso taktik duell alten lehrmeister jos...</td>\n",
       "      <td>piero hincapie</td>\n",
       "      <td>de</td>\n",
       "      <td>2023-05-11T21:17:00Z</td>\n",
       "      <td>negative</td>\n",
       "      <td>xabi alonso taktik duell alten lehrmeister jos...</td>\n",
       "    </tr>\n",
       "    <tr>\n",
       "      <th>629</th>\n",
       "      <td>trotz pleite halbfinal hinspiel rom gibt lever...</td>\n",
       "      <td>piero hincapie</td>\n",
       "      <td>de</td>\n",
       "      <td>2023-05-11T21:09:16Z</td>\n",
       "      <td>negative</td>\n",
       "      <td>trotz pleite halbfinal hinspiel rom gibt lever...</td>\n",
       "    </tr>\n",
       "    <tr>\n",
       "      <th>630</th>\n",
       "      <td>hitzigen aufeinandertreffen stadio olimpico na...</td>\n",
       "      <td>piero hincapie</td>\n",
       "      <td>de</td>\n",
       "      <td>2023-05-11T20:58:58Z</td>\n",
       "      <td>negative</td>\n",
       "      <td>hitzigen aufeinandertreffen stadio olimpico na...</td>\n",
       "    </tr>\n",
       "    <tr>\n",
       "      <th>631</th>\n",
       "      <td>hitzigen aufeinandertreffen stadio olimpico na...</td>\n",
       "      <td>piero hincapie</td>\n",
       "      <td>de</td>\n",
       "      <td>2023-05-11T20:57:28Z</td>\n",
       "      <td>negative</td>\n",
       "      <td>hitzigen aufeinandertreffen stadio olimpico na...</td>\n",
       "    </tr>\n",
       "  </tbody>\n",
       "</table>\n",
       "<p>622 rows × 6 columns</p>\n",
       "</div>"
      ],
      "text/plain": [
       "                                                  data             player  \\\n",
       "0    trainer xabi alonso mitgereisten fans monaco f...  exequiel palacios   \n",
       "1    sechser droht viereinhalb monaten pause bitter...  exequiel palacios   \n",
       "2    leverkusens sechser erklart budapest spiel jun...  exequiel palacios   \n",
       "3    mitchel bakker mittwoch abschluss training lev...  exequiel palacios   \n",
       "5    warum sehe faz net nicht permalink aktuelle na...  exequiel palacios   \n",
       "..                                                 ...                ...   \n",
       "627  bayer leverkusen wehrt europa league lange gut...     piero hincapie   \n",
       "628  xabi alonso taktik duell alten lehrmeister jos...     piero hincapie   \n",
       "629  trotz pleite halbfinal hinspiel rom gibt lever...     piero hincapie   \n",
       "630  hitzigen aufeinandertreffen stadio olimpico na...     piero hincapie   \n",
       "631  hitzigen aufeinandertreffen stadio olimpico na...     piero hincapie   \n",
       "\n",
       "    language           publishedAt sentiment  \\\n",
       "0         de  2023-02-24T09:33:31Z  negative   \n",
       "1         de  2023-03-03T21:35:13Z  negative   \n",
       "2         de  2023-03-07T11:34:39Z  negative   \n",
       "3         de  2023-03-08T14:25:18Z  negative   \n",
       "5         de  2023-03-09T19:53:46Z  negative   \n",
       "..       ...                   ...       ...   \n",
       "627       de  2023-05-12T10:02:12Z  negative   \n",
       "628       de  2023-05-11T21:17:00Z  negative   \n",
       "629       de  2023-05-11T21:09:16Z  negative   \n",
       "630       de  2023-05-11T20:58:58Z  negative   \n",
       "631       de  2023-05-11T20:57:28Z  negative   \n",
       "\n",
       "                                                 short  \n",
       "0    trainer xabi alonso mitgereisten fans monaco f...  \n",
       "1    sechser droht viereinhalb monaten pause bitter...  \n",
       "2    leverkusens sechser erklart budapest spiel jun...  \n",
       "3    mitchel bakker mittwoch abschluss training lev...  \n",
       "5    warum sehe faz net nicht permalink aktuelle na...  \n",
       "..                                                 ...  \n",
       "627  bayer leverkusen wehrt europa league lange gut...  \n",
       "628  xabi alonso taktik duell alten lehrmeister jos...  \n",
       "629  trotz pleite halbfinal hinspiel rom gibt lever...  \n",
       "630  hitzigen aufeinandertreffen stadio olimpico na...  \n",
       "631  hitzigen aufeinandertreffen stadio olimpico na...  \n",
       "\n",
       "[622 rows x 6 columns]"
      ]
     },
     "execution_count": 40,
     "metadata": {},
     "output_type": "execute_result"
    }
   ],
   "source": [
    "extract_sentence(df)"
   ]
  },
  {
   "cell_type": "markdown",
   "metadata": {},
   "source": [
    "# New analysis"
   ]
  },
  {
   "cell_type": "code",
   "execution_count": 41,
   "metadata": {},
   "outputs": [
    {
     "name": "stdout",
     "output_type": "stream",
     "text": [
      "                                                  data             player  \\\n",
      "0    trainer xabi alonso mitgereisten fans monaco f...  exequiel palacios   \n",
      "1    sechser droht viereinhalb monaten pause bitter...  exequiel palacios   \n",
      "2    leverkusens sechser erklart budapest spiel jun...  exequiel palacios   \n",
      "3    mitchel bakker mittwoch abschluss training lev...  exequiel palacios   \n",
      "5    warum sehe faz net nicht permalink aktuelle na...  exequiel palacios   \n",
      "..                                                 ...                ...   \n",
      "627  bayer leverkusen wehrt europa league lange gut...     piero hincapie   \n",
      "628  xabi alonso taktik duell alten lehrmeister jos...     piero hincapie   \n",
      "629  trotz pleite halbfinal hinspiel rom gibt lever...     piero hincapie   \n",
      "630  hitzigen aufeinandertreffen stadio olimpico na...     piero hincapie   \n",
      "631  hitzigen aufeinandertreffen stadio olimpico na...     piero hincapie   \n",
      "\n",
      "    language           publishedAt sentiment  \\\n",
      "0         de  2023-02-24T09:33:31Z  negative   \n",
      "1         de  2023-03-03T21:35:13Z  negative   \n",
      "2         de  2023-03-07T11:34:39Z  negative   \n",
      "3         de  2023-03-08T14:25:18Z  negative   \n",
      "5         de  2023-03-09T19:53:46Z  negative   \n",
      "..       ...                   ...       ...   \n",
      "627       de  2023-05-12T10:02:12Z  negative   \n",
      "628       de  2023-05-11T21:17:00Z  negative   \n",
      "629       de  2023-05-11T21:09:16Z  negative   \n",
      "630       de  2023-05-11T20:58:58Z  negative   \n",
      "631       de  2023-05-11T20:57:28Z  negative   \n",
      "\n",
      "                                                 short sentiment2  \n",
      "0    trainer xabi alonso mitgereisten fans monaco f...   negative  \n",
      "1    sechser droht viereinhalb monaten pause bitter...   negative  \n",
      "2    leverkusens sechser erklart budapest spiel jun...   negative  \n",
      "3    mitchel bakker mittwoch abschluss training lev...   negative  \n",
      "5    warum sehe faz net nicht permalink aktuelle na...   negative  \n",
      "..                                                 ...        ...  \n",
      "627  bayer leverkusen wehrt europa league lange gut...   negative  \n",
      "628  xabi alonso taktik duell alten lehrmeister jos...   negative  \n",
      "629  trotz pleite halbfinal hinspiel rom gibt lever...   negative  \n",
      "630  hitzigen aufeinandertreffen stadio olimpico na...   negative  \n",
      "631  hitzigen aufeinandertreffen stadio olimpico na...   negative  \n",
      "\n",
      "[622 rows x 7 columns]\n"
     ]
    }
   ],
   "source": [
    "def perform_sentiment_analysis1(df):\n",
    "    # Load the tokenizer and model\n",
    "    tokenizer = AutoTokenizer.from_pretrained(\"oliverguhr/german-sentiment-bert\")\n",
    "    model = AutoModelForSequenceClassification.from_pretrained(\"oliverguhr/german-sentiment-bert\")\n",
    "\n",
    "    # Create an empty list to store the sentiment scores\n",
    "    sentiment_scores = []\n",
    "\n",
    "    # Iterate over the 'data' column in the DataFrame\n",
    "    for text in df['short']:\n",
    "        # Tokenize the input text\n",
    "        tokens = tokenizer.encode_plus(text, padding=\"max_length\", truncation=True, max_length=128,\n",
    "                                       return_tensors=\"pt\")\n",
    "\n",
    "        # Perform the sentiment analysis\n",
    "        with torch.no_grad():\n",
    "            logits = model(**tokens)[0]\n",
    "\n",
    "        # Convert logits to predicted label (positive/negative)\n",
    "        predicted_label = torch.argmax(logits, dim=1).item()\n",
    "        sentiment = \"positive\" if predicted_label == 1 else \"negative\"\n",
    "\n",
    "        # Append the sentiment score to the list\n",
    "        sentiment_scores.append(sentiment)\n",
    "\n",
    "    # Add the sentiment scores as a new column in the DataFrame\n",
    "    df['sentiment2'] = sentiment_scores\n",
    "\n",
    "    return df\n",
    "\n",
    "\n",
    "# Perform sentiment analysis on the DataFrame\n",
    "df = perform_sentiment_analysis1(df_de)\n",
    "\n",
    "# Print the updated DataFrame\n",
    "print(df)"
   ]
  },
  {
   "cell_type": "markdown",
   "metadata": {},
   "source": [
    "# Percentage of Negative"
   ]
  },
  {
   "cell_type": "code",
   "execution_count": 43,
   "metadata": {},
   "outputs": [
    {
     "data": {
      "text/plain": [
       "0.7427652733118971"
      ]
     },
     "execution_count": 43,
     "metadata": {},
     "output_type": "execute_result"
    }
   ],
   "source": [
    "df[df['sentiment2'] == 'negative'].shape[0]/df.shape[0]"
   ]
  }
 ],
 "metadata": {
  "kernelspec": {
   "display_name": "Python 3.9.6 64-bit",
   "language": "python",
   "name": "python3"
  },
  "language_info": {
   "codemirror_mode": {
    "name": "ipython",
    "version": 3
   },
   "file_extension": ".py",
   "mimetype": "text/x-python",
   "name": "python",
   "nbconvert_exporter": "python",
   "pygments_lexer": "ipython3",
   "version": "3.9.6"
  },
  "orig_nbformat": 4,
  "vscode": {
   "interpreter": {
    "hash": "31f2aee4e71d21fbe5cf8b01ff0e069b9275f58929596ceb00d14d90e3e16cd6"
   }
  }
 },
 "nbformat": 4,
 "nbformat_minor": 2
}
