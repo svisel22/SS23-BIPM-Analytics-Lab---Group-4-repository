{
  "cells": [
    {
      "cell_type": "markdown",
      "metadata": {
        "id": "-ExZTT6omyo2"
      },
      "source": [
        "Purpose of this Notebooks is to test the News-API (https://newsapi.org) "
      ]
    },
    {
      "cell_type": "code",
      "execution_count": null,
      "metadata": {
        "colab": {
          "base_uri": "https://localhost:8080/"
        },
        "id": "EzP2d5GEpEpf",
        "outputId": "fbdc81ad-f40a-4e69-e419-aab0dec9658f"
      },
      "outputs": [
        {
          "name": "stdout",
          "output_type": "stream",
          "text": [
            "Looking in indexes: https://pypi.org/simple, https://us-python.pkg.dev/colab-wheels/public/simple/\n",
            "Collecting newsapi-python\n",
            "  Downloading newsapi_python-0.2.7-py2.py3-none-any.whl (7.9 kB)\n",
            "Requirement already satisfied: requests<3.0.0 in /usr/local/lib/python3.9/dist-packages (from newsapi-python) (2.27.1)\n",
            "Requirement already satisfied: charset-normalizer~=2.0.0 in /usr/local/lib/python3.9/dist-packages (from requests<3.0.0->newsapi-python) (2.0.12)\n",
            "Requirement already satisfied: idna<4,>=2.5 in /usr/local/lib/python3.9/dist-packages (from requests<3.0.0->newsapi-python) (3.4)\n",
            "Requirement already satisfied: certifi>=2017.4.17 in /usr/local/lib/python3.9/dist-packages (from requests<3.0.0->newsapi-python) (2022.12.7)\n",
            "Requirement already satisfied: urllib3<1.27,>=1.21.1 in /usr/local/lib/python3.9/dist-packages (from requests<3.0.0->newsapi-python) (1.26.15)\n",
            "Installing collected packages: newsapi-python\n",
            "Successfully installed newsapi-python-0.2.7\n"
          ]
        }
      ],
      "source": [
        "#!pip install newsapi-python"
      ]
    },
    {
      "cell_type": "code",
      "execution_count": null,
      "metadata": {
        "id": "q2_yKPJWm_pl"
      },
      "outputs": [],
      "source": [
        "import pprint\n",
        "import requests\n",
        "from newsapi import NewsApiClient\n"
      ]
    },
    {
      "attachments": {},
      "cell_type": "markdown",
      "metadata": {
        "id": "7tnNTOcco3Y4"
      },
      "source": [
        "# First select 100 Articles from all the players\n",
        "Within the News-website there are 80 Mio Newspages also including Sportwebsites. Eventhough there are zero articles with Mitchel Bakker in the Title"
      ]
    },
    {
      "cell_type": "code",
      "execution_count": null,
      "metadata": {
        "colab": {
          "base_uri": "https://localhost:8080/"
        },
        "id": "FC00Tv0emuEh",
        "outputId": "838e7c64-8514-4141-ec35-0a7ab6d0070b"
      },
      "outputs": [
        {
          "name": "stdout",
          "output_type": "stream",
          "text": [
            "{'articles': [], 'status': 'ok', 'totalResults': 0}\n"
          ]
        }
      ],
      "source": [
        "#Kevin1:\n",
        "k1_secret = '629525a47ff6458789d19a3c489419fa'\n",
        "\n",
        "#Joana1:\n",
        "j1_secret = '40d4a2e1919c4066b59df69ca787f4ba'\n",
        "\n",
        "#Joana2:\n",
        "j2_secret = '2211c202d86d46f78b48b3e532557d7d'\n",
        "\n",
        "#Gala1:\n",
        "\n",
        "#can we have 6 or 7 passwords? So that each password is for the data of one player?\n",
        "  \n",
        "# Define the endpoint\n",
        "url = 'https://newsapi.org/v2/everything'"
      ]
    },
    {
      "cell_type": "code",
      "execution_count": null,
      "metadata": {},
      "outputs": [],
      "source": [
        "# list of players to choose from\n",
        "players = [\n",
        "    {\n",
        "        'q': 'Mitchel Bakker', # query phrase\n",
        "        'pageSize': 100,  # maximum is 100\n",
        "        'apiKey': k1_secret, # your own API key\n",
        "        'sortBy':'publishedAt', # sorting by date\n",
        "        'from': '2023-01-01', # form\n",
        "        'to': '2022-04-18' # to\n",
        "     },\n",
        "     {\n",
        "        'q': 'Jeremie Frimpong', # query phrase\n",
        "        'pageSize': 100,  # maximum is 100\n",
        "        'apiKey': k1_secret, # your own API key\n",
        "        'sortBy':'publishedAt',\n",
        "        'from': '2023-01-01',\n",
        "        'to': '2022-04-18',\n",
        "        'searchIn': 'title'\n",
        "     },\n",
        "     {\n",
        "        'q': 'Moussa Diaby', # query phrase\n",
        "        'pageSize': 100,  # maximum is 100\n",
        "        'apiKey': j1_secret, # your own API key\n",
        "        'sortBy':'publishedAt',\n",
        "        'from': '2023-01-01',\n",
        "        'to': '2022-04-18'\n",
        "      },\n",
        "      {\n",
        "        'q': 'Jonathan Tah', # query phrase\n",
        "        'pageSize': 100,  # maximum is 100\n",
        "        'apiKey': j1_secret, # your own API key\n",
        "        'sortBy':'publishedAt',\n",
        "        'from': '2023-01-01',\n",
        "        'to': '2022-04-18'\n",
        "      },\n",
        "      {\n",
        "        'q': 'Piero Hincapie', # query phrase\n",
        "        'pageSize': 100,  # maximum is 100\n",
        "        'apiKey': j2_secret, # your own API key\n",
        "        'sortBy':'publishedAt',\n",
        "        'from': '2023-01-01',\n",
        "        'to': '2022-04-18'\n",
        "      },\n",
        "      {\n",
        "        'q': 'Exequiel Palacios', # query phrase\n",
        "        'pageSize': 100,  # maximum is 100\n",
        "        'apiKey': j2_secret, # your own API key\n",
        "        'sortBy':'publishedAt',\n",
        "        'from': '2023-01-01',\n",
        "        'to': '2022-04-18'\n",
        "      },\n",
        "      {\n",
        "        'q': 'Mykhaylo Mudryk', # query phrase\n",
        "        'pageSize': 100,  # maximum is 100\n",
        "        'apiKey': g1_secret, # your own API key\n",
        "        'sortBy':'publishedAt',\n",
        "        'from': '2023-01-01',\n",
        "        'to': '2022-04-18'\n",
        "      }\n",
        "]\n",
        "\n",
        "'''\n",
        "if we also want him, we can put him in:\n",
        "    ,\n",
        "      {\n",
        "        'q': 'Lionel Messi', # query phrase\n",
        "        'pageSize': 100,  # maximum is 100\n",
        "        'apiKey': secret, # your own API key\n",
        "        'sortBy':'publishedAt', # sorting by date\n",
        "        'from': '2023-01-01', # from\n",
        "        'to': '2022-04-18' # to\n",
        "      }\n",
        "'''"
      ]
    },
    {
      "cell_type": "code",
      "execution_count": null,
      "metadata": {},
      "outputs": [],
      "source": [
        "# ACTION for the user: insert the parameters names for the players you want to analyse\n",
        "player = ['Mykhaylo Mudryk', 'Exequiel Palacios', 'Piero Hincapie', 'Jonathan Tah', 'Moussa Diaby', 'Jeremie Frimpong', 'Mitchel Bakker'] #not in there at the moment: 'Lionel Messi'\n",
        "[requests.get(url, params=player).json() for player in players]"
      ]
    },
    {
      "cell_type": "code",
      "execution_count": null,
      "metadata": {
        "id": "xzRyQIM3FzWs"
      },
      "outputs": [],
      "source": []
    }
  ],
  "metadata": {
    "colab": {
      "provenance": []
    },
    "kernelspec": {
      "display_name": "Python 3.9.6 64-bit",
      "language": "python",
      "name": "python3"
    },
    "language_info": {
      "name": "python",
      "version": "3.9.6"
    },
    "vscode": {
      "interpreter": {
        "hash": "31f2aee4e71d21fbe5cf8b01ff0e069b9275f58929596ceb00d14d90e3e16cd6"
      }
    }
  },
  "nbformat": 4,
  "nbformat_minor": 0
}
