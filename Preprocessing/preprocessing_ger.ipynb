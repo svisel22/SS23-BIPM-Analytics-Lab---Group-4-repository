{
 "cells": [
  {
   "cell_type": "code",
   "execution_count": 273,
   "metadata": {},
   "outputs": [
    {
     "name": "stdout",
     "output_type": "stream",
     "text": [
      "\u001b[33mDEPRECATION: Configuring installation scheme with distutils config files is deprecated and will no longer work in the near future. If you are using a Homebrew or Linuxbrew Python, please see discussion at https://github.com/Homebrew/homebrew-core/issues/76621\u001b[0m\u001b[33m\n",
      "\u001b[0mRequirement already satisfied: scikit-learn in /opt/homebrew/lib/python3.9/site-packages (1.2.2)\n",
      "Requirement already satisfied: numpy>=1.17.3 in /opt/homebrew/lib/python3.9/site-packages (from scikit-learn) (1.24.3)\n",
      "Requirement already satisfied: scipy>=1.3.2 in /opt/homebrew/lib/python3.9/site-packages (from scikit-learn) (1.10.1)\n",
      "Requirement already satisfied: joblib>=1.1.1 in /opt/homebrew/lib/python3.9/site-packages (from scikit-learn) (1.2.0)\n",
      "Requirement already satisfied: threadpoolctl>=2.0.0 in /opt/homebrew/lib/python3.9/site-packages (from scikit-learn) (3.1.0)\n",
      "\u001b[33mDEPRECATION: Configuring installation scheme with distutils config files is deprecated and will no longer work in the near future. If you are using a Homebrew or Linuxbrew Python, please see discussion at https://github.com/Homebrew/homebrew-core/issues/76621\u001b[0m\u001b[33m\n",
      "\u001b[0mNote: you may need to restart the kernel to use updated packages.\n"
     ]
    }
   ],
   "source": [
    "%pip install scikit-learn\n"
   ]
  },
  {
   "cell_type": "code",
   "execution_count": 274,
   "metadata": {},
   "outputs": [],
   "source": [
    "import pandas as pd\n",
    "import re\n",
    "from nltk.corpus import stopwords\n",
    "from sklearn.feature_extraction.text import CountVectorizer\n",
    "from gensim.parsing.preprocessing import STOPWORDS, strip_tags, strip_numeric, strip_punctuation, strip_multiple_whitespaces, remove_stopwords, strip_short, stem_text\n",
    "import numpy as np\n",
    "import sys\n",
    "sys.path.append('../')\n",
    "from utils import remove_similar_rows_per_player, find_lines_with_player, del_patterns\n"
   ]
  },
  {
   "cell_type": "code",
   "execution_count": 275,
   "metadata": {},
   "outputs": [],
   "source": [
    "url = 'https://raw.githubusercontent.com/svisel22/SS23-BIPM-Analytics-Lab---Group-4-repository/main/data_files/all_data_v3.csv'\n",
    "df = pd.read_csv(url)"
   ]
  },
  {
   "cell_type": "code",
   "execution_count": 276,
   "metadata": {},
   "outputs": [],
   "source": [
    "# Filter out the German data and reindex\n",
    "df_ger = df[df[\"language\"] == \"de\"]\n",
    "df_ger = df_ger.reset_index(drop=True)"
   ]
  },
  {
   "cell_type": "code",
   "execution_count": 277,
   "metadata": {},
   "outputs": [],
   "source": [
    "# Remove the similiar rows (The Function is imported from utils on top)\n",
    "df = remove_similar_rows_per_player(df_ger, df_ger['player'].unique())\n"
   ]
  },
  {
   "cell_type": "code",
   "execution_count": 278,
   "metadata": {},
   "outputs": [],
   "source": [
    "# transform data into lower case\n",
    "data_lower = df.copy()\n",
    "\n",
    "data_lower['data'] = data_lower['data'].str.lower()\n",
    "data_lower['player'] = data_lower['player'].str.lower()\n",
    "data_lower.head()\n",
    "\n",
    "data_wo_pattern = data_lower.copy()\n",
    "\n",
    "# delete content patterns\n",
    "data_wo_pattern['data'] = data_wo_pattern['data'].apply(lambda x: re.sub(r\"^{\\'content\\': \\'\", \"\", str(x)))"
   ]
  },
  {
   "cell_type": "code",
   "execution_count": 280,
   "metadata": {},
   "outputs": [],
   "source": [
    "pattern = ['nutze kicker', 'mit dem', 'nur €2,49', 'bereits pur-abonnent?', 'alle antworten', 'hinweis zur verarbeitung', 'werbung','olympia-verlags', 'bild', 'g+j medien gmbh', 'services',]"
   ]
  },
  {
   "cell_type": "code",
   "execution_count": 281,
   "metadata": {},
   "outputs": [],
   "source": [
    "data_wo_pattern['data'] = data_wo_pattern['data'].apply(lambda x: del_patterns_1(str(x), pattern))                                                      "
   ]
  },
  {
   "cell_type": "code",
   "execution_count": 282,
   "metadata": {},
   "outputs": [
    {
     "data": {
      "text/plain": [
       "'spiele & ergebnisse der europa league\\\\nachtelfinale der europa league\\\\n            \\\\n: \\\\n\\\\n\\\\nfc arsenal strauchelt in lissabon\\\\njuventus turin gewinnt knapp\\\\n            \\\\n: \\\\n\\\\n\\\\npassable ausgangslage für den sc freiburg\\\\n3:3 gegen saint-gilloise\\\\n            \\\\n: \\\\n\\\\n\\\\nunion berlin gibt sich nicht auf\\\\nauslosung zur europa league\\\\n            \\\\n: \\\\n\\\\n\\\\nsc freiburg zieht mit juventus das große los\\\\ndie ungarn tauchten erst in der 26. minute vor dem leverkusener tor auf. das aber sehr gefährlich. kristoffer zachariassen lupfte den ball aus sieben metern über den herausstürmenden bayer-torhüter lukas hradecky – aber an die latte. dieses ausrufezeichen gab budapest rückenwind, bis zur pause hielt der überlegene tabellenführer der ungarischen liga das spiel offen.\\\\nund auch danach agierten beide teams weitgehend auf augenhöhe, ehe kurz vor schluss bayer doch noch das so wichtige zweite tor gelang. der eingewechselte adam hlouzek setzte zunächst einen freistoß aus 25 metern an die latte, den abprallenden ball köpfte tapsoba ins tor.\\\\nxabi alonso hat nach seiner gelben karte im europa-league-spiel gegen ferencváros budapest ein ungewöhnliches lob für deutsche schiedsrichter ausgesprochen. „mit den deutschen schiedsrichtern kann man ein bisschen besser sprechen“, sagte der ehemalige spanische welt- und europameister, nachdem ihm der italiener davide massa beim 2:0 im achtelfinal-hinspiel die gelbe karte gezeigt hatte: „sie sind nicht so...“. den satz sprach alonso nicht zu ende, aber er machte wilde handbewegungen. stur oder streng könnte der baske, der seine pressekonferenz auf deutsch abhält, gemeint haben. zu seinem eigenen verhalten sagte alonso: „ich kann das verbessern. aber es war nichts besonderes, was ich gesagt habe.“ (dpa)\\\\nquelle: dpa\\\\nhier können sie die rechte an diesem artikel erwerben.\\\\npermalink: \\\\nhttps://www.faz.net/-gtm-b56b5\\\\nweitere themen\\\\nchampions league der frauen\\\\n                                \\\\n: \\\\n\\\\n„ich kann das gar nicht fassen“\\\\nextrarunde in der achterbahn: die fußballerinnen aus wolfsburg stehen nach einem packenden halbfinale vor mehr als 60.000 zuschauern im endspiel der champions league. weil sie sich weiterentwickelt haben.\\\\ntennisturnier will wachsen\\\\n                                \\\\n: \\\\n\\\\nüber wiesbaden zu den french open\\\\ndas fünftgrößte frauentennisturnier in deutschland findet in der hessischen landeshauptstadt statt. die veranstalter träumen davon, dass es noch größer wird.\\\\nfaz plus artikel:\\\\n\\\\n\\\\n\\\\n                                  eintracht im pokalfinale\\\\n                                \\\\n: \\\\n\\\\n„für diese jungs lege ich meine hand ins feuer“\\\\ndie eintracht überwindet grenzen und steht schon wieder in einem endspiel. auch weil spieler, die den klub im sommer verlassen, sich deutlich steigern. trainer oliver glasner gibt ein versprechen ab.\\\\nkurse und finanzdaten zum artikel\\\\nähnliche themen\\\\ntopmeldungen\\\\nantisemitisch und gegen die eu\\\\n            \\\\n: \\\\n\\\\n\\\\nder erfolg von polens radikalen rechten\\\\ninflation und aktien\\\\n            \\\\n: \\\\n\\\\n\\\\nholt euch das geld zurück!\\\\nverbindungen zu russland\\\\n            \\\\n: \\\\n\\\\n\\\\ngauck hält schröders verhalten für „unerträglich“ und „inakzeptabel“\\\\ndemagogie beim „spiegel“\\\\n            \\\\n: \\\\n\\\\n\\\\n'"
      ]
     },
     "execution_count": 282,
     "metadata": {},
     "output_type": "execute_result"
    }
   ],
   "source": [
    "data_wo_pattern['data'].iloc[5]"
   ]
  },
  {
   "attachments": {},
   "cell_type": "markdown",
   "metadata": {},
   "source": [
    "## Find sentences with Playername"
   ]
  },
  {
   "cell_type": "code",
   "execution_count": 283,
   "metadata": {},
   "outputs": [],
   "source": [
    "data_with_playernames = find_lines_with_player(df, df['player'].unique())"
   ]
  },
  {
   "cell_type": "code",
   "execution_count": 284,
   "metadata": {},
   "outputs": [
    {
     "data": {
      "text/html": [
       "<div>\n",
       "<style scoped>\n",
       "    .dataframe tbody tr th:only-of-type {\n",
       "        vertical-align: middle;\n",
       "    }\n",
       "\n",
       "    .dataframe tbody tr th {\n",
       "        vertical-align: top;\n",
       "    }\n",
       "\n",
       "    .dataframe thead th {\n",
       "        text-align: right;\n",
       "    }\n",
       "</style>\n",
       "<table border=\"1\" class=\"dataframe\">\n",
       "  <thead>\n",
       "    <tr style=\"text-align: right;\">\n",
       "      <th></th>\n",
       "      <th>data</th>\n",
       "      <th>player</th>\n",
       "      <th>language</th>\n",
       "      <th>publishedAt</th>\n",
       "    </tr>\n",
       "  </thead>\n",
       "  <tbody>\n",
       "    <tr>\n",
       "      <th>0</th>\n",
       "      <td>{'content': 'Trainer Xabi Alonso vor den mitge...</td>\n",
       "      <td>Exequiel Palacios</td>\n",
       "      <td>de</td>\n",
       "      <td>2023-02-24T09:33:31Z</td>\n",
       "    </tr>\n",
       "    <tr>\n",
       "      <th>1</th>\n",
       "      <td>{'content': 'Nutze kicker auf seinen digitalen...</td>\n",
       "      <td>Exequiel Palacios</td>\n",
       "      <td>de</td>\n",
       "      <td>2023-03-03T21:35:13Z</td>\n",
       "    </tr>\n",
       "    <tr>\n",
       "      <th>2</th>\n",
       "      <td>{'content': 'Nutze kicker auf seinen digitalen...</td>\n",
       "      <td>Exequiel Palacios</td>\n",
       "      <td>de</td>\n",
       "      <td>2023-03-07T11:34:39Z</td>\n",
       "    </tr>\n",
       "    <tr>\n",
       "      <th>3</th>\n",
       "      <td>{'content': 'Mitchel Bakker am Mittwoch im Abs...</td>\n",
       "      <td>Exequiel Palacios</td>\n",
       "      <td>de</td>\n",
       "      <td>2023-03-08T14:25:18Z</td>\n",
       "    </tr>\n",
       "    <tr>\n",
       "      <th>4</th>\n",
       "      <td>{'content': '© G+J Medien GmbH</td>\n",
       "      <td>Exequiel Palacios</td>\n",
       "      <td>de</td>\n",
       "      <td>2023-03-09T19:36:53Z</td>\n",
       "    </tr>\n",
       "    <tr>\n",
       "      <th>...</th>\n",
       "      <td>...</td>\n",
       "      <td>...</td>\n",
       "      <td>...</td>\n",
       "      <td>...</td>\n",
       "    </tr>\n",
       "    <tr>\n",
       "      <th>21</th>\n",
       "      <td>{'content': \"Der SC Freiburg und Bayer Leverku...</td>\n",
       "      <td>Piero Hincapié</td>\n",
       "      <td>de</td>\n",
       "      <td>2023-02-26T16:28:57Z</td>\n",
       "    </tr>\n",
       "    <tr>\n",
       "      <th>22</th>\n",
       "      <td>{'content': 'Ein Monaco-Betreuer packt Sardar ...</td>\n",
       "      <td>Piero Hincapié</td>\n",
       "      <td>de</td>\n",
       "      <td>2023-02-22T16:59:33Z</td>\n",
       "    </tr>\n",
       "    <tr>\n",
       "      <th>23</th>\n",
       "      <td>{'content': 'Leverkusens Torwart Lukas Hradeck...</td>\n",
       "      <td>Piero Hincapié</td>\n",
       "      <td>de</td>\n",
       "      <td>2023-02-17T17:14:46Z</td>\n",
       "    </tr>\n",
       "    <tr>\n",
       "      <th>24</th>\n",
       "      <td>{'content': 'Das WichtigsteTut es in der Kolle...</td>\n",
       "      <td>Piero Hincapié</td>\n",
       "      <td>de</td>\n",
       "      <td>2023-02-17T08:56:42Z</td>\n",
       "    </tr>\n",
       "    <tr>\n",
       "      <th>25</th>\n",
       "      <td>{'content': 'Warum sehe ich FAZ.NET nicht?Vor ...</td>\n",
       "      <td>Piero Hincapié</td>\n",
       "      <td>de</td>\n",
       "      <td>2023-02-17T07:51:22Z</td>\n",
       "    </tr>\n",
       "  </tbody>\n",
       "</table>\n",
       "<p>455 rows × 4 columns</p>\n",
       "</div>"
      ],
      "text/plain": [
       "                                                 data             player   \n",
       "0   {'content': 'Trainer Xabi Alonso vor den mitge...  Exequiel Palacios  \\\n",
       "1   {'content': 'Nutze kicker auf seinen digitalen...  Exequiel Palacios   \n",
       "2   {'content': 'Nutze kicker auf seinen digitalen...  Exequiel Palacios   \n",
       "3   {'content': 'Mitchel Bakker am Mittwoch im Abs...  Exequiel Palacios   \n",
       "4                      {'content': '© G+J Medien GmbH  Exequiel Palacios   \n",
       "..                                                ...                ...   \n",
       "21  {'content': \"Der SC Freiburg und Bayer Leverku...     Piero Hincapié   \n",
       "22  {'content': 'Ein Monaco-Betreuer packt Sardar ...     Piero Hincapié   \n",
       "23  {'content': 'Leverkusens Torwart Lukas Hradeck...     Piero Hincapié   \n",
       "24  {'content': 'Das WichtigsteTut es in der Kolle...     Piero Hincapié   \n",
       "25  {'content': 'Warum sehe ich FAZ.NET nicht?Vor ...     Piero Hincapié   \n",
       "\n",
       "   language           publishedAt  \n",
       "0        de  2023-02-24T09:33:31Z  \n",
       "1        de  2023-03-03T21:35:13Z  \n",
       "2        de  2023-03-07T11:34:39Z  \n",
       "3        de  2023-03-08T14:25:18Z  \n",
       "4        de  2023-03-09T19:36:53Z  \n",
       "..      ...                   ...  \n",
       "21       de  2023-02-26T16:28:57Z  \n",
       "22       de  2023-02-22T16:59:33Z  \n",
       "23       de  2023-02-17T17:14:46Z  \n",
       "24       de  2023-02-17T08:56:42Z  \n",
       "25       de  2023-02-17T07:51:22Z  \n",
       "\n",
       "[455 rows x 4 columns]"
      ]
     },
     "execution_count": 284,
     "metadata": {},
     "output_type": "execute_result"
    }
   ],
   "source": [
    "data_with_playernames"
   ]
  },
  {
   "cell_type": "code",
   "execution_count": 285,
   "metadata": {},
   "outputs": [],
   "source": [
    "data_with_playernames = find_lines_with_player(data_wo_pattern, data_wo_pattern['player'].unique(), n_lines=5)"
   ]
  },
  {
   "cell_type": "code",
   "execution_count": 286,
   "metadata": {},
   "outputs": [
    {
     "data": {
      "text/plain": [
       "'trainer xabi alonso vor den mitgereisten fans in monacoglücksmoment! exequiel palacios hebt nach seinem tor zum 2:1 abnach dem euro-highlight geht es in der bundesliga am sonntag (15.30 uhr) beim sc freiburg weiter.„wir kennen freiburg. sie haben gerade einen sehr guten moment, sie spielen mit einer hohen intensität, ähnlich wie mainz. vielleicht war das spiel gegen mainz eine gute schule für uns für das freiburg-spiel“, sagt alonso.der bayer-tross bleibt noch einen tag in monaco, samstag um 12 uhr fliegt das team dann nach basel und trainiert anschließend in freiburg.wegen leverkusens strafstoß-krise? freche elfer-aktion von mainz-torwart!'"
      ]
     },
     "execution_count": 286,
     "metadata": {},
     "output_type": "execute_result"
    }
   ],
   "source": [
    "data_with_playernames['data'].iloc[0]"
   ]
  },
  {
   "cell_type": "code",
   "execution_count": 287,
   "metadata": {},
   "outputs": [],
   "source": [
    "data_rm = data_with_playernames.copy()\n",
    "\n",
    "# strip_numeric -> removing digits (https://gensimr.news-r.org/reference/strip_numeric.html)\n",
    "data_rm['data'] = data_rm['data'].apply(strip_numeric)\n",
    "\n",
    "# strip_punctutation -> removing punctations (https://gensimr.news-r.org/reference/strip_punctuation.html)\n",
    "data_rm['data'] = data_rm['data'].apply(strip_punctuation)\n",
    "\n",
    "# strip multiple whitespaces also \\n -> (https://radimrehurek.com/gensim/parsing/preprocessing.html#gensim.parsing.preprocessing.strip_multiple_whitespaces)\n",
    "data_rm['data'] = data_rm['data'].apply(strip_multiple_whitespaces)"
   ]
  },
  {
   "cell_type": "code",
   "execution_count": 288,
   "metadata": {},
   "outputs": [
    {
     "data": {
      "text/plain": [
       "'mit einem späten tor hat joker sven michel dem fc union berlin in einem mitreißenden achtelfinal hinspiel der europa league ein unentschieden gerettet und die chancen auf das weiterkommen deutlich verbessert die berliner taten sich gegen royale union saint gilloise im heimischen stadion an der alten försterei erneut schwer und kamen am ende zu einem vor zuschauern schossen victor boniface und minute und yorbe vertessen die gäste dreimal in führung josip juranovic robin knoche und michel erzielten die jeweiligen ausgleichstore den fußball bundesligisten der comeback qualitäten bewies auf dem platz gab aber zunächst bayer den ton an dass demirbay das frühe führungstor mit einem schönen rechtsschuss aus metern erzielte konnte man mit dem attribut „ausgerechnet“ versehen denn der ex nationalspieler ist unter alonso kaum gefragt und bei der aufstellung mit ihm und amiri als doppel sechs hatte so manchen bayer fan eine unschöne erinnerung ereilt ein einziges mal hatten die beiden ex hoffenheimer zuvor vor der abwehr zusammengespielt dabei hatte es im oktober ein zu hause gegen den fc bayern gegeben allerdings waren in robert andrich und dem argentinischen weltmeister exequiel palacios beide stamm sechser gesperrt charles aranguiz ist zudem verletzt am donnerstag machten sie ihre sache zumindest ordentlich die ungarn tauchten erst in der minute vor dem leverkusener tor auf das aber sehr gefährlich kristoffer zachariassen lupfte den ball aus sieben metern über den herausstürmenden bayer keeper lukas hradecky – aber an die latte dieses ausrufezeichen gab budapest rückenwind bis zur pause hielt der überlegene tabellenführer der ungarischen liga das spiel offen und auch danach agierten beide teams weitgehend auf augenhöhe ehe kurz vor schluss bayer doch noch das so wichtige zweite tor gelang der eingewechselte adam hlouzek setzte zunächst einen freistoß aus metern an die latte den abpraller köpfte tapsoba ins tor weltmeister ángel di maría hat den sc freiburg im achtelfinal hinspiel der europa league um eine mögliche überraschung gebracht der argentinier war bei der niederlage des fußball bundesligisten bei juventus turin am donnerstag der auffälligste mann auf dem platz und erzielte in der minute den entscheidenden treffer die badener zeigten eine couragierte offensiv über weite strecken aber harmlose vorstellung ihr vermeintlicher ausgleich durch lucas höler wurde wegen eines vorangegangenen handspiels aberkannt dennoch ist die ausgangslage des sc vor dem rückspiel gegen italiens rekordmeister in der kommenden woche noch passabel im größten internationalen spiel der freiburger vereinsgeschichte blieb sich christian streich treu mit jacke und pullover statt feinem designer anzug stand der langjährige erfolgscoach an der seitenlinie und genauso unaufgeregt agierte bei prickelnder atmosphäre im mit zuschauern gut gefüllten juventus stadion auch seine mannschaft die freiburger zeigten keine angst vor den großen namen um den wirbelnden offensivstar di maría auch wenn es phasenweise – wie gleich am anfang – ungemütlich wurde unterstützt wurde der sc von rund anhängern es wären noch weit mehr geworden hätten die italiener die karten nicht storniert die sich freiburger fans über eine kurzfristig abgeschlossene juve mitgliedschaft organisiert hatten kleinere sc fangruppen fanden sich letztlich trotzdem auch außerhalb des gästebereichs bei einer chance des französischen vize weltmeisters adrien rabiot hatte sc keeper mark flekken noch glück die freistöße von juan cuadrado und dusan vlahovic waren indes keine große prüfung brenzlig wurde es aber als flekken eine scharfe ecke von di maría unterlief der brasilianer bremer verpasste aber die führung per kopf erst gegen ende der ersten halbzeit schaffte der bundesliga fünfte mehr entlastung und mal längere ballbesitzphasen ehe cuadrado noch einmal flekken prüfte '"
      ]
     },
     "execution_count": 288,
     "metadata": {},
     "output_type": "execute_result"
    }
   ],
   "source": [
    "data_rm['data'].iloc[6]"
   ]
  },
  {
   "attachments": {},
   "cell_type": "markdown",
   "metadata": {},
   "source": [
    "## Stopwords"
   ]
  },
  {
   "cell_type": "code",
   "execution_count": 289,
   "metadata": {},
   "outputs": [],
   "source": [
    "german_stop_words = stopwords.words('german')\n",
    "\n",
    "# Create a list of stop words to remove \n",
    "stop_words_to_remove = ['nicht', 'nichts']\n",
    "\n",
    "stop_words_to_add = ['vor', 'in', 'den', 'dem', 'beim', 'wir', 'der', 'ist','ende', 'seite', 'ersten', 'fürs', 'eh', 'blick', 'schon', 'zumal', 'erst', 'mal', 'bild', 't']\n",
    "\n",
    "# Remove the stop words to remove from the stop words list\n",
    "for word in stop_words_to_remove:\n",
    "  german_stop_words.remove(word)\n",
    "\n",
    "german_stop_words.append(stop_words_to_add)\n",
    "\n",
    "# Define a function to apply remove_stopwords on a column\n",
    "def remove_stopwords_from_text(text):\n",
    "    return remove_stopwords(text, stopwords=german_stop_words)\n",
    "\n",
    "# Apply the remove_stopwords function to the 'text' column using the apply method\n",
    "data_rm['data'] = data_rm['data'].apply(remove_stopwords_from_text)\n"
   ]
  },
  {
   "attachments": {},
   "cell_type": "markdown",
   "metadata": {},
   "source": [
    "## Pattern Regex\n"
   ]
  },
  {
   "cell_type": "code",
   "execution_count": 290,
   "metadata": {},
   "outputs": [
    {
     "data": {
      "text/plain": [
       "'patternlist = [\\n    r\\'^\\\\s*nutze kicker.*?\\\\.\\',\\n    r\\'^\\\\s*die zustimmung.*?\\\\.\\',\\n]\\n\\nfor pattern in patternlist:\\n\\n    data_wo_pattern[\\'data\\'] = data_wo_pattern[\\'data\\'].apply(lambda x: re.sub(pattern, \"\", str(x), flags=re.M))\\n'"
      ]
     },
     "execution_count": 290,
     "metadata": {},
     "output_type": "execute_result"
    }
   ],
   "source": [
    "'''patternlist = [\n",
    "    r'^\\s*nutze kicker.*?\\.',\n",
    "    r'^\\s*die zustimmung.*?\\.',\n",
    "]\n",
    "\n",
    "for pattern in patternlist:\n",
    "\n",
    "    data_wo_pattern['data'] = data_wo_pattern['data'].apply(lambda x: re.sub(pattern, \"\", str(x), flags=re.M))\n",
    "'''\n"
   ]
  }
 ],
 "metadata": {
  "kernelspec": {
   "display_name": "Python 3",
   "language": "python",
   "name": "python3"
  },
  "language_info": {
   "codemirror_mode": {
    "name": "ipython",
    "version": 3
   },
   "file_extension": ".py",
   "mimetype": "text/x-python",
   "name": "python",
   "nbconvert_exporter": "python",
   "pygments_lexer": "ipython3",
   "version": "3.9.16"
  },
  "orig_nbformat": 4,
  "vscode": {
   "interpreter": {
    "hash": "a665b5d41d17b532ea9890333293a1b812fa0b73c9c25c950b3cedf1bebd0438"
   }
  }
 },
 "nbformat": 4,
 "nbformat_minor": 2
}
