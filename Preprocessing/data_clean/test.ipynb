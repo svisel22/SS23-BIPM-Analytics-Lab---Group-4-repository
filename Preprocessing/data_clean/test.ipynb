{
 "cells": [
  {
   "cell_type": "code",
   "execution_count": 5,
   "metadata": {},
   "outputs": [],
   "source": [
    "from transformers import AutoTokenizer, AutoModelForSequenceClassification\n",
    "import torch\n",
    "import requests\n",
    "from bs4 import BeautifulSoup\n",
    "import re\n",
    "import numpy as np\n",
    "import pandas as pd\n",
    "import matplotlib.pyplot as plt\n",
    "import seaborn as sns\n",
    "import matplotlib.dates as mdates"
   ]
  },
  {
   "cell_type": "code",
   "execution_count": 28,
   "metadata": {},
   "outputs": [],
   "source": [
    "import csv\n",
    "\n",
    "# Specify the input and output file paths\n",
    "input_file = 'es_clean_condensed.csv'\n",
    "output_file = 'labeled-es_clean_condensed.csv'\n",
    "\n",
    "# Open the input and output files\n",
    "with open(input_file, 'r') as file_in, open(output_file, 'w', newline='') as file_out:\n",
    "    # Create a CSV reader and writer\n",
    "    reader = csv.reader(file_in)\n",
    "    writer = csv.writer(file_out, delimiter=';')\n",
    "\n",
    "    # Read each row from the input file and write it to the output file with semicolon separator\n",
    "    for row in reader:\n",
    "        writer.writerow(row)\n"
   ]
  },
  {
   "cell_type": "code",
   "execution_count": 3,
   "metadata": {},
   "outputs": [
    {
     "data": {
      "text/plain": [
       "array([nan, 'positiv', 'neutral', 'negativ'], dtype=object)"
      ]
     },
     "execution_count": 3,
     "metadata": {},
     "output_type": "execute_result"
    }
   ],
   "source": [
    "import pandas as pd \n",
    "df = pd.read_csv('labeled-data/labeled-de_clean_1-1.csv', sep = ';')\n",
    "df['Label'].unique() "
   ]
  },
  {
   "cell_type": "code",
   "execution_count": 6,
   "metadata": {},
   "outputs": [],
   "source": [
    "# https://huggingface.co/nlptown/bert-base-multilingual-uncased-sentiment\n",
    "tokenizer = AutoTokenizer.from_pretrained('nlptown/bert-base-multilingual-uncased-sentiment')\n",
    "\n",
    "model = AutoModelForSequenceClassification.from_pretrained('nlptown/bert-base-multilingual-uncased-sentiment')"
   ]
  },
  {
   "cell_type": "code",
   "execution_count": 33,
   "metadata": {},
   "outputs": [
    {
     "data": {
      "text/plain": [
       "3"
      ]
     },
     "execution_count": 33,
     "metadata": {},
     "output_type": "execute_result"
    }
   ],
   "source": [
    "tokens = tokenizer.encode('proxima fecha werder bremen medira borussia monchengladbach mientras bayer leverkusen tendra rival bayern munich ', return_tensors='pt')\n",
    "\n",
    "result = model(tokens)\n",
    "\n",
    "result.logits\n",
    "\n",
    "int(torch.argmax(result.logits))+1\n"
   ]
  },
  {
   "cell_type": "code",
   "execution_count": 25,
   "metadata": {},
   "outputs": [
    {
     "data": {
      "text/plain": [
       "array([nan, 'positiv', 'neutral', 'negativ'], dtype=object)"
      ]
     },
     "execution_count": 25,
     "metadata": {},
     "output_type": "execute_result"
    }
   ],
   "source": [
    "\n",
    "df = pd.read_csv('labeled-data/labeled-es_clean_1-1.csv', sep = ';')\n",
    "df['Label'].unique() "
   ]
  },
  {
   "cell_type": "code",
   "execution_count": 26,
   "metadata": {},
   "outputs": [
    {
     "name": "stdout",
     "output_type": "stream",
     "text": [
      "Negative count: 10\n",
      "Positive count: 10\n",
      "Neutral count: 10\n"
     ]
    }
   ],
   "source": [
    "# Counting the occurrences of different labels\n",
    "label_counts = df['Label'].value_counts()\n",
    "\n",
    "# Accessing the count for each category\n",
    "negative_count = label_counts.get('negativ', 0)\n",
    "positive_count = label_counts.get('positiv', 0)\n",
    "neutral_count = label_counts.get('neutral', 0)\n",
    "\n",
    "# Printing the counts\n",
    "print(\"Negative count:\", negative_count)\n",
    "print(\"Positive count:\", positive_count)\n",
    "print(\"Neutral count:\", neutral_count)"
   ]
  }
 ],
 "metadata": {
  "kernelspec": {
   "display_name": "Python 3.9.6 64-bit",
   "language": "python",
   "name": "python3"
  },
  "language_info": {
   "codemirror_mode": {
    "name": "ipython",
    "version": 3
   },
   "file_extension": ".py",
   "mimetype": "text/x-python",
   "name": "python",
   "nbconvert_exporter": "python",
   "pygments_lexer": "ipython3",
   "version": "3.9.6"
  },
  "orig_nbformat": 4,
  "vscode": {
   "interpreter": {
    "hash": "31f2aee4e71d21fbe5cf8b01ff0e069b9275f58929596ceb00d14d90e3e16cd6"
   }
  }
 },
 "nbformat": 4,
 "nbformat_minor": 2
}
