{
 "cells": [
  {
   "cell_type": "code",
   "execution_count": 6,
   "metadata": {},
   "outputs": [],
   "source": [
    "import pandas as pd\n",
    "import regex as re\n",
    "from gensim.parsing.preprocessing import stem_text\n",
    "from sklearn.feature_extraction.text import TfidfVectorizer\n",
    "\n",
    "sys.path.append('../')\n"
   ]
  },
  {
   "attachments": {},
   "cell_type": "markdown",
   "metadata": {},
   "source": [
    "# Select the model and the data we want to test on "
   ]
  },
  {
   "cell_type": "code",
   "execution_count": 20,
   "metadata": {},
   "outputs": [],
   "source": [
    "df = pd.read_csv('/Users/kevingiesen/Library/Mobile Documents/com~apple~CloudDocs/BIPM Master/Semester 2/TWSM/TWSM Project/SS23-BIPM-Analytics-Lab---Group-4-repository/Preprocessing/data_clean/labeled-data/labled-test.csv', sep=';')"
   ]
  },
  {
   "cell_type": "code",
   "execution_count": 13,
   "metadata": {},
   "outputs": [],
   "source": [
    "import pickle\n",
    "\n",
    "# Load the model from a pickle file\n",
    "with open('../Modeling/models/kmean_8clusters_v1.pkl', 'rb') as file:\n",
    "    model = pickle.load(file)\n",
    "\n",
    "\n",
    "df = pd.read_csv('/Users/kevingiesen/Library/Mobile Documents/com~apple~CloudDocs/BIPM Master/Semester 2/TWSM/TWSM Project/SS23-BIPM-Analytics-Lab---Group-4-repository/Preprocessing/data_clean/labeled-data/labled-test.csv', sep=';')"
   ]
  },
  {
   "attachments": {},
   "cell_type": "markdown",
   "metadata": {},
   "source": [
    "## Cluster naming\n",
    "0 = Europa League\n",
    "___\n",
    "1 = Bundesliga news\n",
    "___\n",
    "2 = Europa League\n",
    "___\n",
    "3 = Game Situations and Match Performance\n",
    "___\n",
    "4 = Europa League\n",
    "___\n",
    "5 = Game Situations and Match Performance\n",
    "___\n",
    "6 = Bundesliga News\n",
    "___\n",
    "7 = Europa League"
   ]
  },
  {
   "cell_type": "code",
   "execution_count": null,
   "metadata": {},
   "outputs": [],
   "source": [
    "## Cluster naming\n",
    "0 = Match Results and Player Performances\n",
    "___\n",
    "1 = Bundesliga news\n",
    "___\n",
    "3 = Game suspensions and injuries\n",
    "___\n",
    "7 = Europa League"
   ]
  },
  {
   "cell_type": "code",
   "execution_count": 14,
   "metadata": {},
   "outputs": [],
   "source": [
    "df['data'] = df['data'].apply(lambda x: re.sub(r\"\\b(bayerleverkusen)\\b\", '', str(x)))\n",
    "df['data'] = df['data'].apply(lambda x: re.sub(r\"\\b(leverkusen)\\b\", '', str(x)))\n",
    "df['data'] = df['data'].apply(lambda x: re.sub(r\"\\b(nicht)\\b\", '', str(x)))\n",
    "df['data'] = df['data'].apply(lambda x: re.sub(r\"\\b(uber)\\b\", '', str(x)))\n",
    "\n",
    "# create two copies \n",
    "df_stem = df.copy()\n",
    "\n",
    "# create stemmed data\n",
    "df_stem['data'] = df_stem['data'].apply(stem_text)\n",
    "\n",
    "# vectorize data \n",
    "tfidf = TfidfVectorizer(max_df=0.95, min_df=0.02)\n",
    "\n",
    "df_tfidf = tfidf.fit_transform(df_stem.data).toarray()\n",
    "\n",
    "data_tfidf = pd.DataFrame(df_tfidf, columns=tfidf.vocabulary_.keys())\n"
   ]
  },
  {
   "cell_type": "code",
   "execution_count": 15,
   "metadata": {},
   "outputs": [],
   "source": [
    "# Step 2: Preprocess the input data\n",
    "# Assuming 'X' is the input data\n",
    "\n",
    "# Step 3: Make predictions\n",
    "predictions = model.predict(data_tfidf)\n",
    "\n",
    "# Step 4: Post-process the predictions (if needed)\n",
    "# Example: Converting probabilities to class labels\n"
   ]
  },
  {
   "cell_type": "code",
   "execution_count": 16,
   "metadata": {},
   "outputs": [
    {
     "data": {
      "text/plain": [
       "array([3, 3, 3, 3, 3, 7, 2, 2, 3, 4, 5, 2, 2, 5, 5, 5, 5, 5, 2, 5, 2, 5,\n",
       "       4, 5, 2, 2, 2, 2, 2, 3, 2, 3, 1, 5, 2, 5, 7, 3, 3, 7, 3, 3, 3, 7,\n",
       "       3, 3, 3, 3, 7, 0, 3, 0, 0, 7, 0, 0, 5, 0, 5, 3, 6, 3, 3, 3, 3, 3,\n",
       "       2, 2, 3, 3, 3, 2, 2, 3, 5, 2, 3, 2, 5, 2, 5, 4, 2, 4, 4, 4, 4, 4,\n",
       "       4, 2, 2, 5, 3, 6, 6, 2, 5, 2, 5, 2, 2, 2, 3, 2, 2, 2, 2, 4, 5, 2,\n",
       "       2, 2, 2, 2, 2, 2, 2, 2, 1, 2, 5, 5, 7, 1, 7, 2, 7, 5, 7, 7, 7, 1,\n",
       "       5, 5, 3, 2, 1, 1, 1, 1, 2, 1, 3, 5, 0, 0, 7, 0, 0, 0, 2, 0, 0, 0,\n",
       "       0, 5, 2, 0, 5, 5, 2, 5, 5, 4, 2, 2, 5, 5, 3, 5, 3, 1, 2, 5, 5, 5,\n",
       "       2, 2, 6, 2, 2, 1, 6, 2, 2, 6, 5, 2, 3, 2, 6, 6, 6, 6, 6, 6, 6, 6,\n",
       "       6, 5, 6, 6, 6, 6, 6, 6, 6, 6, 6, 3, 2, 5, 5, 5, 5, 2, 3, 2, 5, 2,\n",
       "       3, 2, 5, 4, 2, 4, 2, 5, 3, 2, 5, 2, 5, 2, 2, 7, 7, 2, 7, 7, 7, 7,\n",
       "       2, 7, 3, 7, 7, 7, 7, 2, 7, 2, 7, 3, 3, 0, 0, 7, 0, 0, 0, 0, 2, 2,\n",
       "       5, 3, 7, 3, 2, 2, 2, 6, 2, 2, 2, 2, 3, 7, 2, 2, 3, 2, 4, 4, 4, 2,\n",
       "       2, 2, 2, 3, 3, 5, 6, 6, 6, 2, 3, 3, 2, 3, 3, 5, 4, 5, 5, 3, 5, 5,\n",
       "       4, 4, 4, 4, 4, 4, 2, 3, 3, 3, 3, 3, 5, 4, 4, 4, 4, 4, 4, 3, 1, 5,\n",
       "       5, 5, 5, 5, 5, 5, 2, 5, 7, 2, 5, 3, 3, 5, 0, 0, 7, 0, 0, 0, 0, 0,\n",
       "       0, 2, 0, 5, 2, 3, 3, 5, 5, 6, 7, 5, 2, 2, 2, 2, 2, 3, 5, 2, 2, 2,\n",
       "       5, 2, 5, 5, 6, 6, 2, 3, 2, 4, 4, 4, 3, 5, 2, 6, 6, 5, 2, 2, 5, 2,\n",
       "       5, 5, 4, 5, 2, 5, 5, 2, 5, 2, 5, 5, 5, 2, 2, 2, 2, 7, 7, 2, 7, 7,\n",
       "       7, 7, 1, 5, 5, 2, 1, 1, 1, 1, 2, 1, 3, 2, 2, 0, 0, 7, 0, 0, 0, 2,\n",
       "       0, 0, 0, 0, 5, 2, 0, 5, 2, 2, 2, 5, 4, 6, 4, 2, 2, 7, 5, 7, 5, 2,\n",
       "       7, 2, 5, 3, 2, 2, 1, 1, 1, 2, 5, 5, 2, 5, 2, 2, 6, 6, 6, 6, 6, 6,\n",
       "       6, 6, 6, 6, 6, 2, 1, 6, 2, 4, 2, 4, 4, 4, 5, 2, 6, 5, 2, 2, 6, 3,\n",
       "       5, 6, 3, 2, 2, 2, 2, 2, 2, 2, 2, 2, 2, 2, 2, 2, 2, 2, 2, 2, 2, 2,\n",
       "       3, 2, 2, 2, 2, 3, 2, 3, 3, 2, 3, 5, 3, 3, 3, 5, 3, 3, 2, 2, 4, 5,\n",
       "       5, 3, 5, 5, 5, 2, 3, 1, 1, 1, 2, 3, 2, 3, 2, 3, 2, 2, 5, 5, 3, 2,\n",
       "       3, 5, 2, 6, 4, 5, 7, 1, 7, 7, 7, 7, 2, 7, 5, 2, 5, 5, 5, 5, 5, 5,\n",
       "       5, 3, 5, 2, 2, 1, 5, 5, 5, 5, 5, 6, 6, 6, 6, 6], dtype=int32)"
      ]
     },
     "execution_count": 16,
     "metadata": {},
     "output_type": "execute_result"
    }
   ],
   "source": [
    "predictions"
   ]
  }
 ],
 "metadata": {
  "kernelspec": {
   "display_name": "Python 3",
   "language": "python",
   "name": "python3"
  },
  "language_info": {
   "codemirror_mode": {
    "name": "ipython",
    "version": 3
   },
   "file_extension": ".py",
   "mimetype": "text/x-python",
   "name": "python",
   "nbconvert_exporter": "python",
   "pygments_lexer": "ipython3",
   "version": "3.9.16 (main, Dec  7 2022, 10:02:13) \n[Clang 14.0.0 (clang-1400.0.29.202)]"
  },
  "orig_nbformat": 4,
  "vscode": {
   "interpreter": {
    "hash": "a665b5d41d17b532ea9890333293a1b812fa0b73c9c25c950b3cedf1bebd0438"
   }
  }
 },
 "nbformat": 4,
 "nbformat_minor": 2
}
