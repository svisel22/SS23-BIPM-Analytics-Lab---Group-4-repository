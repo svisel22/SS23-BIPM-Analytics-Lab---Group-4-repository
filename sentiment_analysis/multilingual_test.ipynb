{
 "cells": [
  {
   "attachments": {},
   "cell_type": "markdown",
   "metadata": {},
   "source": [
    "# Install and Import dependencies"
   ]
  },
  {
   "cell_type": "code",
   "execution_count": 96,
   "metadata": {},
   "outputs": [],
   "source": [
    "from transformers import AutoTokenizer, AutoModelForSequenceClassification\n",
    "import torch\n",
    "import requests\n",
    "from bs4 import BeautifulSoup\n",
    "import re\n",
    "import numpy as np\n",
    "import pandas as pd"
   ]
  },
  {
   "attachments": {},
   "cell_type": "markdown",
   "metadata": {},
   "source": [
    "# Instantiate Model"
   ]
  },
  {
   "cell_type": "code",
   "execution_count": 9,
   "metadata": {},
   "outputs": [
    {
     "data": {
      "application/vnd.jupyter.widget-view+json": {
       "model_id": "a88537e0b5244e6ab8153989d84bb53e",
       "version_major": 2,
       "version_minor": 0
      },
      "text/plain": [
       "Downloading (…)okenizer_config.json:   0%|          | 0.00/39.0 [00:00<?, ?B/s]"
      ]
     },
     "metadata": {},
     "output_type": "display_data"
    },
    {
     "data": {
      "application/vnd.jupyter.widget-view+json": {
       "model_id": "649d5ffb22434b66b66cd0742e183643",
       "version_major": 2,
       "version_minor": 0
      },
      "text/plain": [
       "Downloading (…)lve/main/config.json:   0%|          | 0.00/953 [00:00<?, ?B/s]"
      ]
     },
     "metadata": {},
     "output_type": "display_data"
    },
    {
     "data": {
      "application/vnd.jupyter.widget-view+json": {
       "model_id": "08622314af6d4c9faa7c8842e4f2dd27",
       "version_major": 2,
       "version_minor": 0
      },
      "text/plain": [
       "Downloading (…)solve/main/vocab.txt:   0%|          | 0.00/872k [00:00<?, ?B/s]"
      ]
     },
     "metadata": {},
     "output_type": "display_data"
    },
    {
     "data": {
      "application/vnd.jupyter.widget-view+json": {
       "model_id": "9379766eedda4095aa5e1785cf353176",
       "version_major": 2,
       "version_minor": 0
      },
      "text/plain": [
       "Downloading (…)cial_tokens_map.json:   0%|          | 0.00/112 [00:00<?, ?B/s]"
      ]
     },
     "metadata": {},
     "output_type": "display_data"
    },
    {
     "data": {
      "application/vnd.jupyter.widget-view+json": {
       "model_id": "d3e0256203994ff3a4e2c6a126e51c2d",
       "version_major": 2,
       "version_minor": 0
      },
      "text/plain": [
       "Downloading pytorch_model.bin:   0%|          | 0.00/669M [00:00<?, ?B/s]"
      ]
     },
     "metadata": {},
     "output_type": "display_data"
    }
   ],
   "source": [
    "# https://huggingface.co/nlptown/bert-base-multilingual-uncased-sentiment\n",
    "tokenizer = AutoTokenizer.from_pretrained('nlptown/bert-base-multilingual-uncased-sentiment')\n",
    "\n",
    "model = AutoModelForSequenceClassification.from_pretrained('nlptown/bert-base-multilingual-uncased-sentiment')"
   ]
  },
  {
   "attachments": {},
   "cell_type": "markdown",
   "metadata": {},
   "source": [
    "# Test on spanish data"
   ]
  },
  {
   "cell_type": "code",
   "execution_count": 41,
   "metadata": {},
   "outputs": [
    {
     "data": {
      "text/html": [
       "<div>\n",
       "<style scoped>\n",
       "    .dataframe tbody tr th:only-of-type {\n",
       "        vertical-align: middle;\n",
       "    }\n",
       "\n",
       "    .dataframe tbody tr th {\n",
       "        vertical-align: top;\n",
       "    }\n",
       "\n",
       "    .dataframe thead th {\n",
       "        text-align: right;\n",
       "    }\n",
       "</style>\n",
       "<table border=\"1\" class=\"dataframe\">\n",
       "  <thead>\n",
       "    <tr style=\"text-align: right;\">\n",
       "      <th></th>\n",
       "      <th>data</th>\n",
       "      <th>player</th>\n",
       "      <th>language</th>\n",
       "      <th>publishedAt</th>\n",
       "    </tr>\n",
       "  </thead>\n",
       "  <tbody>\n",
       "    <tr>\n",
       "      <th>224</th>\n",
       "      <td>Bayer Leverkusen y Mónaco jugaron en la Europa...</td>\n",
       "      <td>Piero Hincapié</td>\n",
       "      <td>es</td>\n",
       "      <td>2023-02-16T22:09:36Z</td>\n",
       "    </tr>\n",
       "    <tr>\n",
       "      <th>225</th>\n",
       "      <td>La Federación Ecuatoriana de Fútbol (FEF) invi...</td>\n",
       "      <td>Piero Hincapié</td>\n",
       "      <td>es</td>\n",
       "      <td>2023-02-14T23:40:33Z</td>\n",
       "    </tr>\n",
       "    <tr>\n",
       "      <th>226</th>\n",
       "      <td>Los abogados de la Federación Ecuatoriana de F...</td>\n",
       "      <td>Piero Hincapié</td>\n",
       "      <td>es</td>\n",
       "      <td>2023-02-14T15:58:38Z</td>\n",
       "    </tr>\n",
       "    <tr>\n",
       "      <th>227</th>\n",
       "      <td>Usamos cookies a fin de mejorar nuestro servic...</td>\n",
       "      <td>Piero Hincapié</td>\n",
       "      <td>es</td>\n",
       "      <td>2023-02-03T10:58:00Z</td>\n",
       "    </tr>\n",
       "    <tr>\n",
       "      <th>228</th>\n",
       "      <td>«Queremos anunciar la incorporación a IDV de n...</td>\n",
       "      <td>Piero Hincapié</td>\n",
       "      <td>es</td>\n",
       "      <td>2023-02-02T21:53:12Z</td>\n",
       "    </tr>\n",
       "  </tbody>\n",
       "</table>\n",
       "</div>"
      ],
      "text/plain": [
       "                                                  data          player  \\\n",
       "224  Bayer Leverkusen y Mónaco jugaron en la Europa...  Piero Hincapié   \n",
       "225  La Federación Ecuatoriana de Fútbol (FEF) invi...  Piero Hincapié   \n",
       "226  Los abogados de la Federación Ecuatoriana de F...  Piero Hincapié   \n",
       "227  Usamos cookies a fin de mejorar nuestro servic...  Piero Hincapié   \n",
       "228  «Queremos anunciar la incorporación a IDV de n...  Piero Hincapié   \n",
       "\n",
       "    language           publishedAt  \n",
       "224       es  2023-02-16T22:09:36Z  \n",
       "225       es  2023-02-14T23:40:33Z  \n",
       "226       es  2023-02-14T15:58:38Z  \n",
       "227       es  2023-02-03T10:58:00Z  \n",
       "228       es  2023-02-02T21:53:12Z  "
      ]
     },
     "execution_count": 41,
     "metadata": {},
     "output_type": "execute_result"
    }
   ],
   "source": [
    "# Specify the file path relative to the current Python file\n",
    "file_path = '../Preprocessing/data_clean/es_clean_1.csv'\n",
    "\n",
    "# Load the CSV file into a DataFrame\n",
    "df = pd.read_csv(file_path)"
   ]
  },
  {
   "cell_type": "code",
   "execution_count": 67,
   "metadata": {},
   "outputs": [
    {
     "data": {
      "text/plain": [
       "\"Mercado de fichajes de fútbol, en directoAdeyemi firmó el que es su primer gol en lo que va de BundesligaJavier AlfaroRedactor FútbolEl que perdona, lo acaba pagando muy caro en esto del fútbol. En España, en la China y en Alemania. En la liga de este último país lo sufrió este domingo el Bayer Leverkusen de Xabi Alonso, que fue indulgente con el Borussia Dortmund y contra su voluntad acabó cosechando una derrota de esas que se califican como injustas por los méritos realizados. Pero la realidad es que en esto del balompié, justicia a parte, gana el que marca más goles que el rival, y mientras que el Dortmund hizo dos el Leverkusen no logró ninguno (0-2).Con Florian Wirtz dejando su lesión definitivamente en el olvido y Exequiel Palacios y Amiri creando juego en la medular, el Bayer Leverkusen llevó la iniciativa en el juego desde el inicio, haciendo latente lo bien trabajando que tiene el equipo el bueno de Xabi Alonso, pero ni los mencionados ni sus compañeros de equipo fueron capaces de superar a un Kobel que supo mantener la portería del Dortmund a cero.El que sí marcó fue Karim Adeyemi, que por fin se estrenó en esta Bundesliga. Fue en el 33', al culminar con un disparo cruzado una buena jugada colectiva en la que intervinieron Bellingham y Haller, firmando éste último una asistencia sin tocar el balón.Con ese 0-1 se llegó al descanso, y ya en la segunda mitad el Bayer Leverkusen metió una marcha extra en la búsqueda del empate. Y sí marcó gol uno de sus futbolistas, Tapsoba, pero lo hizo en propia puerta para establecer en el marcador el 0-2 en el minuto 53 de juego. Fue el último tanto que se vio en Leverkusen este domingo por la tarde en el que el Dortmund, con los 3 puntos logrados, se posicionó 4º en la Bundesliga a 3 del liderato del Bayern. El Leverkusen, por su parte, deambula por la zona media de la tabla. No es moco de pavo teniendo en cuenta la situación en la que estaba cuando Xabi Alonso se hizo cargo del equipo hace unos meses.\""
      ]
     },
     "execution_count": 67,
     "metadata": {},
     "output_type": "execute_result"
    }
   ],
   "source": [
    "exequiel_palacios_df = df[df['player'] == 'Exequiel Palacios']\n",
    "\n",
    "exequiel_palacios_df['data'].iloc[0]"
   ]
  },
  {
   "cell_type": "code",
   "execution_count": 64,
   "metadata": {},
   "outputs": [],
   "source": [
    "def sentiment_score(data):\n",
    "    tokens = tokenizer.encode(data, return_tensors='pt')\n",
    "    result = model(tokens)\n",
    "    return int(torch.argmax(result.logits))+1"
   ]
  },
  {
   "cell_type": "code",
   "execution_count": 68,
   "metadata": {},
   "outputs": [
    {
     "name": "stderr",
     "output_type": "stream",
     "text": [
      "/var/folders/fq/0lb0fh614nz4_s73hrgyrcd00000gn/T/ipykernel_38677/3539805919.py:1: SettingWithCopyWarning: \n",
      "A value is trying to be set on a copy of a slice from a DataFrame.\n",
      "Try using .loc[row_indexer,col_indexer] = value instead\n",
      "\n",
      "See the caveats in the documentation: https://pandas.pydata.org/pandas-docs/stable/user_guide/indexing.html#returning-a-view-versus-a-copy\n",
      "  exequiel_palacios_df['sentiment'] = exequiel_palacios_df['data'].apply(lambda x: sentiment_score(x[:512]))\n"
     ]
    },
    {
     "data": {
      "text/html": [
       "<div>\n",
       "<style scoped>\n",
       "    .dataframe tbody tr th:only-of-type {\n",
       "        vertical-align: middle;\n",
       "    }\n",
       "\n",
       "    .dataframe tbody tr th {\n",
       "        vertical-align: top;\n",
       "    }\n",
       "\n",
       "    .dataframe thead th {\n",
       "        text-align: right;\n",
       "    }\n",
       "</style>\n",
       "<table border=\"1\" class=\"dataframe\">\n",
       "  <thead>\n",
       "    <tr style=\"text-align: right;\">\n",
       "      <th></th>\n",
       "      <th>data</th>\n",
       "      <th>player</th>\n",
       "      <th>language</th>\n",
       "      <th>publishedAt</th>\n",
       "      <th>sentiment</th>\n",
       "    </tr>\n",
       "  </thead>\n",
       "  <tbody>\n",
       "    <tr>\n",
       "      <th>0</th>\n",
       "      <td>Mercado de fichajes de fútbol, en directoAdeye...</td>\n",
       "      <td>Exequiel Palacios</td>\n",
       "      <td>es</td>\n",
       "      <td>2023-01-29T18:25:03Z</td>\n",
       "      <td>1</td>\n",
       "    </tr>\n",
       "    <tr>\n",
       "      <th>1</th>\n",
       "      <td>La última semana de marzo es la primera ventan...</td>\n",
       "      <td>Exequiel Palacios</td>\n",
       "      <td>es</td>\n",
       "      <td>2023-01-30T16:52:46Z</td>\n",
       "      <td>2</td>\n",
       "    </tr>\n",
       "    <tr>\n",
       "      <th>2</th>\n",
       "      <td>Gustavo Puerta ya no jugará en el Bayer Leverk...</td>\n",
       "      <td>Exequiel Palacios</td>\n",
       "      <td>es</td>\n",
       "      <td>2023-01-31T20:41:38Z</td>\n",
       "      <td>1</td>\n",
       "    </tr>\n",
       "    <tr>\n",
       "      <th>3</th>\n",
       "      <td>Alberto FernándezMauricio MacriINDECHarvardBoc...</td>\n",
       "      <td>Exequiel Palacios</td>\n",
       "      <td>es</td>\n",
       "      <td>2023-02-09T18:32:38Z</td>\n",
       "      <td>1</td>\n",
       "    </tr>\n",
       "    <tr>\n",
       "      <th>4</th>\n",
       "      <td>Alberto FernándezMauricio MacriINDECHarvardBoc...</td>\n",
       "      <td>Exequiel Palacios</td>\n",
       "      <td>es</td>\n",
       "      <td>2023-02-12T21:13:55Z</td>\n",
       "      <td>2</td>\n",
       "    </tr>\n",
       "    <tr>\n",
       "      <th>...</th>\n",
       "      <td>...</td>\n",
       "      <td>...</td>\n",
       "      <td>...</td>\n",
       "      <td>...</td>\n",
       "      <td>...</td>\n",
       "    </tr>\n",
       "    <tr>\n",
       "      <th>79</th>\n",
       "      <td>Usamos cookies a fin de mejorar nuestro servic...</td>\n",
       "      <td>Exequiel Palacios</td>\n",
       "      <td>es</td>\n",
       "      <td>2023-04-13T17:04:00Z</td>\n",
       "      <td>4</td>\n",
       "    </tr>\n",
       "    <tr>\n",
       "      <th>80</th>\n",
       "      <td>El máximo ganador de la historia de la compete...</td>\n",
       "      <td>Exequiel Palacios</td>\n",
       "      <td>es</td>\n",
       "      <td>2023-04-20T21:55:59Z</td>\n",
       "      <td>5</td>\n",
       "    </tr>\n",
       "    <tr>\n",
       "      <th>81</th>\n",
       "      <td>Usamos cookies a fin de mejorar nuestro servic...</td>\n",
       "      <td>Exequiel Palacios</td>\n",
       "      <td>es</td>\n",
       "      <td>2023-04-28T10:28:00Z</td>\n",
       "      <td>3</td>\n",
       "    </tr>\n",
       "    <tr>\n",
       "      <th>82</th>\n",
       "      <td>La Liga Profesional tendrá como principal ofer...</td>\n",
       "      <td>Exequiel Palacios</td>\n",
       "      <td>es</td>\n",
       "      <td>2023-04-29T03:41:10Z</td>\n",
       "      <td>3</td>\n",
       "    </tr>\n",
       "    <tr>\n",
       "      <th>83</th>\n",
       "      <td>Mercado de fichajes de fútbol, en directoNahue...</td>\n",
       "      <td>Exequiel Palacios</td>\n",
       "      <td>es</td>\n",
       "      <td>2023-05-06T11:48:51Z</td>\n",
       "      <td>4</td>\n",
       "    </tr>\n",
       "  </tbody>\n",
       "</table>\n",
       "<p>84 rows × 5 columns</p>\n",
       "</div>"
      ],
      "text/plain": [
       "                                                 data             player  \\\n",
       "0   Mercado de fichajes de fútbol, en directoAdeye...  Exequiel Palacios   \n",
       "1   La última semana de marzo es la primera ventan...  Exequiel Palacios   \n",
       "2   Gustavo Puerta ya no jugará en el Bayer Leverk...  Exequiel Palacios   \n",
       "3   Alberto FernándezMauricio MacriINDECHarvardBoc...  Exequiel Palacios   \n",
       "4   Alberto FernándezMauricio MacriINDECHarvardBoc...  Exequiel Palacios   \n",
       "..                                                ...                ...   \n",
       "79  Usamos cookies a fin de mejorar nuestro servic...  Exequiel Palacios   \n",
       "80  El máximo ganador de la historia de la compete...  Exequiel Palacios   \n",
       "81  Usamos cookies a fin de mejorar nuestro servic...  Exequiel Palacios   \n",
       "82  La Liga Profesional tendrá como principal ofer...  Exequiel Palacios   \n",
       "83  Mercado de fichajes de fútbol, en directoNahue...  Exequiel Palacios   \n",
       "\n",
       "   language           publishedAt  sentiment  \n",
       "0        es  2023-01-29T18:25:03Z          1  \n",
       "1        es  2023-01-30T16:52:46Z          2  \n",
       "2        es  2023-01-31T20:41:38Z          1  \n",
       "3        es  2023-02-09T18:32:38Z          1  \n",
       "4        es  2023-02-12T21:13:55Z          2  \n",
       "..      ...                   ...        ...  \n",
       "79       es  2023-04-13T17:04:00Z          4  \n",
       "80       es  2023-04-20T21:55:59Z          5  \n",
       "81       es  2023-04-28T10:28:00Z          3  \n",
       "82       es  2023-04-29T03:41:10Z          3  \n",
       "83       es  2023-05-06T11:48:51Z          4  \n",
       "\n",
       "[84 rows x 5 columns]"
      ]
     },
     "execution_count": 68,
     "metadata": {},
     "output_type": "execute_result"
    }
   ],
   "source": [
    "exequiel_palacios_df['sentiment'] = exequiel_palacios_df['data'].apply(lambda x: sentiment_score(x[:512]))\n",
    "exequiel_palacios_df"
   ]
  },
  {
   "cell_type": "code",
   "execution_count": 69,
   "metadata": {},
   "outputs": [
    {
     "name": "stdout",
     "output_type": "stream",
     "text": [
      "3.0238095238095237\n"
     ]
    }
   ],
   "source": [
    "# Calculate the mean of the column\n",
    "column_mean = exequiel_palacios_df['sentiment'].mean()\n",
    "\n",
    "# Print the mean value\n",
    "print(column_mean)"
   ]
  },
  {
   "cell_type": "code",
   "execution_count": 80,
   "metadata": {},
   "outputs": [
    {
     "data": {
      "text/plain": [
       "'El máximo ganador de la historia de la competencia fue demasiado para un elenco inglés dormido que no logró hacer pie en el estadio Ramón Sánchez-Pizjuán en ningún momento. El resultado global terminó 5 a 2 luego de un 2 a 2 en Inglaterra (goles de Marcel Sabitzer para los Diablos Rojos y de Harry Maguire y Tyrell Malacia en contra para los Nervionenses) y un contundente 3 a 0 para el equipo local en España (dos tantos de Youssef En-Nesyri y uno de Loic Badé). Así, el conjunto dirigido por José Luis Mendilibar aspirará a meterse en su séptima final de Europa League con una particularidad: ganó las seis que disputó.Por otro lado, a la Vecchia Signora le alcanzó un empate 1 a 1 en el Allianz Stadium (anotaciones de Adrien Rabiot para el elenco italiano y de Marcus Edwards para el combinado portugués) para sentenciar la serie 2 a 1 ante el conjunto portugués luego del 1 a 0 como visitante en el encuentro de ida (gol de Frederico Gatti). De esta manera, los dirigidos por Massimiliano Allegri buscan su cuarto título luego de los conseguidos en las temporadas 1976-77, 1989-90 y 1992-93.Bayer Leverkusen se deshizo con facilidad de Union Saint Gilloise de Bélgica luego de un 5-2 en el global. En el partido de ida disputado en el estadio BayArena de Alemania, igualaron 1 a 1 con tantos de Florian Wirtz para el local y de Victor Boniface para el visitante. En el duelo de vuelta, el equipo dirigido por Xabi Alonso se hizo fuerte de visitante y ganó 4 a 1 con tantos de Jeremie Frimpong, Mitchel Bakker, Moussa Diaby y Adam Hlozek (Casper Terho descontó para los belgas). Busca la segunda copa (levantó el trofeo en la edición de 1987-88).El último equipo en clasificarse a semifinales fue la Loba, que necesitó del tiempo suplementario para eliminar a la única institución de Países Bajos que quedaba en competencia. La serie finalizó 4 a 2 para los dirigidos por José Mourinho, que sueña con levantar su segundo título continental consecutivo (en la última temporada ganó la Conference League). Paulo Dybala convirtió un gol agónico a los 89′ y le dio a su equipo la posibilidad de disputar el tiempo extra, donde fue mucho más que su rival y lo derrotó 4 a 1.Los partidos de ida de cada una de las series se disputarán el 11 de mayo, mientras que los de vuelta se jugarán el 18. Como en las dos anteriores, en esta etapa no se tienen en cuenta los goles convertidos de visitante para desempatar sino que se desarrolla un tiempo suplementario y, luego, en caso de ser necesario, una definición por penales. En resumen, quien anote más goles a lo largo de los dos partidos, se meterá en la definición por el título.'"
      ]
     },
     "execution_count": 80,
     "metadata": {},
     "output_type": "execute_result"
    }
   ],
   "source": [
    "exequiel_palacios_df['data'].iloc[80]"
   ]
  },
  {
   "attachments": {},
   "cell_type": "markdown",
   "metadata": {},
   "source": [
    "# single tests"
   ]
  },
  {
   "cell_type": "code",
   "execution_count": 76,
   "metadata": {},
   "outputs": [
    {
     "data": {
      "text/plain": [
       "3"
      ]
     },
     "execution_count": 76,
     "metadata": {},
     "output_type": "execute_result"
    }
   ],
   "source": [
    "tokens = tokenizer.encode('El club alemán, que siempre se ha caracterizado por confiar en gente joven con sangre nueva y, por supuesto, en mediocampistas sudamericanos con sacrificio, físico y bien dotados técnicamente, como lo son el chileno Charles Aranguiz que actualmente se encuentra lesionado y su regreso se espera para mitad de febrero, y el Argentino de 24 años Exequiel Palacios.', return_tensors='pt')\n",
    "result = model(tokens)\n",
    "result.logits\n",
    "int(torch.argmax(result.logits))+1"
   ]
  },
  {
   "cell_type": "code",
   "execution_count": 97,
   "metadata": {},
   "outputs": [],
   "source": [
    "def extract_sentence(df):\n",
    "    df['short'] = ''\n",
    "    \n",
    "    for index, row in df.iterrows():\n",
    "        player = row['player']\n",
    "        data = str(row['data'])  # Convert data to string\n",
    "        \n",
    "        # Find the sentence containing player's information\n",
    "        sentences = data.split('.')\n",
    "        for sentence in sentences:\n",
    "            if player.lower() in sentence.lower():\n",
    "                df.at[index, 'short'] = sentence.strip()\n",
    "                break\n",
    "    \n",
    "    return df"
   ]
  },
  {
   "cell_type": "code",
   "execution_count": 102,
   "metadata": {},
   "outputs": [
    {
     "name": "stderr",
     "output_type": "stream",
     "text": [
      "/var/folders/fq/0lb0fh614nz4_s73hrgyrcd00000gn/T/ipykernel_38677/1634877259.py:2: SettingWithCopyWarning: \n",
      "A value is trying to be set on a copy of a slice from a DataFrame.\n",
      "Try using .loc[row_indexer,col_indexer] = value instead\n",
      "\n",
      "See the caveats in the documentation: https://pandas.pydata.org/pandas-docs/stable/user_guide/indexing.html#returning-a-view-versus-a-copy\n",
      "  df['short'] = ''\n"
     ]
    },
    {
     "data": {
      "text/html": [
       "<div>\n",
       "<style scoped>\n",
       "    .dataframe tbody tr th:only-of-type {\n",
       "        vertical-align: middle;\n",
       "    }\n",
       "\n",
       "    .dataframe tbody tr th {\n",
       "        vertical-align: top;\n",
       "    }\n",
       "\n",
       "    .dataframe thead th {\n",
       "        text-align: right;\n",
       "    }\n",
       "</style>\n",
       "<table border=\"1\" class=\"dataframe\">\n",
       "  <thead>\n",
       "    <tr style=\"text-align: right;\">\n",
       "      <th></th>\n",
       "      <th>data</th>\n",
       "      <th>player</th>\n",
       "      <th>language</th>\n",
       "      <th>publishedAt</th>\n",
       "      <th>sentiment</th>\n",
       "      <th>short</th>\n",
       "      <th>sentiment2</th>\n",
       "    </tr>\n",
       "  </thead>\n",
       "  <tbody>\n",
       "    <tr>\n",
       "      <th>0</th>\n",
       "      <td>En la liga de este último país lo sufrió este...</td>\n",
       "      <td>Exequiel Palacios</td>\n",
       "      <td>es</td>\n",
       "      <td>2023-01-29T18:25:03Z</td>\n",
       "      <td>1</td>\n",
       "      <td>Con Florian Wirtz dejando su lesión definitiva...</td>\n",
       "      <td>2</td>\n",
       "    </tr>\n",
       "    <tr>\n",
       "      <th>1</th>\n",
       "      <td>Los oponentes se confirmarán luego de que Sca...</td>\n",
       "      <td>Exequiel Palacios</td>\n",
       "      <td>es</td>\n",
       "      <td>2023-01-30T16:52:46Z</td>\n",
       "      <td>2</td>\n",
       "      <td>Además de Messi y Ángel Di María, máximos refe...</td>\n",
       "      <td>4</td>\n",
       "    </tr>\n",
       "    <tr>\n",
       "      <th>2</th>\n",
       "      <td>Bayer Leverkusen pescó a una de las figuras ma...</td>\n",
       "      <td>Exequiel Palacios</td>\n",
       "      <td>es</td>\n",
       "      <td>2023-01-31T20:41:38Z</td>\n",
       "      <td>1</td>\n",
       "      <td>El club alemán, que siempre se ha caracterizad...</td>\n",
       "      <td>3</td>\n",
       "    </tr>\n",
       "    <tr>\n",
       "      <th>3</th>\n",
       "      <td>En este caso, la satisfacción tiene que ver co...</td>\n",
       "      <td>Exequiel Palacios</td>\n",
       "      <td>es</td>\n",
       "      <td>2023-02-09T18:32:38Z</td>\n",
       "      <td>1</td>\n",
       "      <td>El presidente de la AFA, Claudio \\'Chiqui\\' Ta...</td>\n",
       "      <td>4</td>\n",
       "    </tr>\n",
       "    <tr>\n",
       "      <th>4</th>\n",
       "      <td>Se lo podría observar y analizar como a un se...</td>\n",
       "      <td>Exequiel Palacios</td>\n",
       "      <td>es</td>\n",
       "      <td>2023-02-12T21:13:55Z</td>\n",
       "      <td>2</td>\n",
       "      <td>También participaron los otros campeones de la...</td>\n",
       "      <td>4</td>\n",
       "    </tr>\n",
       "    <tr>\n",
       "      <th>...</th>\n",
       "      <td>...</td>\n",
       "      <td>...</td>\n",
       "      <td>...</td>\n",
       "      <td>...</td>\n",
       "      <td>...</td>\n",
       "      <td>...</td>\n",
       "      <td>...</td>\n",
       "    </tr>\n",
       "    <tr>\n",
       "      <th>79</th>\n",
       "      <td>En su primera temporada como entrenador de un ...</td>\n",
       "      <td>Exequiel Palacios</td>\n",
       "      <td>es</td>\n",
       "      <td>2023-04-13T17:04:00Z</td>\n",
       "      <td>4</td>\n",
       "      <td>Pero ensalzar las recientes victorias consecut...</td>\n",
       "      <td>4</td>\n",
       "    </tr>\n",
       "    <tr>\n",
       "      <th>80</th>\n",
       "      <td>NaN</td>\n",
       "      <td>Exequiel Palacios</td>\n",
       "      <td>es</td>\n",
       "      <td>2023-04-20T21:55:59Z</td>\n",
       "      <td>5</td>\n",
       "      <td></td>\n",
       "      <td>4</td>\n",
       "    </tr>\n",
       "    <tr>\n",
       "      <th>81</th>\n",
       "      <td>El mediocampista argentino Exequiel Palacios v...</td>\n",
       "      <td>Exequiel Palacios</td>\n",
       "      <td>es</td>\n",
       "      <td>2023-04-28T10:28:00Z</td>\n",
       "      <td>3</td>\n",
       "      <td>El mediocampista argentino Exequiel Palacios v...</td>\n",
       "      <td>2</td>\n",
       "    </tr>\n",
       "    <tr>\n",
       "      <th>82</th>\n",
       "      <td>Y más tarde lo harán Boca y Racing, equipos q...</td>\n",
       "      <td>Exequiel Palacios</td>\n",
       "      <td>es</td>\n",
       "      <td>2023-04-29T03:41:10Z</td>\n",
       "      <td>3</td>\n",
       "      <td>Alexis Mac Allister intentará acercar a Bright...</td>\n",
       "      <td>3</td>\n",
       "    </tr>\n",
       "    <tr>\n",
       "      <th>83</th>\n",
       "      <td>FuenteNahuel Molina es uno de los jugadores m...</td>\n",
       "      <td>Exequiel Palacios</td>\n",
       "      <td>es</td>\n",
       "      <td>2023-05-06T11:48:51Z</td>\n",
       "      <td>4</td>\n",
       "      <td>LA VICTORIA EN LA FINAL“En el momento que sali...</td>\n",
       "      <td>2</td>\n",
       "    </tr>\n",
       "  </tbody>\n",
       "</table>\n",
       "<p>84 rows × 7 columns</p>\n",
       "</div>"
      ],
      "text/plain": [
       "                                                 data             player  \\\n",
       "0    En la liga de este último país lo sufrió este...  Exequiel Palacios   \n",
       "1    Los oponentes se confirmarán luego de que Sca...  Exequiel Palacios   \n",
       "2   Bayer Leverkusen pescó a una de las figuras ma...  Exequiel Palacios   \n",
       "3   En este caso, la satisfacción tiene que ver co...  Exequiel Palacios   \n",
       "4    Se lo podría observar y analizar como a un se...  Exequiel Palacios   \n",
       "..                                                ...                ...   \n",
       "79  En su primera temporada como entrenador de un ...  Exequiel Palacios   \n",
       "80                                                NaN  Exequiel Palacios   \n",
       "81  El mediocampista argentino Exequiel Palacios v...  Exequiel Palacios   \n",
       "82   Y más tarde lo harán Boca y Racing, equipos q...  Exequiel Palacios   \n",
       "83   FuenteNahuel Molina es uno de los jugadores m...  Exequiel Palacios   \n",
       "\n",
       "   language           publishedAt  sentiment  \\\n",
       "0        es  2023-01-29T18:25:03Z          1   \n",
       "1        es  2023-01-30T16:52:46Z          2   \n",
       "2        es  2023-01-31T20:41:38Z          1   \n",
       "3        es  2023-02-09T18:32:38Z          1   \n",
       "4        es  2023-02-12T21:13:55Z          2   \n",
       "..      ...                   ...        ...   \n",
       "79       es  2023-04-13T17:04:00Z          4   \n",
       "80       es  2023-04-20T21:55:59Z          5   \n",
       "81       es  2023-04-28T10:28:00Z          3   \n",
       "82       es  2023-04-29T03:41:10Z          3   \n",
       "83       es  2023-05-06T11:48:51Z          4   \n",
       "\n",
       "                                                short  sentiment2  \n",
       "0   Con Florian Wirtz dejando su lesión definitiva...           2  \n",
       "1   Además de Messi y Ángel Di María, máximos refe...           4  \n",
       "2   El club alemán, que siempre se ha caracterizad...           3  \n",
       "3   El presidente de la AFA, Claudio \\'Chiqui\\' Ta...           4  \n",
       "4   También participaron los otros campeones de la...           4  \n",
       "..                                                ...         ...  \n",
       "79  Pero ensalzar las recientes victorias consecut...           4  \n",
       "80                                                              4  \n",
       "81  El mediocampista argentino Exequiel Palacios v...           2  \n",
       "82  Alexis Mac Allister intentará acercar a Bright...           3  \n",
       "83  LA VICTORIA EN LA FINAL“En el momento que sali...           2  \n",
       "\n",
       "[84 rows x 7 columns]"
      ]
     },
     "execution_count": 102,
     "metadata": {},
     "output_type": "execute_result"
    }
   ],
   "source": [
    "extract_sentence(exequiel_palacios_df)\n"
   ]
  },
  {
   "cell_type": "code",
   "execution_count": 99,
   "metadata": {},
   "outputs": [
    {
     "name": "stderr",
     "output_type": "stream",
     "text": [
      "/var/folders/fq/0lb0fh614nz4_s73hrgyrcd00000gn/T/ipykernel_38677/3692395472.py:1: SettingWithCopyWarning: \n",
      "A value is trying to be set on a copy of a slice from a DataFrame.\n",
      "Try using .loc[row_indexer,col_indexer] = value instead\n",
      "\n",
      "See the caveats in the documentation: https://pandas.pydata.org/pandas-docs/stable/user_guide/indexing.html#returning-a-view-versus-a-copy\n",
      "  exequiel_palacios_df['sentiment2'] = exequiel_palacios_df['short'].apply(lambda x: sentiment_score(x[:512]))\n"
     ]
    },
    {
     "data": {
      "text/html": [
       "<div>\n",
       "<style scoped>\n",
       "    .dataframe tbody tr th:only-of-type {\n",
       "        vertical-align: middle;\n",
       "    }\n",
       "\n",
       "    .dataframe tbody tr th {\n",
       "        vertical-align: top;\n",
       "    }\n",
       "\n",
       "    .dataframe thead th {\n",
       "        text-align: right;\n",
       "    }\n",
       "</style>\n",
       "<table border=\"1\" class=\"dataframe\">\n",
       "  <thead>\n",
       "    <tr style=\"text-align: right;\">\n",
       "      <th></th>\n",
       "      <th>data</th>\n",
       "      <th>player</th>\n",
       "      <th>language</th>\n",
       "      <th>publishedAt</th>\n",
       "      <th>sentiment</th>\n",
       "      <th>short</th>\n",
       "      <th>sentiment2</th>\n",
       "    </tr>\n",
       "  </thead>\n",
       "  <tbody>\n",
       "    <tr>\n",
       "      <th>0</th>\n",
       "      <td>En la liga de este último país lo sufrió este...</td>\n",
       "      <td>Exequiel Palacios</td>\n",
       "      <td>es</td>\n",
       "      <td>2023-01-29T18:25:03Z</td>\n",
       "      <td>1</td>\n",
       "      <td>Con Florian Wirtz dejando su lesión definitiva...</td>\n",
       "      <td>2</td>\n",
       "    </tr>\n",
       "    <tr>\n",
       "      <th>1</th>\n",
       "      <td>Los oponentes se confirmarán luego de que Sca...</td>\n",
       "      <td>Exequiel Palacios</td>\n",
       "      <td>es</td>\n",
       "      <td>2023-01-30T16:52:46Z</td>\n",
       "      <td>2</td>\n",
       "      <td>Además de Messi y Ángel Di María, máximos refe...</td>\n",
       "      <td>4</td>\n",
       "    </tr>\n",
       "    <tr>\n",
       "      <th>2</th>\n",
       "      <td>Bayer Leverkusen pescó a una de las figuras ma...</td>\n",
       "      <td>Exequiel Palacios</td>\n",
       "      <td>es</td>\n",
       "      <td>2023-01-31T20:41:38Z</td>\n",
       "      <td>1</td>\n",
       "      <td>El club alemán, que siempre se ha caracterizad...</td>\n",
       "      <td>3</td>\n",
       "    </tr>\n",
       "    <tr>\n",
       "      <th>3</th>\n",
       "      <td>En este caso, la satisfacción tiene que ver co...</td>\n",
       "      <td>Exequiel Palacios</td>\n",
       "      <td>es</td>\n",
       "      <td>2023-02-09T18:32:38Z</td>\n",
       "      <td>1</td>\n",
       "      <td>El presidente de la AFA, Claudio \\'Chiqui\\' Ta...</td>\n",
       "      <td>4</td>\n",
       "    </tr>\n",
       "    <tr>\n",
       "      <th>4</th>\n",
       "      <td>Se lo podría observar y analizar como a un se...</td>\n",
       "      <td>Exequiel Palacios</td>\n",
       "      <td>es</td>\n",
       "      <td>2023-02-12T21:13:55Z</td>\n",
       "      <td>2</td>\n",
       "      <td>También participaron los otros campeones de la...</td>\n",
       "      <td>4</td>\n",
       "    </tr>\n",
       "    <tr>\n",
       "      <th>...</th>\n",
       "      <td>...</td>\n",
       "      <td>...</td>\n",
       "      <td>...</td>\n",
       "      <td>...</td>\n",
       "      <td>...</td>\n",
       "      <td>...</td>\n",
       "      <td>...</td>\n",
       "    </tr>\n",
       "    <tr>\n",
       "      <th>79</th>\n",
       "      <td>En su primera temporada como entrenador de un ...</td>\n",
       "      <td>Exequiel Palacios</td>\n",
       "      <td>es</td>\n",
       "      <td>2023-04-13T17:04:00Z</td>\n",
       "      <td>4</td>\n",
       "      <td>Pero ensalzar las recientes victorias consecut...</td>\n",
       "      <td>4</td>\n",
       "    </tr>\n",
       "    <tr>\n",
       "      <th>80</th>\n",
       "      <td>NaN</td>\n",
       "      <td>Exequiel Palacios</td>\n",
       "      <td>es</td>\n",
       "      <td>2023-04-20T21:55:59Z</td>\n",
       "      <td>5</td>\n",
       "      <td></td>\n",
       "      <td>4</td>\n",
       "    </tr>\n",
       "    <tr>\n",
       "      <th>81</th>\n",
       "      <td>El mediocampista argentino Exequiel Palacios v...</td>\n",
       "      <td>Exequiel Palacios</td>\n",
       "      <td>es</td>\n",
       "      <td>2023-04-28T10:28:00Z</td>\n",
       "      <td>3</td>\n",
       "      <td>El mediocampista argentino Exequiel Palacios v...</td>\n",
       "      <td>2</td>\n",
       "    </tr>\n",
       "    <tr>\n",
       "      <th>82</th>\n",
       "      <td>Y más tarde lo harán Boca y Racing, equipos q...</td>\n",
       "      <td>Exequiel Palacios</td>\n",
       "      <td>es</td>\n",
       "      <td>2023-04-29T03:41:10Z</td>\n",
       "      <td>3</td>\n",
       "      <td>Alexis Mac Allister intentará acercar a Bright...</td>\n",
       "      <td>3</td>\n",
       "    </tr>\n",
       "    <tr>\n",
       "      <th>83</th>\n",
       "      <td>FuenteNahuel Molina es uno de los jugadores m...</td>\n",
       "      <td>Exequiel Palacios</td>\n",
       "      <td>es</td>\n",
       "      <td>2023-05-06T11:48:51Z</td>\n",
       "      <td>4</td>\n",
       "      <td>LA VICTORIA EN LA FINAL“En el momento que sali...</td>\n",
       "      <td>2</td>\n",
       "    </tr>\n",
       "  </tbody>\n",
       "</table>\n",
       "<p>84 rows × 7 columns</p>\n",
       "</div>"
      ],
      "text/plain": [
       "                                                 data             player  \\\n",
       "0    En la liga de este último país lo sufrió este...  Exequiel Palacios   \n",
       "1    Los oponentes se confirmarán luego de que Sca...  Exequiel Palacios   \n",
       "2   Bayer Leverkusen pescó a una de las figuras ma...  Exequiel Palacios   \n",
       "3   En este caso, la satisfacción tiene que ver co...  Exequiel Palacios   \n",
       "4    Se lo podría observar y analizar como a un se...  Exequiel Palacios   \n",
       "..                                                ...                ...   \n",
       "79  En su primera temporada como entrenador de un ...  Exequiel Palacios   \n",
       "80                                                NaN  Exequiel Palacios   \n",
       "81  El mediocampista argentino Exequiel Palacios v...  Exequiel Palacios   \n",
       "82   Y más tarde lo harán Boca y Racing, equipos q...  Exequiel Palacios   \n",
       "83   FuenteNahuel Molina es uno de los jugadores m...  Exequiel Palacios   \n",
       "\n",
       "   language           publishedAt  sentiment  \\\n",
       "0        es  2023-01-29T18:25:03Z          1   \n",
       "1        es  2023-01-30T16:52:46Z          2   \n",
       "2        es  2023-01-31T20:41:38Z          1   \n",
       "3        es  2023-02-09T18:32:38Z          1   \n",
       "4        es  2023-02-12T21:13:55Z          2   \n",
       "..      ...                   ...        ...   \n",
       "79       es  2023-04-13T17:04:00Z          4   \n",
       "80       es  2023-04-20T21:55:59Z          5   \n",
       "81       es  2023-04-28T10:28:00Z          3   \n",
       "82       es  2023-04-29T03:41:10Z          3   \n",
       "83       es  2023-05-06T11:48:51Z          4   \n",
       "\n",
       "                                                short  sentiment2  \n",
       "0   Con Florian Wirtz dejando su lesión definitiva...           2  \n",
       "1   Además de Messi y Ángel Di María, máximos refe...           4  \n",
       "2   El club alemán, que siempre se ha caracterizad...           3  \n",
       "3   El presidente de la AFA, Claudio \\'Chiqui\\' Ta...           4  \n",
       "4   También participaron los otros campeones de la...           4  \n",
       "..                                                ...         ...  \n",
       "79  Pero ensalzar las recientes victorias consecut...           4  \n",
       "80                                                              4  \n",
       "81  El mediocampista argentino Exequiel Palacios v...           2  \n",
       "82  Alexis Mac Allister intentará acercar a Bright...           3  \n",
       "83  LA VICTORIA EN LA FINAL“En el momento que sali...           2  \n",
       "\n",
       "[84 rows x 7 columns]"
      ]
     },
     "execution_count": 99,
     "metadata": {},
     "output_type": "execute_result"
    }
   ],
   "source": [
    "exequiel_palacios_df['sentiment2'] = exequiel_palacios_df['short'].apply(lambda x: sentiment_score(x[:512]))\n",
    "exequiel_palacios_df"
   ]
  },
  {
   "cell_type": "code",
   "execution_count": 101,
   "metadata": {},
   "outputs": [
    {
     "name": "stdout",
     "output_type": "stream",
     "text": [
      "3.3333333333333335\n"
     ]
    }
   ],
   "source": [
    "# Calculate the mean of the column\n",
    "column_mean = exequiel_palacios_df['sentiment2'].mean()\n",
    "\n",
    "# Print the mean value\n",
    "print(column_mean)"
   ]
  },
  {
   "cell_type": "code",
   "execution_count": 196,
   "metadata": {},
   "outputs": [
    {
     "data": {
      "text/plain": [
       "'Bayern viene de resignar el primer puesto de la Bundesliga tras perder ante Bayer Leverkusen (dos goles de penal de Exequiel Palacios) y tendrá la posibilidad de recuperarlo el próximo sábado, cuando recibirá al nuevo líder, Borussia Dortmund'"
      ]
     },
     "execution_count": 196,
     "metadata": {},
     "output_type": "execute_result"
    }
   ],
   "source": [
    "exequiel_palacios_df['short'].iloc[66]"
   ]
  },
  {
   "cell_type": "code",
   "execution_count": 174,
   "metadata": {},
   "outputs": [
    {
     "data": {
      "text/plain": [
       "3"
      ]
     },
     "execution_count": 174,
     "metadata": {},
     "output_type": "execute_result"
    }
   ],
   "source": [
    "tokens = tokenizer.encode(exequiel_palacios_df['short'].iloc[43], return_tensors='pt')\n",
    "result = model(tokens)\n",
    "result.logits\n",
    "int(torch.argmax(result.logits))+1"
   ]
  },
  {
   "cell_type": "code",
   "execution_count": null,
   "metadata": {},
   "outputs": [],
   "source": []
  }
 ],
 "metadata": {
  "kernelspec": {
   "display_name": "Python 3.9.6 64-bit",
   "language": "python",
   "name": "python3"
  },
  "language_info": {
   "codemirror_mode": {
    "name": "ipython",
    "version": 3
   },
   "file_extension": ".py",
   "mimetype": "text/x-python",
   "name": "python",
   "nbconvert_exporter": "python",
   "pygments_lexer": "ipython3",
   "version": "3.10.11"
  },
  "orig_nbformat": 4,
  "vscode": {
   "interpreter": {
    "hash": "31f2aee4e71d21fbe5cf8b01ff0e069b9275f58929596ceb00d14d90e3e16cd6"
   }
  }
 },
 "nbformat": 4,
 "nbformat_minor": 2
}
